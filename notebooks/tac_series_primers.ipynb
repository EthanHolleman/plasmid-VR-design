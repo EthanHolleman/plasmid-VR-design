{
 "cells": [
  {
   "cell_type": "markdown",
   "id": "9bd387b4",
   "metadata": {},
   "source": [
    "# Tac series primers\n",
    "\n",
    "Both tac initiation and termination series constructs will depend on amplification of insert regions from complete T7 initiation and termination constructs. Here I design primers to use for Gibson assembly for both Tac initiation and termination constructs. This is a version of the notebook from the `notes` directory adapted for use with snakemake."
   ]
  },
  {
   "cell_type": "markdown",
   "id": "a619d19a",
   "metadata": {},
   "source": [
    "Process snakemake inputs."
   ]
  },
  {
   "cell_type": "code",
   "execution_count": 1,
   "id": "d4ea1e38",
   "metadata": {},
   "outputs": [],
   "source": [
    "from pathlib import Path\n",
    "\n",
    "def iter_dir(dir_path):\n",
    "    # return all files in top level of directory as a list\n",
    "    return list(Path(str(dir_path)).iterdir())"
   ]
  },
  {
   "cell_type": "code",
   "execution_count": 39,
   "id": "79905d58",
   "metadata": {},
   "outputs": [],
   "source": [
    "tac_backbone = str(snakemake.input['tac_backbone'])\n",
    "\n",
    "t7_init_files = iter_dir(snakemake.input['t7_init'])\n",
    "t7_term_files = iter_dir(snakemake.input['t7_term'])\n",
    "\n",
    "t7_init_constructs_dir = str(snakemake.input['t7_init'])\n",
    "t7_term_constructs_dir = str(snakemake.input['t7_term'])"
   ]
  },
  {
   "cell_type": "markdown",
   "id": "df83d799",
   "metadata": {},
   "source": [
    "Transfer values over to variables from original notebook."
   ]
  },
  {
   "cell_type": "code",
   "execution_count": 12,
   "id": "99b812f5",
   "metadata": {},
   "outputs": [],
   "source": [
    "t7_init_construct_path = str(t7_init_files[0])\n",
    "t7_term_construct_path = str(t7_term_files[0])\n",
    "pFC53T1T1_path = str(tac_backbone)"
   ]
  },
  {
   "cell_type": "code",
   "execution_count": 4,
   "id": "952c80ad",
   "metadata": {},
   "outputs": [],
   "source": [
    "import numpy as np\n",
    "import os\n",
    "from pathlib import Path\n",
    "from Bio.Restriction import *\n",
    "from pydna.genbankrecord import GenbankRecord\n",
    "from pydna.readers import read\n",
    "from pydna.dseqrecord import Dseqrecord\n",
    "from pydna.design import primer_design\n",
    "from pydna.amplify import pcr\n",
    "from pydna.assembly import Assembly\n",
    "from pydna.design import assembly_fragments"
   ]
  },
  {
   "cell_type": "markdown",
   "id": "a25ab48d",
   "metadata": {},
   "source": [
    "## Helper functions"
   ]
  },
  {
   "cell_type": "code",
   "execution_count": 5,
   "id": "1a7dfaec",
   "metadata": {},
   "outputs": [],
   "source": [
    "def get_feature_by_name(record, feature_name):\n",
    "    feature_name_dict = {\n",
    "        record.extract_feature(i).name: record.extract_feature(i) \n",
    "        for i in range(len(record.features))\n",
    "    }\n",
    "    if feature_name in feature_name_dict:\n",
    "        return feature_name_dict[feature_name]\n",
    "    else:\n",
    "        return -1"
   ]
  },
  {
   "cell_type": "code",
   "execution_count": 6,
   "id": "6dfd9597",
   "metadata": {},
   "outputs": [],
   "source": [
    "def find_unique_cut_site(record, enzyme):\n",
    "    assert enzyme in record.once_cutters()\n",
    "    return record.seq.find(enzyme.site)"
   ]
  },
  {
   "cell_type": "code",
   "execution_count": 7,
   "id": "686ee91b",
   "metadata": {},
   "outputs": [],
   "source": [
    "def extend_primer_until_g(source_record, start, end, rc=False):\n",
    "    \n",
    "    pass"
   ]
  },
  {
   "cell_type": "code",
   "execution_count": 8,
   "id": "a1e438bb",
   "metadata": {},
   "outputs": [],
   "source": [
    "homology_length = 20"
   ]
  },
  {
   "cell_type": "markdown",
   "id": "88e476bb",
   "metadata": {},
   "source": [
    "## T7 initiation series primers"
   ]
  },
  {
   "cell_type": "markdown",
   "id": "04b55f1f",
   "metadata": {},
   "source": [
    "This series requires a primer that binds to the anchor sequences and shares homology with the HindIII digested site + T1T2 terminators and a primer that binds to the 5' end of the placeholder initiator and the KpnI digestion + Tac promoter sequence."
   ]
  },
  {
   "cell_type": "code",
   "execution_count": 10,
   "id": "593770a4",
   "metadata": {},
   "outputs": [
    {
     "data": {
      "text/plain": [
       "'.'"
      ]
     },
     "execution_count": 10,
     "metadata": {},
     "output_type": "execute_result"
    }
   ],
   "source": []
  },
  {
   "cell_type": "code",
   "execution_count": 13,
   "id": "2643ce0d",
   "metadata": {},
   "outputs": [
    {
     "data": {
      "text/markdown": [
       "| Ft# | Label or Note    | Dir | Sta  | End  | Len | type         | orf? |\n",
       "|-----|------------------|-----|------|------|-----|--------------|------|\n",
       "|   0 | L:T3 promoter T3 | <-- | 513  | 530  |  17 | promoter     |  no  |\n",
       "|   1 | L:T7 promoter T7 | --> | 3067 | 3089 |  22 | promoter     |  no  |\n",
       "|   2 | L:T7 +1 Site T7\\ | --> | 3084 | 3085 |   1 | misc_feature |  no  |\n",
       "|   3 | L:5_prime_HR     | --> | 3070 | 3106 |  36 | misc         |  no  |\n",
       "|   4 | L:Anchor region  | --> | 3106 | 3121 |  15 | CDS          |  no  |\n",
       "|   5 | L:Variable regio | --> | 3121 | 3321 | 200 | CDS          |  no  |\n",
       "|   6 | L:3_prime_HR     | --> | 0    | 3322 |  30 | misc         |  no  |"
      ],
      "text/plain": [
       "+-----+------------------+-----+------+------+-----+--------------+------+\n",
       "| Ft# | Label or Note    | Dir | Sta  | End  | Len | type         | orf? |\n",
       "+-----+------------------+-----+------+------+-----+--------------+------+\n",
       "|   0 | L:T3 promoter T3 | <-- | 513  | 530  |  17 | promoter     |  no  |\n",
       "|   1 | L:T7 promoter T7 | --> | 3067 | 3089 |  22 | promoter     |  no  |\n",
       "|   2 | L:T7 +1 Site T7\\ | --> | 3084 | 3085 |   1 | misc_feature |  no  |\n",
       "|   3 | L:5_prime_HR     | --> | 3070 | 3106 |  36 | misc         |  no  |\n",
       "|   4 | L:Anchor region  | --> | 3106 | 3121 |  15 | CDS          |  no  |\n",
       "|   5 | L:Variable regio | --> | 3121 | 3321 | 200 | CDS          |  no  |\n",
       "|   6 | L:3_prime_HR     | --> | 0    | 3322 |  30 | misc         |  no  |\n",
       "+-----+------------------+-----+------+------+-----+--------------+------+"
      ]
     },
     "execution_count": 13,
     "metadata": {},
     "output_type": "execute_result"
    }
   ],
   "source": [
    "t7_init = GenbankRecord(read(t7_init_construct_path))\n",
    "pFC53t1t2 = GenbankRecord(read(pFC53T1T1_path))\n",
    "t7_init.list_features()"
   ]
  },
  {
   "cell_type": "code",
   "execution_count": 14,
   "id": "ce819770",
   "metadata": {},
   "outputs": [
    {
     "data": {
      "text/markdown": [
       "| Ft# | Label or Note    | Dir | Sta  | End  |  Len | type         | orf? |\n",
       "|-----|------------------|-----|------|------|------|--------------|------|\n",
       "|   0 | L:Airn           | <-- | 378  | 1765 | 1387 | CDS          |  no  |\n",
       "|   1 | L:Amp            | <-- | 2804 | 3637 |  833 | CDS          |  no  |\n",
       "|   2 | L:ApaLI          | --> | 2295 | 2301 |    6 | misc_feature |  no  |\n",
       "|   3 | L:ApaLI          | --> | 3541 | 3547 |    6 | misc_feature |  no  |\n",
       "|   4 | L:Repeat         | --> | 985  | 1058 |   73 | repeat_unit  |  no  |\n",
       "|   5 | L:Repeat\\2       | --> | 1066 | 1140 |   74 | repeat_unit  |  no  |\n",
       "|   6 | L:tac\\promoter   | <-- | 1765 | 1794 |   29 | promoter     |  no  |\n",
       "|   7 | L:T1T2\\terminato | <-- | 6    | 378  |  372 | terminator   |  no  |"
      ],
      "text/plain": [
       "+-----+------------------+-----+------+------+------+--------------+------+\n",
       "| Ft# | Label or Note    | Dir | Sta  | End  |  Len | type         | orf? |\n",
       "+-----+------------------+-----+------+------+------+--------------+------+\n",
       "|   0 | L:Airn           | <-- | 378  | 1765 | 1387 | CDS          |  no  |\n",
       "|   1 | L:Amp            | <-- | 2804 | 3637 |  833 | CDS          |  no  |\n",
       "|   2 | L:ApaLI          | --> | 2295 | 2301 |    6 | misc_feature |  no  |\n",
       "|   3 | L:ApaLI          | --> | 3541 | 3547 |    6 | misc_feature |  no  |\n",
       "|   4 | L:Repeat         | --> | 985  | 1058 |   73 | repeat_unit  |  no  |\n",
       "|   5 | L:Repeat\\2       | --> | 1066 | 1140 |   74 | repeat_unit  |  no  |\n",
       "|   6 | L:tac\\promoter   | <-- | 1765 | 1794 |   29 | promoter     |  no  |\n",
       "|   7 | L:T1T2\\terminato | <-- | 6    | 378  |  372 | terminator   |  no  |\n",
       "+-----+------------------+-----+------+------+------+--------------+------+"
      ]
     },
     "execution_count": 14,
     "metadata": {},
     "output_type": "execute_result"
    }
   ],
   "source": [
    "pFC53t1t2.list_features()"
   ]
  },
  {
   "cell_type": "code",
   "execution_count": 15,
   "id": "6b63f162",
   "metadata": {},
   "outputs": [
    {
     "data": {
      "text/plain": [
       "Dseqrecord(-15)"
      ]
     },
     "execution_count": 15,
     "metadata": {},
     "output_type": "execute_result"
    }
   ],
   "source": [
    "anchor_region = get_feature_by_name(t7_init, 'Anchor_region')\n",
    "anchor_region"
   ]
  },
  {
   "cell_type": "markdown",
   "id": "31ceb519",
   "metadata": {},
   "source": [
    "HinIII cut site is adjacent to the T1T2 terminators."
   ]
  },
  {
   "cell_type": "code",
   "execution_count": 16,
   "id": "1c4dad7c",
   "metadata": {},
   "outputs": [
    {
     "data": {
      "text/plain": [
       "Dseq(-26)\n",
       "GGTACCCATTATACGAGCCGATGATT\n",
       "CCATGGGTAATATGCTCGGCTACTAA"
      ]
     },
     "execution_count": 16,
     "metadata": {},
     "output_type": "execute_result"
    }
   ],
   "source": [
    "tac_promoter_homology_start = pFC53t1t2.features[6].location.start - (len(KpnI.site))\n",
    "tac_promoter_homology_end =  pFC53t1t2.features[6].location.start + homology_length\n",
    "tac_promoter_homology = Dseqrecord(pFC53t1t2.seq[tac_promoter_homology_start:tac_promoter_homology_end])\n",
    "tac_promoter_homology.seq"
   ]
  },
  {
   "cell_type": "markdown",
   "id": "edebb093",
   "metadata": {},
   "source": [
    "Take reverse complement of tac promoter and add to the anchor region to create the forward primer."
   ]
  },
  {
   "cell_type": "code",
   "execution_count": 17,
   "id": "f7f754bb",
   "metadata": {},
   "outputs": [
    {
     "name": "stdout",
     "output_type": "stream",
     "text": [
      "AATCATCGGCTCGTATAATGGGTACCCAAACACTCCCTCGG\n"
     ]
    }
   ],
   "source": [
    "t7_init_tac_primer = tac_promoter_homology.reverse_complement() + anchor_region\n",
    "print(t7_init_tac_primer.seq)"
   ]
  },
  {
   "cell_type": "markdown",
   "id": "4a084824",
   "metadata": {},
   "source": [
    "The second primer will bound an extension region and share homology to the T1T2 terminators."
   ]
  },
  {
   "cell_type": "code",
   "execution_count": 18,
   "id": "c24b0203",
   "metadata": {},
   "outputs": [],
   "source": [
    "extension_region_length = 300"
   ]
  },
  {
   "cell_type": "code",
   "execution_count": 19,
   "id": "c8094e75",
   "metadata": {
    "scrolled": true
   },
   "outputs": [],
   "source": [
    "three_prime_arm = t7_init.features[6]\n",
    "start = three_prime_arm.location.start + len(three_prime_arm)\n",
    "end = start + extension_region_length\n",
    "extension_region = t7_init.seq[start:end]"
   ]
  },
  {
   "cell_type": "code",
   "execution_count": 20,
   "id": "2ec24a90",
   "metadata": {
    "scrolled": true
   },
   "outputs": [
    {
     "data": {
      "text/plain": [
       "Dseq(-20)\n",
       "CTGATGCCCCCTCCTCTACA\n",
       "GACTACGGGGGAGGAGATGT"
      ]
     },
     "execution_count": 20,
     "metadata": {},
     "output_type": "execute_result"
    }
   ],
   "source": [
    "# last 20 nucleotides\n",
    "extension_binding_site = extension_region[-homology_length:].reverse_complement()\n",
    "extension_binding_site"
   ]
  },
  {
   "cell_type": "markdown",
   "id": "64a2b662",
   "metadata": {},
   "source": [
    "Define homology target for h1t2 terminators."
   ]
  },
  {
   "cell_type": "code",
   "execution_count": 21,
   "id": "53e15544",
   "metadata": {},
   "outputs": [
    {
     "data": {
      "text/plain": [
       "Dseq(-26)\n",
       "TCGTTTTATTTGATGCCTGGAAGCTT\n",
       "AGCAAAATAAACTACGGACCTTCGAA"
      ]
     },
     "execution_count": 21,
     "metadata": {},
     "output_type": "execute_result"
    }
   ],
   "source": [
    "t1t2_homology_start = pFC53t1t2.features[7].location.end - homology_length\n",
    "t1t2_homology_end = pFC53t1t2.features[7].location.end + (len(HindIII.site))\n",
    "\n",
    "t1t2_homology = pFC53t1t2[t1t2_homology_start:t1t2_homology_end]\n",
    "t1t2_homology.seq"
   ]
  },
  {
   "cell_type": "code",
   "execution_count": 22,
   "id": "7a16518d",
   "metadata": {},
   "outputs": [
    {
     "name": "stdout",
     "output_type": "stream",
     "text": [
      "TCGTTTTATTTGATGCCTGGAAGCTTCTGATGCCCCCTCCTCTACA\n"
     ]
    }
   ],
   "source": [
    "t7_init_t1t2_primer = t1t2_homology.seq + extension_binding_site \n",
    "print(t7_init_t1t2_primer)"
   ]
  },
  {
   "cell_type": "markdown",
   "id": "b3699aac",
   "metadata": {},
   "source": [
    "## T7 termination series primers"
   ]
  },
  {
   "cell_type": "code",
   "execution_count": 23,
   "id": "c87a692a",
   "metadata": {},
   "outputs": [
    {
     "data": {
      "text/markdown": [
       "| Ft# | Label or Note    | Dir | Sta  | End  | Len | type         | orf? |\n",
       "|-----|------------------|-----|------|------|-----|--------------|------|\n",
       "|   0 | L:T3\\promoter    | <-- | 14   | 31   |  17 | promoter     |  no  |\n",
       "|   1 | L:T7\\promoter    | --> | 2568 | 2590 |  22 | promoter     |  no  |\n",
       "|   2 | L:T7\\+1\\Site     | --> | 2585 | 2586 |   1 | misc_feature |  no  |\n",
       "|   3 | L:Placeholder st | --> | 2613 | 2813 | 200 | misc         |  no  |\n",
       "|   4 | L:Variable regio | <-- | 2823 | 3023 | 200 | CDS          |  no  |\n",
       "|   5 | L:Anchor region  | <-- | 3023 | 3038 |  15 | CDS          |  no  |"
      ],
      "text/plain": [
       "+-----+------------------+-----+------+------+-----+--------------+------+\n",
       "| Ft# | Label or Note    | Dir | Sta  | End  | Len | type         | orf? |\n",
       "+-----+------------------+-----+------+------+-----+--------------+------+\n",
       "|   0 | L:T3\\promoter    | <-- | 14   | 31   |  17 | promoter     |  no  |\n",
       "|   1 | L:T7\\promoter    | --> | 2568 | 2590 |  22 | promoter     |  no  |\n",
       "|   2 | L:T7\\+1\\Site     | --> | 2585 | 2586 |   1 | misc_feature |  no  |\n",
       "|   3 | L:Placeholder st | --> | 2613 | 2813 | 200 | misc         |  no  |\n",
       "|   4 | L:Variable regio | <-- | 2823 | 3023 | 200 | CDS          |  no  |\n",
       "|   5 | L:Anchor region  | <-- | 3023 | 3038 |  15 | CDS          |  no  |\n",
       "+-----+------------------+-----+------+------+-----+--------------+------+"
      ]
     },
     "execution_count": 23,
     "metadata": {},
     "output_type": "execute_result"
    }
   ],
   "source": [
    "t7_term = GenbankRecord(read(t7_term_construct_path))\n",
    "t7_term.list_features()"
   ]
  },
  {
   "cell_type": "markdown",
   "id": "14f66794",
   "metadata": {},
   "source": [
    "In this series primer with homology to the anchor region targets the t1t2 terminators to place the variable region adjacent to the terminators."
   ]
  },
  {
   "cell_type": "markdown",
   "id": "1ebec5d2",
   "metadata": {},
   "source": [
    "The anchor region should be exactly the same sequence."
   ]
  },
  {
   "cell_type": "code",
   "execution_count": 24,
   "id": "b5e77db7",
   "metadata": {},
   "outputs": [],
   "source": [
    "anchor_region_term = get_feature_by_name(t7_term, 'Anchor_region')\n",
    "assert anchor_region_term.seq == anchor_region.seq"
   ]
  },
  {
   "cell_type": "code",
   "execution_count": 25,
   "id": "74186bf4",
   "metadata": {
    "scrolled": true
   },
   "outputs": [
    {
     "name": "stdout",
     "output_type": "stream",
     "text": [
      "TCGTTTTATTTGATGCCTGGAAGCTTCAAACACTCCCTCGG\n"
     ]
    }
   ],
   "source": [
    "t7_term_t1t2_primer =  t1t2_homology + anchor_region_term\n",
    "print(t7_term_t1t2_primer.seq)"
   ]
  },
  {
   "cell_type": "markdown",
   "id": "fc4f21e0",
   "metadata": {},
   "source": [
    "The second primer binds the start of the string initiator which is currently a placeholder so this primer should *not* be ordered until this is updated."
   ]
  },
  {
   "cell_type": "code",
   "execution_count": 27,
   "id": "9854b096",
   "metadata": {},
   "outputs": [
    {
     "data": {
      "text/plain": [
       "Dseq(-20)\n",
       "GCTTTACTCTCATAAAGAGC\n",
       "CGAAATGAGAGTATTTCTCG"
      ]
     },
     "execution_count": 27,
     "metadata": {},
     "output_type": "execute_result"
    }
   ],
   "source": [
    "strong_init_target_start = t7_term.features[3].location.start\n",
    "strong_init_target_end = strong_init_target_start + homology_length\n",
    "strong_init_target = t7_term.seq[strong_init_target_start:strong_init_target_end]\n",
    "strong_init_target"
   ]
  },
  {
   "cell_type": "code",
   "execution_count": 28,
   "id": "1392dd41",
   "metadata": {},
   "outputs": [
    {
     "data": {
      "text/plain": [
       "Dseq(-46)\n",
       "AATC..GAGC\n",
       "TTAG..CTCG"
      ]
     },
     "execution_count": 28,
     "metadata": {},
     "output_type": "execute_result"
    }
   ],
   "source": [
    "t7_term_tac_primer =  tac_promoter_homology.reverse_complement() + strong_init_target\n",
    "t7_term_tac_primer.seq"
   ]
  },
  {
   "cell_type": "markdown",
   "id": "a0b26a54",
   "metadata": {},
   "source": [
    "Collect all primers and target constructs into one location."
   ]
  },
  {
   "cell_type": "code",
   "execution_count": 29,
   "id": "a49616cb",
   "metadata": {},
   "outputs": [],
   "source": [
    "primers = [\n",
    "    (t7_init_tac_primer, t7_init_t1t2_primer, t7_init),\n",
    "    (t7_term_tac_primer, t7_term_t1t2_primer, t7_term)\n",
    "]"
   ]
  },
  {
   "cell_type": "markdown",
   "id": "6396fa73",
   "metadata": {},
   "source": [
    "## Verify amplification"
   ]
  },
  {
   "cell_type": "markdown",
   "id": "8ad53c79",
   "metadata": {},
   "source": [
    "Verify init amplicon contents."
   ]
  },
  {
   "cell_type": "code",
   "execution_count": 30,
   "id": "50306f70",
   "metadata": {},
   "outputs": [],
   "source": [
    "init_product = pcr(*primers[0])\n",
    "term_product = pcr(*primers[1])"
   ]
  },
  {
   "cell_type": "code",
   "execution_count": 31,
   "id": "3ce9a48c",
   "metadata": {},
   "outputs": [
    {
     "name": "stdout",
     "output_type": "stream",
     "text": [
      "Init amplicon passes all tests\n"
     ]
    }
   ],
   "source": [
    "assert init_product.seq.find(t7_init.extract_feature(4).seq)\n",
    "# check to make sure extension region is present\n",
    "assert init_product.seq.find(extension_region)\n",
    "print('Init amplicon passes all tests')"
   ]
  },
  {
   "cell_type": "markdown",
   "id": "bdcd4156",
   "metadata": {},
   "source": [
    "Do the same for the termination amplicon."
   ]
  },
  {
   "cell_type": "code",
   "execution_count": 32,
   "id": "1f1d0588",
   "metadata": {},
   "outputs": [
    {
     "name": "stdout",
     "output_type": "stream",
     "text": [
      "Term amplicon passes all tests\n"
     ]
    }
   ],
   "source": [
    "# should contain the reverse complement of the variable region\n",
    "assert term_product.seq.find(t7_init.extract_feature(4).seq.reverse_complement())\n",
    "# should also contain the forward string initiator sequence\n",
    "assert term_product.seq.find(t7_term.extract_feature(3).seq)\n",
    "print('Term amplicon passes all tests')"
   ]
  },
  {
   "cell_type": "markdown",
   "id": "a12946b5",
   "metadata": {},
   "source": [
    "## Verify assembly"
   ]
  },
  {
   "cell_type": "markdown",
   "id": "7afe662d",
   "metadata": {},
   "source": [
    "Digest pFC53 and select the large fragment."
   ]
  },
  {
   "cell_type": "code",
   "execution_count": 33,
   "id": "a0ea255d",
   "metadata": {},
   "outputs": [
    {
     "data": {
      "text/plain": [
       "Dseqrecord(-2943)"
      ]
     },
     "execution_count": 33,
     "metadata": {},
     "output_type": "execute_result"
    }
   ],
   "source": [
    "pFC53_large_fragment = max(pFC53t1t2.cut((KpnI, HindIII)), key=lambda f: len(f))\n",
    "pFC53_large_fragment"
   ]
  },
  {
   "cell_type": "markdown",
   "id": "4f94aa76",
   "metadata": {},
   "source": [
    "Assemble fragments into final construct."
   ]
  },
  {
   "cell_type": "code",
   "execution_count": 34,
   "id": "76371eb8",
   "metadata": {
    "scrolled": true
   },
   "outputs": [
    {
     "data": {
      "text/html": [
       "<pre> -|598bp_PCR_prod|25\n",
       "|                 \\/\n",
       "|                 /\\\n",
       "|                 25|name_rc|25\n",
       "|                            \\/\n",
       "|                            /\\\n",
       "|                            25-\n",
       "|                               |\n",
       " -------------------------------</pre>"
      ],
      "text/plain": [
       "Contig(o3491)"
      ]
     },
     "execution_count": 34,
     "metadata": {},
     "output_type": "execute_result"
    }
   ],
   "source": [
    "init_assembly = Assembly([init_product, pFC53_large_fragment], limit=20).assemble_circular()[0]\n",
    "init_assembly"
   ]
  },
  {
   "cell_type": "code",
   "execution_count": 35,
   "id": "f647b5b2",
   "metadata": {},
   "outputs": [
    {
     "data": {
      "text/markdown": [
       "| Ft# | Label or Note    | Dir | Sta  | End  | Len | type         | orf? |\n",
       "|-----|------------------|-----|------|------|-----|--------------|------|\n",
       "|   0 | L:name           | --> | 20   | 41   |  21 | primer_bind  |  no  |\n",
       "|   1 | L:Anchor region  | --> | 26   | 41   |  15 | CDS          |  no  |\n",
       "|   2 | L:Variable regio | --> | 41   | 241  | 200 | CDS          |  no  |\n",
       "|   3 | L:3_prime_HR     | --> | 241  | 271  |  30 | misc         |  no  |\n",
       "|   4 | L:name           | <-- | 552  | 575  |  23 | primer_bind  |  no  |\n",
       "|   5 | L:T1T2\\terminato | --> | 582  | 954  | 372 | terminator   |  no  |\n",
       "|   6 | L:Amp            | --> | 1643 | 2476 | 833 | CDS          |  no  |\n",
       "|   7 | L:ApaLI          | <-- | 1733 | 1739 |   6 | misc_feature |  no  |\n",
       "|   8 | L:ApaLI          | <-- | 2979 | 2985 |   6 | misc_feature |  no  |\n",
       "|   9 | L:tac\\promoter   | --- | 0    | 3491 |  29 | promoter     |  no  |"
      ],
      "text/plain": [
       "+-----+------------------+-----+------+------+-----+--------------+------+\n",
       "| Ft# | Label or Note    | Dir | Sta  | End  | Len | type         | orf? |\n",
       "+-----+------------------+-----+------+------+-----+--------------+------+\n",
       "|   0 | L:name           | --> | 20   | 41   |  21 | primer_bind  |  no  |\n",
       "|   1 | L:Anchor region  | --> | 26   | 41   |  15 | CDS          |  no  |\n",
       "|   2 | L:Variable regio | --> | 41   | 241  | 200 | CDS          |  no  |\n",
       "|   3 | L:3_prime_HR     | --> | 241  | 271  |  30 | misc         |  no  |\n",
       "|   4 | L:name           | <-- | 552  | 575  |  23 | primer_bind  |  no  |\n",
       "|   5 | L:T1T2\\terminato | --> | 582  | 954  | 372 | terminator   |  no  |\n",
       "|   6 | L:Amp            | --> | 1643 | 2476 | 833 | CDS          |  no  |\n",
       "|   7 | L:ApaLI          | <-- | 1733 | 1739 |   6 | misc_feature |  no  |\n",
       "|   8 | L:ApaLI          | <-- | 2979 | 2985 |   6 | misc_feature |  no  |\n",
       "|   9 | L:tac\\promoter   | --- | 0    | 3491 |  29 | promoter     |  no  |\n",
       "+-----+------------------+-----+------+------+-----+--------------+------+"
      ]
     },
     "execution_count": 35,
     "metadata": {},
     "output_type": "execute_result"
    }
   ],
   "source": [
    "init_assembly.list_features()"
   ]
  },
  {
   "cell_type": "code",
   "execution_count": 36,
   "id": "e473d591",
   "metadata": {},
   "outputs": [
    {
     "data": {
      "text/html": [
       "<pre> -|477bp_PCR_prod|25\n",
       "|                 \\/\n",
       "|                 /\\\n",
       "|                 25|name_rc|25\n",
       "|                            \\/\n",
       "|                            /\\\n",
       "|                            25-\n",
       "|                               |\n",
       " -------------------------------</pre>"
      ],
      "text/plain": [
       "Contig(o3370)"
      ]
     },
     "execution_count": 36,
     "metadata": {},
     "output_type": "execute_result"
    }
   ],
   "source": [
    "term_assembly = Assembly([term_product, pFC53_large_fragment], limit=20).assemble_circular()[0]\n",
    "term_assembly"
   ]
  },
  {
   "cell_type": "code",
   "execution_count": 37,
   "id": "8df701b8",
   "metadata": {
    "scrolled": true
   },
   "outputs": [
    {
     "data": {
      "text/markdown": [
       "| Ft# | Label or Note    | Dir | Sta  | End  | Len | type         | orf? |\n",
       "|-----|------------------|-----|------|------|-----|--------------|------|\n",
       "|   0 | L:Placeholder st | --> | 26   | 226  | 200 | misc         |  no  |\n",
       "|   1 | L:name           | --> | 26   | 46   |  20 | primer_bind  |  no  |\n",
       "|   2 | L:Variable regio | <-- | 236  | 436  | 200 | CDS          |  no  |\n",
       "|   3 | L:Anchor region  | <-- | 436  | 451  |  15 | CDS          |  no  |\n",
       "|   4 | L:name           | <-- | 436  | 451  |  15 | primer_bind  |  no  |\n",
       "|   5 | L:T1T2\\terminato | --> | 461  | 833  | 372 | terminator   |  no  |\n",
       "|   6 | L:Amp            | --> | 1522 | 2355 | 833 | CDS          |  no  |\n",
       "|   7 | L:ApaLI          | <-- | 1612 | 1618 |   6 | misc_feature |  no  |\n",
       "|   8 | L:ApaLI          | <-- | 2858 | 2864 |   6 | misc_feature |  no  |\n",
       "|   9 | L:tac\\promoter   | --- | 0    | 3370 |  29 | promoter     |  no  |"
      ],
      "text/plain": [
       "+-----+------------------+-----+------+------+-----+--------------+------+\n",
       "| Ft# | Label or Note    | Dir | Sta  | End  | Len | type         | orf? |\n",
       "+-----+------------------+-----+------+------+-----+--------------+------+\n",
       "|   0 | L:Placeholder st | --> | 26   | 226  | 200 | misc         |  no  |\n",
       "|   1 | L:name           | --> | 26   | 46   |  20 | primer_bind  |  no  |\n",
       "|   2 | L:Variable regio | <-- | 236  | 436  | 200 | CDS          |  no  |\n",
       "|   3 | L:Anchor region  | <-- | 436  | 451  |  15 | CDS          |  no  |\n",
       "|   4 | L:name           | <-- | 436  | 451  |  15 | primer_bind  |  no  |\n",
       "|   5 | L:T1T2\\terminato | --> | 461  | 833  | 372 | terminator   |  no  |\n",
       "|   6 | L:Amp            | --> | 1522 | 2355 | 833 | CDS          |  no  |\n",
       "|   7 | L:ApaLI          | <-- | 1612 | 1618 |   6 | misc_feature |  no  |\n",
       "|   8 | L:ApaLI          | <-- | 2858 | 2864 |   6 | misc_feature |  no  |\n",
       "|   9 | L:tac\\promoter   | --- | 0    | 3370 |  29 | promoter     |  no  |\n",
       "+-----+------------------+-----+------+------+-----+--------------+------+"
      ]
     },
     "execution_count": 37,
     "metadata": {},
     "output_type": "execute_result"
    }
   ],
   "source": [
    "term_assembly.list_features()"
   ]
  },
  {
   "cell_type": "markdown",
   "id": "cf1d1806",
   "metadata": {},
   "source": [
    "This confirms that these primers work for the inserts tested (insert 1), also need to check that these primers will be successful for all other inserts. Here I am using files produced by the snakemake pipeline. If they do not exist these checks will not run / fail."
   ]
  },
  {
   "cell_type": "markdown",
   "id": "4b8533ec",
   "metadata": {},
   "source": [
    "Replace below directory paths with those from snakemake input."
   ]
  },
  {
   "cell_type": "code",
   "execution_count": 42,
   "id": "c8cc2530",
   "metadata": {},
   "outputs": [],
   "source": [
    "def test_ensemble(construct_dir, primers):\n",
    "    cd = Path(construct_dir)\n",
    "    if cd.is_dir():\n",
    "        for each_construct in cd.iterdir():\n",
    "            if each_construct.suffix == '.gb':\n",
    "                print(each_construct)\n",
    "                template = GenbankRecord(read(str(each_construct)))\n",
    "                amplicon = pcr(*primers, template)\n",
    "                assert amplicon\n",
    "                construct = Assembly(\n",
    "                    [term_product, pFC53_large_fragment], \n",
    "                    limit=20\n",
    "                ).assemble_circular()[0]\n",
    "                assert construct\n",
    "                print(f'{each_construct.name} passed')\n",
    "    else:\n",
    "        print(f'{construct_dir} does not exist')"
   ]
  },
  {
   "cell_type": "code",
   "execution_count": 43,
   "id": "f16cc7ce",
   "metadata": {},
   "outputs": [
    {
     "name": "stdout",
     "output_type": "stream",
     "text": [
      "../output/insert_sequences_100_v2/constructs/T7_initiation_series/T7_init_VR-4.gb\n",
      "T7_init_VR-4.gb passed\n",
      "../output/insert_sequences_100_v2/constructs/T7_initiation_series/T7_init_VR-24.gb\n",
      "T7_init_VR-24.gb passed\n",
      "../output/insert_sequences_100_v2/constructs/T7_initiation_series/T7_init_VR-29.gb\n",
      "T7_init_VR-29.gb passed\n",
      "../output/insert_sequences_100_v2/constructs/T7_initiation_series/T7_init_VR-30.gb\n",
      "T7_init_VR-30.gb passed\n",
      "../output/insert_sequences_100_v2/constructs/T7_initiation_series/T7_init_VR-10.gb\n",
      "T7_init_VR-10.gb passed\n",
      "../output/insert_sequences_100_v2/constructs/T7_initiation_series/T7_init_VR-3.gb\n",
      "T7_init_VR-3.gb passed\n",
      "../output/insert_sequences_100_v2/constructs/T7_initiation_series/T7_init_VR-19.gb\n",
      "T7_init_VR-19.gb passed\n",
      "../output/insert_sequences_100_v2/constructs/T7_initiation_series/T7_init_VR-9.gb\n",
      "T7_init_VR-9.gb passed\n",
      "../output/insert_sequences_100_v2/constructs/T7_initiation_series/T7_init_VR-1.gb\n",
      "T7_init_VR-1.gb passed\n",
      "../output/insert_sequences_100_v2/constructs/T7_initiation_series/T7_init_VR-8.gb\n",
      "T7_init_VR-8.gb passed\n",
      "../output/insert_sequences_100_v2/constructs/T7_initiation_series/T7_init_VR-18.gb\n",
      "T7_init_VR-18.gb passed\n",
      "../output/insert_sequences_100_v2/constructs/T7_initiation_series/T7_init_VR-5.gb\n",
      "T7_init_VR-5.gb passed\n",
      "../output/insert_sequences_100_v2/constructs/T7_initiation_series/T7_init_VR-2.gb\n",
      "T7_init_VR-2.gb passed\n",
      "../output/insert_sequences_100_v2/constructs/T7_initiation_series/T7_init_VR-15.gb\n",
      "T7_init_VR-15.gb passed\n",
      "../output/insert_sequences_100_v2/constructs/T7_initiation_series/T7_init_VR-20.gb\n",
      "T7_init_VR-20.gb passed\n",
      "../output/insert_sequences_100_v2/constructs/T7_initiation_series/T7_init_VR-16.gb\n",
      "T7_init_VR-16.gb passed\n",
      "../output/insert_sequences_100_v2/constructs/T7_initiation_series/T7_init_VR-23.gb\n",
      "T7_init_VR-23.gb passed\n",
      "../output/insert_sequences_100_v2/constructs/T7_initiation_series/T7_init_VR-31.gb\n",
      "T7_init_VR-31.gb passed\n",
      "../output/insert_sequences_100_v2/constructs/T7_initiation_series/T7_init_VR-25.gb\n",
      "T7_init_VR-25.gb passed\n",
      "../output/insert_sequences_100_v2/constructs/T7_initiation_series/T7_init_VR-11.gb\n",
      "T7_init_VR-11.gb passed\n",
      "../output/insert_sequences_100_v2/constructs/T7_initiation_series/T7_init_VR-12.gb\n",
      "T7_init_VR-12.gb passed\n",
      "../output/insert_sequences_100_v2/constructs/T7_initiation_series/T7_init_VR-13.gb\n",
      "T7_init_VR-13.gb passed\n",
      "../output/insert_sequences_100_v2/constructs/T7_initiation_series/T7_init_VR-26.gb\n",
      "T7_init_VR-26.gb passed\n",
      "../output/insert_sequences_100_v2/constructs/T7_initiation_series/T7_init_VR-7.gb\n",
      "T7_init_VR-7.gb passed\n",
      "../output/insert_sequences_100_v2/constructs/T7_initiation_series/T7_init_VR-28.gb\n",
      "T7_init_VR-28.gb passed\n",
      "../output/insert_sequences_100_v2/constructs/T7_initiation_series/T7_init_VR-27.gb\n",
      "T7_init_VR-27.gb passed\n",
      "../output/insert_sequences_100_v2/constructs/T7_initiation_series/T7_init_VR-21.gb\n",
      "T7_init_VR-21.gb passed\n",
      "../output/insert_sequences_100_v2/constructs/T7_initiation_series/T7_init_VR-6.gb\n",
      "T7_init_VR-6.gb passed\n",
      "../output/insert_sequences_100_v2/constructs/T7_initiation_series/T7_init_VR-22.gb\n",
      "T7_init_VR-22.gb passed\n",
      "../output/insert_sequences_100_v2/constructs/T7_initiation_series/T7_init_VR-14.gb\n",
      "T7_init_VR-14.gb passed\n",
      "../output/insert_sequences_100_v2/constructs/T7_initiation_series/T7_init_VR-17.gb\n",
      "T7_init_VR-17.gb passed\n",
      "../output/insert_sequences_100_v2/constructs/T7_termination_series/T7_term_VR-24.gb\n",
      "T7_term_VR-24.gb passed\n",
      "../output/insert_sequences_100_v2/constructs/T7_termination_series/T7_term_VR-20.gb\n",
      "T7_term_VR-20.gb passed\n",
      "../output/insert_sequences_100_v2/constructs/T7_termination_series/T7_term_VR-2.gb\n",
      "T7_term_VR-2.gb passed\n",
      "../output/insert_sequences_100_v2/constructs/T7_termination_series/T7_term_VR-7.gb\n",
      "T7_term_VR-7.gb passed\n",
      "../output/insert_sequences_100_v2/constructs/T7_termination_series/T7_term_VR-30.gb\n",
      "T7_term_VR-30.gb passed\n",
      "../output/insert_sequences_100_v2/constructs/T7_termination_series/T7_term_VR-13.gb\n",
      "T7_term_VR-13.gb passed\n",
      "../output/insert_sequences_100_v2/constructs/T7_termination_series/T7_term_VR-11.gb\n",
      "T7_term_VR-11.gb passed\n",
      "../output/insert_sequences_100_v2/constructs/T7_termination_series/T7_term_VR-6.gb\n",
      "T7_term_VR-6.gb passed\n",
      "../output/insert_sequences_100_v2/constructs/T7_termination_series/T7_term_VR-28.gb\n",
      "T7_term_VR-28.gb passed\n",
      "../output/insert_sequences_100_v2/constructs/T7_termination_series/T7_term_VR-15.gb\n",
      "T7_term_VR-15.gb passed\n",
      "../output/insert_sequences_100_v2/constructs/T7_termination_series/T7_term_VR-14.gb\n",
      "T7_term_VR-14.gb passed\n",
      "../output/insert_sequences_100_v2/constructs/T7_termination_series/T7_term_VR-18.gb\n",
      "T7_term_VR-18.gb passed\n",
      "../output/insert_sequences_100_v2/constructs/T7_termination_series/T7_term_VR-25.gb\n",
      "T7_term_VR-25.gb passed\n",
      "../output/insert_sequences_100_v2/constructs/T7_termination_series/T7_term_VR-26.gb\n",
      "T7_term_VR-26.gb passed\n",
      "../output/insert_sequences_100_v2/constructs/T7_termination_series/T7_term_VR-17.gb\n",
      "T7_term_VR-17.gb passed\n",
      "../output/insert_sequences_100_v2/constructs/T7_termination_series/T7_term_VR-3.gb\n",
      "T7_term_VR-3.gb passed\n",
      "../output/insert_sequences_100_v2/constructs/T7_termination_series/T7_term_VR-27.gb\n",
      "T7_term_VR-27.gb passed\n",
      "../output/insert_sequences_100_v2/constructs/T7_termination_series/T7_term_VR-5.gb\n",
      "T7_term_VR-5.gb passed\n",
      "../output/insert_sequences_100_v2/constructs/T7_termination_series/T7_term_VR-31.gb\n",
      "T7_term_VR-31.gb passed\n",
      "../output/insert_sequences_100_v2/constructs/T7_termination_series/T7_term_VR-21.gb\n",
      "T7_term_VR-21.gb passed\n",
      "../output/insert_sequences_100_v2/constructs/T7_termination_series/T7_term_VR-22.gb\n",
      "T7_term_VR-22.gb passed\n",
      "../output/insert_sequences_100_v2/constructs/T7_termination_series/T7_term_VR-16.gb\n",
      "T7_term_VR-16.gb passed\n",
      "../output/insert_sequences_100_v2/constructs/T7_termination_series/T7_term_VR-10.gb\n",
      "T7_term_VR-10.gb passed\n",
      "../output/insert_sequences_100_v2/constructs/T7_termination_series/T7_term_VR-1.gb\n",
      "T7_term_VR-1.gb passed\n",
      "../output/insert_sequences_100_v2/constructs/T7_termination_series/T7_term_VR-23.gb\n",
      "T7_term_VR-23.gb passed\n",
      "../output/insert_sequences_100_v2/constructs/T7_termination_series/T7_term_VR-4.gb\n",
      "T7_term_VR-4.gb passed\n",
      "../output/insert_sequences_100_v2/constructs/T7_termination_series/T7_term_VR-19.gb\n",
      "T7_term_VR-19.gb passed\n",
      "../output/insert_sequences_100_v2/constructs/T7_termination_series/T7_term_VR-9.gb\n",
      "T7_term_VR-9.gb passed\n",
      "../output/insert_sequences_100_v2/constructs/T7_termination_series/T7_term_VR-29.gb\n",
      "T7_term_VR-29.gb passed\n",
      "../output/insert_sequences_100_v2/constructs/T7_termination_series/T7_term_VR-8.gb\n",
      "T7_term_VR-8.gb passed\n",
      "../output/insert_sequences_100_v2/constructs/T7_termination_series/T7_term_VR-12.gb\n",
      "T7_term_VR-12.gb passed\n"
     ]
    }
   ],
   "source": [
    "if os.path.exists(t7_init_constructs_dir):\n",
    "    test_ensemble(t7_init_constructs_dir, primers[0][0:2])\n",
    "if os.path.exists(t7_term_constructs_dir):\n",
    "    test_ensemble(t7_term_constructs_dir, primers[1][0:2])"
   ]
  },
  {
   "cell_type": "markdown",
   "id": "b2ee2191",
   "metadata": {},
   "source": [
    "## Write primers"
   ]
  },
  {
   "cell_type": "code",
   "execution_count": 44,
   "id": "af16527f",
   "metadata": {},
   "outputs": [
    {
     "ename": "NameError",
     "evalue": "name 'snakemake' is not defined",
     "output_type": "error",
     "traceback": [
      "\u001b[0;31m---------------------------------------------------------------------\u001b[0m",
      "\u001b[0;31mNameError\u001b[0m                           Traceback (most recent call last)",
      "\u001b[0;32m<ipython-input-44-6725c57e7cf7>\u001b[0m in \u001b[0;36m<module>\u001b[0;34m\u001b[0m\n\u001b[0;32m----> 1\u001b[0;31m \u001b[0mtac_init_primer_path\u001b[0m \u001b[0;34m=\u001b[0m \u001b[0mstr\u001b[0m\u001b[0;34m(\u001b[0m\u001b[0msnakemake\u001b[0m\u001b[0;34m.\u001b[0m\u001b[0moutput\u001b[0m\u001b[0;34m[\u001b[0m\u001b[0;34m'init_primers'\u001b[0m\u001b[0;34m]\u001b[0m\u001b[0;34m)\u001b[0m\u001b[0;34m\u001b[0m\u001b[0;34m\u001b[0m\u001b[0m\n\u001b[0m\u001b[1;32m      2\u001b[0m \u001b[0mtac_term_primer_path\u001b[0m \u001b[0;34m=\u001b[0m \u001b[0mstr\u001b[0m\u001b[0;34m(\u001b[0m\u001b[0msnakemake\u001b[0m\u001b[0;34m.\u001b[0m\u001b[0moutput\u001b[0m\u001b[0;34m[\u001b[0m\u001b[0;34m'term_primers'\u001b[0m\u001b[0;34m]\u001b[0m\u001b[0;34m)\u001b[0m\u001b[0;34m\u001b[0m\u001b[0;34m\u001b[0m\u001b[0m\n\u001b[1;32m      3\u001b[0m \u001b[0;34m\u001b[0m\u001b[0m\n\u001b[1;32m      4\u001b[0m \u001b[0mPath\u001b[0m\u001b[0;34m(\u001b[0m\u001b[0mtac_init_primer_path\u001b[0m\u001b[0;34m)\u001b[0m\u001b[0;34m.\u001b[0m\u001b[0mparent\u001b[0m\u001b[0;34m.\u001b[0m\u001b[0mmkdir\u001b[0m\u001b[0;34m(\u001b[0m\u001b[0mparents\u001b[0m\u001b[0;34m=\u001b[0m\u001b[0;32mTrue\u001b[0m\u001b[0;34m,\u001b[0m \u001b[0mexist_ok\u001b[0m\u001b[0;34m=\u001b[0m\u001b[0;32mTrue\u001b[0m\u001b[0;34m)\u001b[0m\u001b[0;34m\u001b[0m\u001b[0;34m\u001b[0m\u001b[0m\n",
      "\u001b[0;31mNameError\u001b[0m: name 'snakemake' is not defined"
     ]
    }
   ],
   "source": [
    "tac_init_primer_path = str(snakemake.output['init_primers'])\n",
    "tac_term_primer_path = str(snakemake.output['term_primers'])\n",
    "\n",
    "Path(tac_init_primer_path).parent.mkdir(parents=True, exist_ok=True)"
   ]
  },
  {
   "cell_type": "code",
   "execution_count": 35,
   "id": "1d9a7186",
   "metadata": {},
   "outputs": [],
   "source": [
    "def label_primer_pair(primers, series):\n",
    "    # clean up primer labels and mark with hash\n",
    "    primers = list(primers)\n",
    "    primers[0] = Dseqrecord(primers[0])\n",
    "    primers[1] = Dseqrecord(primers[1])\n",
    "    primers[0].description = ''\n",
    "    primers[1].description = ''\n",
    "    primers[0].id = f'{series}_fwd_primer'\n",
    "    primers[1].id = f'{series}_rev_primer'\n",
    "    primers[0].stamp()\n",
    "    primers[1].stamp()\n",
    "    \n",
    "    return primers"
   ]
  },
  {
   "cell_type": "code",
   "execution_count": 36,
   "id": "d14c069c",
   "metadata": {},
   "outputs": [],
   "source": [
    "def write_primers(primers, output_path):\n",
    "    content = ''\n",
    "    with open(str(output_path), 'w') as handle:\n",
    "        for primer in primers:\n",
    "            fa = primer.format('fasta') + '\\n'\n",
    "            handle.write(fa)\n",
    "            content += fa\n",
    "    return content"
   ]
  },
  {
   "cell_type": "code",
   "execution_count": 37,
   "id": "82921813",
   "metadata": {},
   "outputs": [
    {
     "name": "stdout",
     "output_type": "stream",
     "text": [
      "tac_init_fwd_primer\n",
      "tac_init_rev_primer\n"
     ]
    }
   ],
   "source": [
    "init_primers = label_primer_pair(primers[0][:2], 'tac_init')\n",
    "term_primers = label_primer_pair(primers[1][:2], 'tac_term')\n",
    "print(init_primers[0].id)\n",
    "print(init_primers[1].id)"
   ]
  },
  {
   "cell_type": "code",
   "execution_count": 38,
   "id": "c21f83f9",
   "metadata": {},
   "outputs": [
    {
     "name": "stdout",
     "output_type": "stream",
     "text": [
      ">tac_init_fwd_primer SEGUID_StueYkDsp0g9rG0FYTShzQ1ores\n",
      "AATCATCGGCTCGTATAATGGGTACCCACGTTTGGCCACCA\n",
      ">tac_init_rev_primer SEGUID_mP_kGr30Nx0VjMatTGUSzM1p7V0\n",
      "TCGTTTTATTTGATGCCTGGAAGCTTGTGCACACAGCCCAGCTTGG\n",
      "\n"
     ]
    }
   ],
   "source": [
    "print(write_primers(init_primers, tac_init_primer_path))"
   ]
  },
  {
   "cell_type": "code",
   "execution_count": 39,
   "id": "e266d18d",
   "metadata": {},
   "outputs": [
    {
     "name": "stdout",
     "output_type": "stream",
     "text": [
      ">tac_term_fwd_primer SEGUID_84t5SYM-4gvSXkhbX9iZic_SKLc\n",
      "AATCATCGGCTCGTATAATGGGTACCGCTTTGCGGAGCGAGGACCA\n",
      ">tac_term_rev_primer SEGUID_qyadq-psR4Sb0RfEY0Kwz98EmVU\n",
      "TCGTTTTATTTGATGCCTGGAAGCTTCACGTTTGGCCACCA\n",
      "\n"
     ]
    }
   ],
   "source": [
    "print(write_primers(term_primers, tac_term_primer_path))"
   ]
  }
 ],
 "metadata": {
  "kernelspec": {
   "display_name": "Python 3",
   "language": "python",
   "name": "python3"
  },
  "language_info": {
   "codemirror_mode": {
    "name": "ipython",
    "version": 3
   },
   "file_extension": ".py",
   "mimetype": "text/x-python",
   "name": "python",
   "nbconvert_exporter": "python",
   "pygments_lexer": "ipython3",
   "version": "3.9.5"
  }
 },
 "nbformat": 4,
 "nbformat_minor": 5
}
