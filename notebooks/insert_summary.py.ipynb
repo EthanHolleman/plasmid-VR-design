{
 "cells": [
  {
   "cell_type": "code",
   "execution_count": 2,
   "id": "premier-wound",
   "metadata": {},
   "outputs": [],
   "source": [
    "# start coding here"
   ]
  },
  {
   "cell_type": "markdown",
   "id": "bcdf15ce",
   "metadata": {},
   "outputs": [],
   "source": [
    "# Insert summary"
   ]
  },
  {
   "cell_type": "code",
   "execution_count": 3,
   "id": "7657e18d",
   "metadata": {},
   "outputs": [],
   "source": [
    "from Bio import SeqIO\n",
    "from pydna.readers import read\n",
    "from pydna.genbankrecord import GenbankRecord\n",
    "from pydna.dseq import Dseq\n",
    "import pandas as pd\n",
    "%load_ext rpy2.ipython"
   ]
  },
  {
   "cell_type": "code",
   "execution_count": 4,
   "id": "47a0e8da",
   "metadata": {},
   "outputs": [],
   "source": [
    "inserts = snakemake.input['insert_genbank']"
   ]
  },
  {
   "cell_type": "code",
   "execution_count": 5,
   "id": "3f792c33",
   "metadata": {},
   "outputs": [],
   "source": [
    "def read_genbank_files(*args):\n",
    "    records = []\n",
    "    for each_file in args:\n",
    "        records.append(GenbankRecord(read(str(each_file))))\n",
    "    return records"
   ]
  },
  {
   "cell_type": "code",
   "execution_count": 6,
   "id": "e87124ec",
   "metadata": {},
   "outputs": [],
   "source": [
    "insert_records = read_genbank_files(*inserts)"
   ]
  },
  {
   "cell_type": "markdown",
   "id": "7c99ea87",
   "metadata": {},
   "outputs": [],
   "source": [
    "## Insert sequence lengths"
   ]
  },
  {
   "cell_type": "code",
   "execution_count": 7,
   "id": "d6b46210",
   "metadata": {},
   "outputs": [],
   "source": [
    "def clean_string(s):\n",
    "    # remove junk from strings (underscores newlines etc)\n",
    "    return s.replace('_', ' ').strip()"
   ]
  },
  {
   "cell_type": "code",
   "execution_count": 8,
   "id": "d4cfe8ef",
   "metadata": {},
   "outputs": [],
   "source": [
    "def clean_insert_name(name):\n",
    "    return name.split('_')[-1]"
   ]
  },
  {
   "cell_type": "code",
   "execution_count": 9,
   "id": "da026eaa",
   "metadata": {},
   "outputs": [],
   "source": [
    "def ordered_feature_names(record):\n",
    "    # get feature names in the order they appear in a record\n",
    "    names = []\n",
    "    for each_feature in record.features:\n",
    "        names.append(clean_string(each_feature.extract(record).name))\n",
    "    return names"
   ]
  },
  {
   "cell_type": "code",
   "execution_count": 10,
   "id": "de359e2f",
   "metadata": {},
   "outputs": [],
   "source": [
    "def ordered_insert_names(names):\n",
    "    # get insert names ordered by their number\n",
    "    return sorted(names, key=lambda n: int(n.split('-')[-1]))"
   ]
  },
  {
   "cell_type": "markdown",
   "id": "00f4c6cc",
   "metadata": {},
   "outputs": [],
   "source": [
    "Add restriction sites as features."
   ]
  },
  {
   "cell_type": "code",
   "execution_count": 11,
   "id": "1ed3ce2c",
   "metadata": {},
   "outputs": [],
   "source": [
    "def add_restriction_site_as_feature(record, enzyme):\n",
    "    site_start = record.seq.watson.find(enzyme.site)  # using cut or casting GenbankRecord to string caused AttributeError. Bug?\n",
    "    if site_start != -1:\n",
    "        record.add_feature(site_start, site_start+len(enzyme.site), label=f'{str(enzyme)}')"
   ]
  },
  {
   "cell_type": "code",
   "execution_count": 12,
   "id": "44052e78",
   "metadata": {},
   "outputs": [],
   "source": [
    "insert_records[0].unique_cutters()"
   ]
  },
  {
   "cell_type": "markdown",
   "id": "c6a52785",
   "metadata": {},
   "outputs": [],
   "source": [
    "Create dataframe of each insert's features and their lengths for plotting with ggplot."
   ]
  },
  {
   "cell_type": "code",
   "execution_count": null,
   "id": "9faa3e47",
   "metadata": {},
   "outputs": [],
   "source": [
    "def seq_len_df(records):\n",
    "    df_rows = []\n",
    "    for each_record in records:\n",
    "        for each_feature in each_record.features:\n",
    "            df_rows.append(\n",
    "                {\n",
    "                    'insert': clean_insert_name(each_record.name),\n",
    "                    'feature': clean_string(each_feature.extract(each_record).name),\n",
    "                    'feature_length': len(each_feature.extract(each_record))\n",
    "                }\n",
    "            )\n",
    "    return pd.DataFrame(df_rows)"
   ]
  },
  {
   "cell_type": "code",
   "execution_count": null,
   "id": "ace547af",
   "metadata": {},
   "outputs": [],
   "source": [
    "len_df = seq_len_df(insert_records)\n",
    "print(len_df)"
   ]
  },
  {
   "cell_type": "code",
   "execution_count": null,
   "id": "0d4c5ea9",
   "metadata": {},
   "outputs": [],
   "source": [
    "feat_order = ordered_feature_names(insert_records[0])\n",
    "insert_order = ordered_insert_names([clean_insert_name(r.name) for r in insert_records])"
   ]
  },
  {
   "cell_type": "code",
   "execution_count": null,
   "id": "d7a57ca3",
   "metadata": {},
   "outputs": [],
   "source": [
    "%%R -i len_df -i feat_order -i insert_order -w 7 -h 7 --units in -r 300\n",
    "# import df from global environment\n",
    "# make default figure size 5 by 5 inches with 200 dpi resolution\n",
    "len_df$feature <- factor(len_df$feature, levels=feat_order)\n",
    "len_df$insert <- factor(len_df$insert, levels=insert_order)\n",
    "library(ggplot2)\n",
    "library(ggpubr)\n",
    "ggplot(len_df, aes(fill=feature, x=insert, y=feature_length)) + \n",
    "       geom_bar(position='stack', stat='identity', color='black') + labs(x='Insert', y='Length') +\n",
    "        theme_pubr() + scale_fill_brewer(palette = \"Dark2\") +\n",
    "        theme(axis.text.x = element_text(angle = 45, hjust=1))"
   ]
  },
  {
   "cell_type": "markdown",
   "id": "50bff1fc",
   "metadata": {},
   "outputs": [],
   "source": [
    "Lengths of all feature types should be the same."
   ]
  },
  {
   "cell_type": "code",
   "execution_count": null,
   "id": "0a23ce83",
   "metadata": {},
   "outputs": [],
   "source": [
    "from Bio import SeqIO\n",
    "g = SeqIO.read(inserts[0], format='genbank')\n",
    "g.features[0].extract(g)"
   ]
  },
  {
   "cell_type": "code",
   "execution_count": null,
   "id": "1e0cbe3d",
   "metadata": {},
   "outputs": [],
   "source": [
    "import Bio"
   ]
  },
  {
   "cell_type": "code",
   "execution_count": null,
   "id": "25032ca3",
   "metadata": {},
   "outputs": [],
   "source": [
    "str(Seq('AAGAGAGAGTGTTGTAG'))"
   ]
  },
  {
   "cell_type": "code",
   "execution_count": null,
   "id": "5f8f0450",
   "metadata": {},
   "outputs": [],
   "source": [
    "insert_records[0].seq.watson.find(KpnI.site)\n",
    "insert_records[0].cut(XbaI)"
   ]
  },
  {
   "cell_type": "code",
   "execution_count": null,
   "id": "de1c317a",
   "metadata": {},
   "outputs": [],
   "source": []
  }
 ],
 "metadata": {
  "kernelspec": {
   "display_name": "Python 3 (ipykernel)",
   "language": "python",
   "name": "python3"
  },
  "language_info": {
   "codemirror_mode": {
    "name": "ipython",
    "version": 3
   },
   "file_extension": ".py",
   "mimetype": "text/x-python",
   "name": "python",
   "nbconvert_exporter": "python",
   "pygments_lexer": "ipython3",
   "version": "3.8.10"
  }
 },
 "nbformat": 4,
 "nbformat_minor": 5
}
