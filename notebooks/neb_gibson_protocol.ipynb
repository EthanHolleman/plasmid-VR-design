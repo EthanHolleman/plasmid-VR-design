{
 "cells": [
  {
   "cell_type": "markdown",
   "id": "73f6a619",
   "metadata": {},
   "source": [
    "# NEB gibson assembly protocol"
   ]
  },
  {
   "cell_type": "markdown",
   "id": "e05d6c2e",
   "metadata": {},
   "source": [
    "This notebook performs calculations for Gibson assembly based on recommendations from the [NEB Gibson assembly protocol](https://www.neb.com/protocols/2012/12/11/gibson-assembly-protocol-e5510)."
   ]
  },
  {
   "cell_type": "markdown",
   "id": "6808dbc6",
   "metadata": {},
   "source": [
    "## Restriction fragment assembly functions"
   ]
  },
  {
   "cell_type": "markdown",
   "id": "76f8ee05",
   "metadata": {},
   "source": [
    "New England Biolabs recommends setting up restriction enzyme digests in a 50 µl reaction volume."
   ]
  },
  {
   "cell_type": "code",
   "execution_count": 76,
   "id": "16e41637",
   "metadata": {},
   "outputs": [],
   "source": [
    "# TODO"
   ]
  },
  {
   "cell_type": "markdown",
   "id": "763fce9a",
   "metadata": {},
   "source": [
    "## Gibson assembly functions"
   ]
  },
  {
   "cell_type": "markdown",
   "id": "95ab8b4b",
   "metadata": {},
   "source": [
    "NEB recommends `0.02` - `0.5` pmols of fragments when assembling 2-3 fragments. Here, we will be using the same backbone and many \"equivalent\" inserts. Additionally the total volume of unperufied PCR fragments should not exceed 20%. Here I am interpreting inserts as PCR fragments. NEB also says Optimized cloning efficiency is `50`-`100` ng of vector with a 2-fold molar excess of each insert. Use 5x more if inserts size less than 200. "
   ]
  },
  {
   "cell_type": "code",
   "execution_count": 71,
   "id": "9973e437",
   "metadata": {},
   "outputs": [],
   "source": [
    "INSERT_CON_STOCK = 50  # stock insert concentation ng / ul\n",
    "VECTOR_MASS = 75 # Mass of vector per insert per NEB rec of 50-100 ng\n",
    "MASTER_MIX_CON = 2  # X concentration\n",
    "INSERT_LIBRARY_PROP = 0.10  # proportion of volume of total reaction composed of inserts\n",
    "INCUBATION_TIME = 15  # minutes NEB rec for 2 or 3 fragments\n",
    "INCUBATION_TEMP = 50 # C per NEB rec\n",
    "BACKBONE_CON = 200  # ng / ul"
   ]
  },
  {
   "cell_type": "code",
   "execution_count": 46,
   "id": "9bd15a23",
   "metadata": {},
   "outputs": [],
   "source": [
    "from pydna.dseqrecord import Dseqrecord\n",
    "import pandas as pd\n",
    "\n",
    "\n",
    "def ng_dna_to_pmol(insert_record, ng):\n",
    "    # calculate the number of pmols of DNA from ng DNA\n",
    "    insert_mw = insert_record.seq.mw()  # g / mol\n",
    "    insert_mw_ng = insert_mw * 1e+9  # ng / mol\n",
    "    insert_mols = ng / insert_mw_ng  # mols\n",
    "    insert_pmols = insert_mols * 1e+12\n",
    "    return insert_pmols\n",
    "\n",
    "def target_fragment_pmols(vector_record, vector_mass_ng, insert_length):\n",
    "    # get number of pmols of vector\n",
    "    # NEB: \"Optimized cloning efficiency is 50-100 ng of vector with a 2-fold \n",
    "    # molar excess of each insert\". Use 5x more if inserts size less than 200.\n",
    "    vector_pmol = ng_dna_to_pmol(vector_record, vector_mass_ng)\n",
    "    if insert_length >= 200:\n",
    "        return vector_pmol * 2 * 5\n",
    "    else:\n",
    "        return vector_pmol * 2\n",
    "\n",
    "    \n",
    "def ng_required(insert_record, insert_ng_ul, target_pmols):\n",
    "    # calculate the number of ul to have target_pmols\n",
    "    # of insert_record DNA\n",
    "    pmol_per_ul = ng_dna_to_pmol(insert_record, insert_ng_ul)  # pmol / ul\n",
    "    return (1 / pmol_per_ul) * target_pmols  # ul\n"
   ]
  },
  {
   "cell_type": "markdown",
   "id": "5f1de1cc",
   "metadata": {},
   "source": [
    "## T7 initiation series"
   ]
  },
  {
   "cell_type": "markdown",
   "id": "a8cd13a8",
   "metadata": {},
   "source": [
    "The initiation series relies on homology of the 5' and 3' arms of inserts to anneal to pFC9 backbone via Gibson asembly."
   ]
  },
  {
   "cell_type": "code",
   "execution_count": 41,
   "id": "242064c2",
   "metadata": {},
   "outputs": [],
   "source": [
    "from pydna.genbankrecord import GenbankRecord\n",
    "from pydna.readers import read\n",
    "\n",
    "backbone = GenbankRecord(read(str(snakemake.input['t7_init_backbone'])))\n",
    "inserts = [GenbankRecord(read(str(insert))) for insert in snakemake.input['inserts']]\n",
    "placeholder = False\n",
    "if snakemake.params['insert_concentration']:\n",
    "    INSERT_CON_STOCK = float(snakemake.params['insert_concentration'])\n",
    "else:\n",
    "    placeholder = True\n",
    "if snakemake.params['backbone_concentration']:\n",
    "    BACKBONE_CON = float(snakemake.params['backbone_concentration'])\n",
    "else:\n",
    "    placeholder = True"
   ]
  },
  {
   "cell_type": "code",
   "execution_count": 68,
   "id": "397052f4",
   "metadata": {},
   "outputs": [],
   "source": [
    "def single_insert_assembly(insert, insert_ng_per_ul, backbone):\n",
    "    # calculate insert volume and mass required for Gibson assembly into a\n",
    "    # given backbone\n",
    "    target_pmols = target_fragment_pmols(backbone, VECTOR_MASS, len(insert.seq))\n",
    "    insert_ul = ng_required(insert, insert_ng_per_ul, target_pmols)\n",
    "    return {\n",
    "        'insert_name': insert.name,\n",
    "        'insert_mass_ng': target_pmols,\n",
    "        'insert_mw': insert.seq.mw(),\n",
    "        'insert_ul': insert_ul,\n",
    "        'backbone_mass_ng': VECTOR_MASS\n",
    "    }"
   ]
  },
  {
   "cell_type": "code",
   "execution_count": 67,
   "id": "e6bb278a",
   "metadata": {},
   "outputs": [],
   "source": [
    "def _insert_table(inserts, insert_ng_per_ul, backbone):\n",
    "    # helper function to create a table of all inidividual insert assemblies\n",
    "    # should only be called from complete_library function\n",
    "    records = []\n",
    "    for each_insert in inserts:\n",
    "        records.append(single_insert_assembly(\n",
    "                each_insert, insert_ng_per_ul, backbone\n",
    "            )\n",
    "        )\n",
    "    return pd.DataFrame(records)"
   ]
  },
  {
   "cell_type": "code",
   "execution_count": 77,
   "id": "98436114",
   "metadata": {},
   "outputs": [
    {
     "ename": "NameError",
     "evalue": "name 'backbone' is not defined",
     "output_type": "error",
     "traceback": [
      "\u001b[0;31m----------------------------\u001b[0m",
      "\u001b[0;31mNameError\u001b[0mTraceback (most recent call last)",
      "\u001b[0;32m<ipython-input-77-ae8b43792987>\u001b[0m in \u001b[0;36m<module>\u001b[0;34m\u001b[0m\n\u001b[1;32m     33\u001b[0m     \u001b[0;32mreturn\u001b[0m \u001b[0minsert_table\u001b[0m\u001b[0;34m,\u001b[0m \u001b[0mlibrary_table\u001b[0m\u001b[0;34m\u001b[0m\u001b[0;34m\u001b[0m\u001b[0m\n\u001b[1;32m     34\u001b[0m \u001b[0;34m\u001b[0m\u001b[0m\n\u001b[0;32m---> 35\u001b[0;31m \u001b[0minsert_table\u001b[0m\u001b[0;34m,\u001b[0m \u001b[0mlibrary_table\u001b[0m \u001b[0;34m=\u001b[0m \u001b[0mcomplete_library\u001b[0m\u001b[0;34m(\u001b[0m\u001b[0minserts\u001b[0m\u001b[0;34m,\u001b[0m \u001b[0mINSERT_CON_STOCK\u001b[0m\u001b[0;34m,\u001b[0m \u001b[0mbackbone\u001b[0m\u001b[0;34m,\u001b[0m \u001b[0mBACKBONE_CON\u001b[0m\u001b[0;34m)\u001b[0m\u001b[0;34m\u001b[0m\u001b[0;34m\u001b[0m\u001b[0m\n\u001b[0m",
      "\u001b[0;31mNameError\u001b[0m: name 'backbone' is not defined"
     ]
    }
   ],
   "source": [
    "def complete_library(inserts, insert_ng_per_ul, backbone, backbone_ng_per_ul):\n",
    "    insert_table = _insert_table(inserts, insert_ng_per_ul, backbone)\n",
    "    \n",
    "    total_mass_backbone = insert_table['backbone_mass_ng'].sum()\n",
    "    total_insert_volume_ul = insert_table['insert_ul'].sum()\n",
    "    \n",
    "    total_backbone_volume_ul = round(total_mass_backbone / backbone_ng_per_ul, 3)\n",
    "    \n",
    "    library_volume_ul = round(total_insert_volume_ul / INSERT_LIBRARY_PROP, 3)\n",
    "    master_mix_volume_ul = round(library_volume_ul / MASTER_MIX_CON, 3)\n",
    "    h20_volume = library_volume_ul - master_mix_volume_ul - total_insert_volume_ul - total_backbone_volume_ul\n",
    "    \n",
    "    assert sum(\n",
    "        [master_mix_volume_ul, total_insert_volume_ul,\n",
    "         total_backbone_volume_ul, h20_volume\n",
    "        ]) == library_volume_ul\n",
    "    \n",
    "    library_record = [\n",
    "        {\n",
    "            'backbone_name': backbone.name,\n",
    "            'library_volume_ul': library_volume_ul,\n",
    "            'master_mix_volume_ul': master_mix_volume_ul,\n",
    "            'h20_volume_ul': h20_volume,\n",
    "            'total_backbone_volume_ul': total_backbone_volume_ul,\n",
    "            'total_insert_volume_ul': total_insert_volume_ul,\n",
    "            'incubation_time_mins': INCUBATION_TIME,\n",
    "            'incubation_temp_C': INCUBATION_TEMP\n",
    "        }\n",
    "    ]\n",
    "    \n",
    "    library_table = pd.DataFrame(library_record)\n",
    "    \n",
    "    return insert_table, library_table\n",
    "\n",
    "insert_table, library_table = complete_library(inserts, INSERT_CON_STOCK, backbone, BACKBONE_CON)"
   ]
  },
  {
   "cell_type": "code",
   "execution_count": 74,
   "id": "1273b981",
   "metadata": {},
   "outputs": [
    {
     "data": {
      "text/html": [
       "<div>\n",
       "<style scoped>\n",
       "    .dataframe tbody tr th:only-of-type {\n",
       "        vertical-align: middle;\n",
       "    }\n",
       "\n",
       "    .dataframe tbody tr th {\n",
       "        vertical-align: top;\n",
       "    }\n",
       "\n",
       "    .dataframe thead th {\n",
       "        text-align: right;\n",
       "    }\n",
       "</style>\n",
       "<table border=\"1\" class=\"dataframe\">\n",
       "  <thead>\n",
       "    <tr style=\"text-align: right;\">\n",
       "      <th></th>\n",
       "      <th>insert_name</th>\n",
       "      <th>insert_mass_ng</th>\n",
       "      <th>insert_mw</th>\n",
       "      <th>insert_ul</th>\n",
       "      <th>backbone_mass_ng</th>\n",
       "    </tr>\n",
       "  </thead>\n",
       "  <tbody>\n",
       "    <tr>\n",
       "      <th>0</th>\n",
       "      <td>name</td>\n",
       "      <td>0.404907</td>\n",
       "      <td>123559.0</td>\n",
       "      <td>1.000597</td>\n",
       "      <td>75</td>\n",
       "    </tr>\n",
       "    <tr>\n",
       "      <th>1</th>\n",
       "      <td>name</td>\n",
       "      <td>0.404907</td>\n",
       "      <td>123559.0</td>\n",
       "      <td>1.000597</td>\n",
       "      <td>75</td>\n",
       "    </tr>\n",
       "    <tr>\n",
       "      <th>2</th>\n",
       "      <td>name</td>\n",
       "      <td>0.404907</td>\n",
       "      <td>123559.0</td>\n",
       "      <td>1.000597</td>\n",
       "      <td>75</td>\n",
       "    </tr>\n",
       "    <tr>\n",
       "      <th>3</th>\n",
       "      <td>name</td>\n",
       "      <td>0.404907</td>\n",
       "      <td>123559.0</td>\n",
       "      <td>1.000597</td>\n",
       "      <td>75</td>\n",
       "    </tr>\n",
       "    <tr>\n",
       "      <th>4</th>\n",
       "      <td>name</td>\n",
       "      <td>0.404907</td>\n",
       "      <td>123559.0</td>\n",
       "      <td>1.000597</td>\n",
       "      <td>75</td>\n",
       "    </tr>\n",
       "    <tr>\n",
       "      <th>5</th>\n",
       "      <td>name</td>\n",
       "      <td>0.404907</td>\n",
       "      <td>123559.0</td>\n",
       "      <td>1.000597</td>\n",
       "      <td>75</td>\n",
       "    </tr>\n",
       "    <tr>\n",
       "      <th>6</th>\n",
       "      <td>name</td>\n",
       "      <td>0.404907</td>\n",
       "      <td>123559.0</td>\n",
       "      <td>1.000597</td>\n",
       "      <td>75</td>\n",
       "    </tr>\n",
       "    <tr>\n",
       "      <th>7</th>\n",
       "      <td>name</td>\n",
       "      <td>0.404907</td>\n",
       "      <td>123559.0</td>\n",
       "      <td>1.000597</td>\n",
       "      <td>75</td>\n",
       "    </tr>\n",
       "    <tr>\n",
       "      <th>8</th>\n",
       "      <td>name</td>\n",
       "      <td>0.404907</td>\n",
       "      <td>123559.0</td>\n",
       "      <td>1.000597</td>\n",
       "      <td>75</td>\n",
       "    </tr>\n",
       "    <tr>\n",
       "      <th>9</th>\n",
       "      <td>name</td>\n",
       "      <td>0.404907</td>\n",
       "      <td>123559.0</td>\n",
       "      <td>1.000597</td>\n",
       "      <td>75</td>\n",
       "    </tr>\n",
       "  </tbody>\n",
       "</table>\n",
       "</div>"
      ],
      "text/plain": [
       "  insert_name  insert_mass_ng  insert_mw  insert_ul  backbone_mass_ng\n",
       "0        name        0.404907   123559.0   1.000597                75\n",
       "1        name        0.404907   123559.0   1.000597                75\n",
       "2        name        0.404907   123559.0   1.000597                75\n",
       "3        name        0.404907   123559.0   1.000597                75\n",
       "4        name        0.404907   123559.0   1.000597                75\n",
       "5        name        0.404907   123559.0   1.000597                75\n",
       "6        name        0.404907   123559.0   1.000597                75\n",
       "7        name        0.404907   123559.0   1.000597                75\n",
       "8        name        0.404907   123559.0   1.000597                75\n",
       "9        name        0.404907   123559.0   1.000597                75"
      ]
     },
     "execution_count": 74,
     "metadata": {},
     "output_type": "execute_result"
    }
   ],
   "source": [
    "insert_table"
   ]
  },
  {
   "cell_type": "code",
   "execution_count": 75,
   "id": "6c1abb78",
   "metadata": {
    "scrolled": true
   },
   "outputs": [
    {
     "data": {
      "text/html": [
       "<div>\n",
       "<style scoped>\n",
       "    .dataframe tbody tr th:only-of-type {\n",
       "        vertical-align: middle;\n",
       "    }\n",
       "\n",
       "    .dataframe tbody tr th {\n",
       "        vertical-align: top;\n",
       "    }\n",
       "\n",
       "    .dataframe thead th {\n",
       "        text-align: right;\n",
       "    }\n",
       "</style>\n",
       "<table border=\"1\" class=\"dataframe\">\n",
       "  <thead>\n",
       "    <tr style=\"text-align: right;\">\n",
       "      <th></th>\n",
       "      <th>backbone_name</th>\n",
       "      <th>library_volume_ul</th>\n",
       "      <th>master_mix_volume_ul</th>\n",
       "      <th>h20_volume_ul</th>\n",
       "      <th>total_backbone_volume_ul</th>\n",
       "      <th>total_insert_volume_ul</th>\n",
       "      <th>incubation_time_mins</th>\n",
       "      <th>incubation_temp_C</th>\n",
       "    </tr>\n",
       "  </thead>\n",
       "  <tbody>\n",
       "    <tr>\n",
       "      <th>0</th>\n",
       "      <td>name</td>\n",
       "      <td>100.06</td>\n",
       "      <td>50.03</td>\n",
       "      <td>37.024029</td>\n",
       "      <td>3.0</td>\n",
       "      <td>10.005971</td>\n",
       "      <td>15</td>\n",
       "      <td>50</td>\n",
       "    </tr>\n",
       "  </tbody>\n",
       "</table>\n",
       "</div>"
      ],
      "text/plain": [
       "  backbone_name  library_volume_ul  master_mix_volume_ul  h20_volume_ul  \\\n",
       "0          name             100.06                 50.03      37.024029   \n",
       "\n",
       "   total_backbone_volume_ul  total_insert_volume_ul  incubation_time_mins  \\\n",
       "0                       3.0               10.005971                    15   \n",
       "\n",
       "   incubation_temp_C  \n",
       "0                 50  "
      ]
     },
     "execution_count": 75,
     "metadata": {},
     "output_type": "execute_result"
    }
   ],
   "source": [
    "library_table"
   ]
  },
  {
   "cell_type": "markdown",
   "id": "0cfefac2",
   "metadata": {},
   "source": [
    "Write tables as tsv files."
   ]
  },
  {
   "cell_type": "code",
   "execution_count": 1,
   "id": "4be85e1e",
   "metadata": {},
   "outputs": [
    {
     "ename": "NameError",
     "evalue": "name 'snakemake' is not defined",
     "output_type": "error",
     "traceback": [
      "\u001b[0;31m---------------------------------------------------------------------------\u001b[0m",
      "\u001b[0;31mNameError\u001b[0m                                 Traceback (most recent call last)",
      "\u001b[0;32m<ipython-input-1-13039aadcc9e>\u001b[0m in \u001b[0;36m<module>\u001b[0;34m\u001b[0m\n\u001b[0;32m----> 1\u001b[0;31m \u001b[0moutput_library\u001b[0m \u001b[0;34m=\u001b[0m \u001b[0mstr\u001b[0m\u001b[0;34m(\u001b[0m\u001b[0msnakemake\u001b[0m\u001b[0;34m.\u001b[0m\u001b[0moutput\u001b[0m\u001b[0;34m[\u001b[0m\u001b[0;34m'library'\u001b[0m\u001b[0;34m]\u001b[0m\u001b[0;34m)\u001b[0m\u001b[0;34m\u001b[0m\u001b[0;34m\u001b[0m\u001b[0m\n\u001b[0m\u001b[1;32m      2\u001b[0m \u001b[0moutput_insert\u001b[0m \u001b[0;34m=\u001b[0m \u001b[0mstr\u001b[0m\u001b[0;34m(\u001b[0m\u001b[0msnakemake\u001b[0m\u001b[0;34m.\u001b[0m\u001b[0moutput\u001b[0m\u001b[0;34m[\u001b[0m\u001b[0;34m'inserts'\u001b[0m\u001b[0;34m]\u001b[0m\u001b[0;34m)\u001b[0m\u001b[0;34m\u001b[0m\u001b[0;34m\u001b[0m\u001b[0m\n\u001b[1;32m      3\u001b[0m \u001b[0;34m\u001b[0m\u001b[0m\n\u001b[1;32m      4\u001b[0m \u001b[0;32mdef\u001b[0m \u001b[0mwrite_table_as_tsv\u001b[0m\u001b[0;34m(\u001b[0m\u001b[0mtable\u001b[0m\u001b[0;34m,\u001b[0m \u001b[0moutput_path\u001b[0m\u001b[0;34m)\u001b[0m\u001b[0;34m:\u001b[0m\u001b[0;34m\u001b[0m\u001b[0;34m\u001b[0m\u001b[0m\n\u001b[1;32m      5\u001b[0m     \u001b[0mtable\u001b[0m\u001b[0;34m.\u001b[0m\u001b[0mto_csv\u001b[0m\u001b[0;34m(\u001b[0m\u001b[0moutput_path\u001b[0m\u001b[0;34m,\u001b[0m \u001b[0msep\u001b[0m\u001b[0;34m=\u001b[0m\u001b[0;34m'\\t'\u001b[0m\u001b[0;34m,\u001b[0m \u001b[0mindex\u001b[0m\u001b[0;34m=\u001b[0m\u001b[0;32mFalse\u001b[0m\u001b[0;34m)\u001b[0m\u001b[0;34m\u001b[0m\u001b[0;34m\u001b[0m\u001b[0m\n",
      "\u001b[0;31mNameError\u001b[0m: name 'snakemake' is not defined"
     ]
    }
   ],
   "source": [
    "output_library = str(snakemake.output['library'])\n",
    "output_insert = str(snakemake.output['inserts'])\n",
    "\n",
    "def write_table_as_tsv(table, output_path):\n",
    "    table.to_csv(output_path, sep='\\t', index=False)\n",
    "\n",
    "write_table_as_tsv(library_table, output_library)\n",
    "write_table_as_tsv(insert_table, output_insert)"
   ]
  }
 ],
 "metadata": {
  "kernelspec": {
   "display_name": "Python 3",
   "language": "python",
   "name": "python3"
  },
  "language_info": {
   "codemirror_mode": {
    "name": "ipython",
    "version": 3
   },
   "file_extension": ".py",
   "mimetype": "text/x-python",
   "name": "python",
   "nbconvert_exporter": "python",
   "pygments_lexer": "ipython3",
   "version": "3.9.5"
  }
 },
 "nbformat": 4,
 "nbformat_minor": 5
}
