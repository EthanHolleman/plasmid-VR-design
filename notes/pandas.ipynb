{
 "metadata": {
  "language_info": {
   "codemirror_mode": {
    "name": "ipython",
    "version": 3
   },
   "file_extension": ".py",
   "mimetype": "text/x-python",
   "name": "python",
   "nbconvert_exporter": "python",
   "pygments_lexer": "ipython3",
   "version": "3.9.5"
  },
  "orig_nbformat": 4,
  "kernelspec": {
   "name": "python3",
   "display_name": "Python 3.9.5 64-bit ('pydna_build_environment': conda)"
  },
  "interpreter": {
   "hash": "0becc668fa7d5dcaa80caa2804d6de7e872f9c6dca930bb73e9bc3e3f7a08bc6"
  }
 },
 "nbformat": 4,
 "nbformat_minor": 2,
 "cells": [
  {
   "source": [
    "# General notes about parsing pandas dataframes"
   ],
   "cell_type": "markdown",
   "metadata": {}
  },
  {
   "cell_type": "code",
   "execution_count": 2,
   "metadata": {},
   "outputs": [],
   "source": [
    "import pandas as pd"
   ]
  },
  {
   "source": [
    "## Converting single rows to dictionaries"
   ],
   "cell_type": "markdown",
   "metadata": {}
  },
  {
   "cell_type": "code",
   "execution_count": 9,
   "metadata": {},
   "outputs": [
    {
     "output_type": "execute_result",
     "data": {
      "text/plain": [
       "          name  gc_skew  gc_content  length  at_skew  at_content  \\\n",
       "0       init-1      0.1         0.4     200      NaN         NaN   \n",
       "1       init-2      0.4         0.7     200      NaN         NaN   \n",
       "2       init-3      0.6         0.6     200      NaN         NaN   \n",
       "3       init-4      0.1         0.7     200      NaN         NaN   \n",
       "4       init-5      0.0         0.6     200      NaN         NaN   \n",
       "..         ...      ...         ...     ...      ...         ...   \n",
       "59  init-28-RC     -0.4         0.6     200     -0.2         NaN   \n",
       "60  init-29-RC     -0.4         0.6     200     -0.4         NaN   \n",
       "61  init-30-RC     -0.4         0.6     200     -0.4         NaN   \n",
       "62  init-31-RC     -0.4         0.6     200     -0.4         NaN   \n",
       "63  init-32-RC     -0.4         0.6     200     -0.4         NaN   \n",
       "\n",
       "    cluster_length cluster_nuc            clustering_method    construct  \\\n",
       "0              NaN         NaN                          NaN   initiation   \n",
       "1              NaN         NaN                          NaN   initiation   \n",
       "2              NaN         NaN                          NaN   initiation   \n",
       "3              NaN         NaN                          NaN   initiation   \n",
       "4              NaN         NaN                          NaN   initiation   \n",
       "..             ...         ...                          ...          ...   \n",
       "59             4.0           G  find_available_random_range  termination   \n",
       "60             1.0           G  find_available_random_range  termination   \n",
       "61             2.0           G  find_available_random_range  termination   \n",
       "62             3.0           G  find_available_random_range  termination   \n",
       "63             4.0           G  find_available_random_range  termination   \n",
       "\n",
       "    reverse_complement                 role  \n",
       "0                    1  initiation_region_1  \n",
       "1                    1  initiation_region_2  \n",
       "2                    1  initiation_region_3  \n",
       "3                    1  initiation_region_4  \n",
       "4                    1  initiation_region_5  \n",
       "..                 ...                  ...  \n",
       "59                   1     init-G_clustered  \n",
       "60                   1     init-G_clustered  \n",
       "61                   1     init-G_clustered  \n",
       "62                   1     init-G_clustered  \n",
       "63                   1     init-G_clustered  \n",
       "\n",
       "[64 rows x 12 columns]"
      ],
      "text/html": "<div>\n<style scoped>\n    .dataframe tbody tr th:only-of-type {\n        vertical-align: middle;\n    }\n\n    .dataframe tbody tr th {\n        vertical-align: top;\n    }\n\n    .dataframe thead th {\n        text-align: right;\n    }\n</style>\n<table border=\"1\" class=\"dataframe\">\n  <thead>\n    <tr style=\"text-align: right;\">\n      <th></th>\n      <th>name</th>\n      <th>gc_skew</th>\n      <th>gc_content</th>\n      <th>length</th>\n      <th>at_skew</th>\n      <th>at_content</th>\n      <th>cluster_length</th>\n      <th>cluster_nuc</th>\n      <th>clustering_method</th>\n      <th>construct</th>\n      <th>reverse_complement</th>\n      <th>role</th>\n    </tr>\n  </thead>\n  <tbody>\n    <tr>\n      <th>0</th>\n      <td>init-1</td>\n      <td>0.1</td>\n      <td>0.4</td>\n      <td>200</td>\n      <td>NaN</td>\n      <td>NaN</td>\n      <td>NaN</td>\n      <td>NaN</td>\n      <td>NaN</td>\n      <td>initiation</td>\n      <td>1</td>\n      <td>initiation_region_1</td>\n    </tr>\n    <tr>\n      <th>1</th>\n      <td>init-2</td>\n      <td>0.4</td>\n      <td>0.7</td>\n      <td>200</td>\n      <td>NaN</td>\n      <td>NaN</td>\n      <td>NaN</td>\n      <td>NaN</td>\n      <td>NaN</td>\n      <td>initiation</td>\n      <td>1</td>\n      <td>initiation_region_2</td>\n    </tr>\n    <tr>\n      <th>2</th>\n      <td>init-3</td>\n      <td>0.6</td>\n      <td>0.6</td>\n      <td>200</td>\n      <td>NaN</td>\n      <td>NaN</td>\n      <td>NaN</td>\n      <td>NaN</td>\n      <td>NaN</td>\n      <td>initiation</td>\n      <td>1</td>\n      <td>initiation_region_3</td>\n    </tr>\n    <tr>\n      <th>3</th>\n      <td>init-4</td>\n      <td>0.1</td>\n      <td>0.7</td>\n      <td>200</td>\n      <td>NaN</td>\n      <td>NaN</td>\n      <td>NaN</td>\n      <td>NaN</td>\n      <td>NaN</td>\n      <td>initiation</td>\n      <td>1</td>\n      <td>initiation_region_4</td>\n    </tr>\n    <tr>\n      <th>4</th>\n      <td>init-5</td>\n      <td>0.0</td>\n      <td>0.6</td>\n      <td>200</td>\n      <td>NaN</td>\n      <td>NaN</td>\n      <td>NaN</td>\n      <td>NaN</td>\n      <td>NaN</td>\n      <td>initiation</td>\n      <td>1</td>\n      <td>initiation_region_5</td>\n    </tr>\n    <tr>\n      <th>...</th>\n      <td>...</td>\n      <td>...</td>\n      <td>...</td>\n      <td>...</td>\n      <td>...</td>\n      <td>...</td>\n      <td>...</td>\n      <td>...</td>\n      <td>...</td>\n      <td>...</td>\n      <td>...</td>\n      <td>...</td>\n    </tr>\n    <tr>\n      <th>59</th>\n      <td>init-28-RC</td>\n      <td>-0.4</td>\n      <td>0.6</td>\n      <td>200</td>\n      <td>-0.2</td>\n      <td>NaN</td>\n      <td>4.0</td>\n      <td>G</td>\n      <td>find_available_random_range</td>\n      <td>termination</td>\n      <td>1</td>\n      <td>init-G_clustered</td>\n    </tr>\n    <tr>\n      <th>60</th>\n      <td>init-29-RC</td>\n      <td>-0.4</td>\n      <td>0.6</td>\n      <td>200</td>\n      <td>-0.4</td>\n      <td>NaN</td>\n      <td>1.0</td>\n      <td>G</td>\n      <td>find_available_random_range</td>\n      <td>termination</td>\n      <td>1</td>\n      <td>init-G_clustered</td>\n    </tr>\n    <tr>\n      <th>61</th>\n      <td>init-30-RC</td>\n      <td>-0.4</td>\n      <td>0.6</td>\n      <td>200</td>\n      <td>-0.4</td>\n      <td>NaN</td>\n      <td>2.0</td>\n      <td>G</td>\n      <td>find_available_random_range</td>\n      <td>termination</td>\n      <td>1</td>\n      <td>init-G_clustered</td>\n    </tr>\n    <tr>\n      <th>62</th>\n      <td>init-31-RC</td>\n      <td>-0.4</td>\n      <td>0.6</td>\n      <td>200</td>\n      <td>-0.4</td>\n      <td>NaN</td>\n      <td>3.0</td>\n      <td>G</td>\n      <td>find_available_random_range</td>\n      <td>termination</td>\n      <td>1</td>\n      <td>init-G_clustered</td>\n    </tr>\n    <tr>\n      <th>63</th>\n      <td>init-32-RC</td>\n      <td>-0.4</td>\n      <td>0.6</td>\n      <td>200</td>\n      <td>-0.4</td>\n      <td>NaN</td>\n      <td>4.0</td>\n      <td>G</td>\n      <td>find_available_random_range</td>\n      <td>termination</td>\n      <td>1</td>\n      <td>init-G_clustered</td>\n    </tr>\n  </tbody>\n</table>\n<p>64 rows × 12 columns</p>\n</div>"
     },
     "metadata": {},
     "execution_count": 9
    }
   ],
   "source": [
    "table = '../config_files/variable_regions/initiation_plamids.RC.tsv'\n",
    "df = pd.read_csv(table, sep='\\t')\n",
    "df"
   ]
  },
  {
   "cell_type": "code",
   "execution_count": 12,
   "metadata": {},
   "outputs": [
    {
     "output_type": "stream",
     "name": "stdout",
     "text": [
      "{'name': 'init-1', 'gc_skew': 0.1, 'gc_content': 0.4, 'length': 200, 'at_skew': nan, 'at_content': nan, 'cluster_length': nan, 'cluster_nuc': nan, 'clustering_method': nan, 'construct': 'initiation', 'reverse_complement': 1, 'role': 'initiation_region_1'}\n"
     ]
    }
   ],
   "source": [
    "for i, row in df.iterrows():\n",
    "    d = dict(row)\n",
    "    print(d)\n",
    "    break\n"
   ]
  },
  {
   "cell_type": "code",
   "execution_count": null,
   "metadata": {},
   "outputs": [],
   "source": []
  }
 ]
}