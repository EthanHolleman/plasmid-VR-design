{
 "cells": [
  {
   "cell_type": "markdown",
   "id": "2b87aa8e",
   "metadata": {},
   "source": [
    "# Verify final inserts"
   ]
  },
  {
   "cell_type": "markdown",
   "id": "4118569e",
   "metadata": {},
   "source": [
    "Notebook to work out details of verifying contents of final inerts before working this into a script and adding to the pipeline. This notebook will only run after the pipeline has completed."
   ]
  },
  {
   "cell_type": "code",
   "execution_count": 1,
   "id": "8cf9c740",
   "metadata": {},
   "outputs": [],
   "source": [
    "from pathlib import Path\n",
    "from Bio.Restriction import *\n",
    "from pydna.genbankrecord import GenbankRecord\n",
    "from pydna.readers import read\n",
    "from Bio import SeqIO\n",
    "from pydna.dseqrecord import Dseqrecord"
   ]
  },
  {
   "cell_type": "code",
   "execution_count": 2,
   "id": "18133872",
   "metadata": {},
   "outputs": [],
   "source": [
    "insert_path = '../output/insert_sequences/inserts/genbank_files/VR-1.insert.gb'\n",
    "anchor_path = '../output/insert_sequences/sequences/anchor.gb'"
   ]
  },
  {
   "cell_type": "code",
   "execution_count": 3,
   "id": "3ca17bc2",
   "metadata": {},
   "outputs": [],
   "source": [
    "insert_record = GenbankRecord(read(insert_path))\n",
    "anchor_record = GenbankRecord(read(anchor_path))"
   ]
  },
  {
   "cell_type": "code",
   "execution_count": 4,
   "id": "35224c59",
   "metadata": {},
   "outputs": [
    {
     "data": {
      "text/markdown": [
       "| Ft# | Label or Note    | Dir | Sta | End | Len | type | orf? |\n",
       "|-----|------------------|-----|-----|-----|-----|------|------|\n",
       "|   0 | L:5_prime_HR     | --> | 0   | 30  |  30 | CDS  |  no  |\n",
       "|   1 | L:Anchor region  | --> | 30  | 45  |  15 | CDS  |  no  |\n",
       "|   2 | L:Variable regio | --> | 45  | 245 | 200 | CDS  |  no  |\n",
       "|   3 | L:3_prime_HR     | --> | 245 | 275 |  30 | CDS  |  no  |"
      ],
      "text/plain": [
       "+-----+------------------+-----+-----+-----+-----+------+------+\n",
       "| Ft# | Label or Note    | Dir | Sta | End | Len | type | orf? |\n",
       "+-----+------------------+-----+-----+-----+-----+------+------+\n",
       "|   0 | L:5_prime_HR     | --> | 0   | 30  |  30 | CDS  |  no  |\n",
       "|   1 | L:Anchor region  | --> | 30  | 45  |  15 | CDS  |  no  |\n",
       "|   2 | L:Variable regio | --> | 45  | 245 | 200 | CDS  |  no  |\n",
       "|   3 | L:3_prime_HR     | --> | 245 | 275 |  30 | CDS  |  no  |\n",
       "+-----+------------------+-----+-----+-----+-----+------+------+"
      ]
     },
     "execution_count": 4,
     "metadata": {},
     "output_type": "execute_result"
    }
   ],
   "source": [
    "insert_record.list_features()"
   ]
  },
  {
   "cell_type": "code",
   "execution_count": 5,
   "id": "6de3ba14",
   "metadata": {},
   "outputs": [],
   "source": [
    "def get_feature_by_name(record, name):\n",
    "    # pull a feature out of a record using its name\n",
    "    # if not present return -1. Send all names to\n",
    "    # lower case first so check is not case sensitive\n",
    "    features = [record.extract_feature(i) \n",
    "                for i in range(len(record.features))\n",
    "               ]\n",
    "    name_dict = {f.name.lower(): f for f in features}\n",
    "    if name.lower() in name_dict:\n",
    "        return name_dict[name]\n",
    "\n",
    "    else:\n",
    "        return -1"
   ]
  },
  {
   "cell_type": "code",
   "execution_count": 20,
   "id": "729f7319",
   "metadata": {},
   "outputs": [
    {
     "data": {
      "text/plain": [
       "Dseqrecord(-200)"
      ]
     },
     "execution_count": 20,
     "metadata": {},
     "output_type": "execute_result"
    }
   ],
   "source": [
    "vr = get_feature_by_name(insert_record, 'variable_region')\n",
    "vr"
   ]
  },
  {
   "cell_type": "code",
   "execution_count": 25,
   "id": "51433f69",
   "metadata": {},
   "outputs": [
    {
     "data": {
      "text/plain": [
       "{'_seq': Dseq(-200)\n",
       " CGCT..ATAA\n",
       " GCGA..TATT,\n",
       " 'id': 'Variable_region',\n",
       " 'name': 'Variable_region',\n",
       " 'description': 'insert_VR-1',\n",
       " 'dbxrefs': [],\n",
       " 'annotations': {'molecule_type': 'DNA',\n",
       "  'topology': 'linear',\n",
       "  'data_file_division': 'SYN',\n",
       "  'date': '11-JUL-2021',\n",
       "  'accessions': ['56U0DC-tdIipxX5CUaSVmEaSO7E'],\n",
       "  'keywords': [''],\n",
       "  'source': '',\n",
       "  'organism': '.',\n",
       "  'taxonomy': []},\n",
       " '_per_letter_annotations': {},\n",
       " 'features': [SeqFeature(FeatureLocation(ExactPosition(0), ExactPosition(200), strand=1), type='CDS')],\n",
       " 'map_target': None,\n",
       " 'n': 5e-14,\n",
       " 'path': '../output/insert_sequences/inserts/genbank_files/VR-1.insert.gb',\n",
       " 'item': 'accession',\n",
       " 'start': None,\n",
       " 'stop': None,\n",
       " 'strand': 1,\n",
       " '_repr': 'accession',\n",
       " '_linktemplate': \"<a href='https://www.ncbi.nlm.nih.gov/nuccore/{item}?from={start}&to={stop}&strand={strand}' target='_blank'>{text}</a>\",\n",
       " 'hyperlink': <a href='https://www.ncbi.nlm.nih.gov/nuccore/accession?from=&to=&strand=1' target='_blank'>accession</a>}"
      ]
     },
     "execution_count": 25,
     "metadata": {},
     "output_type": "execute_result"
    }
   ],
   "source": [
    "vr.__dict__"
   ]
  },
  {
   "cell_type": "code",
   "execution_count": 7,
   "id": "454a9b9f",
   "metadata": {},
   "outputs": [
    {
     "data": {
      "text/plain": [
       "Dseqrecord(-15)"
      ]
     },
     "execution_count": 7,
     "metadata": {},
     "output_type": "execute_result"
    }
   ],
   "source": [
    "get_feature_by_name(insert_record, anchor_record.name)"
   ]
  },
  {
   "cell_type": "markdown",
   "id": "4e2896d2",
   "metadata": {},
   "source": [
    "Check to make sure insert contains anchor region"
   ]
  },
  {
   "cell_type": "code",
   "execution_count": 8,
   "id": "f9595536",
   "metadata": {},
   "outputs": [],
   "source": [
    "def check_insert_for_anchor(insert_record, anchor_record):\n",
    "    insert_anchor = get_feature_by_name(insert_record, anchor_record.name)\n",
    "    assert insert_anchor.seq == anchor_record.seq"
   ]
  },
  {
   "cell_type": "code",
   "execution_count": 9,
   "id": "9ee20d8d",
   "metadata": {},
   "outputs": [],
   "source": [
    "check_insert_for_anchor(insert_record, anchor_record)"
   ]
  },
  {
   "cell_type": "markdown",
   "id": "646fb557",
   "metadata": {},
   "source": [
    "Check to make sure anchor does not contain prohibited cutters."
   ]
  },
  {
   "cell_type": "code",
   "execution_count": 10,
   "id": "95ccbd17",
   "metadata": {},
   "outputs": [],
   "source": [
    "prohibited_cutters = ['HindIII', 'KpnI', 'EcoRI']"
   ]
  },
  {
   "cell_type": "code",
   "execution_count": 11,
   "id": "df18f930",
   "metadata": {},
   "outputs": [],
   "source": [
    "def check_anchor_for_prohibited_cutters(insert_record, anchor_record, prohibited_cutters):\n",
    "    insert_anchor = get_feature_by_name(insert_record, anchor_record.name)\n",
    "    no_cutters = set([str(s) for s in set(anchor_record.no_cutters())])\n",
    "    for each_prohibited_cutter in prohibited_cutters:\n",
    "        assert each_prohibited_cutter in no_cutters"
   ]
  },
  {
   "cell_type": "code",
   "execution_count": 12,
   "id": "e0e5d6fa",
   "metadata": {},
   "outputs": [],
   "source": [
    "check_anchor_for_prohibited_cutters(insert_record, anchor_record, prohibited_cutters)"
   ]
  },
  {
   "cell_type": "markdown",
   "id": "6f3db7c2",
   "metadata": {},
   "source": [
    "Check to make sure homology arms match input arms and check to make sure arm are present in specified plasmid."
   ]
  },
  {
   "cell_type": "code",
   "execution_count": 13,
   "id": "46535053",
   "metadata": {},
   "outputs": [],
   "source": [
    "three_prime_arm_path = '../resources/files/genbank/3_prime_homology_arm.gb'\n",
    "five_prime_arm_path = '../resources/files/genbank/5_prime_homology_arm.gb'\n",
    "pFC9_path = '../resources/files/genbank/pFC9.gb'"
   ]
  },
  {
   "cell_type": "code",
   "execution_count": 14,
   "id": "146e18f2",
   "metadata": {},
   "outputs": [],
   "source": [
    "three_prime_record =  GenbankRecord(read(three_prime_arm_path))\n",
    "five_prime_record =  GenbankRecord(read(five_prime_arm_path))\n",
    "pFC9 = GenbankRecord(read(pFC9_path))"
   ]
  },
  {
   "cell_type": "code",
   "execution_count": 15,
   "id": "aac7b74a",
   "metadata": {},
   "outputs": [],
   "source": [
    "def check_homology_arms(insert_record, homology_arm, source_backbone):\n",
    "    assert insert_record.seq.find(str(homology_arm.seq)) != -1\n",
    "    assert source_backbone.seq.find(str(homology_arm.seq)) != -1"
   ]
  },
  {
   "cell_type": "code",
   "execution_count": 16,
   "id": "7637741c",
   "metadata": {},
   "outputs": [],
   "source": [
    "check_homology_arms(insert_record, three_prime_record, pFC9)\n",
    "check_homology_arms(insert_record, five_prime_record, pFC9)"
   ]
  },
  {
   "cell_type": "code",
   "execution_count": 17,
   "id": "48768e65",
   "metadata": {},
   "outputs": [],
   "source": [
    "def no_cutters_as_string_set(record):\n",
    "    return set([str(s) for s in set(record.no_cutters())])\n",
    "\n",
    "def one_cutters_as_string_set(record):\n",
    "    return set([str(s) for s in set(record.once_cutters())])"
   ]
  },
  {
   "cell_type": "code",
   "execution_count": 18,
   "id": "e3f8a216",
   "metadata": {},
   "outputs": [],
   "source": [
    "def check_homology_arms_for_required_cutter(homology_arm, cutter):\n",
    "    assert cutter in one_cutters_as_string_set(homology_arm)"
   ]
  },
  {
   "cell_type": "code",
   "execution_count": 19,
   "id": "b42c0870",
   "metadata": {},
   "outputs": [],
   "source": [
    "check_homology_arms_for_required_cutter(\n",
    "    five_prime_record, prohibited_cutters[1]\n",
    ")\n",
    "check_homology_arms_for_required_cutter(\n",
    "    three_prime_record, prohibited_cutters[2]\n",
    ")"
   ]
  },
  {
   "cell_type": "markdown",
   "id": "5aa2625c",
   "metadata": {},
   "source": [
    "Check variable regions for sequence content"
   ]
  },
  {
   "cell_type": "code",
   "execution_count": 26,
   "id": "176cf04d",
   "metadata": {},
   "outputs": [],
   "source": [
    "def calculate_content(record, nuc_a, nuc_b):\n",
    "    a_count = str(record.seq).count(nuc_a)\n",
    "    b_count = str(record.seq).count(nuc_b)\n",
    "    return (a_count + b_count) / len(record)\n",
    "\n",
    "def calculate_skew(record, nuc_a, nuc_b):\n",
    "    a_count = str(record.seq).count(nuc_a)\n",
    "    b_count = str(record.seq).count(nuc_b)\n",
    "    \n",
    "    return (a_count - b_count) / (a_count + b_count)"
   ]
  },
  {
   "cell_type": "code",
   "execution_count": 31,
   "id": "486b07f8",
   "metadata": {},
   "outputs": [
    {
     "data": {
      "text/plain": [
       "iNwXzb-2HaF216umO3c-EhdHv7M"
      ]
     },
     "execution_count": 31,
     "metadata": {},
     "output_type": "execute_result"
    }
   ],
   "source": [
    "insert_record.seguid()"
   ]
  },
  {
   "cell_type": "code",
   "execution_count": 28,
   "id": "701643f9",
   "metadata": {},
   "outputs": [
    {
     "data": {
      "text/plain": [
       "0.2"
      ]
     },
     "execution_count": 28,
     "metadata": {},
     "output_type": "execute_result"
    }
   ],
   "source": [
    "calculate_skew(vr, 'G', 'C')"
   ]
  },
  {
   "cell_type": "code",
   "execution_count": 29,
   "id": "ce002df3",
   "metadata": {},
   "outputs": [
    {
     "data": {
      "text/plain": [
       "0.4"
      ]
     },
     "execution_count": 29,
     "metadata": {},
     "output_type": "execute_result"
    }
   ],
   "source": [
    "calculate_content(vr, 'G', 'C')"
   ]
  }
 ],
 "metadata": {
  "kernelspec": {
   "display_name": "Python 3",
   "language": "python",
   "name": "python3"
  },
  "language_info": {
   "codemirror_mode": {
    "name": "ipython",
    "version": 3
   },
   "file_extension": ".py",
   "mimetype": "text/x-python",
   "name": "python",
   "nbconvert_exporter": "python",
   "pygments_lexer": "ipython3",
   "version": "3.9.5"
  }
 },
 "nbformat": 4,
 "nbformat_minor": 5
}
