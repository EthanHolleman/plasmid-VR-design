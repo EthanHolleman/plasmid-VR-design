{
 "metadata": {
  "language_info": {
   "codemirror_mode": {
    "name": "ipython",
    "version": 3
   },
   "file_extension": ".py",
   "mimetype": "text/x-python",
   "name": "python",
   "nbconvert_exporter": "python",
   "pygments_lexer": "ipython3",
   "version": "3.9.5"
  },
  "orig_nbformat": 4,
  "kernelspec": {
   "name": "python3",
   "display_name": "Python 3.9.5 64-bit ('pydna_build_environment': conda)"
  },
  "interpreter": {
   "hash": "0becc668fa7d5dcaa80caa2804d6de7e872f9c6dca930bb73e9bc3e3f7a08bc6"
  }
 },
 "nbformat": 4,
 "nbformat_minor": 2,
 "cells": [
  {
   "source": [
    "# pyDNA assembly objects\n",
    "\n",
    "This notebook is looking into how to best utilize pyDNA `assembly` objects for Gibson assembly with fragments\n",
    "that may or may not already contain homologous regions.\n",
    "\n",
    "[Link to docs](https://pydna.readthedocs.io/#pydna.assembly.Assembly)\n",
    "\n"
   ],
   "cell_type": "markdown",
   "metadata": {}
  },
  {
   "cell_type": "code",
   "execution_count": 11,
   "metadata": {},
   "outputs": [],
   "source": [
    "from pydna.assembly import Assembly\n",
    "from pydna.dseqrecord import Dseqrecord"
   ]
  },
  {
   "source": [
    "a = Dseqrecord(\"acgatgctatactgCCCCCtgtgctgtgctcta\")\n",
    "b = Dseqrecord(\"tgtgctgtgctctaTTTTTtattctggctgtatc\")\n",
    "c = Dseqrecord(\"tattctggctgtatcGGGGGtacgatgctatactg\")"
   ],
   "cell_type": "code",
   "metadata": {},
   "execution_count": 12,
   "outputs": []
  },
  {
   "source": [
    "Limit is shortest shared homology that should be considered."
   ],
   "cell_type": "markdown",
   "metadata": {}
  },
  {
   "cell_type": "code",
   "execution_count": 13,
   "metadata": {},
   "outputs": [],
   "source": [
    "a = Assembly((a,b,c), limit=14)"
   ]
  },
  {
   "cell_type": "code",
   "execution_count": 14,
   "metadata": {},
   "outputs": [
    {
     "output_type": "execute_result",
     "data": {
      "text/plain": [
       "Assembly\n",
       "fragments..: 33bp 34bp 35bp\n",
       "limit(bp)..: 14\n",
       "G.nodes....: 6\n",
       "algorithm..: common_sub_strings"
      ]
     },
     "metadata": {},
     "execution_count": 14
    }
   ],
   "source": [
    "a"
   ]
  },
  {
   "cell_type": "code",
   "execution_count": 15,
   "metadata": {},
   "outputs": [
    {
     "output_type": "execute_result",
     "data": {
      "text/plain": [
       "[Contig(o59), Contig(o59)]"
      ]
     },
     "metadata": {},
     "execution_count": 15
    }
   ],
   "source": [
    "a.assemble_circular()"
   ]
  }
 ]
}