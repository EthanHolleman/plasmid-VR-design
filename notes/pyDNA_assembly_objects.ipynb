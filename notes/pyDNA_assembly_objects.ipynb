{
 "metadata": {
  "language_info": {
   "codemirror_mode": {
    "name": "ipython",
    "version": 3
   },
   "file_extension": ".py",
   "mimetype": "text/x-python",
   "name": "python",
   "nbconvert_exporter": "python",
   "pygments_lexer": "ipython3",
   "version": "3.9.5"
  },
  "orig_nbformat": 4,
  "kernelspec": {
   "name": "python3",
   "display_name": "Python 3.9.5 64-bit ('pydna_build_environment': conda)"
  },
  "interpreter": {
   "hash": "0becc668fa7d5dcaa80caa2804d6de7e872f9c6dca930bb73e9bc3e3f7a08bc6"
  }
 },
 "nbformat": 4,
 "nbformat_minor": 2,
 "cells": [
  {
   "source": [
    "# pyDNA assembly objects\n",
    "\n",
    "This notebook is looking into how to best utilize pyDNA `assembly` objects for Gibson assembly with fragments\n",
    "that may or may not already contain homologous regions.\n",
    "\n",
    "[Link to docs](https://pydna.readthedocs.io/#pydna.assembly.Assembly)\n",
    "\n"
   ],
   "cell_type": "markdown",
   "metadata": {}
  },
  {
   "cell_type": "code",
   "execution_count": 18,
   "metadata": {},
   "outputs": [],
   "source": [
    "from pydna.assembly import Assembly\n",
    "from pydna.dseqrecord import Dseqrecord\n",
    "from pydna.readers import read"
   ]
  },
  {
   "source": [
    "a = Dseqrecord(\"acgatgctatactgCCCCCtgtgctgtgctcta\")\n",
    "b = Dseqrecord(\"tgtgctgtgctctaTTTTTtattctggctgtatc\")\n",
    "c = Dseqrecord(\"tattctggctgtatcGGGGGtacgatgctatactg\")"
   ],
   "cell_type": "code",
   "metadata": {},
   "execution_count": 19,
   "outputs": []
  },
  {
   "source": [
    "Limit is shortest shared homology that should be considered."
   ],
   "cell_type": "markdown",
   "metadata": {}
  },
  {
   "cell_type": "code",
   "execution_count": 20,
   "metadata": {},
   "outputs": [],
   "source": [
    "a = Assembly((a,b,c), limit=14)"
   ]
  },
  {
   "cell_type": "code",
   "execution_count": 21,
   "metadata": {},
   "outputs": [
    {
     "output_type": "execute_result",
     "data": {
      "text/plain": [
       "Assembly\n",
       "fragments..: 33bp 34bp 35bp\n",
       "limit(bp)..: 14\n",
       "G.nodes....: 6\n",
       "algorithm..: common_sub_strings"
      ]
     },
     "metadata": {},
     "execution_count": 21
    }
   ],
   "source": [
    "a"
   ]
  },
  {
   "cell_type": "code",
   "execution_count": 22,
   "metadata": {},
   "outputs": [
    {
     "output_type": "execute_result",
     "data": {
      "text/plain": [
       "[Contig(o59), Contig(o59)]"
      ]
     },
     "metadata": {},
     "execution_count": 22
    }
   ],
   "source": [
    "a.assemble_circular()"
   ]
  },
  {
   "source": [
    "Does assembly work for overlapping ends?"
   ],
   "cell_type": "markdown",
   "metadata": {}
  },
  {
   "cell_type": "code",
   "execution_count": 45,
   "metadata": {},
   "outputs": [
    {
     "output_type": "execute_result",
     "data": {
      "text/plain": [
       "aaaaaaaaaaaaatttttttttttttttGGGGG\n",
       "                            GGGGG\n",
       "                            GGGGGcccccccccccccccccccccccccccc\n"
      ]
     },
     "metadata": {},
     "execution_count": 45
    }
   ],
   "source": [
    "d = Dseqrecord('aaaaaaaaaaaaatttttttttttttttGGGGG')\n",
    "e = Dseqrecord('GGGGGcccccccccccccccccccccccccccc')\n",
    "\n",
    "a1 = Assembly((d, e), limit=5)\n",
    "a1.assemble_linear()\n",
    "a1.assemble_linear()[0].seq.watson\n",
    "#open('test.assemble.ascii', 'w').write(repr(a1.assemble_linear()[0]))"
   ]
  },
  {
   "cell_type": "code",
   "execution_count": 46,
   "metadata": {},
   "outputs": [
    {
     "output_type": "execute_result",
     "data": {
      "text/plain": [
       "name"
      ]
     },
     "metadata": {},
     "execution_count": 46
    }
   ],
   "source": []
  },
  {
   "source": [
    "Expanding to a bit more complex case using random sequences."
   ],
   "cell_type": "markdown",
   "metadata": {}
  },
  {
   "cell_type": "code",
   "execution_count": 24,
   "metadata": {},
   "outputs": [],
   "source": [
    "def assemble_records(records, limit=10):\n",
    "    return Assembly(records, limit).assemble_linear()[0].seq.watson"
   ]
  },
  {
   "cell_type": "code",
   "execution_count": 25,
   "metadata": {},
   "outputs": [],
   "source": [
    "import numpy as np\n",
    "\n",
    "def random_seq(n=25):\n",
    "    return ''.join(np.random.choice(['a', 't', 'g', 'c'], n, replace=True))\n",
    "\n",
    "rand_a = random_seq()\n",
    "rand_b = random_seq()\n",
    "\n",
    "homolgous_region = random_seq(10)\n",
    "homolgous_region = homolgous_region.upper()\n",
    "\n",
    "rand_a += homolgous_region\n",
    "rand_b = homolgous_region + rand_b\n",
    "\n",
    "rand_a = Dseqrecord(rand_a)\n",
    "rand_b = Dseqrecord(rand_b)"
   ]
  },
  {
   "cell_type": "code",
   "execution_count": 26,
   "metadata": {},
   "outputs": [
    {
     "output_type": "stream",
     "name": "stdout",
     "text": [
      "Seq A: aacttggcgctagaaataactactaGCTTCAGCAT\nSeq B: GCTTCAGCATgatccgaaacttccggtcatgtgtc\n"
     ]
    }
   ],
   "source": [
    "print('Seq A:', rand_a.seq)\n",
    "print('Seq B:', rand_b.seq)"
   ]
  },
  {
   "cell_type": "code",
   "execution_count": 27,
   "metadata": {},
   "outputs": [
    {
     "output_type": "execute_result",
     "data": {
      "text/plain": [
       "aacttggcgctagaaataactactaGCTTCAGCATgatccgaaacttccggtcatgtgtc"
      ]
     },
     "metadata": {},
     "execution_count": 27
    }
   ],
   "source": [
    "assemble_records((rand_a, rand_b))"
   ]
  },
  {
   "source": [
    "Increasing the limit above 10 should result in no assembly."
   ],
   "cell_type": "markdown",
   "metadata": {}
  },
  {
   "cell_type": "code",
   "execution_count": 28,
   "metadata": {},
   "outputs": [
    {
     "output_type": "stream",
     "name": "stdout",
     "text": [
      "Assembly failed raised list index out of range\n"
     ]
    }
   ],
   "source": [
    "try:\n",
    "    assemble_records((rand_a, rand_b), 11)\n",
    "except Exception as e:\n",
    "    print(f'Assembly failed raised {e}')"
   ]
  },
  {
   "source": [
    "What happens when no homology is present?"
   ],
   "cell_type": "markdown",
   "metadata": {}
  },
  {
   "cell_type": "code",
   "execution_count": 29,
   "metadata": {},
   "outputs": [
    {
     "output_type": "stream",
     "name": "stdout",
     "text": [
      "Assembly failed raised list index out of range\n"
     ]
    }
   ],
   "source": [
    "rand_c = Dseqrecord(random_seq(100))\n",
    "rand_d = Dseqrecord(random_seq(100))\n",
    "\n",
    "try:\n",
    "    assemble_records((rand_c, rand_d), 15)\n",
    "except Exception as e:\n",
    "    print(f'Assembly failed raised {e}')"
   ]
  },
  {
   "source": [
    "Linear assembly fails in this case which is good and this method can be used to ID fragments which would not require primers due \n",
    "preexisting homology. We also know the order in which the fragments are to be assembled so we can avoid doing a more\n",
    "costly all against all type compariso between fragments for homology. \n",
    "\n",
    "Next step is figuring out how to implement this in an actual assembly when records are coming in as genbank files. Another question is if\n",
    "DseqRecords can be assembled in this way alongside amplicons."
   ],
   "cell_type": "markdown",
   "metadata": {}
  },
  {
   "source": [
    "pFC8_path = 'files/pFC8.gb'\n",
    "init_path = 'files/test_init.gb'\n",
    "exten_path = 'files/test_exten.gb'"
   ],
   "cell_type": "code",
   "metadata": {},
   "execution_count": 30,
   "outputs": []
  },
  {
   "cell_type": "code",
   "execution_count": 32,
   "metadata": {},
   "outputs": [
    {
     "output_type": "execute_result",
     "data": {
      "text/plain": [
       "['__add__',\n",
       " '__bool__',\n",
       " '__class__',\n",
       " '__contains__',\n",
       " '__delattr__',\n",
       " '__dict__',\n",
       " '__dir__',\n",
       " '__doc__',\n",
       " '__eq__',\n",
       " '__format__',\n",
       " '__ge__',\n",
       " '__getattribute__',\n",
       " '__getitem__',\n",
       " '__gt__',\n",
       " '__hash__',\n",
       " '__init__',\n",
       " '__init_subclass__',\n",
       " '__iter__',\n",
       " '__le__',\n",
       " '__le___',\n",
       " '__len__',\n",
       " '__lt__',\n",
       " '__module__',\n",
       " '__mul__',\n",
       " '__ne__',\n",
       " '__new__',\n",
       " '__radd__',\n",
       " '__reduce__',\n",
       " '__reduce_ex__',\n",
       " '__repr__',\n",
       " '__setattr__',\n",
       " '__sizeof__',\n",
       " '__str__',\n",
       " '__subclasshook__',\n",
       " '__weakref__',\n",
       " '_per_letter_annotations',\n",
       " '_repr_html_',\n",
       " '_repr_pretty_',\n",
       " '_seq',\n",
       " '_set_per_letter_annotations',\n",
       " '_set_seq',\n",
       " 'accession',\n",
       " 'add_colors_to_features_for_ape',\n",
       " 'add_feature',\n",
       " 'annotations',\n",
       " 'cai',\n",
       " 'cas9',\n",
       " 'circular',\n",
       " 'copy',\n",
       " 'cseguid',\n",
       " 'cut',\n",
       " 'cutters',\n",
       " 'dbxrefs',\n",
       " 'definition',\n",
       " 'description',\n",
       " 'dump',\n",
       " 'express',\n",
       " 'extract_feature',\n",
       " 'features',\n",
       " 'find',\n",
       " 'find_aa',\n",
       " 'find_aminoacids',\n",
       " 'format',\n",
       " 'from_SeqRecord',\n",
       " 'from_string',\n",
       " 'gc',\n",
       " 'id',\n",
       " 'isorf',\n",
       " 'lcs',\n",
       " 'letter_annotations',\n",
       " 'linear',\n",
       " 'linearize',\n",
       " 'list_features',\n",
       " 'locus',\n",
       " 'looped',\n",
       " 'lower',\n",
       " 'lseguid',\n",
       " 'm',\n",
       " 'map_target',\n",
       " 'map_trace_files',\n",
       " 'n',\n",
       " 'n_cutters',\n",
       " 'name',\n",
       " 'no_cutters',\n",
       " 'number_of_cuts',\n",
       " 'once_cutters',\n",
       " 'orfs',\n",
       " 'path',\n",
       " 'rarecodons',\n",
       " 'rc',\n",
       " 'reverse_complement',\n",
       " 'seguid',\n",
       " 'seq',\n",
       " 'shifted',\n",
       " 'sorted_features',\n",
       " 'stamp',\n",
       " 'startcodon',\n",
       " 'stopcodon',\n",
       " 'synced',\n",
       " 'tolinear',\n",
       " 'translate',\n",
       " 'twice_cutters',\n",
       " 'unique_cutters',\n",
       " 'upper',\n",
       " 'write']"
      ]
     },
     "metadata": {},
     "execution_count": 32
    }
   ],
   "source": [
    "pFC8, init, exten = read(pFC8_path), read(init_path), read(exten_path)\n",
    "dir(init)"
   ]
  },
  {
   "cell_type": "code",
   "execution_count": 35,
   "metadata": {},
   "outputs": [
    {
     "output_type": "execute_result",
     "data": {
      "text/plain": [
       "Dseq(-330)\n",
       "CTCG..GTAA\n",
       "GAGC..CATT"
      ]
     },
     "metadata": {},
     "execution_count": 35
    }
   ],
   "source": [
    "init.seq"
   ]
  }
 ]
}