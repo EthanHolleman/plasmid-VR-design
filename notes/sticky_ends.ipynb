{
 "cells": [
  {
   "cell_type": "markdown",
   "metadata": {},
   "source": [
    "# Sticky ends"
   ]
  },
  {
   "cell_type": "code",
   "execution_count": 1,
   "metadata": {},
   "outputs": [],
   "source": [
    "import os\n",
    "from pydna.readers import read\n",
    "from pydna.design import primer_design\n",
    "from pydna.design import assembly_fragments\n",
    "from pydna.assembly import Assembly\n",
    "from Bio.Restriction import Analysis, RestrictionBatch\n",
    "from pydna.amplicon import Amplicon\n",
    "from Bio.Seq import Seq\n",
    "from Bio import SeqIO\n",
    "import yaml\n",
    "import pprint"
   ]
  },
  {
   "cell_type": "code",
   "execution_count": 2,
   "metadata": {},
   "outputs": [],
   "source": [
    "pFC8_path = 'files/pFC8.gb'\n",
    "init_path = 'files/test_init.gb'\n",
    "exten_path = 'files/test_exten.gb'"
   ]
  },
  {
   "cell_type": "code",
   "execution_count": null,
   "metadata": {},
   "outputs": [],
   "source": []
  }
 ],
 "metadata": {
  "kernelspec": {
   "display_name": "Python 3",
   "language": "python",
   "name": "python3"
  },
  "language_info": {
   "codemirror_mode": {
    "name": "ipython",
    "version": 3
   },
   "file_extension": ".py",
   "mimetype": "text/x-python",
   "name": "python",
   "nbconvert_exporter": "python",
   "pygments_lexer": "ipython3",
   "version": "3.9.5"
  }
 },
 "nbformat": 4,
 "nbformat_minor": 2
}
