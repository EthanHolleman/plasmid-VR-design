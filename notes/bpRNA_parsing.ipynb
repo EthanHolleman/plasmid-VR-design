{
 "metadata": {
  "language_info": {
   "codemirror_mode": {
    "name": "ipython",
    "version": 3
   },
   "file_extension": ".py",
   "mimetype": "text/x-python",
   "name": "python",
   "nbconvert_exporter": "python",
   "pygments_lexer": "ipython3",
   "version": "3.8.5"
  },
  "orig_nbformat": 4,
  "kernelspec": {
   "name": "python3",
   "display_name": "Python 3.8.5 64-bit ('base': conda)"
  },
  "interpreter": {
   "hash": "00c23a83c2b46508eab46721384ef0dc3f4ee71e161598ca59ff0b5caf782b8e"
  }
 },
 "nbformat": 4,
 "nbformat_minor": 2,
 "cells": [
  {
   "source": [
    "# Working out parsing functions for bpRNA perl script output\n",
    "\n",
    "## Parsing structure description lines\n",
    "\n",
    "Structure description lines occur after headers and sequences and describe individual RNA secondary structures. The authors provide no easily visible documentation but each structure is clearly associated with a code shown in dictionary below."
   ],
   "cell_type": "markdown",
   "metadata": {}
  },
  {
   "cell_type": "code",
   "execution_count": 1,
   "metadata": {},
   "outputs": [],
   "source": [
    "     structure_codes = {\n",
    "        'E': '',\n",
    "        'S': 'stem',\n",
    "        'M': 'multiloop',\n",
    "        'I': 'internal loop',\n",
    "        'B': 'bulge',\n",
    "        'H': 'hairpin loop',\n",
    "    }"
   ]
  },
  {
   "source": [
    "Example structure description lines"
   ],
   "cell_type": "markdown",
   "metadata": {}
  },
  {
   "cell_type": "code",
   "execution_count": 15,
   "metadata": {},
   "outputs": [],
   "source": [
    "lines = [\n",
    "    'H1 98..107 \"GUCGCUGCUA\" (97,108) A:U ',\n",
    "    'S1 7..7 \"C\" 195..195 \"G\"',\n",
    "    'M1.1 8..86 \"CUAAAUUUAAUCGUGGCAGUUUCCUUAUACAAACCGAAUAUUUACAAGUGACGACUCCGCAUUACUCUUGGAAUGAAUU\" (7,195) C:G (87,121) A:U',\n",
    "'segment4 3bp 179..182 UAUG 186..189 CAUA'\n",
    "]"
   ]
  },
  {
   "source": [
    "There is def diversity in what these lines look like but generally the ones I am intested start with a code letter, an id number that tells you what number code structure this is and then possiblely a subcode seperated from the main id if the line is refering to a structure composed of multible other structures.\n",
    "\n",
    "Currently I am most interested in just avoiding hairpin loops in my plasmid design so going to ignore for now some of the more subtle and complex types of structures in favor of easier parsing."
   ],
   "cell_type": "markdown",
   "metadata": {}
  },
  {
   "cell_type": "code",
   "execution_count": 12,
   "metadata": {},
   "outputs": [],
   "source": [
    "def parse_struct_descrip_line(line):\n",
    "    split_line = line.split(' ')  # space delim\n",
    "    code = split_line[0][0]\n",
    "    if code in structure_codes:  # ignore if not in code dict\n",
    "        number = split_line[0][1:]  # everything from beyond the code\n",
    "        numbers = number.split('.')  # seperate primary and seconday id\n",
    "        assert len(numbers) <= 2\n",
    "        id = int(numbers[0])\n",
    "        if len(numbers) == 2:\n",
    "            sec_id = int(numbers[1])\n",
    "        else:\n",
    "            sec_id = None\n",
    "        return code, id, sec_id\n",
    "    else:\n",
    "        return None"
   ]
  },
  {
   "cell_type": "code",
   "execution_count": 16,
   "metadata": {},
   "outputs": [
    {
     "output_type": "stream",
     "name": "stdout",
     "text": [
      "====================\nH1 98..107 \"GUCGCUGCUA\" (97,108) A:U \n('H', 1, None)\n====================\nS1 7..7 \"C\" 195..195 \"G\"\n('S', 1, None)\n====================\nM1.1 8..86 \"CUAAAUUUAAUCGUGGCAGUUUCCUUAUACAAACCGAAUAUUUACAAGUGACGACUCCGCAUUACUCUUGGAAUGAAUU\" (7,195) C:G (87,121) A:U\n('M', 1, 1)\n====================\nsegment4 3bp 179..182 UAUG 186..189 CAUA\nNone\n"
     ]
    }
   ],
   "source": [
    "for line in lines:\n",
    "    p = parse_struct_descrip_line(line)\n",
    "    print('='*20)\n",
    "    print(line)\n",
    "    print(p)"
   ]
  },
  {
   "source": [
    "Turn it into an object"
   ],
   "cell_type": "markdown",
   "metadata": {}
  },
  {
   "cell_type": "code",
   "execution_count": 20,
   "metadata": {},
   "outputs": [],
   "source": [
    "class StructDescrip():\n",
    "\n",
    "    @classmethod\n",
    "    def init_from_line(cls, line):\n",
    "        split_line = line.split(' ')  # space delim\n",
    "        code = split_line[0][0]\n",
    "        if code in structure_codes:  # ignore if not in code dict\n",
    "            number = split_line[0][1:]  # everything from beyond the code\n",
    "            numbers = number.split('.')  # seperate primary and seconday id\n",
    "            assert len(numbers) <= 2\n",
    "            id = int(numbers[0])\n",
    "            if len(numbers) == 2:\n",
    "                sec_id = int(numbers[1])\n",
    "            else:\n",
    "                sec_id = None\n",
    "            return cls(code, id, sec_id)\n",
    "        else:\n",
    "            return None\n",
    "\n",
    "    def __init__(self, code, prim_id, sec_id=None):\n",
    "        self.code = code\n",
    "        self.prim_id = prim_id\n",
    "        self.sec_id = sec_id\n",
    "    \n",
    "\n",
    "    def __repr__(self):\n",
    "        return ' '.join([f'{key}: {val}' for key, val in self.__dict__.items()])\n",
    "    \n"
   ]
  },
  {
   "cell_type": "code",
   "execution_count": 22,
   "metadata": {},
   "outputs": [
    {
     "output_type": "stream",
     "name": "stdout",
     "text": [
      "====================\nINPUT LINE: H1 98..107 \"GUCGCUGCUA\" (97,108) A:U \nSTRUCT INSTANCE: code: H prim_id: 1 sec_id: None\n====================\nINPUT LINE: S1 7..7 \"C\" 195..195 \"G\"\nSTRUCT INSTANCE: code: S prim_id: 1 sec_id: None\n====================\nINPUT LINE: M1.1 8..86 \"CUAAAUUUAAUCGUGGCAGUUUCCUUAUACAAACCGAAUAUUUACAAGUGACGACUCCGCAUUACUCUUGGAAUGAAUU\" (7,195) C:G (87,121) A:U\nSTRUCT INSTANCE: code: M prim_id: 1 sec_id: 1\n====================\nINPUT LINE: segment4 3bp 179..182 UAUG 186..189 CAUA\nSTRUCT INSTANCE: None\n"
     ]
    }
   ],
   "source": [
    "for line in lines:\n",
    "    p = StructDescrip.init_from_line(line)\n",
    "    print('='*20)\n",
    "    print('INPUT LINE:', line)\n",
    "    print('STRUCT INSTANCE:', p)"
   ]
  }
 ]
}