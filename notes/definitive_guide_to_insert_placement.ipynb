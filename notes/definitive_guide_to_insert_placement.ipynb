{
 "cells": [
  {
   "cell_type": "markdown",
   "metadata": {},
   "source": [
    "# Definitive guide to insert orrientation and automation via the `pyDNA` package"
   ]
  },
  {
   "cell_type": "markdown",
   "metadata": {},
   "source": [
    "This notebook is intended to be a distilled version of [Gibson assembly via pyDNA](gibson_via_pyDNA.ipynb) where I began looking at automating Gibson assembly protocol design vis the `pyDNA` package. "
   ]
  },
  {
   "cell_type": "markdown",
   "metadata": {},
   "source": [
    "Diagram of basic Gibson assembly method from AddGene\n",
    "![Diagram of basic Gibson assembly method from AddGene](https://media.addgene.org/data/easy-thumbnails/filer_public/cms/filer_public/15/c4/15c45cf9-3d03-4f61-93e9-c39159f6916e/gibson_assembly_overview_1.jpg__700x351_q85_crop_subsampling-2_upscale.png)"
   ]
  },
  {
   "cell_type": "markdown",
   "metadata": {},
   "source": [
    "## Backbone linearization"
   ]
  },
  {
   "cell_type": "markdown",
   "metadata": {},
   "source": [
    "The first step in the Gibson protocol is linearization of the plasmid backbone that the insert will be cloned into. While at the time of writing the exact backbone is yet to be determined it will likely be one of the `pFC` plasmids or at least one with very similar features. "
   ]
  },
  {
   "cell_type": "markdown",
   "metadata": {},
   "source": [
    "![The pFC8 plasmid](files/pFC8.png)"
   ]
  },
  {
   "cell_type": "markdown",
   "metadata": {},
   "source": [
    "Here, I will be using the `pFC8` plasmid as an example, with then intension of inserting a dummy initiation and elongation region just downstream of the T3 promotor. The plasmid backbones used in the actual experiment will likely have at least one promotor already present and it would be ideal if it could be taken advantage of.\n",
    "\n",
    "Accordingly, the the cut site for linearization should be unique and as close to the promotor as possible while respecting its orrientation; the cut site should always be downstream of the promotor in order to insure the inserted region is always in the path of transcription."
   ]
  },
  {
   "cell_type": "markdown",
   "metadata": {},
   "source": [
    "![](files/cut_site_orrientation.png)"
   ]
  },
  {
   "cell_type": "markdown",
   "metadata": {},
   "source": [
    "## Insert orientation"
   ]
  },
  {
   "cell_type": "markdown",
   "metadata": {},
   "source": [
    "We assume that the insert sequence is always supplied in the 5' -> 3' direction and that this is the sequence the user intends for the polymerase to produce. Under this assumption if the promotor is orriented in the positive direction then no modification needs to be made to the insert before assembly. However, if the promotor is in the negative orrientation the sequence that ultimately is introduced to the backbone must be the reverse complement of the supplied sequence in order for the - orrientation polyermase to produce the same RNA transcript."
   ]
  },
  {
   "cell_type": "markdown",
   "metadata": {},
   "source": [
    "![](files/sequence_orientation.png)"
   ]
  },
  {
   "cell_type": "markdown",
   "metadata": {},
   "source": [
    "## Implementing using pyDNA\n",
    "\n",
    "With these constraints in mind we can now implement these ideas in Python using the pyDNA package with the intent to create a script for use in the plasmid design pipeline."
   ]
  },
  {
   "cell_type": "markdown",
   "metadata": {},
   "source": [
    "### Implementation pseduocode\n",
    "\n",
    "```\n",
    "read backbone file\n",
    "read insert files \n",
    "determine insert orientation  # would be suplied by user in some kind of config file\n",
    "determine target promotor  # also supplied in config\n",
    "determine target promotor orientation  # -1 or 1\n",
    "if target promotor orientation == -1:\n",
    "    find closest unique cut site with start < promotor start - length cut\n",
    "else:\n",
    "    find closest unique cut site with start > promotor start \n",
    "cut the backbone\n",
    "if target_promotor_orientation == -1:\n",
    "    insert sequences = reverse complement (insert sequences)\n",
    "create assembly\n",
    "output genbank file\n",
    "output primers\n",
    "```"
   ]
  },
  {
   "cell_type": "markdown",
   "metadata": {},
   "source": [
    "### Python implementation"
   ]
  },
  {
   "cell_type": "code",
   "execution_count": 40,
   "metadata": {},
   "outputs": [],
   "source": [
    "import os\n",
    "from pydna.readers import read\n",
    "from pydna.design import primer_design\n",
    "from pydna.design import assembly_fragments\n",
    "from pydna.assembly import Assembly\n",
    "from Bio.Restriction import Analysis, RestrictionBatch\n",
    "from pydna.amplicon import Amplicon\n",
    "from Bio.Seq import Seq\n",
    "from Bio import SeqIO\n",
    "import yaml\n",
    "import pprint"
   ]
  },
  {
   "cell_type": "code",
   "execution_count": 41,
   "metadata": {},
   "outputs": [],
   "source": [
    "pp = pprint.PrettyPrinter(indent=4)"
   ]
  },
  {
   "cell_type": "markdown",
   "metadata": {},
   "source": [
    "Read backbone and insert files"
   ]
  },
  {
   "cell_type": "code",
   "execution_count": 42,
   "metadata": {},
   "outputs": [],
   "source": [
    "pFC8_path = 'files/pFC8.gb'\n",
    "init_path = 'files/test_init.gb'\n",
    "exten_path = 'files/test_exten.gb'\n",
    "\n",
    "PROMOTOR_FEATURE_INDEX = 3  # index of feature (base 0) representing the promotor the insert should be adjacent to"
   ]
  },
  {
   "cell_type": "code",
   "execution_count": 43,
   "metadata": {},
   "outputs": [],
   "source": [
    "pFC8, init, exten = read(pFC8_path), read(init_path), read(exten_path)"
   ]
  },
  {
   "cell_type": "code",
   "execution_count": 44,
   "metadata": {
    "scrolled": true
   },
   "outputs": [
    {
     "output_type": "execute_result",
     "data": {
      "text/plain": [
       "+-----+---------------+-----+------+------+-----+--------------+------+\n",
       "| Ft# | Label or Note | Dir | Sta  | End  | Len | type         | orf? |\n",
       "+-----+---------------+-----+------+------+-----+--------------+------+\n",
       "|   0 | L:T7\\promoter | --> | 11   | 33   |  22 | promoter     |  no  |\n",
       "|   1 | L:T7\\+1\\Site  | --> | 28   | 29   |   1 | misc_feature |  no  |\n",
       "|   2 | L:SNRPN       | <-- | 51   | 1032 | 981 | CDS          |  no  |\n",
       "|   3 | L:T3\\promoter | <-- | 1046 | 1063 |  17 | promoter     |  no  |\n",
       "+-----+---------------+-----+------+------+-----+--------------+------+"
      ],
      "text/markdown": "| Ft# | Label or Note | Dir | Sta  | End  | Len | type         | orf? |\n|-----|---------------|-----|------|------|-----|--------------|------|\n|   0 | L:T7\\promoter | --> | 11   | 33   |  22 | promoter     |  no  |\n|   1 | L:T7\\+1\\Site  | --> | 28   | 29   |   1 | misc_feature |  no  |\n|   2 | L:SNRPN       | <-- | 51   | 1032 | 981 | CDS          |  no  |\n|   3 | L:T3\\promoter | <-- | 1046 | 1063 |  17 | promoter     |  no  |"
     },
     "metadata": {},
     "execution_count": 44
    }
   ],
   "source": [
    "pFC8.list_features()"
   ]
  },
  {
   "cell_type": "markdown",
   "metadata": {},
   "source": [
    "Determine target promotor and orientation"
   ]
  },
  {
   "cell_type": "code",
   "execution_count": 45,
   "metadata": {},
   "outputs": [
    {
     "output_type": "execute_result",
     "data": {
      "text/plain": [
       "SeqFeature(FeatureLocation(ExactPosition(1046), ExactPosition(1063), strand=-1), type='promoter')"
      ]
     },
     "metadata": {},
     "execution_count": 45
    }
   ],
   "source": [
    "target_promotor = pFC8.features[PROMOTOR_FEATURE_INDEX]\n",
    "target_promotor"
   ]
  },
  {
   "cell_type": "code",
   "execution_count": 46,
   "metadata": {},
   "outputs": [],
   "source": [
    "promotor_orrientation = target_promotor.strand"
   ]
  },
  {
   "cell_type": "markdown",
   "metadata": {},
   "source": [
    "Add features to label `init` as initiation region and `exten` as extension region. In the actual pipeline this would need to be handled with helper functions that translate fasta sequences + user labels from config files into genbank formated files that can then be read in as above. "
   ]
  },
  {
   "cell_type": "code",
   "execution_count": 47,
   "metadata": {},
   "outputs": [],
   "source": [
    "init.add_feature(x=0, y=len(init), strand=promotor_orrientation, label='Initiation-1', type='CDS')\n",
    "exten.add_feature(x=0, y=len(exten), strand=promotor_orrientation, label='Extension-1', type='CDS')"
   ]
  },
  {
   "cell_type": "markdown",
   "metadata": {},
   "source": [
    "It is *critical* that a distinction is made between the feature orrientation and the actual sequence orientation. Labeling a sequence with a feature on one strand or the other will not actually change the content of the sequence added to the final assembly, however when viewed with a program like snapGene the arrow indicating sequence direction will correspond to the *label*. \n",
    "\n",
    "This means that if the reverse complement is to be incorporated into the assembly (promotor orientation == -1), then the actual sequence must be reveser complemented."
   ]
  },
  {
   "cell_type": "code",
   "execution_count": 48,
   "metadata": {},
   "outputs": [
    {
     "output_type": "stream",
     "name": "stdout",
     "text": [
      "CTCGAGGGGGGGCCCGGTAC\n"
     ]
    }
   ],
   "source": [
    "print(init.seq[:20])"
   ]
  },
  {
   "cell_type": "code",
   "execution_count": 49,
   "metadata": {},
   "outputs": [],
   "source": [
    "# assumes insert is supplied in 5' -> 3' and as it is intended to be encountered by the polymerase\n",
    "def reorient_insert_relative_to_feature(seqFeature, insert):\n",
    "    seqFeat_orr = seqFeature.strand\n",
    "    if seqFeat_orr == -1:\n",
    "        insert.seq = insert.seq.reverse_complement()\n",
    "    return insert"
   ]
  },
  {
   "cell_type": "code",
   "execution_count": 50,
   "metadata": {},
   "outputs": [],
   "source": [
    "init = reorient_insert_relative_to_feature(target_promotor, init)\n",
    "exten = reorient_insert_relative_to_feature(target_promotor, exten)"
   ]
  },
  {
   "cell_type": "code",
   "execution_count": 51,
   "metadata": {},
   "outputs": [
    {
     "output_type": "stream",
     "name": "stdout",
     "text": [
      "TTACTCACAGGCTTTTTTCA\n"
     ]
    }
   ],
   "source": [
    "print(init.seq[:20])"
   ]
  },
  {
   "cell_type": "markdown",
   "metadata": {},
   "source": [
    "Locate the best restriction site"
   ]
  },
  {
   "cell_type": "code",
   "execution_count": 52,
   "metadata": {},
   "outputs": [
    {
     "output_type": "execute_result",
     "data": {
      "text/plain": [
       "1046"
      ]
     },
     "metadata": {},
     "execution_count": 52
    }
   ],
   "source": [
    "int(target_promotor.location.start)"
   ]
  },
  {
   "cell_type": "code",
   "execution_count": 53,
   "metadata": {},
   "outputs": [],
   "source": [
    "def get_closest_downstream_unique_RS(seqFeature, vector):\n",
    "    rb = RestrictionBatch([], ['C'])\n",
    "    cut_analysis = Analysis(rb, vector.seq, linear=False)\n",
    "    unique_cutters = {enzyme: cut_loc for enzyme, cut_loc in cut_analysis.full().items() if len(cut_loc) == 1}\n",
    "\n",
    "    # get distance relative to feature start location\n",
    "    unique_cutters_dist_func = lambda loc: loc[0] - int(seqFeature.location.start)\n",
    "    distances = {enzyme: unique_cutters_dist_func(loc) for enzyme, loc in unique_cutters.items()}\n",
    "    \n",
    "    # select enzymes correct location relative to seqFeature orientation\n",
    "    distances = {enzyme: dist for enzyme, dist in distances.items() if dist * seqFeature.strand > 0}\n",
    "    \n",
    "    # get enzyme with RS min distance from seqFeature\n",
    "    best_enzyme = min(distances, key=lambda e: abs(distances.get(e)))\n",
    "    return {best_enzyme: \n",
    "                {'distance': distances[best_enzyme], \n",
    "                 'cut_site': unique_cutters[best_enzyme]\n",
    "                }\n",
    "           }\n"
   ]
  },
  {
   "cell_type": "code",
   "execution_count": 54,
   "metadata": {},
   "outputs": [
    {
     "output_type": "stream",
     "name": "stdout",
     "text": [
      "{KpnI: {'distance': -13, 'cut_site': [1033]}}\n"
     ]
    }
   ],
   "source": [
    "best_enzyme = get_closest_downstream_unique_RS(target_promotor, pFC8)\n",
    "print(best_enzyme)"
   ]
  },
  {
   "cell_type": "markdown",
   "metadata": {},
   "source": [
    "Biopython returns the first base of the downstream segment produced by a restriction digest (first base after the position where the cut will be made with base 1."
   ]
  },
  {
   "cell_type": "markdown",
   "metadata": {},
   "source": [
    "Linearize the plasmid at the restriction site"
   ]
  },
  {
   "cell_type": "code",
   "execution_count": 55,
   "metadata": {},
   "outputs": [],
   "source": [
    "def linearize_backbone(backbone, restrictionEnzyme):\n",
    "    return backbone.linearize(restrictionEnzyme)"
   ]
  },
  {
   "cell_type": "code",
   "execution_count": 56,
   "metadata": {},
   "outputs": [
    {
     "output_type": "execute_result",
     "data": {
      "text/plain": [
       "Dseqrecord(-3593)"
      ]
     },
     "metadata": {},
     "execution_count": 56
    }
   ],
   "source": [
    "pFC8_linear = linearize_backbone(pFC8, list(best_enzyme.keys()).pop())\n",
    "pFC8_linear"
   ]
  },
  {
   "cell_type": "markdown",
   "metadata": {},
   "source": [
    "Convert inserts into amplicons so can be used in an `Assembly` object"
   ]
  },
  {
   "cell_type": "code",
   "execution_count": 57,
   "metadata": {},
   "outputs": [],
   "source": [
    "def convert_inserts_to_amplicons(inserts):\n",
    "    return [primer_design(each_insert) for each_insert in inserts]"
   ]
  },
  {
   "cell_type": "markdown",
   "metadata": {},
   "source": [
    "The inserted regions should be passed in their final order in the construct relative to the site of linearization. This will require a helper function that gets the intended order of the inserts in their 5' -> 3' orrientation and then swaps order if inserting relative to an antisense promotor."
   ]
  },
  {
   "cell_type": "code",
   "execution_count": 58,
   "metadata": {},
   "outputs": [
    {
     "output_type": "execute_result",
     "data": {
      "text/plain": [
       "[Amplicon(330), Amplicon(330)]"
      ]
     },
     "metadata": {},
     "execution_count": 58
    }
   ],
   "source": [
    "insert_amplicons = convert_inserts_to_amplicons((exten, init))\n",
    "insert_amplicons"
   ]
  },
  {
   "cell_type": "markdown",
   "metadata": {},
   "source": [
    "Create a circular assembly from the backbone and fragments."
   ]
  },
  {
   "cell_type": "code",
   "execution_count": 59,
   "metadata": {},
   "outputs": [
    {
     "output_type": "stream",
     "name": "stdout",
     "text": [
      "<class 'pydna.dseqrecord.Dseqrecord'>\n<class 'pydna.genbankfile.GenbankFile'>\n"
     ]
    }
   ],
   "source": [
    "print(type(pFC8_linear))\n",
    "print(type(init))"
   ]
  },
  {
   "cell_type": "code",
   "execution_count": 60,
   "metadata": {},
   "outputs": [],
   "source": [
    "def make_fragment_list(linear_backbone, ordered_inserts):\n",
    "    fragments = assembly_fragments(\n",
    "        [linear_backbone] + list(ordered_inserts) + [linear_backbone]\n",
    "    )\n",
    "    return fragments"
   ]
  },
  {
   "cell_type": "code",
   "execution_count": 61,
   "metadata": {},
   "outputs": [],
   "source": [
    "def make_primers(fragment_list):\n",
    "    amplicons = [x for x in fragment_list if isinstance(x, Amplicon)]\n",
    "    primers = [(y.forward_primer, y.reverse_primer) for y in amplicons]\n",
    "    return primers"
   ]
  },
  {
   "cell_type": "code",
   "execution_count": 62,
   "metadata": {},
   "outputs": [],
   "source": [
    "def make_assembly(fragment_list):\n",
    "    assembly_final = Assembly(fragment_list[:-1])\n",
    "    return assembly_final"
   ]
  },
  {
   "cell_type": "code",
   "execution_count": 63,
   "metadata": {},
   "outputs": [
    {
     "output_type": "stream",
     "name": "stdout",
     "text": [
      "Assembly\nfragments..: 3593bp 383bp 383bp\nlimit(bp)..: 25\nG.nodes....: 8\nalgorithm..: common_sub_strings\n"
     ]
    }
   ],
   "source": [
    "pFC8_fragments = make_fragment_list(pFC8_linear, insert_amplicons)\n",
    "pFC8_assembly = make_assembly(pFC8_fragments)\n",
    "pFC8_primers = make_primers(pFC8_fragments)\n",
    "print(pFC8_assembly)"
   ]
  },
  {
   "cell_type": "code",
   "execution_count": 64,
   "metadata": {},
   "outputs": [
    {
     "output_type": "error",
     "ename": "TypeError",
     "evalue": "object of type 'Assembly' has no len()",
     "traceback": [
      "\u001b[0;31m---------------------------------------------------------------------------\u001b[0m",
      "\u001b[0;31mTypeError\u001b[0m                                 Traceback (most recent call last)",
      "\u001b[0;32m<ipython-input-64-86117faf17c4>\u001b[0m in \u001b[0;36m<module>\u001b[0;34m\u001b[0m\n\u001b[0;32m----> 1\u001b[0;31m \u001b[0mlen\u001b[0m\u001b[0;34m(\u001b[0m\u001b[0mpFC8_assembly\u001b[0m\u001b[0;34m)\u001b[0m\u001b[0;34m\u001b[0m\u001b[0;34m\u001b[0m\u001b[0m\n\u001b[0m",
      "\u001b[0;31mTypeError\u001b[0m: object of type 'Assembly' has no len()"
     ]
    }
   ],
   "source": [
    "len(pFC8_assembly)"
   ]
  },
  {
   "cell_type": "markdown",
   "metadata": {},
   "source": [
    "Select assembly."
   ]
  },
  {
   "cell_type": "code",
   "execution_count": 25,
   "metadata": {},
   "outputs": [
    {
     "output_type": "execute_result",
     "data": {
      "text/plain": [
       "Contig(o4253)"
      ],
      "text/html": "<pre> -|pFC8_lin|35\n|           \\/\n|           /\\\n|           35|E_x_t_e_n_s_i_o_|36\n|                               \\/\n|                               /\\\n|                               36|I_n_i_t_i_a_t_i_|35\n|                                                   \\/\n|                                                   /\\\n|                                                   35-\n|                                                      |\n ------------------------------------------------------</pre>"
     },
     "metadata": {},
     "execution_count": 25
    }
   ],
   "source": [
    "canidate = pFC8_assembly.assemble_circular()[0]\n",
    "canidate"
   ]
  },
  {
   "cell_type": "markdown",
   "metadata": {},
   "source": [
    "Write the assembly to genbank formated file and visualize using SnapGene."
   ]
  },
  {
   "cell_type": "code",
   "execution_count": 26,
   "metadata": {},
   "outputs": [
    {
     "output_type": "display_data",
     "data": {
      "text/html": "<font face=monospace><a href='files/pFC8_init_exten_test_assembly.gb' target='_blank'>files/pFC8_init_exten_test_assembly.gb</a></font><br>"
     },
     "metadata": {}
    }
   ],
   "source": [
    "test_assembly = 'files/pFC8_init_exten_test_assembly.gb'\n",
    "\n",
    "canidate.write(test_assembly)"
   ]
  },
  {
   "cell_type": "markdown",
   "metadata": {},
   "source": [
    "![](files/pFC8_init_exten.png)"
   ]
  },
  {
   "cell_type": "markdown",
   "metadata": {},
   "source": [
    "Searching for the first 10bp of the initiation sequence `CTCGAGGGGGGGCCCGGTAC` we find it is located on the 3' strand at the start of Initiation region 1. Since the promotor is in the antisense orientation the 3' strand will act as the coding strand and the orginally specified sequence will be produced by the polymerase and it will therefore encounter the exact same nucleotides if it were transcribing the originally specified sequence in the sense direction."
   ]
  },
  {
   "cell_type": "markdown",
   "metadata": {},
   "source": [
    "![](files/pFC8_init_exten_init_start.png)"
   ]
  },
  {
   "cell_type": "markdown",
   "metadata": {},
   "source": [
    "Circular view with sequence location highlighted in grey\n",
    "\n",
    "![](files/pFC8_init_exten_init_start_circular.png)"
   ]
  },
  {
   "cell_type": "markdown",
   "metadata": {},
   "source": [
    "## Primers"
   ]
  },
  {
   "cell_type": "markdown",
   "metadata": {},
   "source": [
    "In Gibson assembly PCR is used to add regions of homology between inserted fragments. \n",
    "\n",
    "![[OpenWetWare](https://openwetware.org/wiki/Janet_B._Matsen:Guide_to_Gibson_Assembly)](https://s3-us-west-2.amazonaws.com/oww-files-thumb/7/7b/Gibson_overview_cartoon_JM.png/900px-Gibson_overview_cartoon_JM.png)"
   ]
  },
  {
   "cell_type": "markdown",
   "metadata": {},
   "source": [
    "This assumes that there is not yet already homologous regions on the 5' and 3' ends of the inserted sequence. However, since the variable regions that will be inserted into plasmid backbone will be 100% synthisized it would potentially be possible to add in regions on homology as part of the synthesis. If this is done it would be best of having someway of reflecting this within the assembly program. However, worst case if there is flanking homology you could just ignore the primers or mark them as not required."
   ]
  },
  {
   "cell_type": "code",
   "execution_count": 27,
   "metadata": {},
   "outputs": [],
   "source": [
    "def print_primer_list(primers):\n",
    "    for pair in primers:\n",
    "        print(pair[0].format(\"fasta\"))\n",
    "        print(pair[1].format(\"fasta\"))"
   ]
  },
  {
   "cell_type": "code",
   "execution_count": 28,
   "metadata": {},
   "outputs": [
    {
     "output_type": "stream",
     "name": "stdout",
     "text": [
      ">f330 EXTEN1\nTCAGTACTCCAAGACCTCGAGGGGGGGCCCGGTACCTAAAGGGAACAAAAGCT\n\n>r330 EXTEN1\nAAAAAAGCCTGTGAGTAATGAAAAAAGCCTGTGAGT\n\n>f330 INIT1\nACTCACAGGCTTTTTTCATTACTCACAGGCTTTTTTC\n\n>r330 INIT1\nATTAACCCTCACTAAAGGGAACAAAAGCTGGGTACCTCGAGGGGGGGC\n\n"
     ]
    }
   ],
   "source": [
    "print_primer_list(pFC8_primers)"
   ]
  },
  {
   "cell_type": "markdown",
   "metadata": {},
   "source": [
    "## Workflow implementation and helper functions"
   ]
  },
  {
   "cell_type": "markdown",
   "metadata": {},
   "source": [
    "Below are thoughts on how the assembly concepts above would actually be implemented in the snakemake workflow and some drafts of helper functions that are likely to be required during implementation."
   ]
  },
  {
   "cell_type": "markdown",
   "metadata": {},
   "source": [
    "### Laying out complete plasmids; construct ymls"
   ]
  },
  {
   "cell_type": "markdown",
   "metadata": {},
   "source": [
    "In order for the workflow to actually be able to produce descriptions of Gibson assembly protocols there needs to be some way to specify which variable regions get inserted where, in which order and with what.\n",
    "\n",
    "Since the most of the time the only thing that will be variable are, well, the variable regions, I think it makes the most sense to do this in terms of \"constructs\" which then contain some keyword representing where a variable region would be inserted. Then in the variable region definition tsv file an additional column would be added that specifies the construct that should be used.\n",
    "\n",
    "Constructs can be specified in `yml` format. An example is below."
   ]
  },
  {
   "cell_type": "markdown",
   "metadata": {},
   "source": [
    "```\n",
    "construct_a:\n",
    "    backbone: \"backbone.gb\"  # path to genback record describing plamid backbone\n",
    "    insert_downstream_of: \"promotor_a\"  # label of feature in backbone file to insert downstream of\n",
    "    contents:\n",
    "        - \"VAR_REGION\"  # variable region keyword. Insert variable region here.\n",
    "        - \"extension_region.gb\"  # \n",
    "        - \"UNIQUE_CUTTER\"  # restriction site keyword, insert a uniquely cutting RE here\n",
    "```"
   ]
  },
  {
   "cell_type": "code",
   "execution_count": 29,
   "metadata": {
    "scrolled": true
   },
   "outputs": [
    {
     "output_type": "stream",
     "name": "stdout",
     "text": [
      "{   'construct_a': {   'backbone': 'backbone.gb',\n                       'contents': [   'VAR_REGION',\n                                       'extension_region.gb',\n                                       'UNIQUE_CUTTER'],\n                       'insert_downstream_of': 'promotor_a'}}\n"
     ]
    }
   ],
   "source": [
    "example_construct = 'files/example_construct.yml'\n",
    "\n",
    "def read_yaml(filepath):\n",
    "    # https://stackoverflow.com/questions/1773805\n",
    "    with open(filepath ) as handle:\n",
    "        try:\n",
    "            return yaml.safe_load(handle)\n",
    "        except yaml.YAMLError as exc:\n",
    "            print(exc)\n",
    "\n",
    "construct_dict = read_yaml(example_construct)\n",
    "pp.pprint(construct_dict)"
   ]
  },
  {
   "cell_type": "markdown",
   "metadata": {},
   "source": [
    "During assembly `VAR_REGION` would be replaces with genbank file produced from a variable region, which of course implies need some way of converting fasta records into minimal genbank files that can be read and used for assembly."
   ]
  },
  {
   "cell_type": "markdown",
   "metadata": {},
   "source": [
    "### Convert fasta records + config info to genbank records"
   ]
  },
  {
   "cell_type": "code",
   "execution_count": 30,
   "metadata": {},
   "outputs": [],
   "source": [
    "from pydna.genbankrecord import GenbankRecord"
   ]
  },
  {
   "cell_type": "markdown",
   "metadata": {},
   "source": [
    "Pretend we have some fasta record to turn into a genbank file for input into the Gibson assembly program. Read it in using BioPython."
   ]
  },
  {
   "cell_type": "code",
   "execution_count": 31,
   "metadata": {},
   "outputs": [
    {
     "output_type": "execute_result",
     "data": {
      "text/plain": [
       "SeqRecord(seq=Seq('AGAGAGGGGGGCAGACGAAAGCAGATAGACAGATGAGACAGATGACACAGGGGA...ATA'), id='MYRECORDID_This', name='MYRECORDID_This', description='MYRECORDID_This is my record stay away!', dbxrefs=[])"
      ]
     },
     "metadata": {},
     "execution_count": 31
    }
   ],
   "source": [
    "fasta_record = 'files/myRecord.fa'\n",
    "record = SeqIO.read(fasta_record, 'fasta')  # in workflow should only be a single record\n",
    "record"
   ]
  },
  {
   "cell_type": "markdown",
   "metadata": {},
   "source": [
    "Convert to `genbankrecord` instance."
   ]
  },
  {
   "cell_type": "code",
   "execution_count": 32,
   "metadata": {},
   "outputs": [],
   "source": [
    "record = GenbankRecord(record)"
   ]
  },
  {
   "cell_type": "markdown",
   "metadata": {},
   "source": [
    "Pretend we have already have some data labels the sequence."
   ]
  },
  {
   "cell_type": "code",
   "execution_count": 33,
   "metadata": {},
   "outputs": [],
   "source": [
    "label = 'Test-init-1'"
   ]
  },
  {
   "cell_type": "markdown",
   "metadata": {},
   "source": [
    "Add a feature that covers the entire record for labeling purposes only."
   ]
  },
  {
   "cell_type": "code",
   "execution_count": 34,
   "metadata": {},
   "outputs": [],
   "source": [
    "def add_labeling_feature(genbank_record, label, title='', authors='', id='', **kwargs):\n",
    "    import datetime\n",
    "    now = datetime.datetime.now()\n",
    "    modification_date = datetime.date.strftime(now, \"%m/%d/%Y\")\n",
    "    genbank_record.add_feature(\n",
    "        x=0, y=len(genbank_record), type='CDS', label=label,\n",
    "        title=title, authors=authors, modification_date=modification_date, id=id, **kwargs\n",
    "    )\n",
    "    return genbank_record"
   ]
  },
  {
   "cell_type": "code",
   "execution_count": 35,
   "metadata": {},
   "outputs": [],
   "source": [
    "record = add_labeling_feature(record, label, 'Test Init Record', 'Donald Duck', id='test-id1')\n",
    "record.locus = label"
   ]
  },
  {
   "cell_type": "code",
   "execution_count": 36,
   "metadata": {},
   "outputs": [
    {
     "output_type": "display_data",
     "data": {
      "text/html": "<font face=monospace><a href='files/test_fasta_to_genbank.gb' target='_blank'>files/test_fasta_to_genbank.gb</a></font><br>"
     },
     "metadata": {}
    }
   ],
   "source": [
    "test_fasta_to_gb = 'files/test_fasta_to_genbank.gb'\n",
    "record.write(test_fasta_to_gb)"
   ]
  },
  {
   "cell_type": "code",
   "execution_count": 37,
   "metadata": {},
   "outputs": [
    {
     "output_type": "execute_result",
     "data": {
      "text/plain": [
       "{'location': FeatureLocation(ExactPosition(0), ExactPosition(79), strand=1),\n",
       " 'type': 'CDS',\n",
       " 'id': '<unknown id>',\n",
       " 'qualifiers': {'label': 'Test-init-1',\n",
       "  'title': 'Test Init Record',\n",
       "  'authors': 'Donald Duck',\n",
       "  'modification_date': '06/28/2021',\n",
       "  'id': 'test-id1'}}"
      ]
     },
     "metadata": {},
     "execution_count": 37
    }
   ],
   "source": [
    "vars(record.features[0])"
   ]
  },
  {
   "cell_type": "code",
   "execution_count": 38,
   "metadata": {},
   "outputs": [
    {
     "output_type": "stream",
     "name": "stdout",
     "text": [
      "LOCUS       Test-init-1               79 bp    DNA     linear   UNK 01-JAN-1980\nDEFINITION  MYRECORDID_This is my record stay away!.\nACCESSION   MYRECORDID_This\nVERSION     MYRECORDID_This\nKEYWORDS    .\nSOURCE      .\n  ORGANISM  .\n            .\nFEATURES             Location/Qualifiers\n     CDS             1..79\n                     /label=\"Test-init-1\"\n                     /title=\"Test Init Record\"\n                     /authors=\"Donald Duck\"\n                     /modification_date=\"06/28/2021\"\n                     /id=\"test-id1\"\nORIGIN\n        1 agagaggggg gcagacgaaa gcagatagac agatgagaca gatgacacag gggacaaaag\n       61 atagatgaga gaacagata\n//\n"
     ]
    }
   ],
   "source": [
    "print(open(test_fasta_to_gb).read())"
   ]
  },
  {
   "cell_type": "markdown",
   "metadata": {},
   "source": [
    "Put this into an object so can be subclassed for extracting information in different ways; fasta headers, filepaths ect."
   ]
  },
  {
   "cell_type": "code",
   "execution_count": 39,
   "metadata": {},
   "outputs": [],
   "source": [
    "from pathlib import Path\n",
    "import datetime\n",
    "\n",
    "def safe_dict_accesss(d, key):\n",
    "    if key in d:\n",
    "        return d[key]\n",
    "    else:\n",
    "        return None\n",
    "\n",
    "\n",
    "class fastaToGenbank():\n",
    "    \n",
    "    def __init__(self, path, data={}):\n",
    "        # record_kwargs are added to GenBankRecord object\n",
    "        self.path = path\n",
    "        self.data = data\n",
    "        self.record = GenbankRecord(SeqIO.read(path))\n",
    "        self._update_record_with_parsed_data()\n",
    "    \n",
    "    @property\n",
    "    def label(self):  # overwrite\n",
    "        label = safe_dict_access(self.data, 'label')\n",
    "        if label:\n",
    "            return label\n",
    "        else:\n",
    "            return self.record.id\n",
    "    \n",
    "    @property\n",
    "    def locus(self):  # overwrite\n",
    "        locus = safe_dict_access(self.data, 'locus')\n",
    "        if locus:\n",
    "            return locus\n",
    "        else:\n",
    "            return self.record.id\n",
    "    \n",
    "    @property\n",
    "    def defintion(self):  # overwrite\n",
    "        definition = safe_dict_access(self.definition, 'definition')\n",
    "        if definition:\n",
    "            return definition\n",
    "        else:\n",
    "            return self.record.description\n",
    "    \n",
    "    def _update_record_with_parsed_data(self):\n",
    "        self.record.__dict__.update(\n",
    "            {\n",
    "            'label': self.label,\n",
    "            'locus': self.locus,\n",
    "            'definition': self.definition\n",
    "            }\n",
    "        )\n",
    "\n",
    "    \n",
    "    def write_record(self, output_path=None):\n",
    "        if not output_path:\n",
    "            output_path = str(Path(output_path).with_suffix('.gb'))\n",
    "        self.record.write(output_path)\n",
    "    \n",
    "    \n",
    "    def add_label_feature(self, label=None):\n",
    "        mod_date = datetime.date.strftime(datetime.datetime.now(), \"%m/%d/%Y\")\n",
    "        if not label:\n",
    "            label = self.label\n",
    "        self.record.add_feature(\n",
    "            x=0, \n",
    "            y=len(self.record), label=label)"
   ]
  }
 ],
 "metadata": {
  "kernelspec": {
   "name": "python3",
   "display_name": "Python 3.9.5 64-bit ('pydna_build_environment': conda)"
  },
  "language_info": {
   "codemirror_mode": {
    "name": "ipython",
    "version": 3
   },
   "file_extension": ".py",
   "mimetype": "text/x-python",
   "name": "python",
   "nbconvert_exporter": "python",
   "pygments_lexer": "ipython3",
   "version": "3.9.5"
  },
  "interpreter": {
   "hash": "0becc668fa7d5dcaa80caa2804d6de7e872f9c6dca930bb73e9bc3e3f7a08bc6"
  }
 },
 "nbformat": 4,
 "nbformat_minor": 2
}