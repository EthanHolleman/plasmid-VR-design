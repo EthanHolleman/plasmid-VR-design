{
 "cells": [
  {
   "cell_type": "markdown",
   "id": "2d1690c9",
   "metadata": {},
   "source": [
    "# Placeholder strong initiator\n",
    "\n",
    "Termination series inserts require a strong initiator in order to ensure that R-loops are actuall formed. This sequence will only be determined after initiation experiments are carried out but we would still like to be able to simulate the assembly of termination series constructs.\n",
    "\n",
    "Since the actual variable sequence of the strong initiator is not actually relevant to the cloning protocol here I just generate a random sequence flanking by a HindIII and EcoRI recognition sites which will be used for cloning after initiation experiments are complete."
   ]
  },
  {
   "cell_type": "code",
   "execution_count": 4,
   "id": "f979d613",
   "metadata": {},
   "outputs": [],
   "source": [
    "import os\n",
    "import sys\n",
    "from pathlib import Path\n",
    "import random\n",
    "import numpy as np\n",
    "from Bio.Restriction import *\n",
    "import pytest\n",
    "from pydna.genbankrecord import GenbankRecord\n",
    "from pydna.readers import read\n",
    "from pydna.dseqrecord import Dseqrecord"
   ]
  },
  {
   "cell_type": "code",
   "execution_count": 2,
   "id": "15436433",
   "metadata": {},
   "outputs": [],
   "source": [
    "output_path = '../resources/files/genbank/placeholder_initiator.gb'"
   ]
  },
  {
   "cell_type": "code",
   "execution_count": 7,
   "id": "a3da4c87",
   "metadata": {},
   "outputs": [
    {
     "name": "stdout",
     "output_type": "stream",
     "text": [
      "Dseqrecord\n",
      "circular: False\n",
      "size: 212\n",
      "ID: id\n",
      "Name: name\n",
      "Description: description\n",
      "Number of features: 0\n",
      "/molecule_type=DNA\n",
      "Dseq(-212)\n",
      "AAGC..ATTC\n",
      "TTCG..TAAG\n"
     ]
    }
   ],
   "source": [
    "seq = Dseqrecord(\n",
    "        ''.join(\n",
    "            [\n",
    "                HindIII.site,\n",
    "                ''.join(list(np.random.choice(\n",
    "                    ['A', 'T', 'C', 'G'], 200, replace=True))),\n",
    "                EcoRI.site\n",
    "            ]\n",
    "        )\n",
    ")\n",
    "print(seq)"
   ]
  },
  {
   "cell_type": "code",
   "execution_count": 8,
   "id": "bde1c83c",
   "metadata": {},
   "outputs": [],
   "source": [
    "seq.add_feature(\n",
    "    0, len(seq),\n",
    "    label='Placeholder strong initiator',\n",
    "    strand=1    \n",
    ")"
   ]
  },
  {
   "cell_type": "code",
   "execution_count": 9,
   "id": "8ea8bdb9",
   "metadata": {},
   "outputs": [
    {
     "data": {
      "text/plain": [
       "[SeqFeature(FeatureLocation(ExactPosition(0), ExactPosition(212), strand=1), type='misc')]"
      ]
     },
     "execution_count": 9,
     "metadata": {},
     "output_type": "execute_result"
    }
   ],
   "source": [
    "seq.features"
   ]
  },
  {
   "cell_type": "code",
   "execution_count": 13,
   "id": "8366fe6a",
   "metadata": {},
   "outputs": [
    {
     "data": {
      "text/html": [
       "<font face=monospace><a href='../resources/files/genbank/placeholder_initiator.gb' target='_blank'>../resources/files/genbank/placeholder_initiator.gb</a></font><br>"
      ]
     },
     "metadata": {},
     "output_type": "display_data"
    }
   ],
   "source": [
    "record = GenbankRecord(seq)\n",
    "record.locus = 'strong_init'\n",
    "record.stamp()\n",
    "record.write(output_path)"
   ]
  }
 ],
 "metadata": {
  "kernelspec": {
   "display_name": "Python 3",
   "language": "python",
   "name": "python3"
  },
  "language_info": {
   "codemirror_mode": {
    "name": "ipython",
    "version": 3
   },
   "file_extension": ".py",
   "mimetype": "text/x-python",
   "name": "python",
   "nbconvert_exporter": "python",
   "pygments_lexer": "ipython3",
   "version": "3.9.5"
  }
 },
 "nbformat": 4,
 "nbformat_minor": 5
}
