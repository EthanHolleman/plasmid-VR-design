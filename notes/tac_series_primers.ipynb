{
 "cells": [
  {
   "cell_type": "markdown",
   "id": "b2ad7d8d",
   "metadata": {},
   "source": [
    "# Tac series primers\n",
    "\n",
    "Both tac initiation and termination series constructs will depend on amplification of insert regions from complete T7 initiation and termination constructs. Here I design primers to use for Gibson assembly for both Tac initiation and termination constructs."
   ]
  },
  {
   "cell_type": "code",
   "execution_count": 1,
   "id": "46e7afc5",
   "metadata": {},
   "outputs": [],
   "source": [
    "t7_init_construct_path = 'files/T7_init_VR-1.gb'\n",
    "t7_term_construct_path = 'files/T7_term_VR-1.gb'\n",
    "pFC53T1T1_path = '../resources/files/genbank/pFC53tacT1T2.gb'"
   ]
  },
  {
   "cell_type": "code",
   "execution_count": 2,
   "id": "00f67f4a",
   "metadata": {},
   "outputs": [],
   "source": [
    "import numpy as np\n",
    "from pathlib import Path\n",
    "from Bio.Restriction import *\n",
    "from pydna.genbankrecord import GenbankRecord\n",
    "from pydna.readers import read\n",
    "from pydna.dseqrecord import Dseqrecord\n",
    "from pydna.design import primer_design\n",
    "from pydna.amplify import pcr\n",
    "from pydna.assembly import Assembly\n",
    "from pydna.design import assembly_fragments"
   ]
  },
  {
   "cell_type": "markdown",
   "id": "7adca41a",
   "metadata": {},
   "source": [
    "## Helper functions"
   ]
  },
  {
   "cell_type": "code",
   "execution_count": 3,
   "id": "bff67643",
   "metadata": {},
   "outputs": [],
   "source": [
    "def get_feature_by_name(record, feature_name):\n",
    "    feature_name_dict = {\n",
    "        record.extract_feature(i).name: record.extract_feature(i) \n",
    "        for i in range(len(record.features))\n",
    "    }\n",
    "    if feature_name in feature_name_dict:\n",
    "        return feature_name_dict[feature_name]\n",
    "    else:\n",
    "        return -1"
   ]
  },
  {
   "cell_type": "code",
   "execution_count": 4,
   "id": "584762f5",
   "metadata": {},
   "outputs": [],
   "source": [
    "def find_unique_cut_site(record, enzyme):\n",
    "    assert enzyme in record.once_cutters()\n",
    "    return record.seq.find(enzyme.site)"
   ]
  },
  {
   "cell_type": "code",
   "execution_count": 5,
   "id": "93973892",
   "metadata": {},
   "outputs": [],
   "source": [
    "def extend_primer_until_g():\n",
    "    pass"
   ]
  },
  {
   "cell_type": "code",
   "execution_count": 6,
   "id": "f8ec9224",
   "metadata": {},
   "outputs": [],
   "source": [
    "homology_length = 20"
   ]
  },
  {
   "cell_type": "markdown",
   "id": "6f0a09f5",
   "metadata": {},
   "source": [
    "## T7 initiation series primers"
   ]
  },
  {
   "cell_type": "markdown",
   "id": "6ab3f68b",
   "metadata": {},
   "source": [
    "This series requires a primer that binds to the anchor sequences and shares homology with the HindIII digested site + T1T2 terminators and a primer that binds to the 5' end of the placeholder initiator and the KpnI digestion + Tac promoter sequence."
   ]
  },
  {
   "cell_type": "code",
   "execution_count": 7,
   "id": "e440a34a",
   "metadata": {},
   "outputs": [
    {
     "data": {
      "text/markdown": [
       "| Ft# | Label or Note    | Dir | Sta  | End  | Len | type         | orf? |\n",
       "|-----|------------------|-----|------|------|-----|--------------|------|\n",
       "|   0 | L:T7\\promoter    | --> | 3060 | 3082 |  22 | promoter     |  no  |\n",
       "|   1 | L:T7\\+1\\Site     | --> | 3077 | 3078 |   1 | misc_feature |  no  |\n",
       "|   2 | L:5_prime_HR     | --> | 3075 | 3105 |  30 | CDS          |  no  |\n",
       "|   3 | L:Anchor region  | --> | 3105 | 3120 |  15 | CDS          |  no  |\n",
       "|   4 | L:Variable regio | --> | 3120 | 3320 | 200 | CDS          |  no  |\n",
       "|   5 | L:3_prime_HR     | --> | 0    | 3321 |  30 | CDS          |  no  |"
      ],
      "text/plain": [
       "+-----+------------------+-----+------+------+-----+--------------+------+\n",
       "| Ft# | Label or Note    | Dir | Sta  | End  | Len | type         | orf? |\n",
       "+-----+------------------+-----+------+------+-----+--------------+------+\n",
       "|   0 | L:T7\\promoter    | --> | 3060 | 3082 |  22 | promoter     |  no  |\n",
       "|   1 | L:T7\\+1\\Site     | --> | 3077 | 3078 |   1 | misc_feature |  no  |\n",
       "|   2 | L:5_prime_HR     | --> | 3075 | 3105 |  30 | CDS          |  no  |\n",
       "|   3 | L:Anchor region  | --> | 3105 | 3120 |  15 | CDS          |  no  |\n",
       "|   4 | L:Variable regio | --> | 3120 | 3320 | 200 | CDS          |  no  |\n",
       "|   5 | L:3_prime_HR     | --> | 0    | 3321 |  30 | CDS          |  no  |\n",
       "+-----+------------------+-----+------+------+-----+--------------+------+"
      ]
     },
     "execution_count": 7,
     "metadata": {},
     "output_type": "execute_result"
    }
   ],
   "source": [
    "t7_init = GenbankRecord(read(t7_init_construct_path))\n",
    "pFC53t1t2 = GenbankRecord(read(pFC53T1T1_path))\n",
    "t7_init.list_features()"
   ]
  },
  {
   "cell_type": "code",
   "execution_count": 8,
   "id": "e557274c",
   "metadata": {},
   "outputs": [
    {
     "data": {
      "text/markdown": [
       "| Ft# | Label or Note    | Dir | Sta  | End  |  Len | type         | orf? |\n",
       "|-----|------------------|-----|------|------|------|--------------|------|\n",
       "|   0 | L:Airn           | <-- | 378  | 1765 | 1387 | CDS          |  no  |\n",
       "|   1 | L:Amp            | <-- | 2804 | 3637 |  833 | CDS          |  no  |\n",
       "|   2 | L:ApaLI          | --> | 2295 | 2301 |    6 | misc_feature |  no  |\n",
       "|   3 | L:ApaLI          | --> | 3541 | 3547 |    6 | misc_feature |  no  |\n",
       "|   4 | L:Repeat         | --> | 985  | 1058 |   73 | repeat_unit  |  no  |\n",
       "|   5 | L:Repeat\\2       | --> | 1066 | 1140 |   74 | repeat_unit  |  no  |\n",
       "|   6 | L:tac\\promoter   | <-- | 1765 | 1794 |   29 | promoter     |  no  |\n",
       "|   7 | L:T1T2\\terminato | <-- | 6    | 378  |  372 | terminator   |  no  |"
      ],
      "text/plain": [
       "+-----+------------------+-----+------+------+------+--------------+------+\n",
       "| Ft# | Label or Note    | Dir | Sta  | End  |  Len | type         | orf? |\n",
       "+-----+------------------+-----+------+------+------+--------------+------+\n",
       "|   0 | L:Airn           | <-- | 378  | 1765 | 1387 | CDS          |  no  |\n",
       "|   1 | L:Amp            | <-- | 2804 | 3637 |  833 | CDS          |  no  |\n",
       "|   2 | L:ApaLI          | --> | 2295 | 2301 |    6 | misc_feature |  no  |\n",
       "|   3 | L:ApaLI          | --> | 3541 | 3547 |    6 | misc_feature |  no  |\n",
       "|   4 | L:Repeat         | --> | 985  | 1058 |   73 | repeat_unit  |  no  |\n",
       "|   5 | L:Repeat\\2       | --> | 1066 | 1140 |   74 | repeat_unit  |  no  |\n",
       "|   6 | L:tac\\promoter   | <-- | 1765 | 1794 |   29 | promoter     |  no  |\n",
       "|   7 | L:T1T2\\terminato | <-- | 6    | 378  |  372 | terminator   |  no  |\n",
       "+-----+------------------+-----+------+------+------+--------------+------+"
      ]
     },
     "execution_count": 8,
     "metadata": {},
     "output_type": "execute_result"
    }
   ],
   "source": [
    "pFC53t1t2.list_features()"
   ]
  },
  {
   "cell_type": "code",
   "execution_count": 9,
   "id": "3e12342d",
   "metadata": {},
   "outputs": [
    {
     "data": {
      "text/plain": [
       "Dseqrecord(-15)"
      ]
     },
     "execution_count": 9,
     "metadata": {},
     "output_type": "execute_result"
    }
   ],
   "source": [
    "anchor_region = get_feature_by_name(t7_init, 'Anchor_region')\n",
    "anchor_region"
   ]
  },
  {
   "cell_type": "markdown",
   "id": "dd9f01fe",
   "metadata": {},
   "source": [
    "HinIII cut site is adjacent to the T1T2 terminators."
   ]
  },
  {
   "cell_type": "code",
   "execution_count": 10,
   "id": "53f52752",
   "metadata": {},
   "outputs": [
    {
     "data": {
      "text/plain": [
       "Dseq(-26)\n",
       "GGTACCCATTATACGAGCCGATGATT\n",
       "CCATGGGTAATATGCTCGGCTACTAA"
      ]
     },
     "execution_count": 10,
     "metadata": {},
     "output_type": "execute_result"
    }
   ],
   "source": [
    "tac_promoter_homology_start = pFC53t1t2.features[6].location.start - (len(KpnI.site))\n",
    "tac_promoter_homology_end =  pFC53t1t2.features[6].location.start + homology_length\n",
    "tac_promoter_homology = Dseqrecord(pFC53t1t2.seq[tac_promoter_homology_start:tac_promoter_homology_end])\n",
    "tac_promoter_homology.seq"
   ]
  },
  {
   "cell_type": "markdown",
   "id": "f8404a71",
   "metadata": {},
   "source": [
    "Take reverse complement of tac promoter and add to the anchor region to create the forward primer."
   ]
  },
  {
   "cell_type": "code",
   "execution_count": 11,
   "id": "c2ff9325",
   "metadata": {},
   "outputs": [
    {
     "name": "stdout",
     "output_type": "stream",
     "text": [
      "AATCATCGGCTCGTATAATGGGTACCCACGTTTGGCCACCA\n"
     ]
    }
   ],
   "source": [
    "t7_init_tac_primer = tac_promoter_homology.reverse_complement() + anchor_region\n",
    "print(t7_init_tac_primer.seq)"
   ]
  },
  {
   "cell_type": "markdown",
   "id": "07731065",
   "metadata": {},
   "source": [
    "The second primer will bound an extension region and share homology to the T1T2 terminators."
   ]
  },
  {
   "cell_type": "code",
   "execution_count": 12,
   "id": "de609884",
   "metadata": {},
   "outputs": [],
   "source": [
    "extension_region_length = 1000"
   ]
  },
  {
   "cell_type": "code",
   "execution_count": 13,
   "id": "f68c3547",
   "metadata": {
    "scrolled": true
   },
   "outputs": [],
   "source": [
    "three_prime_arm = t7_init.features[5]\n",
    "start = three_prime_arm.location.start + len(three_prime_arm)\n",
    "end = start + extension_region_length\n",
    "extension_region = t7_init.seq[start:end]"
   ]
  },
  {
   "cell_type": "code",
   "execution_count": 14,
   "id": "1eb5bc4a",
   "metadata": {
    "scrolled": true
   },
   "outputs": [
    {
     "data": {
      "text/plain": [
       "Dseq(-20)\n",
       "GTGCACACAGCCCAGCTTGG\n",
       "CACGTGTGTCGGGTCGAACC"
      ]
     },
     "execution_count": 14,
     "metadata": {},
     "output_type": "execute_result"
    }
   ],
   "source": [
    "# last 20 nucleotides\n",
    "extension_binding_site = extension_region[-homology_length:].reverse_complement()\n",
    "extension_binding_site"
   ]
  },
  {
   "cell_type": "markdown",
   "id": "38ccd185",
   "metadata": {},
   "source": [
    "Define homology target for h1t2 terminators."
   ]
  },
  {
   "cell_type": "code",
   "execution_count": 15,
   "id": "9a7da388",
   "metadata": {},
   "outputs": [
    {
     "data": {
      "text/plain": [
       "Dseq(-26)\n",
       "TCGTTTTATTTGATGCCTGGAAGCTT\n",
       "AGCAAAATAAACTACGGACCTTCGAA"
      ]
     },
     "execution_count": 15,
     "metadata": {},
     "output_type": "execute_result"
    }
   ],
   "source": [
    "t1t2_homology_start = pFC53t1t2.features[7].location.end - homology_length\n",
    "t1t2_homology_end = pFC53t1t2.features[7].location.end + (len(HindIII.site))\n",
    "\n",
    "t1t2_homology = pFC53t1t2[t1t2_homology_start:t1t2_homology_end]\n",
    "t1t2_homology.seq"
   ]
  },
  {
   "cell_type": "code",
   "execution_count": 16,
   "id": "501ce0a6",
   "metadata": {},
   "outputs": [
    {
     "name": "stdout",
     "output_type": "stream",
     "text": [
      "TCGTTTTATTTGATGCCTGGAAGCTTGTGCACACAGCCCAGCTTGG\n"
     ]
    }
   ],
   "source": [
    "t7_init_t1t2_primer = t1t2_homology.seq + extension_binding_site \n",
    "print(t7_init_t1t2_primer)"
   ]
  },
  {
   "cell_type": "markdown",
   "id": "6ae52c85",
   "metadata": {},
   "source": [
    "## T7 termination series primers"
   ]
  },
  {
   "cell_type": "code",
   "execution_count": 17,
   "id": "59845f39",
   "metadata": {},
   "outputs": [
    {
     "data": {
      "text/markdown": [
       "| Ft# | Label or Note    | Dir | Sta  | End  | Len | type         | orf? |\n",
       "|-----|------------------|-----|------|------|-----|--------------|------|\n",
       "|   0 | L:T3\\promoter    | <-- | 14   | 31   |  17 | promoter     |  no  |\n",
       "|   1 | L:T7\\promoter    | --> | 2568 | 2590 |  22 | promoter     |  no  |\n",
       "|   2 | L:T7\\+1\\Site     | --> | 2585 | 2586 |   1 | misc_feature |  no  |\n",
       "|   3 | L:placeholder in | --> | 2613 | 2813 | 200 | misc         |  no  |\n",
       "|   4 | L:Variable regio | <-- | 2823 | 3023 | 200 | CDS          |  no  |\n",
       "|   5 | L:Anchor region  | <-- | 3023 | 3038 |  15 | CDS          |  no  |"
      ],
      "text/plain": [
       "+-----+------------------+-----+------+------+-----+--------------+------+\n",
       "| Ft# | Label or Note    | Dir | Sta  | End  | Len | type         | orf? |\n",
       "+-----+------------------+-----+------+------+-----+--------------+------+\n",
       "|   0 | L:T3\\promoter    | <-- | 14   | 31   |  17 | promoter     |  no  |\n",
       "|   1 | L:T7\\promoter    | --> | 2568 | 2590 |  22 | promoter     |  no  |\n",
       "|   2 | L:T7\\+1\\Site     | --> | 2585 | 2586 |   1 | misc_feature |  no  |\n",
       "|   3 | L:placeholder in | --> | 2613 | 2813 | 200 | misc         |  no  |\n",
       "|   4 | L:Variable regio | <-- | 2823 | 3023 | 200 | CDS          |  no  |\n",
       "|   5 | L:Anchor region  | <-- | 3023 | 3038 |  15 | CDS          |  no  |\n",
       "+-----+------------------+-----+------+------+-----+--------------+------+"
      ]
     },
     "execution_count": 17,
     "metadata": {},
     "output_type": "execute_result"
    }
   ],
   "source": [
    "t7_term = GenbankRecord(read(t7_term_construct_path))\n",
    "t7_term.list_features()"
   ]
  },
  {
   "cell_type": "markdown",
   "id": "8b368a98",
   "metadata": {},
   "source": [
    "In this series primer with homology to the anchor region targets the t1t2 terminators to place the variable region adjacent to the terminators."
   ]
  },
  {
   "cell_type": "markdown",
   "id": "166c9723",
   "metadata": {},
   "source": [
    "The anchor region should be exactly the same sequence."
   ]
  },
  {
   "cell_type": "code",
   "execution_count": 18,
   "id": "93b7430d",
   "metadata": {},
   "outputs": [],
   "source": [
    "anchor_region_term = get_feature_by_name(t7_term, 'Anchor_region')\n",
    "assert anchor_region_term.seq == anchor_region.seq"
   ]
  },
  {
   "cell_type": "code",
   "execution_count": 19,
   "id": "35f89ef8",
   "metadata": {
    "scrolled": true
   },
   "outputs": [
    {
     "name": "stdout",
     "output_type": "stream",
     "text": [
      "TCGTTTTATTTGATGCCTGGAAGCTTCACGTTTGGCCACCA\n"
     ]
    }
   ],
   "source": [
    "t7_term_t1t2_primer =  t1t2_homology + anchor_region_term\n",
    "print(t7_term_t1t2_primer.seq)"
   ]
  },
  {
   "cell_type": "markdown",
   "id": "cdcf8361",
   "metadata": {},
   "source": [
    "The second primer binds the start of the string initiator which is currently a placeholder so this primer should *not* be ordered until this is updated."
   ]
  },
  {
   "cell_type": "code",
   "execution_count": 20,
   "id": "c6ac212e",
   "metadata": {},
   "outputs": [
    {
     "data": {
      "text/plain": [
       "Dseq(-20)\n",
       "GCTTTGCGGAGCGAGGACCA\n",
       "CGAAACGCCTCGCTCCTGGT"
      ]
     },
     "execution_count": 20,
     "metadata": {},
     "output_type": "execute_result"
    }
   ],
   "source": [
    "strong_init_target_start = t7_term.features[3].location.start\n",
    "strong_init_target_end = strong_init_target_start + homology_length\n",
    "stromg_init_target = t7_term.seq[strong_init_target_start:strong_init_target_end]\n",
    "stromg_init_target"
   ]
  },
  {
   "cell_type": "code",
   "execution_count": 21,
   "id": "c3fccc77",
   "metadata": {},
   "outputs": [
    {
     "data": {
      "text/plain": [
       "Dseq(-46)\n",
       "AATC..ACCA\n",
       "TTAG..TGGT"
      ]
     },
     "execution_count": 21,
     "metadata": {},
     "output_type": "execute_result"
    }
   ],
   "source": [
    "t7_term_tac_primer =  tac_promoter_homology.reverse_complement() + stromg_init_target\n",
    "t7_term_tac_primer.seq"
   ]
  },
  {
   "cell_type": "markdown",
   "id": "935030f1",
   "metadata": {},
   "source": [
    "Collect all primers and target constructs into one location."
   ]
  },
  {
   "cell_type": "code",
   "execution_count": 22,
   "id": "b59c718a",
   "metadata": {},
   "outputs": [],
   "source": [
    "primers = [\n",
    "    (t7_init_tac_primer, t7_init_t1t2_primer, t7_init),\n",
    "    (t7_term_tac_primer, t7_term_t1t2_primer, t7_term)\n",
    "]"
   ]
  },
  {
   "cell_type": "markdown",
   "id": "6f7e3fb2",
   "metadata": {},
   "source": [
    "## Verify amplification"
   ]
  },
  {
   "cell_type": "markdown",
   "id": "f9728137",
   "metadata": {},
   "source": [
    "Verify init amplicon contents."
   ]
  },
  {
   "cell_type": "code",
   "execution_count": 23,
   "id": "f54284cf",
   "metadata": {},
   "outputs": [],
   "source": [
    "init_product = pcr(*primers[0])\n",
    "term_product = pcr(*primers[1])"
   ]
  },
  {
   "cell_type": "code",
   "execution_count": 24,
   "id": "7638693d",
   "metadata": {},
   "outputs": [
    {
     "name": "stdout",
     "output_type": "stream",
     "text": [
      "Init amplicon passes all tests\n"
     ]
    }
   ],
   "source": [
    "assert init_product.seq.find(t7_init.extract_feature(4).seq)\n",
    "# check to make sure extension region is present\n",
    "assert init_product.seq.find(extension_region)\n",
    "print('Init amplicon passes all tests')"
   ]
  },
  {
   "cell_type": "markdown",
   "id": "b9ab46ad",
   "metadata": {},
   "source": [
    "Do the same for the termination amplicon."
   ]
  },
  {
   "cell_type": "code",
   "execution_count": 25,
   "id": "e23a1e07",
   "metadata": {},
   "outputs": [
    {
     "name": "stdout",
     "output_type": "stream",
     "text": [
      "Term amplicon passes all tests\n"
     ]
    }
   ],
   "source": [
    "# should contain the reverse complement of the variable region\n",
    "assert term_product.seq.find(t7_init.extract_feature(4).seq.reverse_complement())\n",
    "# should also contain the forward string initiator sequence\n",
    "assert term_product.seq.find(t7_term.extract_feature(3).seq)\n",
    "print('Term amplicon passes all tests')"
   ]
  },
  {
   "cell_type": "markdown",
   "id": "b67f10a8",
   "metadata": {},
   "source": [
    "## Verify assembly"
   ]
  },
  {
   "cell_type": "markdown",
   "id": "20e5db4d",
   "metadata": {},
   "source": [
    "Digest pFC53 and select the large fragment."
   ]
  },
  {
   "cell_type": "code",
   "execution_count": 26,
   "id": "bb081245",
   "metadata": {},
   "outputs": [
    {
     "data": {
      "text/plain": [
       "Dseqrecord(-2943)"
      ]
     },
     "execution_count": 26,
     "metadata": {},
     "output_type": "execute_result"
    }
   ],
   "source": [
    "pFC53_large_fragment = max(pFC53t1t2.cut((KpnI, HindIII)), key=lambda f: len(f))\n",
    "pFC53_large_fragment"
   ]
  },
  {
   "cell_type": "markdown",
   "id": "5fde4edd",
   "metadata": {},
   "source": [
    "Assemble fragments into final construct."
   ]
  },
  {
   "cell_type": "code",
   "execution_count": 27,
   "id": "4dfa0c3d",
   "metadata": {
    "scrolled": true
   },
   "outputs": [
    {
     "data": {
      "text/html": [
       "<pre> -|1298bp_PCR_prod|25\n",
       "|                  \\/\n",
       "|                  /\\\n",
       "|                  25|name_rc|25\n",
       "|                             \\/\n",
       "|                             /\\\n",
       "|                             25-\n",
       "|                                |\n",
       " --------------------------------</pre>"
      ],
      "text/plain": [
       "Contig(o4191)"
      ]
     },
     "execution_count": 27,
     "metadata": {},
     "output_type": "execute_result"
    }
   ],
   "source": [
    "init_assembly = Assembly([init_product, pFC53_large_fragment], limit=20).assemble_circular()[0]\n",
    "init_assembly"
   ]
  },
  {
   "cell_type": "code",
   "execution_count": 28,
   "id": "af74d72a",
   "metadata": {},
   "outputs": [
    {
     "data": {
      "text/markdown": [
       "| Ft# | Label or Note    | Dir | Sta  | End  | Len | type         | orf? |\n",
       "|-----|------------------|-----|------|------|-----|--------------|------|\n",
       "|   0 | L:name           | --> | 20   | 41   |  21 | primer_bind  |  no  |\n",
       "|   1 | L:Anchor region  | --> | 26   | 41   |  15 | CDS          |  no  |\n",
       "|   2 | L:Variable regio | --> | 41   | 241  | 200 | CDS          |  no  |\n",
       "|   3 | L:3_prime_HR     | --> | 241  | 271  |  30 | CDS          |  no  |\n",
       "|   4 | L:name           | <-- | 487  | 507  |  20 | primer_bind  |  no  |\n",
       "|   5 | L:T1T2\\terminato | --> | 1282 | 1654 | 372 | terminator   |  no  |\n",
       "|   6 | L:Amp            | --> | 2343 | 3176 | 833 | CDS          |  no  |\n",
       "|   7 | L:ApaLI          | <-- | 2433 | 2439 |   6 | misc_feature |  no  |\n",
       "|   8 | L:ApaLI          | <-- | 1277 | 1283 |   6 | misc_feature |  no  |\n",
       "|   9 | L:tac\\promoter   | --> | 1784 | 1813 |  29 | promoter     |  no  |"
      ],
      "text/plain": [
       "+-----+------------------+-----+------+------+-----+--------------+------+\n",
       "| Ft# | Label or Note    | Dir | Sta  | End  | Len | type         | orf? |\n",
       "+-----+------------------+-----+------+------+-----+--------------+------+\n",
       "|   0 | L:name           | --> | 20   | 41   |  21 | primer_bind  |  no  |\n",
       "|   1 | L:Anchor region  | --> | 26   | 41   |  15 | CDS          |  no  |\n",
       "|   2 | L:Variable regio | --> | 41   | 241  | 200 | CDS          |  no  |\n",
       "|   3 | L:3_prime_HR     | --> | 241  | 271  |  30 | CDS          |  no  |\n",
       "|   4 | L:name           | <-- | 487  | 507  |  20 | primer_bind  |  no  |\n",
       "|   5 | L:T1T2\\terminato | --> | 1282 | 1654 | 372 | terminator   |  no  |\n",
       "|   6 | L:Amp            | --> | 2343 | 3176 | 833 | CDS          |  no  |\n",
       "|   7 | L:ApaLI          | <-- | 2433 | 2439 |   6 | misc_feature |  no  |\n",
       "|   8 | L:ApaLI          | <-- | 1277 | 1283 |   6 | misc_feature |  no  |\n",
       "|   9 | L:tac\\promoter   | --> | 1784 | 1813 |  29 | promoter     |  no  |\n",
       "+-----+------------------+-----+------+------+-----+--------------+------+"
      ]
     },
     "execution_count": 28,
     "metadata": {},
     "output_type": "execute_result"
    }
   ],
   "source": [
    "init_assembly.list_features()"
   ]
  },
  {
   "cell_type": "code",
   "execution_count": 29,
   "id": "23e2ee79",
   "metadata": {},
   "outputs": [
    {
     "data": {
      "text/html": [
       "<pre> -|477bp_PCR_prod|25\n",
       "|                 \\/\n",
       "|                 /\\\n",
       "|                 25|name_rc|25\n",
       "|                            \\/\n",
       "|                            /\\\n",
       "|                            25-\n",
       "|                               |\n",
       " -------------------------------</pre>"
      ],
      "text/plain": [
       "Contig(o3370)"
      ]
     },
     "execution_count": 29,
     "metadata": {},
     "output_type": "execute_result"
    }
   ],
   "source": [
    "term_assembly = Assembly([term_product, pFC53_large_fragment], limit=20).assemble_circular()[0]\n",
    "term_assembly"
   ]
  },
  {
   "cell_type": "code",
   "execution_count": 30,
   "id": "5f60977d",
   "metadata": {
    "scrolled": true
   },
   "outputs": [
    {
     "data": {
      "text/markdown": [
       "| Ft# | Label or Note    | Dir | Sta  | End  | Len | type         | orf? |\n",
       "|-----|------------------|-----|------|------|-----|--------------|------|\n",
       "|   0 | L:placeholder in | --> | 26   | 226  | 200 | misc         |  no  |\n",
       "|   1 | L:name           | --> | 26   | 46   |  20 | primer_bind  |  no  |\n",
       "|   2 | L:Variable regio | <-- | 236  | 436  | 200 | CDS          |  no  |\n",
       "|   3 | L:Anchor region  | <-- | 436  | 451  |  15 | CDS          |  no  |\n",
       "|   4 | L:name           | <-- | 436  | 451  |  15 | primer_bind  |  no  |\n",
       "|   5 | L:T1T2\\terminato | --> | 495  | 867  | 372 | terminator   |  no  |\n",
       "|   6 | L:Amp            | --> | 1556 | 2389 | 833 | CDS          |  no  |\n",
       "|   7 | L:ApaLI          | <-- | 1646 | 1652 |   6 | misc_feature |  no  |\n",
       "|   8 | L:ApaLI          | <-- | 2892 | 2898 |   6 | misc_feature |  no  |\n",
       "|   9 | L:tac\\promoter   | --- | 0    | 3370 |  29 | promoter     |  no  |"
      ],
      "text/plain": [
       "+-----+------------------+-----+------+------+-----+--------------+------+\n",
       "| Ft# | Label or Note    | Dir | Sta  | End  | Len | type         | orf? |\n",
       "+-----+------------------+-----+------+------+-----+--------------+------+\n",
       "|   0 | L:placeholder in | --> | 26   | 226  | 200 | misc         |  no  |\n",
       "|   1 | L:name           | --> | 26   | 46   |  20 | primer_bind  |  no  |\n",
       "|   2 | L:Variable regio | <-- | 236  | 436  | 200 | CDS          |  no  |\n",
       "|   3 | L:Anchor region  | <-- | 436  | 451  |  15 | CDS          |  no  |\n",
       "|   4 | L:name           | <-- | 436  | 451  |  15 | primer_bind  |  no  |\n",
       "|   5 | L:T1T2\\terminato | --> | 495  | 867  | 372 | terminator   |  no  |\n",
       "|   6 | L:Amp            | --> | 1556 | 2389 | 833 | CDS          |  no  |\n",
       "|   7 | L:ApaLI          | <-- | 1646 | 1652 |   6 | misc_feature |  no  |\n",
       "|   8 | L:ApaLI          | <-- | 2892 | 2898 |   6 | misc_feature |  no  |\n",
       "|   9 | L:tac\\promoter   | --- | 0    | 3370 |  29 | promoter     |  no  |\n",
       "+-----+------------------+-----+------+------+-----+--------------+------+"
      ]
     },
     "execution_count": 30,
     "metadata": {},
     "output_type": "execute_result"
    }
   ],
   "source": [
    "term_assembly.list_features()"
   ]
  },
  {
   "cell_type": "markdown",
   "id": "f4a62d72",
   "metadata": {},
   "source": [
    "This confirms that these primers work for the inserts tested (insert 1), also need to check that these primers will be successful for all other inserts. Here I am using files produced by the snakemake pipeline. If they do not exist these checks will not run / fail."
   ]
  },
  {
   "cell_type": "code",
   "execution_count": 31,
   "id": "98ff4af1",
   "metadata": {},
   "outputs": [],
   "source": [
    "t7_init_constructs_dir = '../output/insert_sequences/constructs/T7_initiation_series'\n",
    "t7_term_constructs_dir = '../output/insert_sequences/constructs/T7_termination_series'"
   ]
  },
  {
   "cell_type": "code",
   "execution_count": 35,
   "id": "946ca9ef",
   "metadata": {},
   "outputs": [],
   "source": [
    "def test_ensemble(construct_dir, primers):\n",
    "    cd = Path(construct_dir)\n",
    "    if cd.is_dir():\n",
    "        for each_construct in cd.iterdir():\n",
    "            print(each_construct)\n",
    "            template = GenbankRecord(read(str(each_construct)))\n",
    "            amplicon = pcr(*primers, template)\n",
    "            assert amplicon\n",
    "            construct = Assembly(\n",
    "                [term_product, pFC53_large_fragment], \n",
    "                limit=20\n",
    "            ).assemble_circular()[0]\n",
    "            assert construct\n",
    "            print(f'{each_construct.name} passed')\n",
    "    else:\n",
    "        print(f'{construct_dir} does not exist')"
   ]
  },
  {
   "cell_type": "code",
   "execution_count": 38,
   "id": "51c797b7",
   "metadata": {},
   "outputs": [],
   "source": [
    "#test_ensemble(t7_init_constructs_dir, primers[0][0:2])"
   ]
  },
  {
   "cell_type": "code",
   "execution_count": 37,
   "id": "9a0180c5",
   "metadata": {},
   "outputs": [],
   "source": [
    "#test_ensemble(t7_term_constructs_dir, primers[1][0:2])"
   ]
  },
  {
   "cell_type": "markdown",
   "id": "e7b09c2d",
   "metadata": {},
   "source": [
    "## Write primers"
   ]
  },
  {
   "cell_type": "code",
   "execution_count": 44,
   "id": "453064b3",
   "metadata": {},
   "outputs": [],
   "source": [
    "tac_init_primer_path = '../resources/files/primers/Tac_initiation_primers.fa'\n",
    "tac_term_primer_path = '../resources/files/primers/Tac_termination_primers.fa'\n",
    "\n",
    "Path(tac_init_primer_path).parent.mkdir(parents=True, exist_ok=True)"
   ]
  },
  {
   "cell_type": "code",
   "execution_count": 40,
   "id": "a725a681",
   "metadata": {},
   "outputs": [],
   "source": [
    "def label_primer_pair(primers, series):\n",
    "    # clean up primer labels and mark with hash\n",
    "    primers = list(primers)\n",
    "    primers[0] = Dseqrecord(primers[0])\n",
    "    primers[1] = Dseqrecord(primers[1])\n",
    "    primers[0].id = f'{series}_fwd_primer'\n",
    "    primers[1].id = f'{series}_rev_primer'\n",
    "    primers[0].stamp()\n",
    "    primers[1].stamp()\n",
    "    \n",
    "    return primers"
   ]
  },
  {
   "cell_type": "code",
   "execution_count": 41,
   "id": "08a39a39",
   "metadata": {},
   "outputs": [],
   "source": [
    "def write_primers(primers, output_path):\n",
    "    content = ''\n",
    "    with open(str(output_path), 'w') as handle:\n",
    "        for primer in primers:\n",
    "            fa = primer.format('fasta') + '\\n'\n",
    "            handle.write(fa)\n",
    "            content += fa\n",
    "    return content"
   ]
  },
  {
   "cell_type": "code",
   "execution_count": 42,
   "id": "ffc1fb78",
   "metadata": {},
   "outputs": [
    {
     "name": "stdout",
     "output_type": "stream",
     "text": [
      "tac_init_fwd_primer\n",
      "tac_init_rev_primer\n"
     ]
    }
   ],
   "source": [
    "init_primers = label_primer_pair(primers[0][:2], 'tac_init')\n",
    "term_primers = label_primer_pair(primers[1][:2], 'tac_term')\n",
    "print(init_primers[0].id)\n",
    "print(init_primers[1].id)"
   ]
  },
  {
   "cell_type": "code",
   "execution_count": 46,
   "id": "ac10da66",
   "metadata": {},
   "outputs": [
    {
     "name": "stdout",
     "output_type": "stream",
     "text": [
      ">tac_init_fwd_primer <unknown description> SEGUID_StueYkDsp0g9rG0FYTShzQ1ores\n",
      "AATCATCGGCTCGTATAATGGGTACCCACGTTTGGCCACCA\n",
      ">tac_init_rev_primer SEGUID_mP_kGr30Nx0VjMatTGUSzM1p7V0\n",
      "TCGTTTTATTTGATGCCTGGAAGCTTGTGCACACAGCCCAGCTTGG\n",
      "\n"
     ]
    }
   ],
   "source": [
    "print(write_primers(init_primers, tac_init_primer_path))"
   ]
  },
  {
   "cell_type": "code",
   "execution_count": 45,
   "id": "b1d2f340",
   "metadata": {},
   "outputs": [
    {
     "name": "stdout",
     "output_type": "stream",
     "text": [
      ">tac_term_fwd_primer <unknown description> SEGUID_84t5SYM-4gvSXkhbX9iZic_SKLc\n",
      "AATCATCGGCTCGTATAATGGGTACCGCTTTGCGGAGCGAGGACCA\n",
      ">tac_term_rev_primer <unknown description> SEGUID_qyadq-psR4Sb0RfEY0Kwz98EmVU\n",
      "TCGTTTTATTTGATGCCTGGAAGCTTCACGTTTGGCCACCA\n",
      "\n"
     ]
    }
   ],
   "source": [
    "print(write_primers(term_primers, tac_term_primer_path))"
   ]
  }
 ],
 "metadata": {
  "kernelspec": {
   "display_name": "Python 3",
   "language": "python",
   "name": "python3"
  },
  "language_info": {
   "codemirror_mode": {
    "name": "ipython",
    "version": 3
   },
   "file_extension": ".py",
   "mimetype": "text/x-python",
   "name": "python",
   "nbconvert_exporter": "python",
   "pygments_lexer": "ipython3",
   "version": "3.9.5"
  }
 },
 "nbformat": 4,
 "nbformat_minor": 5
}
