{
 "cells": [
  {
   "cell_type": "markdown",
   "id": "72efcc70",
   "metadata": {},
   "source": [
    "# Debug simulate assembly"
   ]
  },
  {
   "cell_type": "code",
   "execution_count": 1,
   "id": "e9537c23",
   "metadata": {},
   "outputs": [],
   "source": [
    "import os\n",
    "import sys\n",
    "from pathlib import Path\n",
    "import random\n",
    "import numpy as np\n",
    "\n",
    "import pytest\n",
    "from pydna.genbankrecord import GenbankRecord\n",
    "from pydna.readers import read\n",
    "from pydna.dseqrecord import Dseqrecord\n",
    "\n"
   ]
  },
  {
   "cell_type": "code",
   "execution_count": 2,
   "id": "40a57bd3",
   "metadata": {},
   "outputs": [],
   "source": [
    "SCRIPTS = Path('../scripts')\n",
    "TEST_FILES = Path('../scripts/test_files')\n",
    "INSERT_DIR = TEST_FILES.joinpath('assembled_inserts')\n",
    "T7_INIT_BACKBONE = TEST_FILES.joinpath('backbones/pFC9.gb')\n",
    "T7_TERM_BACKBONE = TEST_FILES.joinpath('backbones/pFC8.gb')"
   ]
  },
  {
   "cell_type": "code",
   "execution_count": 3,
   "id": "fe666a1a",
   "metadata": {},
   "outputs": [],
   "source": [
    "sys.path.append(str(SCRIPTS))"
   ]
  },
  {
   "cell_type": "code",
   "execution_count": 4,
   "id": "cf46fe12",
   "metadata": {},
   "outputs": [],
   "source": [
    "from simulate_assembly import *"
   ]
  },
  {
   "cell_type": "markdown",
   "id": "3ebd4d67",
   "metadata": {},
   "source": [
    "## Test termination series"
   ]
  },
  {
   "cell_type": "markdown",
   "id": "a60583d6",
   "metadata": {},
   "source": [
    "Termination series is throwing errors, namely when trying to assemble in the strong initiator which should not be a problem in theory because should share compatable sticky ends after HindIII and EcoRI digestion."
   ]
  },
  {
   "cell_type": "code",
   "execution_count": 5,
   "id": "67e620bd",
   "metadata": {},
   "outputs": [],
   "source": [
    "def strong_initiator():\n",
    "    # strong initiator seq not known unitl experiments with initiators are\n",
    "    # done. Seq doesn't matter as long as starts with HindIII site and ends\n",
    "    # with an EcoRI site so generate it it here.\n",
    "    si = Dseqrecord(\n",
    "        ''.join(\n",
    "            [\n",
    "            HindIII.site,\n",
    "            ''.join(list(np.random.choice(['A', 'T', 'C', 'G'], 200, replace=True))),\n",
    "            EcoRI.site\n",
    "            ]\n",
    "        )\n",
    "    )\n",
    "    return si"
   ]
  },
  {
   "cell_type": "code",
   "execution_count": 6,
   "id": "940b5f68",
   "metadata": {},
   "outputs": [],
   "source": [
    "def read_genbank_record(filepath):\n",
    "    # helper function for reading genbank files\n",
    "    return GenbankRecord(\n",
    "        read(filepath)\n",
    "    )"
   ]
  },
  {
   "cell_type": "code",
   "execution_count": 7,
   "id": "6acec698",
   "metadata": {},
   "outputs": [],
   "source": [
    "def get_assembled_inserts():\n",
    "    inserts = []\n",
    "    for each_ai in INSERT_DIR.iterdir():\n",
    "        inserts.append(\n",
    "            read_genbank_record(each_ai)\n",
    "        )\n",
    "    return inserts\n",
    "\n",
    "assembled_inserts = get_assembled_inserts()"
   ]
  },
  {
   "cell_type": "code",
   "execution_count": 8,
   "id": "475304a2",
   "metadata": {},
   "outputs": [],
   "source": [
    "T7_term_backbone = read_genbank_record(T7_TERM_BACKBONE)"
   ]
  },
  {
   "cell_type": "code",
   "execution_count": 9,
   "id": "277afc3c",
   "metadata": {},
   "outputs": [],
   "source": [
    "random_insert = assembled_inserts[random.randint(0, len(assembled_inserts))]"
   ]
  },
  {
   "cell_type": "code",
   "execution_count": 10,
   "id": "6eae73bd",
   "metadata": {},
   "outputs": [
    {
     "output_type": "stream",
     "name": "stdout",
     "text": [
      "<simulate_assembly.T7TerminationSeries object at 0x145d2daf0e80>\n"
     ]
    }
   ],
   "source": [
    "term = T7TerminationSeries(\n",
    "    'T7-term', \n",
    "     T7_term_backbone,\n",
    "     random_insert, \n",
    "     strong_initiator()\n",
    ")\n",
    "print(term)"
   ]
  },
  {
   "cell_type": "markdown",
   "id": "4d65997d",
   "metadata": {},
   "source": [
    "Get the initiator after digestion."
   ]
  },
  {
   "cell_type": "code",
   "execution_count": 11,
   "id": "c3dc5984",
   "metadata": {},
   "outputs": [
    {
     "output_type": "stream",
     "name": "stdout",
     "text": [
      "(\"5'\", 'agct')\n(\"5'\", 'aatt')\n"
     ]
    }
   ],
   "source": [
    "di = term.digested_initiator\n",
    "print(di.seq.five_prime_end())\n",
    "print(di.seq.three_prime_end())"
   ]
  },
  {
   "cell_type": "markdown",
   "id": "c606adb4",
   "metadata": {},
   "source": [
    "Sticky ends are as expected."
   ]
  },
  {
   "cell_type": "markdown",
   "id": "d026dd9a",
   "metadata": {},
   "source": [
    "Take a look at the digesteed backbone."
   ]
  },
  {
   "cell_type": "code",
   "execution_count": 12,
   "id": "70004834",
   "metadata": {
    "scrolled": true
   },
   "outputs": [
    {
     "output_type": "execute_result",
     "data": {
      "text/plain": [
       "Dseqrecord(-3105)"
      ]
     },
     "metadata": {},
     "execution_count": 12
    }
   ],
   "source": [
    "term.backbone_initiator_digest_lf"
   ]
  },
  {
   "cell_type": "markdown",
   "id": "77c7d1d4",
   "metadata": {},
   "source": [
    "Hold on why do we get a Dseqrecord here and not with `digested_initiator`? Also sticky ends look good."
   ]
  },
  {
   "cell_type": "code",
   "execution_count": 13,
   "id": "512b138d",
   "metadata": {},
   "outputs": [
    {
     "output_type": "execute_result",
     "data": {
      "text/plain": [
       "pydna.dseqrecord.Dseqrecord"
      ]
     },
     "metadata": {},
     "execution_count": 13
    }
   ],
   "source": [
    "type(term.backbone_initiator_digest_lf)"
   ]
  },
  {
   "cell_type": "code",
   "execution_count": 14,
   "id": "acd087fa",
   "metadata": {},
   "outputs": [
    {
     "output_type": "execute_result",
     "data": {
      "text/plain": [
       "pydna.dseqrecord.Dseqrecord"
      ]
     },
     "metadata": {},
     "execution_count": 14
    }
   ],
   "source": [
    "type(term.digested_initiator)"
   ]
  },
  {
   "cell_type": "markdown",
   "id": "5b53472f",
   "metadata": {},
   "source": [
    "Nevermid we do? **Oh**, since this is not Gibson assembly there is no additional homology besides the restriction site so need to reduce the `limit` term to at *max* the length of the restriction recognition site (6 nucleotides). If below cell works then this would be important to note for any assembly using restruction recognition sites as the source of sequence homology."
   ]
  },
  {
   "cell_type": "code",
   "execution_count": 15,
   "id": "d5e80cf3",
   "metadata": {},
   "outputs": [
    {
     "output_type": "execute_result",
     "data": {
      "text/plain": [
       "Assembly\n",
       "fragments..: 3105bp 210bp\n",
       "limit(bp)..: 6\n",
       "G.nodes....: 324\n",
       "algorithm..: common_sub_strings"
      ]
     },
     "metadata": {},
     "execution_count": 15
    }
   ],
   "source": [
    "a = Assembly((term.backbone_initiator_digest_lf, term.digested_initiator), limit=6)\n",
    "a"
   ]
  },
  {
   "cell_type": "markdown",
   "id": "f6853df2",
   "metadata": {},
   "source": [
    "Lots of nodes because of short limit."
   ]
  },
  {
   "cell_type": "markdown",
   "id": "c81fe0fc",
   "metadata": {},
   "source": [
    "Reduce max number of nodes, not sure exactly how many are needed but not 317."
   ]
  },
  {
   "cell_type": "code",
   "execution_count": 16,
   "id": "c7afb63d",
   "metadata": {},
   "outputs": [
    {
     "output_type": "execute_result",
     "data": {
      "text/plain": [
       "Assembly\n",
       "fragments..: 3105bp 210bp\n",
       "limit(bp)..: 6\n",
       "G.nodes....: 324\n",
       "algorithm..: common_sub_strings"
      ]
     },
     "metadata": {},
     "execution_count": 16
    }
   ],
   "source": [
    "a1 = Assembly((term.backbone_initiator_digest_lf, term.digested_initiator), limit=6)\n",
    "a1"
   ]
  },
  {
   "cell_type": "code",
   "execution_count": 30,
   "id": "8ad71141",
   "metadata": {},
   "outputs": [
    {
     "data": {
      "text/plain": [
       "[]"
      ]
     },
     "execution_count": 30,
     "metadata": {},
     "output_type": "execute_result"
    }
   ],
   "source": [
    "a1.assemble_circular()"
   ]
  },
  {
   "cell_type": "markdown",
   "id": "54983365",
   "metadata": {},
   "source": [
    "This still took forever try different algo that only looks for [terminal overlaps](https://pydna.readthedocs.io/#pydna.common_sub_strings.terminal_overlap)."
   ]
  },
  {
   "cell_type": "code",
   "execution_count": 16,
   "id": "5cfea2b5",
   "metadata": {},
   "outputs": [],
   "source": [
    "from pydna.common_sub_strings import terminal_overlap"
   ]
  },
  {
   "cell_type": "code",
   "execution_count": 19,
   "id": "fee97290",
   "metadata": {},
   "outputs": [
    {
     "name": "stdout",
     "output_type": "stream",
     "text": [
      "__init__() got an unexpected keyword argument 'algorithmfunction'\n"
     ]
    }
   ],
   "source": [
    "try:\n",
    "    a2=Assembly(\n",
    "        (term.backbone_initiator_digest_lf, term.digested_initiator), \n",
    "        limit=6, \n",
    "        algorithmfunction=terminal_overlap\n",
    "    )\n",
    "except Exception as e:\n",
    "    print(e)"
   ]
  },
  {
   "cell_type": "markdown",
   "id": "762afdd0",
   "metadata": {},
   "source": [
    "Ok it says in docs I could do this."
   ]
  },
  {
   "cell_type": "markdown",
   "id": "bd88a64e",
   "metadata": {},
   "source": [
    "Source code."
   ]
  },
  {
   "cell_type": "markdown",
   "id": "7520551f",
   "metadata": {},
   "source": [
    "```\n",
    "def __init__(self, frags=None, limit=25, algorithm=common_sub_strings):\n",
    "\n",
    "        # Fragments is a string subclass with some extra properties\n",
    "        # The order of the fragments has significance\n",
    "        fragments = []\n",
    "        for f in frags:\n",
    "            fragments.append(\n",
    "                {\n",
    "                    \"upper\": str(f.seq).upper(),\n",
    "                    \"mixed\": str(f.seq),\n",
    "                    \"name\": f.name,\n",
    "                    \"features\": f.features,\n",
    "                    \"nodes\": [],\n",
    "                }\n",
    "            )\n",
    "```\n",
    "argument is actuall just `algorithm`."
   ]
  },
  {
   "cell_type": "code",
   "execution_count": 62,
   "id": "d4cb9854",
   "metadata": {},
   "outputs": [
    {
     "name": "stdout",
     "output_type": "stream",
     "text": [
      "Assembly\n",
      "fragments..: 3105bp 210bp\n",
      "limit(bp)..: 4\n",
      "G.nodes....: 2\n",
      "algorithm..: terminal_overlap\n"
     ]
    },
    {
     "data": {
      "text/plain": [
       "{'begin': 'end',\n",
       " 'end': 'begin',\n",
       " 'begin_rc': 'end_rc',\n",
       " 'end_rc': 'begin_rc',\n",
       " 'AATT': 'AATT',\n",
       " 'AGCT': 'AGCT'}"
      ]
     },
     "execution_count": 62,
     "metadata": {},
     "output_type": "execute_result"
    }
   ],
   "source": [
    "lf = term.backbone_initiator_digest_lf\n",
    "lf.name = 'Large boy'\n",
    "insert = term.digested_initiator\n",
    "insert.name = 'Small boy'\n",
    "\n",
    "a2=Assembly(\n",
    "        (lf, insert), \n",
    "        limit=4, \n",
    "        algorithm=terminal_overlap\n",
    "    )\n",
    "print(a2)\n",
    "a2.nodemap"
   ]
  },
  {
   "cell_type": "markdown",
   "id": "735b657a",
   "metadata": {},
   "source": [
    "Test assemble linear for fun"
   ]
  },
  {
   "cell_type": "code",
   "execution_count": 63,
   "id": "baed2930",
   "metadata": {},
   "outputs": [
    {
     "data": {
      "text/plain": [
       "[Contig(-3311),\n",
       " Contig(-3311),\n",
       " Contig(-3105),\n",
       " Contig(-3105),\n",
       " Contig(-210),\n",
       " Contig(-210),\n",
       " Contig(-4),\n",
       " Contig(-4)]"
      ]
     },
     "execution_count": 63,
     "metadata": {},
     "output_type": "execute_result"
    }
   ],
   "source": [
    "a2.assemble_linear()"
   ]
  },
  {
   "cell_type": "code",
   "execution_count": 64,
   "id": "c1e467e6",
   "metadata": {},
   "outputs": [
    {
     "data": {
      "text/html": [
       "<pre>Large boy| 4\n",
       "          \\/\n",
       "          /\\\n",
       "           4|Small boy</pre>"
      ],
      "text/plain": [
       "Contig(-3311)"
      ]
     },
     "execution_count": 64,
     "metadata": {},
     "output_type": "execute_result"
    }
   ],
   "source": [
    "a2.assemble_linear()[0]"
   ]
  },
  {
   "cell_type": "code",
   "execution_count": 65,
   "id": "d660ac3d",
   "metadata": {},
   "outputs": [
    {
     "data": {
      "text/plain": [
       "[Contig(o6202), Contig(o3307), Contig(o3307), Contig(o412)]"
      ]
     },
     "execution_count": 65,
     "metadata": {},
     "output_type": "execute_result"
    }
   ],
   "source": [
    "a2.assemble_circular()"
   ]
  },
  {
   "cell_type": "markdown",
   "id": "1bb9d3ed",
   "metadata": {},
   "source": [
    "Make sure to select contig that is not assembled with the reverse complement of the large fragment. In this case it is second and third contigs."
   ]
  },
  {
   "cell_type": "code",
   "execution_count": 67,
   "id": "a995b2e1",
   "metadata": {},
   "outputs": [
    {
     "data": {
      "text/html": [
       "<pre> -|Large boy| 4\n",
       "|            \\/\n",
       "|            /\\\n",
       "|             4|Small boy| 4\n",
       "|                         \\/\n",
       "|                         /\\\n",
       "|                          4-\n",
       "|                            |\n",
       " ----------------------------</pre>"
      ],
      "text/plain": [
       "Contig(o3307)"
      ]
     },
     "execution_count": 67,
     "metadata": {},
     "output_type": "execute_result"
    }
   ],
   "source": [
    "a2.assemble_circular()[1]"
   ]
  },
  {
   "cell_type": "markdown",
   "id": "5ad03d05",
   "metadata": {},
   "source": [
    "This seems to work and using the terminal overlap algo is the way to go with lots of possible substrings due to short required length for RE digests. "
   ]
  },
  {
   "cell_type": "code",
   "execution_count": null,
   "metadata": {},
   "outputs": [],
   "source": [
    "dir(a2.assemble_circular()[1])"
   ]
  }
 ],
 "metadata": {
  "kernelspec": {
   "name": "python3",
   "display_name": "Python 3.9.5 64-bit ('pydna_build_environment': conda)"
  },
  "language_info": {
   "codemirror_mode": {
    "name": "ipython",
    "version": 3
   },
   "file_extension": ".py",
   "mimetype": "text/x-python",
   "name": "python",
   "nbconvert_exporter": "python",
   "pygments_lexer": "ipython3",
   "version": "3.9.5"
  },
  "interpreter": {
   "hash": "0becc668fa7d5dcaa80caa2804d6de7e872f9c6dca930bb73e9bc3e3f7a08bc6"
  }
 },
 "nbformat": 4,
 "nbformat_minor": 5
}