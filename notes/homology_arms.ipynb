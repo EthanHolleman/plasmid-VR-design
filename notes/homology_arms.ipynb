{
 "cells": [
  {
   "cell_type": "markdown",
   "id": "fb1de6cd",
   "metadata": {},
   "source": [
    "# Insert homology arms\n",
    "\n",
    "Each insert contains a 5' and 3' homology arm which include a KpnI and EcoRI recognition site respectively. These sequnces come directly from pFC8 and in this notebook I am creating genbank files of the desired regions and checking to make sure they have the features required."
   ]
  },
  {
   "cell_type": "code",
   "execution_count": 1,
   "id": "d47d3843",
   "metadata": {},
   "outputs": [],
   "source": [
    "import os\n",
    "from pydna.readers import read\n",
    "from pydna.design import primer_design\n",
    "from pydna.design import assembly_fragments\n",
    "from pydna.dseqrecord import Dseqrecord\n",
    "from pydna.assembly import Assembly\n",
    "from Bio.Restriction import *\n",
    "from pydna.amplicon import Amplicon\n",
    "from Bio.Seq import Seq\n",
    "from Bio import SeqIO\n",
    "import yaml\n",
    "import pprint"
   ]
  },
  {
   "cell_type": "code",
   "execution_count": 2,
   "id": "77544e2c",
   "metadata": {},
   "outputs": [],
   "source": [
    "pFC8_path = '../resources/files/genbank/pFC8.gb'\n",
    "pFC8 = read(pFC8_path)"
   ]
  },
  {
   "cell_type": "code",
   "execution_count": 3,
   "id": "e064f984",
   "metadata": {},
   "outputs": [],
   "source": [
    "arm_length = 30"
   ]
  },
  {
   "cell_type": "markdown",
   "id": "61705d80",
   "metadata": {},
   "source": [
    "## 5' arm"
   ]
  },
  {
   "cell_type": "markdown",
   "id": "cf40f958",
   "metadata": {},
   "source": [
    "The 5' arm is composed of the 30 nucleotides upstream of the KnpI recognition site."
   ]
  },
  {
   "cell_type": "markdown",
   "id": "3be5f167",
   "metadata": {},
   "source": [
    "First make sure KpnI is in fact a unique cutter."
   ]
  },
  {
   "cell_type": "code",
   "execution_count": 4,
   "id": "8a332545",
   "metadata": {},
   "outputs": [
    {
     "name": "stdout",
     "output_type": "stream",
     "text": [
      "[1033]\n"
     ]
    }
   ],
   "source": [
    "cut_location = KpnI.search(pFC8.seq)\n",
    "assert len(cut_location) == 1\n",
    "print(cut_location)"
   ]
  },
  {
   "cell_type": "markdown",
   "id": "9d18a370",
   "metadata": {},
   "source": [
    "Locate the recognition site in the sequence. This gives the start coordinate of the recognition site."
   ]
  },
  {
   "cell_type": "code",
   "execution_count": 5,
   "id": "9c5da000",
   "metadata": {},
   "outputs": [
    {
     "data": {
      "text/plain": [
       "1027"
      ]
     },
     "execution_count": 5,
     "metadata": {},
     "output_type": "execute_result"
    }
   ],
   "source": [
    "kpnI_start = pFC8.seq.find(KpnI.site)\n",
    "kpnI_start"
   ]
  },
  {
   "cell_type": "markdown",
   "id": "2b228928",
   "metadata": {},
   "source": [
    "Get the end position. Check to make sure the sequence at the start and end coordinates match the recognition site sequence."
   ]
  },
  {
   "cell_type": "code",
   "execution_count": 6,
   "id": "ed007283",
   "metadata": {},
   "outputs": [],
   "source": [
    "kpnI_end = kpnI_start + len(KpnI.site)\n",
    "assert str(pFC8.seq[kpnI_start:kpnI_end]) == str(KpnI.site)"
   ]
  },
  {
   "cell_type": "markdown",
   "id": "f0399378",
   "metadata": {},
   "source": [
    "Get the homology arm sequence."
   ]
  },
  {
   "cell_type": "code",
   "execution_count": 7,
   "id": "1b7b78bf",
   "metadata": {},
   "outputs": [],
   "source": [
    "five_arm_start = kpnI_end-arm_length\n",
    "five_arm_end = kpnI_end"
   ]
  },
  {
   "cell_type": "code",
   "execution_count": 8,
   "id": "7a50427a",
   "metadata": {},
   "outputs": [
    {
     "data": {
      "text/plain": [
       "Dseq(-30)\n",
       "CTCCAAGACCTCGAGGGGGGGCCCGGTACC\n",
       "GAGGTTCTGGAGCTCCCCCCCGGGCCATGG"
      ]
     },
     "execution_count": 8,
     "metadata": {},
     "output_type": "execute_result"
    }
   ],
   "source": [
    "five_arm = pFC8.seq[five_arm_start:five_arm_end]\n",
    "assert len(five_arm) == arm_length\n",
    "five_arm"
   ]
  },
  {
   "cell_type": "markdown",
   "id": "83bff14c",
   "metadata": {},
   "source": [
    "Double check to make sure last 6 nucleotides are the KpnI site."
   ]
  },
  {
   "cell_type": "code",
   "execution_count": 9,
   "id": "f4009e6e",
   "metadata": {},
   "outputs": [
    {
     "name": "stdout",
     "output_type": "stream",
     "text": [
      "These must match\n",
      "Last 6 5 arm: GGTACC\n",
      "KnpI site: GGTACC\n"
     ]
    }
   ],
   "source": [
    "assert str(five_arm[-6:]) == str(KpnI.site)\n",
    "print('These must match')\n",
    "print('Last 6 5 arm:', five_arm[-6:])\n",
    "print('KnpI site:', KpnI.site)"
   ]
  },
  {
   "cell_type": "markdown",
   "id": "ed94cd6b",
   "metadata": {},
   "source": [
    "Show the digestion."
   ]
  },
  {
   "cell_type": "code",
   "execution_count": 10,
   "id": "f065fb87",
   "metadata": {},
   "outputs": [
    {
     "data": {
      "text/plain": [
       "(Dseq(-29)\n",
       " CTCCAAGACCTCGAGGGGGGGCCCGGTAC\n",
       " GAGGTTCTGGAGCTCCCCCCCGGGC,\n",
       " Dseq(-5)\n",
       "     C\n",
       " CATGG)"
      ]
     },
     "execution_count": 10,
     "metadata": {},
     "output_type": "execute_result"
    }
   ],
   "source": [
    "five_arm.cut(KpnI)"
   ]
  },
  {
   "cell_type": "markdown",
   "id": "eac5e291",
   "metadata": {},
   "source": [
    "## 3' arm\n",
    "\n",
    "The 3' arm is composed of the EcoRI recognition site and 24 downstream nucleotides."
   ]
  },
  {
   "cell_type": "markdown",
   "id": "0624e6bd",
   "metadata": {},
   "source": [
    "Again find the location of the EcoRI site in pFC8 and confirm it is unique."
   ]
  },
  {
   "cell_type": "code",
   "execution_count": 11,
   "id": "a615de7a",
   "metadata": {},
   "outputs": [
    {
     "name": "stdout",
     "output_type": "stream",
     "text": [
      "[540]\n"
     ]
    }
   ],
   "source": [
    "eco_cut_location = EcoRI.search(pFC8.seq)\n",
    "assert len(eco_cut_location) == 1\n",
    "print(eco_cut_location)"
   ]
  },
  {
   "cell_type": "markdown",
   "id": "0c82295b",
   "metadata": {},
   "source": [
    "Get start and end positions of the recognition site."
   ]
  },
  {
   "cell_type": "code",
   "execution_count": 12,
   "id": "42a681d5",
   "metadata": {},
   "outputs": [
    {
     "data": {
      "text/plain": [
       "538"
      ]
     },
     "execution_count": 12,
     "metadata": {},
     "output_type": "execute_result"
    }
   ],
   "source": [
    "EcoRI_start = pFC8.seq.find(EcoRI.site)\n",
    "EcoRI_start"
   ]
  },
  {
   "cell_type": "code",
   "execution_count": 13,
   "id": "be8efc91",
   "metadata": {},
   "outputs": [],
   "source": [
    "EcoRI_end = EcoRI_start + len(EcoRI.site)"
   ]
  },
  {
   "cell_type": "code",
   "execution_count": 14,
   "id": "4e03be57",
   "metadata": {},
   "outputs": [],
   "source": [
    "assert str(pFC8.seq[EcoRI_start: EcoRI_end]) == EcoRI.site"
   ]
  },
  {
   "cell_type": "markdown",
   "id": "bb09c305",
   "metadata": {},
   "source": [
    "Get nucleotides **downstream** of the EcoRI recognition site to complete the homology arm."
   ]
  },
  {
   "cell_type": "code",
   "execution_count": 15,
   "id": "05ea6f10",
   "metadata": {},
   "outputs": [
    {
     "data": {
      "text/plain": [
       "Dseq(-30)\n",
       "GAATTCCCCCCCCAGTCGCCCCACGTACCC\n",
       "CTTAAGGGGGGGGTCAGCGGGGTGCATGGG"
      ]
     },
     "execution_count": 15,
     "metadata": {},
     "output_type": "execute_result"
    }
   ],
   "source": [
    "three_arm_start = EcoRI_start\n",
    "three_arm_end = EcoRI_start + arm_length\n",
    "three_arm = pFC8.seq[three_arm_start:three_arm_end]\n",
    "assert len(three_arm) == arm_length\n",
    "three_arm"
   ]
  },
  {
   "cell_type": "markdown",
   "id": "5942d332",
   "metadata": {},
   "source": [
    "Check that 3' arm begins with the recognition sequence."
   ]
  },
  {
   "cell_type": "code",
   "execution_count": 16,
   "id": "feae9e1d",
   "metadata": {},
   "outputs": [],
   "source": [
    "assert three_arm.find(EcoRI.site) == 0"
   ]
  },
  {
   "cell_type": "markdown",
   "id": "8edb7219",
   "metadata": {},
   "source": [
    "Show digestion"
   ]
  },
  {
   "cell_type": "code",
   "execution_count": 17,
   "id": "4e8a1593",
   "metadata": {},
   "outputs": [
    {
     "data": {
      "text/plain": [
       "(Dseq(-5)\n",
       " G\n",
       " CTTAA,\n",
       " Dseq(-29)\n",
       " AATTCCCCCCCCAGTCGCCCCACGTACCC\n",
       "     GGGGGGGGTCAGCGGGGTGCATGGG)"
      ]
     },
     "execution_count": 17,
     "metadata": {},
     "output_type": "execute_result"
    }
   ],
   "source": [
    "three_arm.cut(EcoRI)"
   ]
  },
  {
   "cell_type": "markdown",
   "id": "c1fff2be",
   "metadata": {},
   "source": [
    "## Write output files"
   ]
  },
  {
   "cell_type": "markdown",
   "id": "0b0a80e6",
   "metadata": {},
   "source": [
    "Write genbank formated files for both homology arms."
   ]
  },
  {
   "cell_type": "code",
   "execution_count": 31,
   "id": "75c0d5fd",
   "metadata": {},
   "outputs": [],
   "source": [
    "from pydna.genbankrecord import GenbankRecord\n",
    "import datetime"
   ]
  },
  {
   "cell_type": "code",
   "execution_count": 19,
   "id": "a604d6c2",
   "metadata": {},
   "outputs": [],
   "source": [
    "def write_seq_as_genbank(record, name, output_path, version=1.0, **kwargs):\n",
    "    g_record = GenbankRecord(record)\n",
    "    g_record.locus=name.replace(' ', '_')\n",
    "    g_record.id = f'v{version}'\n",
    "    g_record.stamp()\n",
    "    g_record.add_feature(0, len(record), name=name, **kwargs)\n",
    "    g_record.write(output_path)"
   ]
  },
  {
   "cell_type": "markdown",
   "id": "574f4e6a",
   "metadata": {},
   "source": [
    "Write genbank files for 5' and 3' arms."
   ]
  },
  {
   "cell_type": "code",
   "execution_count": 20,
   "id": "4d91f3c9",
   "metadata": {},
   "outputs": [],
   "source": [
    "author = 'Ethan Holleman'\n",
    "note_5 = f'Homology arm of variable region insert taken from (base 1) positions {five_arm_start+1}-{five_arm_end+1} of pFC8'\n",
    "note_3 = f'Homology arm of variable region insert taken from (base 1) positions {three_arm_start+1}-{three_arm_end+1} of pFC8'"
   ]
  },
  {
   "cell_type": "code",
   "execution_count": 30,
   "id": "b59e1c7c",
   "metadata": {},
   "outputs": [
    {
     "ename": "AttributeError",
     "evalue": "'method_descriptor' object has no attribute 'strftime'",
     "output_type": "error",
     "traceback": [
      "\u001b[0;31m---------------------------------------------------------------------------\u001b[0m",
      "\u001b[0;31mAttributeError\u001b[0m                            Traceback (most recent call last)",
      "\u001b[0;32m<ipython-input-30-498a00089359>\u001b[0m in \u001b[0;36m<module>\u001b[0;34m\u001b[0m\n\u001b[0;32m----> 1\u001b[0;31m \u001b[0mmod_date\u001b[0m \u001b[0;34m=\u001b[0m \u001b[0mdatetime\u001b[0m\u001b[0;34m.\u001b[0m\u001b[0mdate\u001b[0m\u001b[0;34m.\u001b[0m\u001b[0mstrftime\u001b[0m\u001b[0;34m(\u001b[0m\u001b[0mdatetime\u001b[0m\u001b[0;34m.\u001b[0m\u001b[0mnow\u001b[0m\u001b[0;34m(\u001b[0m\u001b[0;34m)\u001b[0m\u001b[0;34m,\u001b[0m \u001b[0;34m\"%m/%d/%Y\"\u001b[0m\u001b[0;34m)\u001b[0m\u001b[0;34m\u001b[0m\u001b[0;34m\u001b[0m\u001b[0m\n\u001b[0m",
      "\u001b[0;31mAttributeError\u001b[0m: 'method_descriptor' object has no attribute 'strftime'"
     ]
    }
   ],
   "source": [
    "mod_date = datetime.date.strftime(datetime.now(), \"%m/%d/%Y\")"
   ]
  },
  {
   "cell_type": "code",
   "execution_count": 28,
   "id": "dc104bb2",
   "metadata": {},
   "outputs": [
    {
     "data": {
      "text/html": [
       "<font face=monospace><a href='../resources/files/genbank/5_prime_homology_arm.gb' target='_blank'>../resources/files/genbank/5_prime_homology_arm.gb</a></font><br>"
      ]
     },
     "metadata": {},
     "output_type": "display_data"
    }
   ],
   "source": [
    "write_seq_as_genbank(\n",
    "    five_arm, \n",
    "    \"5' homology arm\", \n",
    "    '../resources/files/genbank/5_prime_homology_arm.gb', \n",
    "    author=author,\n",
    "    label='5_prime_HR',\n",
    "    note=note_5,\n",
    "    pFC8_start=five_arm_start,\n",
    "    pFC8_end=five_arm_end,\n",
    "    pFC8_seguid=pFC8.seq.seguid()\n",
    ")"
   ]
  },
  {
   "cell_type": "code",
   "execution_count": 27,
   "id": "156f3ab6",
   "metadata": {
    "scrolled": true
   },
   "outputs": [
    {
     "data": {
      "text/html": [
       "<font face=monospace><a href='../resources/files/genbank/3_prime_homology_arm.gb' target='_blank'>../resources/files/genbank/3_prime_homology_arm.gb</a></font><br>"
      ]
     },
     "metadata": {},
     "output_type": "display_data"
    }
   ],
   "source": [
    "write_seq_as_genbank(\n",
    "    three_arm, \n",
    "    \"3' homology arm\", \n",
    "    '../resources/files/genbank/3_prime_homology_arm.gb', \n",
    "    author=author,\n",
    "    label='3_prime_HR',\n",
    "    note=note_3,\n",
    "    pFC8_start=three_arm_start,\n",
    "    pFC8_end=three_arm_end,\n",
    "    pFC8_seguid=pFC8.seq.seguid()\n",
    ")"
   ]
  }
 ],
 "metadata": {
  "kernelspec": {
   "display_name": "Python 3",
   "language": "python",
   "name": "python3"
  },
  "language_info": {
   "codemirror_mode": {
    "name": "ipython",
    "version": 3
   },
   "file_extension": ".py",
   "mimetype": "text/x-python",
   "name": "python",
   "nbconvert_exporter": "python",
   "pygments_lexer": "ipython3",
   "version": "3.9.5"
  }
 },
 "nbformat": 4,
 "nbformat_minor": 5
}
