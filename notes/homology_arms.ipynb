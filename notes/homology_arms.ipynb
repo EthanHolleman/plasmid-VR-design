{
 "cells": [
  {
   "cell_type": "markdown",
   "id": "697ca430",
   "metadata": {},
   "source": [
    "# Insert homology arms\n",
    "\n",
    "Each insert contains a 5' and 3' homology arm which include a KpnI and EcoRI recognition site respectively. These sequnces come directly from pFC9 and in this notebook I am creating genbank files of the desired regions and checking to make sure they have the features required."
   ]
  },
  {
   "cell_type": "code",
   "execution_count": 1,
   "id": "2d989c61",
   "metadata": {},
   "outputs": [],
   "source": [
    "import os\n",
    "from pydna.readers import read\n",
    "from pydna.design import primer_design\n",
    "from pydna.assembly import Assembly\n",
    "from pydna.design import assembly_fragments\n",
    "from pydna.dseqrecord import Dseqrecord\n",
    "from Bio.Restriction import *\n",
    "from pydna.amplicon import Amplicon\n",
    "from Bio.Seq import Seq\n",
    "from Bio import SeqIO\n",
    "import yaml\n",
    "import pprint"
   ]
  },
  {
   "cell_type": "code",
   "execution_count": 2,
   "id": "7ab55612",
   "metadata": {},
   "outputs": [],
   "source": [
    "pFC9_path = '../resources/files/genbank/pFC9.gb'\n",
    "pFC9 = read(pFC9_path)"
   ]
  },
  {
   "cell_type": "code",
   "execution_count": 3,
   "id": "6ab1d1d2",
   "metadata": {},
   "outputs": [],
   "source": [
    "arm_length = 30"
   ]
  },
  {
   "cell_type": "markdown",
   "id": "ee57a75a",
   "metadata": {},
   "source": [
    "## 5' arm"
   ]
  },
  {
   "cell_type": "markdown",
   "id": "1144b894",
   "metadata": {},
   "source": [
    "The 5' arm is composed of the 30 nucleotides upstream of the KnpI recognition site."
   ]
  },
  {
   "cell_type": "markdown",
   "id": "f96199bb",
   "metadata": {},
   "source": [
    "First make sure KpnI is in fact a unique cutter."
   ]
  },
  {
   "cell_type": "code",
   "execution_count": 4,
   "id": "e037137e",
   "metadata": {},
   "outputs": [],
   "source": [
    "five_arm_cutter = SacI\n",
    "three_arm_cutter = EcoRI"
   ]
  },
  {
   "cell_type": "code",
   "execution_count": 5,
   "id": "b5ed1b13",
   "metadata": {},
   "outputs": [
    {
     "name": "stdout",
     "output_type": "stream",
     "text": [
      "[44]\n"
     ]
    }
   ],
   "source": [
    "cut_location = five_arm_cutter.search(pFC9.seq)\n",
    "assert len(cut_location) == 1\n",
    "print(cut_location)"
   ]
  },
  {
   "cell_type": "markdown",
   "id": "f90cacfe",
   "metadata": {},
   "source": [
    "Locate the recognition site in the sequence. This gives the start coordinate of the recognition site."
   ]
  },
  {
   "cell_type": "code",
   "execution_count": 6,
   "id": "48669b5d",
   "metadata": {},
   "outputs": [
    {
     "data": {
      "text/plain": [
       "38"
      ]
     },
     "execution_count": 6,
     "metadata": {},
     "output_type": "execute_result"
    }
   ],
   "source": [
    "kpnI_start = pFC9.seq.find(five_arm_cutter.site)\n",
    "kpnI_start"
   ]
  },
  {
   "cell_type": "markdown",
   "id": "149fd7bb",
   "metadata": {},
   "source": [
    "Get the end position. Check to make sure the sequence at the start and end coordinates match the recognition site sequence."
   ]
  },
  {
   "cell_type": "code",
   "execution_count": 7,
   "id": "61e8a01c",
   "metadata": {},
   "outputs": [],
   "source": [
    "kpnI_end = kpnI_start + len(five_arm_cutter.site)\n",
    "assert str(pFC9.seq[kpnI_start:kpnI_end]) == str(five_arm_cutter.site)"
   ]
  },
  {
   "cell_type": "markdown",
   "id": "d9967bc8",
   "metadata": {},
   "source": [
    "Get the homology arm sequence. Do not include the KpnI site."
   ]
  },
  {
   "cell_type": "code",
   "execution_count": 8,
   "id": "d223bcd6",
   "metadata": {},
   "outputs": [],
   "source": [
    "five_arm_start = kpnI_end-arm_length\n",
    "five_arm_end = kpnI_end"
   ]
  },
  {
   "cell_type": "code",
   "execution_count": 9,
   "id": "e5b9aa96",
   "metadata": {},
   "outputs": [],
   "source": [
    "five_arm_no_kpnI = pFC9.seq[five_arm_start:five_arm_end]"
   ]
  },
  {
   "cell_type": "markdown",
   "id": "5666ee61",
   "metadata": {},
   "source": [
    "Append the KpnI recognition site to the end of the 5' arm."
   ]
  },
  {
   "cell_type": "code",
   "execution_count": 10,
   "id": "23665c57",
   "metadata": {},
   "outputs": [
    {
     "data": {
      "text/plain": [
       "(Dseq(-35)\n",
       " TACG..CTCGGTAC\n",
       " ATGC..GAGC    ,\n",
       " Dseq(-5)\n",
       "     C\n",
       " CATGG)"
      ]
     },
     "execution_count": 10,
     "metadata": {},
     "output_type": "execute_result"
    }
   ],
   "source": [
    "five_arm = five_arm_no_kpnI + Dseqrecord(KpnI.site).seq\n",
    "five_arm.cut(KpnI)"
   ]
  },
  {
   "cell_type": "markdown",
   "id": "eb8a1c67",
   "metadata": {},
   "source": [
    "Double check to make sure last 6 nucleotides are the KpnI site."
   ]
  },
  {
   "cell_type": "code",
   "execution_count": 11,
   "id": "a0eee81d",
   "metadata": {},
   "outputs": [
    {
     "name": "stdout",
     "output_type": "stream",
     "text": [
      "These must match\n",
      "Last 6 5 arm: GGTACC\n",
      "KnpI site: GGTACC\n"
     ]
    }
   ],
   "source": [
    "assert str(five_arm[-6:]) == str(KpnI.site)\n",
    "print('These must match')\n",
    "print('Last 6 5 arm:', five_arm[-6:])\n",
    "print('KnpI site:', KpnI.site)"
   ]
  },
  {
   "cell_type": "markdown",
   "id": "16ee4558",
   "metadata": {},
   "source": [
    "Show the digestion."
   ]
  },
  {
   "cell_type": "code",
   "execution_count": 12,
   "id": "fc9bd08e",
   "metadata": {},
   "outputs": [
    {
     "data": {
      "text/plain": [
       "(Dseq(-35)\n",
       " TACG..CTCGGTAC\n",
       " ATGC..GAGC    ,\n",
       " Dseq(-5)\n",
       "     C\n",
       " CATGG)"
      ]
     },
     "execution_count": 12,
     "metadata": {},
     "output_type": "execute_result"
    }
   ],
   "source": [
    "five_arm.cut(KpnI)"
   ]
  },
  {
   "cell_type": "code",
   "execution_count": 13,
   "id": "8eddcc21",
   "metadata": {},
   "outputs": [
    {
     "data": {
      "text/plain": [
       "36"
      ]
     },
     "execution_count": 13,
     "metadata": {},
     "output_type": "execute_result"
    }
   ],
   "source": [
    "len(five_arm)"
   ]
  },
  {
   "cell_type": "markdown",
   "id": "15544f00",
   "metadata": {},
   "source": [
    "## 3' arm\n",
    "\n",
    "The 3' arm is composed of the EcoRI recognition site and 24 downstream nucleotides."
   ]
  },
  {
   "cell_type": "markdown",
   "id": "7345b5e1",
   "metadata": {},
   "source": [
    "Again find the location of the EcoRI site in pFC9 and confirm it is unique."
   ]
  },
  {
   "cell_type": "code",
   "execution_count": 14,
   "id": "44f2ca1c",
   "metadata": {},
   "outputs": [
    {
     "name": "stdout",
     "output_type": "stream",
     "text": [
      "[534]\n"
     ]
    }
   ],
   "source": [
    "eco_cut_location = three_arm_cutter.search(pFC9.seq)\n",
    "assert len(eco_cut_location) == 1\n",
    "print(eco_cut_location)"
   ]
  },
  {
   "cell_type": "markdown",
   "id": "cb4b364f",
   "metadata": {},
   "source": [
    "Get start and end positions of the recognition site."
   ]
  },
  {
   "cell_type": "code",
   "execution_count": 15,
   "id": "21b72de8",
   "metadata": {},
   "outputs": [
    {
     "data": {
      "text/plain": [
       "532"
      ]
     },
     "execution_count": 15,
     "metadata": {},
     "output_type": "execute_result"
    }
   ],
   "source": [
    "EcoRI_start = pFC9.seq.find(EcoRI.site)\n",
    "EcoRI_start"
   ]
  },
  {
   "cell_type": "code",
   "execution_count": 16,
   "id": "e88aa6a7",
   "metadata": {},
   "outputs": [],
   "source": [
    "EcoRI_end = EcoRI_start + len(EcoRI.site)"
   ]
  },
  {
   "cell_type": "code",
   "execution_count": 17,
   "id": "9a7af7c5",
   "metadata": {},
   "outputs": [],
   "source": [
    "assert str(pFC9.seq[EcoRI_start: EcoRI_end]) == EcoRI.site"
   ]
  },
  {
   "cell_type": "markdown",
   "id": "4ef35675",
   "metadata": {},
   "source": [
    "Get nucleotides **downstream** of the EcoRI recognition site to complete the homology arm."
   ]
  },
  {
   "cell_type": "code",
   "execution_count": 18,
   "id": "03cc6748",
   "metadata": {},
   "outputs": [
    {
     "data": {
      "text/plain": [
       "Dseq(-30)\n",
       "GAATTCGTCGCAGTGACCGAGGCGAGGAGG\n",
       "CTTAAGCAGCGTCACTGGCTCCGCTCCTCC"
      ]
     },
     "execution_count": 18,
     "metadata": {},
     "output_type": "execute_result"
    }
   ],
   "source": [
    "three_arm_start = EcoRI_start\n",
    "three_arm_end = EcoRI_start + arm_length\n",
    "three_arm = pFC9.seq[three_arm_start:three_arm_end]\n",
    "assert len(three_arm) == arm_length\n",
    "three_arm"
   ]
  },
  {
   "cell_type": "markdown",
   "id": "32a1cb14",
   "metadata": {},
   "source": [
    "Check that 3' arm begins with the recognition sequence."
   ]
  },
  {
   "cell_type": "code",
   "execution_count": 19,
   "id": "0e184085",
   "metadata": {},
   "outputs": [],
   "source": [
    "assert three_arm.find(EcoRI.site) == 0"
   ]
  },
  {
   "cell_type": "markdown",
   "id": "252c2192",
   "metadata": {},
   "source": [
    "Show digestion"
   ]
  },
  {
   "cell_type": "code",
   "execution_count": 20,
   "id": "4343d549",
   "metadata": {},
   "outputs": [
    {
     "data": {
      "text/plain": [
       "(Dseq(-5)\n",
       " G\n",
       " CTTAA,\n",
       " Dseq(-29)\n",
       " AATTCGTCGCAGTGACCGAGGCGAGGAGG\n",
       "     GCAGCGTCACTGGCTCCGCTCCTCC)"
      ]
     },
     "execution_count": 20,
     "metadata": {},
     "output_type": "execute_result"
    }
   ],
   "source": [
    "three_arm.cut(EcoRI)"
   ]
  },
  {
   "cell_type": "markdown",
   "id": "adced50d",
   "metadata": {},
   "source": [
    "## Write output files"
   ]
  },
  {
   "cell_type": "markdown",
   "id": "20524518",
   "metadata": {},
   "source": [
    "Write genbank formated files for both homology arms."
   ]
  },
  {
   "cell_type": "code",
   "execution_count": 21,
   "id": "53ce0d5e",
   "metadata": {},
   "outputs": [],
   "source": [
    "from pydna.genbankrecord import GenbankRecord\n",
    "import datetime"
   ]
  },
  {
   "cell_type": "code",
   "execution_count": 22,
   "id": "e0122e83",
   "metadata": {},
   "outputs": [],
   "source": [
    "def write_seq_as_genbank(record, name, output_path, version=1.0, **kwargs):\n",
    "    g_record = GenbankRecord(record)\n",
    "    g_record.locus=name.replace(' ', '_')\n",
    "    g_record.id = f'v{version}'\n",
    "    g_record.stamp()\n",
    "    g_record.add_feature(0, len(record), name=name, **kwargs)\n",
    "    g_record.write(output_path)"
   ]
  },
  {
   "cell_type": "markdown",
   "id": "e1207489",
   "metadata": {},
   "source": [
    "Write genbank files for 5' and 3' arms."
   ]
  },
  {
   "cell_type": "code",
   "execution_count": 23,
   "id": "5ec9980b",
   "metadata": {},
   "outputs": [],
   "source": [
    "author = 'Ethan Holleman'\n",
    "note_5 = f'Homology arm of variable region insert taken from (base 1) positions {five_arm_start+1}-{five_arm_end+1} of pFC9'\n",
    "note_3 = f'Homology arm of variable region insert taken from (base 1) positions {three_arm_start+1}-{three_arm_end+1} of pFC9'"
   ]
  },
  {
   "cell_type": "code",
   "execution_count": 24,
   "id": "3aab8159",
   "metadata": {},
   "outputs": [],
   "source": [
    "mod_date = datetime.date.strftime(datetime.datetime.now(), \"%m/%d/%Y\")"
   ]
  },
  {
   "cell_type": "code",
   "execution_count": 25,
   "id": "dcc79d42",
   "metadata": {},
   "outputs": [
    {
     "data": {
      "text/html": [
       "<font face=monospace><a href='../resources/files/genbank/5_prime_homology_arm.gb' target='_blank'>../resources/files/genbank/5_prime_homology_arm.gb</a></font><br>"
      ]
     },
     "metadata": {},
     "output_type": "display_data"
    }
   ],
   "source": [
    "write_seq_as_genbank(\n",
    "    five_arm, \n",
    "    \"5' homology arm\", \n",
    "    '../resources/files/genbank/5_prime_homology_arm.gb', \n",
    "    author=author,\n",
    "    label='5_prime_HR',\n",
    "    note=note_5,\n",
    "    pFC9_start=five_arm_start,\n",
    "    pFC9_end=five_arm_end,\n",
    "    pFC9_seguid=pFC9.seq.seguid(),\n",
    "    date=mod_date\n",
    ")"
   ]
  },
  {
   "cell_type": "code",
   "execution_count": 26,
   "id": "04b39a5e",
   "metadata": {
    "scrolled": true
   },
   "outputs": [
    {
     "data": {
      "text/html": [
       "<font face=monospace><a href='../resources/files/genbank/3_prime_homology_arm.gb' target='_blank'>../resources/files/genbank/3_prime_homology_arm.gb</a></font><br>"
      ]
     },
     "metadata": {},
     "output_type": "display_data"
    }
   ],
   "source": [
    "write_seq_as_genbank(\n",
    "    three_arm, \n",
    "    \"3' homology arm\", \n",
    "    '../resources/files/genbank/3_prime_homology_arm.gb', \n",
    "    author=author,\n",
    "    label='3_prime_HR',\n",
    "    note=note_3,\n",
    "    pFC9_start=three_arm_start,\n",
    "    pFC9_end=three_arm_end,\n",
    "    pFC9_seguid=pFC9.seq.seguid(),\n",
    "    date=mod_date\n",
    ")"
   ]
  },
  {
   "cell_type": "markdown",
   "id": "3694cd5d",
   "metadata": {},
   "source": [
    "## Testing insert\n",
    "\n",
    "Testing insertion into initiation construct."
   ]
  },
  {
   "cell_type": "markdown",
   "id": "251c2cfe",
   "metadata": {},
   "source": [
    "Cut pFC9 with KpnI and EcoRI."
   ]
  },
  {
   "cell_type": "code",
   "execution_count": 32,
   "id": "bc9240a4",
   "metadata": {},
   "outputs": [
    {
     "data": {
      "text/plain": [
       "Dseqrecord(-3099)"
      ]
     },
     "execution_count": 32,
     "metadata": {},
     "output_type": "execute_result"
    }
   ],
   "source": [
    "pFC9_linear = pFC9.cut((five_arm_cutter, three_arm_cutter))\n",
    "pFC9_lf = max(pFC9_linear, key=lambda x: len(x))\n",
    "pFC9_lf"
   ]
  },
  {
   "cell_type": "markdown",
   "id": "40f86460",
   "metadata": {},
   "source": [
    "Simulate an insert."
   ]
  },
  {
   "cell_type": "code",
   "execution_count": 33,
   "id": "09501463",
   "metadata": {},
   "outputs": [],
   "source": [
    "def simulate_t5(seq):\n",
    "    # arbitrary say degrades 35 nucleotides\n",
    "    seq.watson = seq.watson[35:]\n",
    "    seq.crick = seq.crick[:-35]\n",
    "    return seq"
   ]
  },
  {
   "cell_type": "code",
   "execution_count": 34,
   "id": "6f081046",
   "metadata": {},
   "outputs": [
    {
     "data": {
      "text/plain": [
       "Dseqrecord(-66)"
      ]
     },
     "execution_count": 34,
     "metadata": {},
     "output_type": "execute_result"
    }
   ],
   "source": [
    "insert = read('../resources/files/genbank/5_prime_homology_arm.gb') + read('../resources/files/genbank/3_prime_homology_arm.gb')\n",
    "insert"
   ]
  },
  {
   "cell_type": "code",
   "execution_count": 39,
   "id": "e513d002",
   "metadata": {},
   "outputs": [],
   "source": [
    "pFC9_lf = Dseqrecord(pFC9_lf)\n",
    "pFC9_lf.name = 'pFC9'\n",
    "insert = Dseqrecord(insert)\n",
    "insert.name = 'insert'\n",
    "fragments = [insert, pFC9_lf]\n",
    "a = Assembly(fragments)\n",
    "assemble = a.assemble_circular()[0]"
   ]
  },
  {
   "cell_type": "code",
   "execution_count": 40,
   "id": "e925ba19",
   "metadata": {},
   "outputs": [
    {
     "data": {
      "text/plain": [
       "(Dseqrecord(-2610), Dseqrecord(-505))"
      ]
     },
     "execution_count": 40,
     "metadata": {},
     "output_type": "execute_result"
    }
   ],
   "source": [
    "assemble.cut(KpnI)"
   ]
  }
 ],
 "metadata": {
  "interpreter": {
   "hash": "0becc668fa7d5dcaa80caa2804d6de7e872f9c6dca930bb73e9bc3e3f7a08bc6"
  },
  "kernelspec": {
   "display_name": "Python 3",
   "language": "python",
   "name": "python3"
  },
  "language_info": {
   "codemirror_mode": {
    "name": "ipython",
    "version": 3
   },
   "file_extension": ".py",
   "mimetype": "text/x-python",
   "name": "python",
   "nbconvert_exporter": "python",
   "pygments_lexer": "ipython3",
   "version": "3.9.5"
  }
 },
 "nbformat": 4,
 "nbformat_minor": 5
}
