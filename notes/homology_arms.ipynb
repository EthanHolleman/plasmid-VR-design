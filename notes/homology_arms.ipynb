{
 "cells": [
  {
   "cell_type": "markdown",
   "id": "697ca430",
   "metadata": {},
   "source": [
    "# Insert homology arms\n",
    "\n",
    "Each insert contains a 5' and 3' homology arm which include a KpnI and EcoRI recognition site respectively. These sequnces come directly from pFC9 and in this notebook I am creating genbank files of the desired regions and checking to make sure they have the features required."
   ]
  },
  {
   "cell_type": "code",
   "execution_count": 187,
   "id": "2d989c61",
   "metadata": {},
   "outputs": [],
   "source": [
    "import os\n",
    "from pydna.readers import readsembly\n",
    "from pydna.design import primer_design\n",
    "from pydna.design import assembly_fragments\n",
    "from pydna.dseqrecord import Dseqrecord\n",
    "from Bio.Restriction import *\n",
    "from pydna.amplicon import Amplicon\n",
    "from Bio.Seq import Seq\n",
    "from Bio import SeqIO\n",
    "import yaml\n",
    "import pprint"
   ]
  },
  {
   "cell_type": "code",
   "execution_count": 188,
   "id": "7ab55612",
   "metadata": {},
   "outputs": [],
   "source": [
    "pFC9_path = '../resources/files/genbank/pFC9.gb'\n",
    "pFC9 = read(pFC9_path)"
   ]
  },
  {
   "cell_type": "code",
   "execution_count": 189,
   "id": "6ab1d1d2",
   "metadata": {},
   "outputs": [],
   "source": [
    "arm_length = 30"
   ]
  },
  {
   "cell_type": "markdown",
   "id": "ee57a75a",
   "metadata": {},
   "source": [
    "## 5' arm"
   ]
  },
  {
   "cell_type": "markdown",
   "id": "1144b894",
   "metadata": {},
   "source": [
    "The 5' arm is composed of the 30 nucleotides upstream of the KnpI recognition site."
   ]
  },
  {
   "cell_type": "markdown",
   "id": "f96199bb",
   "metadata": {},
   "source": [
    "First make sure KpnI is in fact a unique cutter."
   ]
  },
  {
   "cell_type": "code",
   "execution_count": 190,
   "id": "b5ed1b13",
   "metadata": {},
   "outputs": [
    {
     "output_type": "stream",
     "name": "stdout",
     "text": [
      "[56]\n"
     ]
    }
   ],
   "source": [
    "cut_location = KpnI.search(pFC9.seq)\n",
    "assert len(cut_location) == 1\n",
    "print(cut_location)"
   ]
  },
  {
   "cell_type": "markdown",
   "id": "f90cacfe",
   "metadata": {},
   "source": [
    "Locate the recognition site in the sequence. This gives the start coordinate of the recognition site."
   ]
  },
  {
   "cell_type": "code",
   "execution_count": 191,
   "id": "48669b5d",
   "metadata": {},
   "outputs": [
    {
     "output_type": "execute_result",
     "data": {
      "text/plain": [
       "50"
      ]
     },
     "metadata": {},
     "execution_count": 191
    }
   ],
   "source": [
    "kpnI_start = pFC9.seq.find(KpnI.site)\n",
    "kpnI_start"
   ]
  },
  {
   "cell_type": "markdown",
   "id": "149fd7bb",
   "metadata": {},
   "source": [
    "Get the end position. Check to make sure the sequence at the start and end coordinates match the recognition site sequence."
   ]
  },
  {
   "cell_type": "code",
   "execution_count": 192,
   "id": "61e8a01c",
   "metadata": {},
   "outputs": [],
   "source": [
    "kpnI_end = kpnI_start + len(KpnI.site)\n",
    "assert str(pFC9.seq[kpnI_start:kpnI_end]) == str(KpnI.site)"
   ]
  },
  {
   "cell_type": "markdown",
   "id": "d9967bc8",
   "metadata": {},
   "source": [
    "Get the homology arm sequence."
   ]
  },
  {
   "cell_type": "code",
   "execution_count": 193,
   "id": "d223bcd6",
   "metadata": {},
   "outputs": [],
   "source": [
    "five_arm_start = kpnI_end-arm_length\n",
    "five_arm_end = kpnI_end"
   ]
  },
  {
   "cell_type": "code",
   "execution_count": 194,
   "id": "e5b9aa96",
   "metadata": {},
   "outputs": [
    {
     "output_type": "execute_result",
     "data": {
      "text/plain": [
       "Dseq(-30)\n",
       "TAGGGCGAATTGGAGCTCCACATCGGTACC\n",
       "ATCCCGCTTAACCTCGAGGTGTAGCCATGG"
      ]
     },
     "metadata": {},
     "execution_count": 194
    }
   ],
   "source": [
    "five_arm = pFC9.seq[five_arm_start:five_arm_end]\n",
    "assert len(five_arm) == arm_length\n",
    "five_arm"
   ]
  },
  {
   "cell_type": "markdown",
   "id": "eb8a1c67",
   "metadata": {},
   "source": [
    "Double check to make sure last 6 nucleotides are the KpnI site."
   ]
  },
  {
   "cell_type": "code",
   "execution_count": 195,
   "id": "a0eee81d",
   "metadata": {},
   "outputs": [
    {
     "output_type": "stream",
     "name": "stdout",
     "text": [
      "These must match\nLast 6 5 arm: GGTACC\nKnpI site: GGTACC\n"
     ]
    }
   ],
   "source": [
    "assert str(five_arm[-6:]) == str(KpnI.site)\n",
    "print('These must match')\n",
    "print('Last 6 5 arm:', five_arm[-6:])\n",
    "print('KnpI site:', KpnI.site)"
   ]
  },
  {
   "cell_type": "markdown",
   "id": "16ee4558",
   "metadata": {},
   "source": [
    "Show the digestion."
   ]
  },
  {
   "cell_type": "code",
   "execution_count": 196,
   "id": "fc9bd08e",
   "metadata": {},
   "outputs": [
    {
     "output_type": "execute_result",
     "data": {
      "text/plain": [
       "(Dseq(-29)\n",
       " TAGGGCGAATTGGAGCTCCACATCGGTAC\n",
       " ATCCCGCTTAACCTCGAGGTGTAGC,\n",
       " Dseq(-5)\n",
       "     C\n",
       " CATGG)"
      ]
     },
     "metadata": {},
     "execution_count": 196
    }
   ],
   "source": [
    "five_arm.cut(KpnI)"
   ]
  },
  {
   "cell_type": "markdown",
   "id": "15544f00",
   "metadata": {},
   "source": [
    "## 3' arm\n",
    "\n",
    "The 3' arm is composed of the EcoRI recognition site and 24 downstream nucleotides."
   ]
  },
  {
   "cell_type": "markdown",
   "id": "7345b5e1",
   "metadata": {},
   "source": [
    "Again find the location of the EcoRI site in pFC9 and confirm it is unique."
   ]
  },
  {
   "cell_type": "code",
   "execution_count": 197,
   "id": "44f2ca1c",
   "metadata": {},
   "outputs": [
    {
     "output_type": "stream",
     "name": "stdout",
     "text": [
      "[541]\n"
     ]
    }
   ],
   "source": [
    "eco_cut_location = EcoRI.search(pFC9.seq)\n",
    "assert len(eco_cut_location) == 1\n",
    "print(eco_cut_location)"
   ]
  },
  {
   "cell_type": "markdown",
   "id": "cb4b364f",
   "metadata": {},
   "source": [
    "Get start and end positions of the recognition site."
   ]
  },
  {
   "cell_type": "code",
   "execution_count": 198,
   "id": "21b72de8",
   "metadata": {},
   "outputs": [
    {
     "output_type": "execute_result",
     "data": {
      "text/plain": [
       "539"
      ]
     },
     "metadata": {},
     "execution_count": 198
    }
   ],
   "source": [
    "EcoRI_start = pFC9.seq.find(EcoRI.site)\n",
    "EcoRI_start"
   ]
  },
  {
   "cell_type": "code",
   "execution_count": 199,
   "id": "e88aa6a7",
   "metadata": {},
   "outputs": [],
   "source": [
    "EcoRI_end = EcoRI_start + len(EcoRI.site)"
   ]
  },
  {
   "cell_type": "code",
   "execution_count": 200,
   "id": "9a7af7c5",
   "metadata": {},
   "outputs": [],
   "source": [
    "assert str(pFC9.seq[EcoRI_start: EcoRI_end]) == EcoRI.site"
   ]
  },
  {
   "cell_type": "markdown",
   "id": "4ef35675",
   "metadata": {},
   "source": [
    "Get nucleotides **downstream** of the EcoRI recognition site to complete the homology arm."
   ]
  },
  {
   "cell_type": "code",
   "execution_count": 201,
   "id": "03cc6748",
   "metadata": {},
   "outputs": [
    {
     "output_type": "execute_result",
     "data": {
      "text/plain": [
       "Dseq(-30)\n",
       "GAATTCGTCGCAGTGACCGAGGCGAGGAGG\n",
       "CTTAAGCAGCGTCACTGGCTCCGCTCCTCC"
      ]
     },
     "metadata": {},
     "execution_count": 201
    }
   ],
   "source": [
    "three_arm_start = EcoRI_start\n",
    "three_arm_end = EcoRI_start + arm_length\n",
    "three_arm = pFC9.seq[three_arm_start:three_arm_end]\n",
    "assert len(three_arm) == arm_length\n",
    "three_arm"
   ]
  },
  {
   "cell_type": "markdown",
   "id": "32a1cb14",
   "metadata": {},
   "source": [
    "Check that 3' arm begins with the recognition sequence."
   ]
  },
  {
   "cell_type": "code",
   "execution_count": 202,
   "id": "0e184085",
   "metadata": {},
   "outputs": [],
   "source": [
    "assert three_arm.find(EcoRI.site) == 0"
   ]
  },
  {
   "cell_type": "markdown",
   "id": "252c2192",
   "metadata": {},
   "source": [
    "Show digestion"
   ]
  },
  {
   "cell_type": "code",
   "execution_count": 203,
   "id": "4343d549",
   "metadata": {},
   "outputs": [
    {
     "output_type": "execute_result",
     "data": {
      "text/plain": [
       "(Dseq(-5)\n",
       " G\n",
       " CTTAA,\n",
       " Dseq(-29)\n",
       " AATTCGTCGCAGTGACCGAGGCGAGGAGG\n",
       "     GCAGCGTCACTGGCTCCGCTCCTCC)"
      ]
     },
     "metadata": {},
     "execution_count": 203
    }
   ],
   "source": [
    "three_arm.cut(EcoRI)"
   ]
  },
  {
   "cell_type": "markdown",
   "id": "adced50d",
   "metadata": {},
   "source": [
    "## Write output files"
   ]
  },
  {
   "cell_type": "markdown",
   "id": "20524518",
   "metadata": {},
   "source": [
    "Write genbank formated files for both homology arms."
   ]
  },
  {
   "cell_type": "code",
   "execution_count": 204,
   "id": "53ce0d5e",
   "metadata": {},
   "outputs": [],
   "source": [
    "from pydna.genbankrecord import GenbankRecord\n",
    "import datetime"
   ]
  },
  {
   "cell_type": "code",
   "execution_count": 205,
   "id": "e0122e83",
   "metadata": {},
   "outputs": [],
   "source": [
    "def write_seq_as_genbank(record, name, output_path, version=1.0, **kwargs):\n",
    "    g_record = GenbankRecord(record)\n",
    "    g_record.locus=name.replace(' ', '_')\n",
    "    g_record.id = f'v{version}'\n",
    "    g_record.stamp()\n",
    "    g_record.add_feature(0, len(record), name=name, **kwargs)\n",
    "    g_record.write(output_path)"
   ]
  },
  {
   "cell_type": "markdown",
   "id": "e1207489",
   "metadata": {},
   "source": [
    "Write genbank files for 5' and 3' arms."
   ]
  },
  {
   "cell_type": "code",
   "execution_count": 206,
   "id": "5ec9980b",
   "metadata": {},
   "outputs": [],
   "source": [
    "author = 'Ethan Holleman'\n",
    "note_5 = f'Homology arm of variable region insert taken from (base 1) positions {five_arm_start+1}-{five_arm_end+1} of pFC9'\n",
    "note_3 = f'Homology arm of variable region insert taken from (base 1) positions {three_arm_start+1}-{three_arm_end+1} of pFC9'"
   ]
  },
  {
   "cell_type": "code",
   "execution_count": 207,
   "id": "3aab8159",
   "metadata": {},
   "outputs": [],
   "source": [
    "mod_date = datetime.date.strftime(datetime.datetime.now(), \"%m/%d/%Y\")"
   ]
  },
  {
   "cell_type": "code",
   "execution_count": 208,
   "id": "dcc79d42",
   "metadata": {},
   "outputs": [
    {
     "output_type": "display_data",
     "data": {
      "text/html": "<font face=monospace><a href='../resources/files/genbank/5_prime_homology_arm.gb' target='_blank'>../resources/files/genbank/5_prime_homology_arm.gb</a></font><br>"
     },
     "metadata": {}
    }
   ],
   "source": [
    "write_seq_as_genbank(\n",
    "    five_arm, \n",
    "    \"5' homology arm\", \n",
    "    '../resources/files/genbank/5_prime_homology_arm.gb', \n",
    "    author=author,\n",
    "    label='5_prime_HR',\n",
    "    note=note_5,\n",
    "    pFC9_start=five_arm_start,\n",
    "    pFC9_end=five_arm_end,\n",
    "    pFC9_seguid=pFC9.seq.seguid(),\n",
    "    date=mod_date\n",
    ")"
   ]
  },
  {
   "source": [
    "write_seq_as_genbank(\n",
    "    three_arm, \n",
    "    \"3' homology arm\", \n",
    "    '../resources/files/genbank/3_prime_homology_arm.gb', \n",
    "    author=author,\n",
    "    label='3_prime_HR',\n",
    "    note=note_3,\n",
    "    pFC9_start=three_arm_start,\n",
    "    pFC9_end=three_arm_end,\n",
    "    pFC9_seguid=pFC9.seq.seguid(),\n",
    "    date=mod_date\n",
    ")"
   ],
   "cell_type": "code",
   "metadata": {
    "scrolled": true
   },
   "execution_count": 209,
   "outputs": [
    {
     "output_type": "display_data",
     "data": {
      "text/html": "<font face=monospace><a href='../resources/files/genbank/3_prime_homology_arm.gb' target='_blank'>../resources/files/genbank/3_prime_homology_arm.gb</a></font><br>"
     },
     "metadata": {}
    }
   ]
  },
  {
   "source": [
    "## Testing insert\n",
    "\n",
    "Testing insertion into initiation construct."
   ],
   "cell_type": "markdown",
   "metadata": {}
  },
  {
   "source": [
    "Cut pFC9 with KpnI and EcoRI."
   ],
   "cell_type": "markdown",
   "metadata": {}
  },
  {
   "cell_type": "code",
   "execution_count": 210,
   "metadata": {},
   "outputs": [
    {
     "output_type": "execute_result",
     "data": {
      "text/plain": [
       "Dseqrecord(-3104)"
      ]
     },
     "metadata": {},
     "execution_count": 210
    }
   ],
   "source": [
    "pFC9_linear = pFC9.cut((KpnI, EcoRI))\n",
    "pFC9_lf = max(pFC9_linear, key=lambda x: len(x))\n",
    "pFC9_lf"
   ]
  },
  {
   "source": [
    "Simulate an insert."
   ],
   "cell_type": "markdown",
   "metadata": {}
  },
  {
   "cell_type": "code",
   "execution_count": 211,
   "metadata": {},
   "outputs": [],
   "source": [
    "def simulate_t5(seq):\n",
    "    # arbitrary say degrades 35 nucleotides\n",
    "    seq.watson = seq.watson[35:]\n",
    "    seq.crick = seq.crick[:-35]\n",
    "    return seq\n"
   ]
  },
  {
   "cell_type": "code",
   "execution_count": 221,
   "metadata": {},
   "outputs": [],
   "source": [
    "insert = read('../resources/files/genbank/5_prime_homology_arm.gb') + read('../resources/files/genbank/3_prime_homology_arm.gb')\n"
   ]
  },
  {
   "cell_type": "code",
   "execution_count": 223,
   "metadata": {},
   "outputs": [
    {
     "output_type": "display_data",
     "data": {
      "text/html": "<font color='DarkOrange ' face=monospace>Sequence changed.<br></font><font color='red' face=monospace>new: <a href='name.gb' target='_blank'>name.gb</a> &nbsp&nbsp&nbsp size: 3106bp topology: o SEGUID: k_JxCZbmMDU5QaHsp7BTgH3zJGU<br></font><font color='green' face=monospace>old: <a href='name_OLD.gb' target='_blank'>name_OLD.gb</a> size: 3146bp topology: o SEGUID: NU8CyuEklkcigVDHu-LlDYO5yWY<br></font>"
     },
     "metadata": {}
    }
   ],
   "source": [
    "pFC9_lf = Dseqrecord(pFC9_lf)\n",
    "pFC9_lf.name = 'pFC9'\n",
    "insert = Dseqrecord(insert)\n",
    "insert.name = 'insert'\n",
    "fragments = [insert, pFC9_lf]\n",
    "a = Assembly(fragments)\n",
    "a.assemble_circular()[0].write()"
   ]
  },
  {
   "cell_type": "code",
   "execution_count": 226,
   "metadata": {},
   "outputs": [
    {
     "output_type": "stream",
     "name": "stdout",
     "text": [
      "(1, 2, 3, 4, 5, 6)\n"
     ]
    }
   ],
   "source": [
    "def help_me(*args):\n",
    "    print(args)\n",
    "help_me(*[1, 2, 3], *[4, 5, 6])"
   ]
  },
  {
   "cell_type": "code",
   "execution_count": null,
   "metadata": {},
   "outputs": [],
   "source": [
    "d = Dseqrecord"
   ]
  }
 ],
 "metadata": {
  "kernelspec": {
   "name": "python3",
   "display_name": "Python 3.9.5 64-bit ('pydna_build_environment': conda)"
  },
  "language_info": {
   "codemirror_mode": {
    "name": "ipython",
    "version": 3
   },
   "file_extension": ".py",
   "mimetype": "text/x-python",
   "name": "python",
   "nbconvert_exporter": "python",
   "pygments_lexer": "ipython3",
   "version": "3.9.5"
  },
  "interpreter": {
   "hash": "0becc668fa7d5dcaa80caa2804d6de7e872f9c6dca930bb73e9bc3e3f7a08bc6"
  }
 },
 "nbformat": 4,
 "nbformat_minor": 5
}