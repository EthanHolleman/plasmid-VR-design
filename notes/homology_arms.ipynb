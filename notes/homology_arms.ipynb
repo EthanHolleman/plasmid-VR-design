{
 "cells": [
  {
   "cell_type": "markdown",
   "id": "7d9c2544",
   "metadata": {},
   "source": [
    "# Insert homology arms\n",
    "\n",
    "Each insert contains a 5' and 3' homology arm which include a KpnI and EcoRI recognition site respectively. These sequnces come directly from pFC8 and in this notebook I am creating genbank files of the desired regions and checking to make sure they have the features required."
   ]
  },
  {
   "cell_type": "code",
   "execution_count": 1,
   "id": "b5831801",
   "metadata": {},
   "outputs": [],
   "source": [
    "import os\n",
    "from pydna.readers import read\n",
    "from pydna.design import primer_design\n",
    "from pydna.design import assembly_fragments\n",
    "from pydna.dseqrecord import Dseqrecord\n",
    "from pydna.assembly import Assembly\n",
    "from Bio.Restriction import *\n",
    "from pydna.amplicon import Amplicon\n",
    "from Bio.Seq import Seq\n",
    "from Bio import SeqIO\n",
    "import yaml\n",
    "import pprint"
   ]
  },
  {
   "cell_type": "code",
   "execution_count": 2,
   "id": "7c441c7f",
   "metadata": {},
   "outputs": [],
   "source": [
    "pFC8_path = '../resources/files/genbank/pFC8.gb'\n",
    "pFC8 = read(pFC8_path)"
   ]
  },
  {
   "cell_type": "code",
   "execution_count": 3,
   "id": "ab1a63e3",
   "metadata": {},
   "outputs": [],
   "source": [
    "arm_length = 30"
   ]
  },
  {
   "cell_type": "markdown",
   "id": "742934f9",
   "metadata": {},
   "source": [
    "## 5' arm"
   ]
  },
  {
   "cell_type": "markdown",
   "id": "0512c18a",
   "metadata": {},
   "source": [
    "The 5' arm is composed of the 30 nucleotides upstream of the KnpI recognition site."
   ]
  },
  {
   "cell_type": "markdown",
   "id": "6a137826",
   "metadata": {},
   "source": [
    "First make sure KpnI is in fact a unique cutter."
   ]
  },
  {
   "cell_type": "code",
   "execution_count": 4,
   "id": "b7503992",
   "metadata": {},
   "outputs": [
    {
     "name": "stdout",
     "output_type": "stream",
     "text": [
      "[1033]\n"
     ]
    }
   ],
   "source": [
    "cut_location = KpnI.search(pFC8.seq)\n",
    "assert len(cut_location) == 1\n",
    "print(cut_location)"
   ]
  },
  {
   "cell_type": "markdown",
   "id": "af5b2205",
   "metadata": {},
   "source": [
    "Locate the recognition site in the sequence. This gives the start coordinate of the recognition site."
   ]
  },
  {
   "cell_type": "code",
   "execution_count": 5,
   "id": "1dfb4193",
   "metadata": {},
   "outputs": [
    {
     "data": {
      "text/plain": [
       "1027"
      ]
     },
     "execution_count": 5,
     "metadata": {},
     "output_type": "execute_result"
    }
   ],
   "source": [
    "kpnI_start = pFC8.seq.find(KpnI.site)\n",
    "kpnI_start"
   ]
  },
  {
   "cell_type": "markdown",
   "id": "a12b06a0",
   "metadata": {},
   "source": [
    "Get the end position. Check to make sure the sequence at the start and end coordinates match the recognition site sequence."
   ]
  },
  {
   "cell_type": "code",
   "execution_count": 6,
   "id": "328ed574",
   "metadata": {},
   "outputs": [],
   "source": [
    "kpnI_end = kpnI_start + len(KpnI.site)\n",
    "assert str(pFC8.seq[kpnI_start:kpnI_end]) == str(KpnI.site)"
   ]
  },
  {
   "cell_type": "markdown",
   "id": "e0bfe86f",
   "metadata": {},
   "source": [
    "Get the homology arm sequence."
   ]
  },
  {
   "cell_type": "code",
   "execution_count": 7,
   "id": "15f04131",
   "metadata": {},
   "outputs": [],
   "source": [
    "five_arm_start = kpnI_end-arm_length\n",
    "five_arm_end = kpnI_end"
   ]
  },
  {
   "cell_type": "code",
   "execution_count": 8,
   "id": "a5c0df89",
   "metadata": {},
   "outputs": [
    {
     "data": {
      "text/plain": [
       "Dseq(-30)\n",
       "CTCCAAGACCTCGAGGGGGGGCCCGGTACC\n",
       "GAGGTTCTGGAGCTCCCCCCCGGGCCATGG"
      ]
     },
     "execution_count": 8,
     "metadata": {},
     "output_type": "execute_result"
    }
   ],
   "source": [
    "five_arm = pFC8.seq[five_arm_start:five_arm_end]\n",
    "assert len(five_arm) == arm_length\n",
    "five_arm"
   ]
  },
  {
   "cell_type": "markdown",
   "id": "a50f59f3",
   "metadata": {},
   "source": [
    "Double check to make sure last 6 nucleotides are the KpnI site."
   ]
  },
  {
   "cell_type": "code",
   "execution_count": 9,
   "id": "02e98954",
   "metadata": {},
   "outputs": [
    {
     "name": "stdout",
     "output_type": "stream",
     "text": [
      "These must match\n",
      "Last 6 5 arm: GGTACC\n",
      "KnpI site: GGTACC\n"
     ]
    }
   ],
   "source": [
    "assert str(five_arm[-6:]) == str(KpnI.site)\n",
    "print('These must match')\n",
    "print('Last 6 5 arm:', five_arm[-6:])\n",
    "print('KnpI site:', KpnI.site)"
   ]
  },
  {
   "cell_type": "markdown",
   "id": "fb3f9db2",
   "metadata": {},
   "source": [
    "Show the digestion."
   ]
  },
  {
   "cell_type": "code",
   "execution_count": 10,
   "id": "36503975",
   "metadata": {},
   "outputs": [
    {
     "data": {
      "text/plain": [
       "(Dseq(-29)\n",
       " CTCCAAGACCTCGAGGGGGGGCCCGGTAC\n",
       " GAGGTTCTGGAGCTCCCCCCCGGGC,\n",
       " Dseq(-5)\n",
       "     C\n",
       " CATGG)"
      ]
     },
     "execution_count": 10,
     "metadata": {},
     "output_type": "execute_result"
    }
   ],
   "source": [
    "five_arm.cut(KpnI)"
   ]
  },
  {
   "cell_type": "markdown",
   "id": "b2137c0c",
   "metadata": {},
   "source": [
    "## 3' arm\n",
    "\n",
    "The 3' arm is composed of the EcoRI recognition site and 24 downstream nucleotides."
   ]
  },
  {
   "cell_type": "markdown",
   "id": "763a4403",
   "metadata": {},
   "source": [
    "Again find the location of the EcoRI site in pFC8 and confirm it is unique."
   ]
  },
  {
   "cell_type": "code",
   "execution_count": 11,
   "id": "66b3e3c8",
   "metadata": {},
   "outputs": [
    {
     "name": "stdout",
     "output_type": "stream",
     "text": [
      "[540]\n"
     ]
    }
   ],
   "source": [
    "eco_cut_location = EcoRI.search(pFC8.seq)\n",
    "assert len(eco_cut_location) == 1\n",
    "print(eco_cut_location)"
   ]
  },
  {
   "cell_type": "markdown",
   "id": "96e65713",
   "metadata": {},
   "source": [
    "Get start and end positions of the recognition site."
   ]
  },
  {
   "cell_type": "code",
   "execution_count": 12,
   "id": "bf07e166",
   "metadata": {},
   "outputs": [
    {
     "data": {
      "text/plain": [
       "538"
      ]
     },
     "execution_count": 12,
     "metadata": {},
     "output_type": "execute_result"
    }
   ],
   "source": [
    "EcoRI_start = pFC8.seq.find(EcoRI.site)\n",
    "EcoRI_start"
   ]
  },
  {
   "cell_type": "code",
   "execution_count": 13,
   "id": "110f0698",
   "metadata": {},
   "outputs": [],
   "source": [
    "EcoRI_end = EcoRI_start + len(EcoRI.site)"
   ]
  },
  {
   "cell_type": "code",
   "execution_count": 14,
   "id": "2f81d6aa",
   "metadata": {},
   "outputs": [],
   "source": [
    "assert str(pFC8.seq[EcoRI_start: EcoRI_end]) == EcoRI.site"
   ]
  },
  {
   "cell_type": "markdown",
   "id": "61edb674",
   "metadata": {},
   "source": [
    "Get nucleotides **downstream** of the EcoRI recognition site to complete the homology arm."
   ]
  },
  {
   "cell_type": "code",
   "execution_count": 15,
   "id": "49b5885a",
   "metadata": {},
   "outputs": [
    {
     "data": {
      "text/plain": [
       "Dseq(-30)\n",
       "GAATTCCCCCCCCAGTCGCCCCACGTACCC\n",
       "CTTAAGGGGGGGGTCAGCGGGGTGCATGGG"
      ]
     },
     "execution_count": 15,
     "metadata": {},
     "output_type": "execute_result"
    }
   ],
   "source": [
    "three_arm_start = EcoRI_start\n",
    "three_arm_end = EcoRI_start + arm_length\n",
    "three_arm = pFC8.seq[three_arm_start:three_arm_end]\n",
    "assert len(three_arm) == arm_length\n",
    "three_arm"
   ]
  },
  {
   "cell_type": "markdown",
   "id": "55c8b583",
   "metadata": {},
   "source": [
    "Check that 3' arm begins with the recognition sequence."
   ]
  },
  {
   "cell_type": "code",
   "execution_count": 16,
   "id": "4d3888a0",
   "metadata": {},
   "outputs": [],
   "source": [
    "assert three_arm.find(EcoRI.site) == 0"
   ]
  },
  {
   "cell_type": "markdown",
   "id": "fc5b9642",
   "metadata": {},
   "source": [
    "Show digestion"
   ]
  },
  {
   "cell_type": "code",
   "execution_count": 17,
   "id": "406a92b8",
   "metadata": {},
   "outputs": [
    {
     "data": {
      "text/plain": [
       "(Dseq(-5)\n",
       " G\n",
       " CTTAA,\n",
       " Dseq(-29)\n",
       " AATTCCCCCCCCAGTCGCCCCACGTACCC\n",
       "     GGGGGGGGTCAGCGGGGTGCATGGG)"
      ]
     },
     "execution_count": 17,
     "metadata": {},
     "output_type": "execute_result"
    }
   ],
   "source": [
    "three_arm.cut(EcoRI)"
   ]
  },
  {
   "cell_type": "markdown",
   "id": "50c32c7a",
   "metadata": {},
   "source": [
    "## Write output files"
   ]
  },
  {
   "cell_type": "markdown",
   "id": "e5c0efee",
   "metadata": {},
   "source": [
    "Write genbank formated files for both homology arms."
   ]
  },
  {
   "cell_type": "code",
   "execution_count": 31,
   "id": "3221f21b",
   "metadata": {},
   "outputs": [],
   "source": [
    "from pydna.genbankrecord import GenbankRecord\n",
    "import datetime"
   ]
  },
  {
   "cell_type": "code",
   "execution_count": 19,
   "id": "28b90bce",
   "metadata": {},
   "outputs": [],
   "source": [
    "def write_seq_as_genbank(record, name, output_path, version=1.0, **kwargs):\n",
    "    g_record = GenbankRecord(record)\n",
    "    g_record.locus=name.replace(' ', '_')\n",
    "    g_record.id = f'v{version}'\n",
    "    g_record.stamp()\n",
    "    g_record.add_feature(0, len(record), name=name, **kwargs)\n",
    "    g_record.write(output_path)"
   ]
  },
  {
   "cell_type": "markdown",
   "id": "079101eb",
   "metadata": {},
   "source": [
    "Write genbank files for 5' and 3' arms."
   ]
  },
  {
   "cell_type": "code",
   "execution_count": 20,
   "id": "559706ce",
   "metadata": {},
   "outputs": [],
   "source": [
    "author = 'Ethan Holleman'\n",
    "note_5 = f'Homology arm of variable region insert taken from (base 1) positions {five_arm_start+1}-{five_arm_end+1} of pFC8'\n",
    "note_3 = f'Homology arm of variable region insert taken from (base 1) positions {three_arm_start+1}-{three_arm_end+1} of pFC8'"
   ]
  },
  {
   "cell_type": "code",
   "execution_count": 33,
   "id": "6b62c6d6",
   "metadata": {},
   "outputs": [],
   "source": [
    "mod_date = datetime.date.strftime(datetime.datetime.now(), \"%m/%d/%Y\")"
   ]
  },
  {
   "cell_type": "code",
   "execution_count": 35,
   "id": "61c9187f",
   "metadata": {},
   "outputs": [
    {
     "data": {
      "text/html": [
       "<font face=monospace><a href='../resources/files/genbank/5_prime_homology_arm.gb' target='_blank'>../resources/files/genbank/5_prime_homology_arm.gb</a></font><br>"
      ]
     },
     "metadata": {},
     "output_type": "display_data"
    }
   ],
   "source": [
    "write_seq_as_genbank(\n",
    "    five_arm, \n",
    "    \"5' homology arm\", \n",
    "    '../resources/files/genbank/5_prime_homology_arm.gb', \n",
    "    author=author,\n",
    "    label='5_prime_HR',\n",
    "    note=note_5,\n",
    "    pFC8_start=five_arm_start,\n",
    "    pFC8_end=five_arm_end,\n",
    "    pFC8_seguid=pFC8.seq.seguid(),\n",
    "    date=mod_date\n",
    ")"
   ]
  },
  {
   "cell_type": "code",
   "execution_count": 34,
   "id": "fa573d3f",
   "metadata": {
    "scrolled": true
   },
   "outputs": [
    {
     "data": {
      "text/html": [
       "<font face=monospace><a href='../resources/files/genbank/3_prime_homology_arm.gb' target='_blank'>../resources/files/genbank/3_prime_homology_arm.gb</a></font><br>"
      ]
     },
     "metadata": {},
     "output_type": "display_data"
    }
   ],
   "source": [
    "write_seq_as_genbank(\n",
    "    three_arm, \n",
    "    \"3' homology arm\", \n",
    "    '../resources/files/genbank/3_prime_homology_arm.gb', \n",
    "    author=author,\n",
    "    label='3_prime_HR',\n",
    "    note=note_3,\n",
    "    pFC8_start=three_arm_start,\n",
    "    pFC8_end=three_arm_end,\n",
    "    pFC8_seguid=pFC8.seq.seguid(),\n",
    "    date=mod_date\n",
    ")"
   ]
  }
 ],
 "metadata": {
  "kernelspec": {
   "display_name": "Python 3",
   "language": "python",
   "name": "python3"
  },
  "language_info": {
   "codemirror_mode": {
    "name": "ipython",
    "version": 3
   },
   "file_extension": ".py",
   "mimetype": "text/x-python",
   "name": "python",
   "nbconvert_exporter": "python",
   "pygments_lexer": "ipython3",
   "version": "3.9.5"
  }
 },
 "nbformat": 4,
 "nbformat_minor": 5
}
