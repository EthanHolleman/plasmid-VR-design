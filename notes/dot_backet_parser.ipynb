{
 "cells": [
  {
   "cell_type": "markdown",
   "metadata": {},
   "source": [
    "# Quantifying RNA 2ndary structure\n",
    "\n",
    "RNA secondary structure from prediction software is usually provided in dot bracket notation\n",
    "\n",
    "```\n",
    "((((....))))\n",
    "```\n",
    "\n",
    "Where paired parens are basepaired ribonucleotides and `.`s are unpaired bases. \n",
    "\n",
    "For plasmid variable regions (and more generally transcribed regions want to get some idea of possible degree of structure that can form over those regions. \n",
    "\n",
    "Programs like `rnaFold` produce statistics about free energy of predicted structures but not a lot of statistics that directly relate to the degree of secondary structure in a given sequence, at least not ones that I can interpret easily. So I want to create a parser that will produce the following statistics for a given dot-bracket sequence\n",
    "\n",
    "- Paired ribonucleotides / total ribonucleotides\n",
    "- Loop associated ribonucleotides / total ribonucleotides\n",
    "    - This differs from first statistic as `.`s will be counted as long as they reside inbetween two regions of base pairing"
   ]
  },
  {
   "cell_type": "markdown",
   "metadata": {},
   "source": [
    "## Degree of base pairing"
   ]
  },
  {
   "cell_type": "markdown",
   "metadata": {},
   "source": [
    "This one is pretty basic."
   ]
  },
  {
   "cell_type": "code",
   "execution_count": 3,
   "metadata": {},
   "outputs": [],
   "source": [
    "def degree_basepairing(dot_bracket_str):\n",
    "    paired = dot_bracket_str.count('(') + dot_bracket_str.count(')')\n",
    "    unpaired = dot_bracket_str.count('.')\n",
    "    all_ribos = len(dot_bracket_str)\n",
    "    assert paired + unpaired == all_ribos\n",
    "    return paired / all_ribos    "
   ]
  },
  {
   "cell_type": "code",
   "execution_count": 4,
   "metadata": {},
   "outputs": [],
   "source": [
    "s = '((((........))))'\n",
    "assert degree_basepairing(s) == 0.5"
   ]
  },
  {
   "cell_type": "markdown",
   "metadata": {},
   "source": [
    "## Degree of looping"
   ]
  },
  {
   "cell_type": "code",
   "execution_count": 7,
   "metadata": {},
   "outputs": [
    {
     "name": "stdout",
     "output_type": "stream",
     "text": [
      "['((((........))))', '((((........))))', '()', '()']\n"
     ]
    }
   ],
   "source": [
    "s1 = '((((........))))...(.((((........)))).)...().()...'\n",
    "\n",
    "import re  # use regex\n",
    "loop_regex = re.compile(r'\\(+\\.*\\)+')\n",
    "\n",
    "def find_loops(dot_bracket_str):\n",
    "    return loop_regex.findall(dot_bracket_str)\n",
    "\n",
    "print(find_loops(s1))"
   ]
  },
  {
   "cell_type": "markdown",
   "metadata": {},
   "source": [
    "Fails to find the nested loop `(.((((........)))).)` also should ignore `()` since not really a loop."
   ]
  },
  {
   "cell_type": "markdown",
   "metadata": {},
   "source": [
    "Maybe just use a program like [this](https://github.com/hendrixlab/bpRNA)? https://academic.oup.com/nar/article/46/11/5381/4994207"
   ]
  },
  {
   "cell_type": "markdown",
   "metadata": {},
   "source": [
    "Not much documentation about the output format though which looks like this\n",
    "\n",
    "```\n",
    "#Name: bpRNA_PDB_650\n",
    "#Length:  71 \n",
    "#PageNumber: 5\n",
    "#Warning: Structure contains linked PK-segments of same sizes 1 and 1. Using PK brackets for the more 5' segment\n",
    "GGACACUGAUGAUCGCGUGGAUAUGGCACGCAUUGAAUUGUUGGACACCGUAAAUGUCCUAACACGUGUCC\n",
    "((((((.([({((.(((((..<<.<<))))))(.A.).]}..(((((>>()>>.))))).))a).))))))\n",
    "SSSSSSISISBSSBSSSSSHHHHHHHSSSSSSSHHHSMMMMMSSSSSIISSIIISSSSSMSSISISSSSSS\n",
    "NNNNNNNNKNKNNNNNNNNNNKKNKKNNNNNNNNKNNNKKNNNNNNNKKNNKKNNNNNNNNNKNNNNNNNN\n",
    "S1 1..6 \"GGACAC\" 66..71 \"GUGUCC\"\n",
    "S2 8..8 \"G\" 64..64 \"A\"\n",
    "S3 10..10 \"U\" 62..62 \"A\"\n",
    "S4 12..12 \"A\" 61..61 \"A\"\n",
    "S5 13..13 \"U\" 32..32 \"A\"\n",
    "S6 15..19 \"GCGUG\" 27..31 \"CACGC\"\n",
    "S7 33..33 \"U\" 37..37 \"A\"\n",
    "S8 43..47 \"GGACA\" 55..59 \"UGUCC\"\n",
    "S9 50..51 \"GU\" 50..51 \"GU\"\n",
    "H1 20..26 \"GAUAUGG\" (19,27) G:C PK{3,4}\n",
    "H2 34..36 \"UGA\" (33,37) U:A PK{5}\n",
    "H3 51..50 \"\" (50,51) G:U \n",
    "B1 11..11 \"G\" (10,62) U:A (61,12) A:A PK{2}\n",
    "B2 14..14 \"C\" (13,32) U:A (31,15) C:G \n",
    "I1.1 7..7 \"U\" (6,66) C:G \n",
    "I1.2 65..65 \"C\" (64,8) A:G \n",
    "I2.1 9..9 \"A\" (8,64) G:A PK{1}\n",
    "I2.2 63..63 \"C\" (62,10) A:U PK{5}\n",
    "```\n",
    "\n"
   ]
  },
  {
   "cell_type": "markdown",
   "metadata": {},
   "source": [
    "The paper had a bit more info on this filetype but still mostly infering from context. Will need to use as rnaFold produces more complex dot diagrams than is worth creating a script for.\n",
    "\n",
    "Letter designate the type of structure over a given region. \n",
    "- S: stem, paired ribos\n",
    "- H: Hairpin coordinates re the internal region of the hairpin\n",
    "- I: Interior loop, sort of a buldge type structure that occurs when ribos are unpaired between two stems\n",
    "- B: Buldge, displaced ribo that occurs within a stem\n",
    "\n",
    "This identities are pretty much infered from this image from the paper database.\n",
    "\n",
    "![](http://bprna.cgrb.oregonstate.edu/images/bpRNA_structure.png)"
   ]
  },
  {
   "cell_type": "markdown",
   "metadata": {},
   "source": [
    "So instead of script to calculate these values now need a script to parse this new structure fileformat."
   ]
  }
 ],
 "metadata": {
  "kernelspec": {
   "display_name": "Python 3",
   "language": "python",
   "name": "python3"
  },
  "language_info": {
   "codemirror_mode": {
    "name": "ipython",
    "version": 3
   },
   "file_extension": ".py",
   "mimetype": "text/x-python",
   "name": "python",
   "nbconvert_exporter": "python",
   "pygments_lexer": "ipython3",
   "version": "3.8.5"
  }
 },
 "nbformat": 4,
 "nbformat_minor": 4
}
