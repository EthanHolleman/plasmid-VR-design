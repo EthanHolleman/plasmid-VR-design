{
 "metadata": {
  "language_info": {
   "codemirror_mode": {
    "name": "ipython",
    "version": 3
   },
   "file_extension": ".py",
   "mimetype": "text/x-python",
   "name": "python",
   "nbconvert_exporter": "python",
   "pygments_lexer": "ipython3",
   "version": "3.8.5"
  },
  "orig_nbformat": 2,
  "kernelspec": {
   "name": "python385jvsc74a57bd000c23a83c2b46508eab46721384ef0dc3f4ee71e161598ca59ff0b5caf782b8e",
   "display_name": "Python 3.8.5 64-bit ('base': conda)"
  }
 },
 "nbformat": 4,
 "nbformat_minor": 2,
 "cells": [
  {
   "source": [
    "## Initiation plasmids\n",
    "\n"
   ],
   "cell_type": "markdown",
   "metadata": {}
  },
  {
   "source": [
    "### GC skew and content"
   ],
   "cell_type": "markdown",
   "metadata": {}
  },
  {
   "source": [
    "\"We will use all combinations resulting from varying GC content (40, 50, 60 and 70%) and GC skew (0, 0.1, 0.2, 0.4, and 0.6)\""
   ],
   "cell_type": "markdown",
   "metadata": {}
  },
  {
   "cell_type": "code",
   "execution_count": 1,
   "metadata": {},
   "outputs": [
    {
     "output_type": "stream",
     "name": "stdout",
     "text": [
      "    GC Skew  GC Content\n0       0.1          40\n1       0.4          70\n2       0.6          60\n3       0.1          70\n4       0.0          60\n5       0.2          40\n6       0.4          60\n7       0.6          50\n8       0.1          60\n9       0.0          50\n10      0.2          70\n11      0.4          50\n12      0.2          60\n13      0.1          50\n14      0.0          40\n15      0.6          40\n16      0.6          70\n17      0.0          70\n18      0.4          40\n19      0.2          50\n"
     ]
    }
   ],
   "source": [
    "from itertools import combinations\n",
    "import pprint\n",
    "import numpy as np\n",
    "import pandas as pd\n",
    "\n",
    "pp = pprint.PrettyPrinter(indent=4)\n",
    "\n",
    "gc_skew_levels = [0, 0.1, 0.2, 0.4, 0.6]\n",
    "gc_content_levels = [40, 50, 60, 70]\n",
    "\n",
    "combos = []\n",
    "\n",
    "for each_skew in gc_skew_levels:\n",
    "    for each_content in gc_content_levels:\n",
    "        combos.append((each_skew, each_content))\n",
    "\n",
    "df = pd.DataFrame(set(combos))\n",
    "df.columns = ['GC Skew', 'GC Content']\n",
    "print(df)\n"
   ]
  },
  {
   "source": [
    "What does a `0.2` GC content and 50% GC skew plasmid actually look like?\n",
    "\n",
    "GC skew = (C - G) / (C + G)\n",
    "\n",
    "GC content = % bases that are either G or C"
   ],
   "cell_type": "markdown",
   "metadata": {}
  },
  {
   "source": [
    "If \n",
    "- $\\alpha$ = GC skew\n",
    "- $\\lambda$ = GC content\n",
    "- $l$ = length of sequence\n",
    "- $c$ = number of Cs\n",
    "- $g$ = number of Gs\n",
    "\n",
    "then\n",
    "\n",
    "$\\frac{c - g}{c + g} = \\alpha$\n",
    "\n",
    "$\\frac{c - g}{l} = \\lambda$\n",
    "\n",
    "$c + g = \\lambda l$\n",
    "\n",
    "$\\frac{ c - g }{ \\lambda l } = \\alpha$\n",
    "\n",
    "$ c - g = \\alpha \\lambda l$\n",
    "\n",
    "and \n",
    "\n",
    "$c + g = \\lambda l$\n",
    "\n",
    "So number of Gs + number of Cs must be equal to the desired GC content times the length of the sequence and the number of Cs - the number of Gs must be equal to the desired GC skew times the desired GC content times the length of the sequence. Any number of G and Cs that satisfy these conditions could be used in a given sequence. It is then a matter of figuring out where they will go in the sequence."
   ],
   "cell_type": "markdown",
   "metadata": {}
  },
  {
   "source": [
    "Lets try making some test \"sequences\""
   ],
   "cell_type": "markdown",
   "metadata": {}
  },
  {
   "cell_type": "code",
   "execution_count": 2,
   "metadata": {},
   "outputs": [],
   "source": [
    "l = 200\n",
    "def satifies_conditions(g, c, alpha, lamb, l):\n",
    "    # determine if a given number of g and c counts\n",
    "    # satifies the required conditions. Lambda abbreviated\n",
    "    # ad lamb since lambda is reservered by Python\n",
    "    if g + c == int(lamb * l) and c - g == int(alpha * lamb * l):\n",
    "        return True\n",
    "    else:\n",
    "        return False\n",
    "\n"
   ]
  },
  {
   "source": [
    "Naive brute force approach. This is the same as just directly calculating GC skew and content really."
   ],
   "cell_type": "markdown",
   "metadata": {}
  },
  {
   "cell_type": "code",
   "execution_count": 3,
   "metadata": {
    "tags": []
   },
   "outputs": [
    {
     "output_type": "stream",
     "name": "stdout",
     "text": [
      "[(40, 40)]\n"
     ]
    }
   ],
   "source": [
    "# Define conditions we want\n",
    "alpha = 0.0\n",
    "lamb = 0.4\n",
    "\n",
    "G_C_combos = []\n",
    "# all combinations of number of G and C for all possible sums of G and C up to the length of the sequence.\n",
    "for k in range(2, l):\n",
    "    G_C_combos += [(i, k-i) for i in range(0, k+1)]\n",
    "\n",
    "good_combos = [(G, C) for G, C in G_C_combos if satifies_conditions(G, C, alpha, lamb, l)]\n",
    "\n",
    "print(good_combos)  # print out combinations that pass conditions"
   ]
  },
  {
   "source": [
    "Test to make sure `good_combos` actually are valid."
   ],
   "cell_type": "markdown",
   "metadata": {}
  },
  {
   "cell_type": "code",
   "execution_count": 4,
   "metadata": {},
   "outputs": [
    {
     "output_type": "stream",
     "name": "stdout",
     "text": [
      "All correct!\n"
     ]
    }
   ],
   "source": [
    "for G, C in good_combos:\n",
    "    assert (G + C) / l == lamb, 'GC content incorrect'\n",
    "    assert (C - G) / (C + G) == alpha, 'GC skew incorrect!'\n",
    "print('All correct!')"
   ]
  },
  {
   "source": [
    "Looks like its working at the time of writing. Lets try for all GC skew and content levels in the original table."
   ],
   "cell_type": "markdown",
   "metadata": {}
  },
  {
   "cell_type": "code",
   "execution_count": 5,
   "metadata": {},
   "outputs": [],
   "source": [
    "# Turn brute force approach into a function\n",
    "\n",
    "def make_all_possible_GC_count_combos(l):\n",
    "    G_C_combos = []\n",
    "    for k in range(2, l):\n",
    "        G_C_combos += [(i, k-i) for i in range(0, k+1)]\n",
    "    return G_C_combos\n",
    "\n",
    "def brute_force_G_C_counts(alpha, lamb, l, G_C_combos):\n",
    "    good_combos = [(G, C) for G, C in G_C_combos if satifies_conditions(G, C, alpha, lamb, l)]\n",
    "    return good_combos\n"
   ]
  },
  {
   "cell_type": "code",
   "execution_count": 6,
   "metadata": {},
   "outputs": [
    {
     "output_type": "stream",
     "name": "stdout",
     "text": [
      "    GC skew  GC Content G count C count\n0       0.1         0.4      36      44\n1       0.4         0.7      NA      NA\n2       0.6         0.6      24      96\n3       0.1         0.7      NA      NA\n4       0.0         0.6      60      60\n5       0.2         0.4      32      48\n6       0.4         0.6      36      84\n7       0.6         0.5      20      80\n8       0.1         0.6      54      66\n9       0.0         0.5      50      50\n10      0.2         0.7      NA      NA\n11      0.4         0.5      30      70\n12      0.2         0.6      48      72\n13      0.1         0.5      45      55\n14      0.0         0.4      40      40\n15      0.6         0.4      16      64\n16      0.6         0.7      28     112\n17      0.0         0.7      70      70\n18      0.4         0.4      24      56\n19      0.2         0.5      40      60\n"
     ]
    }
   ],
   "source": [
    "# Interate over all rows in dataframe and brute force it\n",
    "gc_combos = make_all_possible_GC_count_combos(l)\n",
    "good_combos_list = []  # record good combos here\n",
    "for index, row in df.iterrows():\n",
    "    alpha, lamb = row['GC Skew'], row['GC Content'] / 100\n",
    "    good_combos = brute_force_G_C_counts(alpha, lamb, l, gc_combos)\n",
    "    if not good_combos:\n",
    "        good_combos = [('NA', 'NA')]\n",
    "    for good_combo in good_combos:\n",
    "        G, C = good_combo\n",
    "        good_combos_list.append(\n",
    "            {'GC skew': alpha, 'GC Content': lamb, 'G count': G, 'C count': C}\n",
    "        )\n",
    "\n",
    "print(pd.DataFrame(good_combos_list))\n",
    "\n"
   ]
  },
  {
   "source": [
    "In some cases there are no possible combinations of C and G counts that produce a vialble result. "
   ],
   "cell_type": "markdown",
   "metadata": {}
  },
  {
   "source": [
    "## Termination sequences\n"
   ],
   "cell_type": "markdown",
   "metadata": {}
  },
  {
   "source": [
    "Language from grant\n",
    "\n",
    "\"We will add a constant extension region of 100 bp, and synthesize and clone a series of 200 bp sequences immediately thereafter. These potential termination regions will possess decreasing GC content (50, 40, 30%) and decreasing GC skew (0, -0.2, -0.4)\"\n"
   ],
   "cell_type": "markdown",
   "metadata": {}
  },
  {
   "cell_type": "code",
   "execution_count": 11,
   "metadata": {},
   "outputs": [
    {
     "output_type": "stream",
     "name": "stdout",
     "text": [
      "   GC Skew  GC Content\n0      0.0         0.4\n1      0.0         0.5\n2     -0.2         0.4\n3     -0.4         0.3\n4     -0.2         0.5\n5     -0.4         0.4\n6     -0.4         0.5\n7      0.0         0.3\n8     -0.2         0.3\n"
     ]
    }
   ],
   "source": [
    "GC_skew_term = [0, -0.2, -0.4]\n",
    "GC_content_term = [50, 40, 30]\n",
    "term_len = 100\n",
    "\n",
    "term_combos = []\n",
    "\n",
    "for each_skew in GC_skew_term:\n",
    "    for each_content in GC_content_term:\n",
    "        term_combos.append((each_skew, each_content / 100))\n",
    "\n",
    "df_term = pd.DataFrame(set(term_combos))\n",
    "df_term.columns = ['GC Skew', 'GC Content']\n",
    "print(df_term)\n",
    "\n"
   ]
  },
  {
   "source": [
    "Can use same functions as intiation sequences here"
   ],
   "cell_type": "markdown",
   "metadata": {}
  },
  {
   "cell_type": "code",
   "execution_count": 16,
   "metadata": {},
   "outputs": [
    {
     "output_type": "stream",
     "name": "stdout",
     "text": [
      "   GC skew  GC Content  G count  C count\n0      0.0         0.4       40       40\n1      0.0         0.5       50       50\n2     -0.2         0.4       48       32\n3     -0.4         0.3       42       18\n4     -0.2         0.5       60       40\n5     -0.4         0.4       56       24\n6     -0.4         0.5       70       30\n7      0.0         0.3       30       30\n8     -0.2         0.3       36       24\n"
     ]
    }
   ],
   "source": [
    "# Interate over all rows in dataframe and brute force it\n",
    "good_combos_list_term = []  # record good combos here\n",
    "for index, row in df_term.iterrows():\n",
    "\n",
    "    alpha, lamb = row['GC Skew'], row['GC Content']\n",
    "    good_combos_term = brute_force_G_C_counts(alpha, lamb, l, gc_combos)\n",
    "\n",
    "    if not good_combos_term:\n",
    "        good_combos_term = [('NA', 'NA')]\n",
    "\n",
    "    for good_combo in good_combos_term:\n",
    "        G, C = good_combo\n",
    "        good_combos_list_term.append(\n",
    "            {'GC skew': alpha, 'GC Content': lamb, 'G count': G, 'C count': C}\n",
    "        )\n",
    "\n",
    "print(pd.DataFrame(good_combos_list_term))"
   ]
  }
 ]
}