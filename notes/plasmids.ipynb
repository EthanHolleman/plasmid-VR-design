{
 "metadata": {
  "language_info": {
   "codemirror_mode": {
    "name": "ipython",
    "version": 3
   },
   "file_extension": ".py",
   "mimetype": "text/x-python",
   "name": "python",
   "nbconvert_exporter": "python",
   "pygments_lexer": "ipython3",
   "version": "3.8.5"
  },
  "orig_nbformat": 2,
  "kernelspec": {
   "name": "python3",
   "display_name": "Python 3.8.5 64-bit ('base': conda)"
  },
  "interpreter": {
   "hash": "00c23a83c2b46508eab46721384ef0dc3f4ee71e161598ca59ff0b5caf782b8e"
  }
 },
 "nbformat": 4,
 "nbformat_minor": 2,
 "cells": [
  {
   "source": [
    "## Initiation plasmids\n",
    "\n"
   ],
   "cell_type": "markdown",
   "metadata": {}
  },
  {
   "source": [
    "### GC skew and content"
   ],
   "cell_type": "markdown",
   "metadata": {}
  },
  {
   "source": [
    "\"We will use all combinations resulting from varying GC content (40, 50, 60 and 70%) and GC skew (0, 0.1, 0.2, 0.4, and 0.6)\""
   ],
   "cell_type": "markdown",
   "metadata": {}
  },
  {
   "cell_type": "code",
   "execution_count": 3,
   "metadata": {},
   "outputs": [
    {
     "output_type": "stream",
     "name": "stdout",
     "text": [
      "    GC Skew  GC Content\n0       0.1          40\n1       0.4          70\n2       0.6          60\n3       0.1          70\n4       0.0          60\n5       0.2          40\n6       0.4          60\n7       0.6          50\n8       0.1          60\n9       0.0          50\n10      0.2          70\n11      0.4          50\n12      0.2          60\n13      0.1          50\n14      0.0          40\n15      0.6          40\n16      0.6          70\n17      0.0          70\n18      0.4          40\n19      0.2          50\n"
     ]
    }
   ],
   "source": [
    "from itertools import combinations\n",
    "import pprint\n",
    "import numpy as np\n",
    "import pandas as pd\n",
    "\n",
    "pp = pprint.PrettyPrinter(indent=4)\n",
    "\n",
    "gc_skew_levels = [0, 0.1, 0.2, 0.4, 0.6]\n",
    "gc_content_levels = [40, 50, 60, 70]\n",
    "\n",
    "combos = []\n",
    "\n",
    "for each_skew in gc_skew_levels:\n",
    "    for each_content in gc_content_levels:\n",
    "        combos.append((each_skew, each_content))\n",
    "\n",
    "df = pd.DataFrame(set(combos))\n",
    "df.columns = ['GC Skew', 'GC Content']\n",
    "print(df)\n"
   ]
  },
  {
   "source": [
    "What does a `0.2` GC content and 50% GC skew plasmid actually look like?\n",
    "\n",
    "GC skew = (C - G) / (C + G)\n",
    "\n",
    "GC content = % bases that are either G or C"
   ],
   "cell_type": "markdown",
   "metadata": {}
  },
  {
   "source": [
    "If \n",
    "- $\\alpha$ = GC skew\n",
    "- $\\lambda$ = GC content\n",
    "- $l$ = length of sequence\n",
    "- $c$ = number of Cs\n",
    "- $g$ = number of Gs\n",
    "\n",
    "then\n",
    "\n",
    "$\\frac{c - g}{c + g} = \\alpha$\n",
    "\n",
    "$\\frac{c - g}{l} = \\lambda$\n",
    "\n",
    "$c + g = \\lambda l$\n",
    "\n",
    "$\\frac{ c - g }{ \\lambda l } = \\alpha$\n",
    "\n",
    "$ c - g = \\alpha \\lambda l$\n",
    "\n",
    "and \n",
    "\n",
    "$c + g = \\lambda l$\n",
    "\n",
    "So number of Gs + number of Cs must be equal to the desired GC content times the length of the sequence and the number of Cs - the number of Gs must be equal to the desired GC skew times the desired GC content times the length of the sequence. Any number of G and Cs that satisfy these conditions could be used in a given sequence. It is then a matter of figuring out where they will go in the sequence."
   ],
   "cell_type": "markdown",
   "metadata": {}
  },
  {
   "source": [
    "Lets try making some test \"sequences\""
   ],
   "cell_type": "markdown",
   "metadata": {}
  },
  {
   "cell_type": "code",
   "execution_count": 4,
   "metadata": {},
   "outputs": [],
   "source": [
    "l = 200\n",
    "def satifies_conditions(g, c, alpha, lamb, l):\n",
    "    # determine if a given number of g and c counts\n",
    "    # satifies the required conditions. Lambda abbreviated\n",
    "    # ad lamb since lambda is reservered by Python\n",
    "    if g + c == int(lamb * l) and c - g == int(alpha * lamb * l):\n",
    "        return True\n",
    "    else:\n",
    "        return False\n",
    "\n"
   ]
  },
  {
   "source": [
    "Naive brute force approach. This is the same as just directly calculating GC skew and content really."
   ],
   "cell_type": "markdown",
   "metadata": {}
  },
  {
   "cell_type": "code",
   "execution_count": 5,
   "metadata": {
    "tags": []
   },
   "outputs": [
    {
     "output_type": "stream",
     "name": "stdout",
     "text": [
      "[(40, 40)]\n"
     ]
    }
   ],
   "source": [
    "# Define conditions we want\n",
    "alpha = 0.0\n",
    "lamb = 0.4\n",
    "\n",
    "G_C_combos = []\n",
    "# all combinations of number of G and C for all possible sums of G and C up to the length of the sequence.\n",
    "for k in range(2, l):\n",
    "    G_C_combos += [(i, k-i) for i in range(0, k+1)]\n",
    "\n",
    "good_combos = [(G, C) for G, C in G_C_combos if satifies_conditions(G, C, alpha, lamb, l)]\n",
    "\n",
    "print(good_combos)  # print out combinations that pass conditions"
   ]
  },
  {
   "source": [
    "Test to make sure `good_combos` actually are valid."
   ],
   "cell_type": "markdown",
   "metadata": {}
  },
  {
   "cell_type": "code",
   "execution_count": 6,
   "metadata": {},
   "outputs": [
    {
     "output_type": "stream",
     "name": "stdout",
     "text": [
      "All correct!\n"
     ]
    }
   ],
   "source": [
    "for G, C in good_combos:\n",
    "    assert (G + C) / l == lamb, 'GC content incorrect'\n",
    "    assert (C - G) / (C + G) == alpha, 'GC skew incorrect!'\n",
    "print('All correct!')"
   ]
  },
  {
   "source": [
    "Looks like its working at the time of writing. Lets try for all GC skew and content levels in the original table."
   ],
   "cell_type": "markdown",
   "metadata": {}
  },
  {
   "cell_type": "code",
   "execution_count": 7,
   "metadata": {},
   "outputs": [],
   "source": [
    "# Turn brute force approach into a function\n",
    "\n",
    "def make_all_possible_GC_count_combos(l):\n",
    "    G_C_combos = []\n",
    "    for k in range(2, l):\n",
    "        G_C_combos += [(i, k-i) for i in range(0, k+1)]\n",
    "    return G_C_combos\n",
    "\n",
    "def brute_force_G_C_counts(alpha, lamb, l, G_C_combos):\n",
    "    good_combos = [(G, C) for G, C in G_C_combos if satifies_conditions(G, C, alpha, lamb, l)]\n",
    "    return good_combos\n"
   ]
  },
  {
   "cell_type": "code",
   "execution_count": 8,
   "metadata": {},
   "outputs": [
    {
     "output_type": "stream",
     "name": "stdout",
     "text": [
      "    GC skew  GC Content G count C count\n0       0.1         0.4      36      44\n1       0.4         0.7      NA      NA\n2       0.6         0.6      24      96\n3       0.1         0.7      NA      NA\n4       0.0         0.6      60      60\n5       0.2         0.4      32      48\n6       0.4         0.6      36      84\n7       0.6         0.5      20      80\n8       0.1         0.6      54      66\n9       0.0         0.5      50      50\n10      0.2         0.7      NA      NA\n11      0.4         0.5      30      70\n12      0.2         0.6      48      72\n13      0.1         0.5      45      55\n14      0.0         0.4      40      40\n15      0.6         0.4      16      64\n16      0.6         0.7      28     112\n17      0.0         0.7      70      70\n18      0.4         0.4      24      56\n19      0.2         0.5      40      60\n"
     ]
    }
   ],
   "source": [
    "# Interate over all rows in dataframe and brute force it\n",
    "gc_combos = make_all_possible_GC_count_combos(l)\n",
    "good_combos_list = []  # record good combos here\n",
    "for index, row in df.iterrows():\n",
    "    alpha, lamb = row['GC Skew'], row['GC Content'] / 100\n",
    "    good_combos = brute_force_G_C_counts(alpha, lamb, l, gc_combos)\n",
    "    if not good_combos:\n",
    "        good_combos = [('NA', 'NA')]\n",
    "    for good_combo in good_combos:\n",
    "        G, C = good_combo\n",
    "        good_combos_list.append(\n",
    "            {'GC skew': alpha, 'GC Content': lamb, 'G count': G, 'C count': C}\n",
    "        )\n",
    "\n",
    "print(pd.DataFrame(good_combos_list))\n",
    "\n"
   ]
  },
  {
   "source": [
    "In some cases there are no possible combinations of C and G counts that produce a vialble result. "
   ],
   "cell_type": "markdown",
   "metadata": {}
  },
  {
   "source": [
    "## Termination sequences\n"
   ],
   "cell_type": "markdown",
   "metadata": {}
  },
  {
   "source": [
    "Language from grant\n",
    "\n",
    "\"We will add a constant extension region of 100 bp, and synthesize and clone a series of 200 bp sequences immediately thereafter. These potential termination regions will possess decreasing GC content (50, 40, 30%) and decreasing GC skew (0, -0.2, -0.4)\"\n"
   ],
   "cell_type": "markdown",
   "metadata": {}
  },
  {
   "cell_type": "code",
   "execution_count": 9,
   "metadata": {},
   "outputs": [
    {
     "output_type": "stream",
     "name": "stdout",
     "text": [
      "   GC Skew  GC Content\n0      0.0         0.4\n1      0.0         0.5\n2     -0.2         0.4\n3     -0.4         0.3\n4     -0.2         0.5\n5     -0.4         0.4\n6     -0.4         0.5\n7      0.0         0.3\n8     -0.2         0.3\n"
     ]
    }
   ],
   "source": [
    "GC_skew_term = [0, -0.2, -0.4]\n",
    "GC_content_term = [50, 40, 30]\n",
    "term_len = 100\n",
    "\n",
    "term_combos = []\n",
    "\n",
    "for each_skew in GC_skew_term:\n",
    "    for each_content in GC_content_term:\n",
    "        term_combos.append((each_skew, each_content / 100))\n",
    "\n",
    "df_term = pd.DataFrame(set(term_combos))\n",
    "df_term.columns = ['GC Skew', 'GC Content']\n",
    "print(df_term)\n",
    "\n"
   ]
  },
  {
   "source": [
    "Can use same functions as intiation sequences here"
   ],
   "cell_type": "markdown",
   "metadata": {}
  },
  {
   "cell_type": "code",
   "execution_count": 10,
   "metadata": {},
   "outputs": [
    {
     "output_type": "stream",
     "name": "stdout",
     "text": [
      "   GC skew  GC Content  G count  C count\n0      0.0         0.4       40       40\n1      0.0         0.5       50       50\n2     -0.2         0.4       48       32\n3     -0.4         0.3       42       18\n4     -0.2         0.5       60       40\n5     -0.4         0.4       56       24\n6     -0.4         0.5       70       30\n7      0.0         0.3       30       30\n8     -0.2         0.3       36       24\n"
     ]
    }
   ],
   "source": [
    "# Interate over all rows in dataframe and brute force it\n",
    "good_combos_list_term = []  # record good combos here\n",
    "for index, row in df_term.iterrows():\n",
    "\n",
    "    alpha, lamb = row['GC Skew'], row['GC Content']\n",
    "    good_combos_term = brute_force_G_C_counts(alpha, lamb, l, gc_combos)\n",
    "\n",
    "    if not good_combos_term:\n",
    "        good_combos_term = [('NA', 'NA')]\n",
    "\n",
    "    for good_combo in good_combos_term:\n",
    "        G, C = good_combo\n",
    "        good_combos_list_term.append(\n",
    "            {'GC skew': alpha, 'GC Content': lamb, 'G count': G, 'C count': C}\n",
    "        )\n",
    "\n",
    "print(pd.DataFrame(good_combos_list_term))"
   ]
  },
  {
   "source": [
    "## Sequences from G and C counts\n",
    "\n",
    "Next thing to do is to actually create sequences from counts of G and C nucleotides. In most cases they should be randomly distributed by the grant also talks about clustering, but think need more claification on what that clustering should look like. \n"
   ],
   "cell_type": "markdown",
   "metadata": {}
  },
  {
   "cell_type": "code",
   "execution_count": 24,
   "metadata": {},
   "outputs": [
    {
     "output_type": "stream",
     "name": "stdout",
     "text": [
      "['A', 'C', 'A', 'G', 'A', 'G', 'T', 'A', 'A', 'T', 'T', 'G', 'T', 'T', 'T', 'T', 'A', 'T', 'C', 'C', 'A', 'A', 'T', 'T', 'A', 'C', 'C', 'C', 'T', 'A', 'G', 'T', 'A', 'T', 'C', 'T', 'T', 'T', 'C', 'A', 'G', 'A', 'C', 'T', 'T', 'T', 'A', 'T', 'T', 'A', 'T', 'A', 'A', 'A', 'G', 'T', 'T', 'T', 'A', 'G', 'T', 'C', 'C', 'C', 'A', 'T', 'T', 'T', 'A', 'T', 'T', 'G', 'A', 'G', 'T', 'A', 'C', 'A', 'T', 'C', 'T', 'A', 'C', 'A', 'T', 'T', 'A', 'C', 'A', 'A', 'T', 'T', 'C', 'G', 'C', 'A', 'T', 'T', 'C', 'C']\n"
     ]
    }
   ],
   "source": [
    "\n",
    "\n",
    "def random_gc_plasmid_seq(g_count, c_count, length):\n",
    "    GC_count = g_count + c_count\n",
    "    assert GC_count < length\n",
    "\n",
    "    GC_sites = np.random.choice(np.arange(0, length), GC_count, replace=False)\n",
    "    AT_sites = np.setdiff1d(np.arange(0, length), GC_sites)\n",
    "\n",
    "    seq = list(np.zeros(length))\n",
    "\n",
    "    GCs = ['G'] * g_count + ['C'] * c_count\n",
    "    ATs = list(np.random.choice(('A', 'T'), len(AT_sites), replace=True))\n",
    "\n",
    "    for nucleotide, index in zip(GCs, GC_sites):\n",
    "        seq[index] = nucleotide\n",
    "    \n",
    "    for nucleotide, index in zip(ATs, AT_sites):\n",
    "        seq[index] = nucleotide\n",
    "    \n",
    "    return seq\n",
    "\n",
    "\n",
    "    \n",
    "print(random_gc_plasmid_seq(10, 20, 100))\n"
   ]
  },
  {
   "source": [
    "Now need to consider G clustering. These sequences need to have 60% GC content and skew of 0.4. Then guanines need to be arranged on the *displaced strand* (coding strand). Currently, the strand produced by above function does not have an orrientation but by default is assumed to by coding strand (this is also the displaced strand.\n",
    "\n",
    "Place Gs in clusters of size 1, 2, 3 or 4. So 1 is the same as random which is no clustering and rest will require grouping of guanines."
   ],
   "cell_type": "markdown",
   "metadata": {}
  },
  {
   "cell_type": "code",
   "execution_count": 76,
   "metadata": {},
   "outputs": [
    {
     "output_type": "stream",
     "name": "stdout",
     "text": [
      "Range checking is working!\n"
     ]
    }
   ],
   "source": [
    "# something to consider is if clusters are allowed to be adjacent\n",
    "\n",
    "def longest_unoccupied_gap(occupied_coords):\n",
    "    # helper function to find longest gap (run of false values) in a boolean\n",
    "    # array. Used to determine is there is still space in a list for another\n",
    "    # cluster\n",
    "    return len(max(''.join([str(i) for i in occupied_coords]).split('1'), key=lambda s: len(s)))\n",
    "        \n",
    "def range_is_occupied(occupied_coords, start, end):\n",
    "    sites = np.arange(start, end)\n",
    "    if any(np.take(occupied_coords, sites)) == 1:\n",
    "        return True  # is occupied\n",
    "    else:\n",
    "        return False\n",
    "\n",
    "test_range = [0, 0, 0, 0, 1, 0, 0, 1, 1, 1, 0, 1]\n",
    "\n",
    "assert longest_unoccupied_gap(test_range) == 4\n",
    "assert range_is_occupied(test_range, 0, 4) == False\n",
    "assert range_is_occupied(test_range, 0, 2) == False\n",
    "assert range_is_occupied(test_range, 2, 5) == True\n",
    "\n",
    "print('Range checking is working!')\n"
   ]
  },
  {
   "cell_type": "code",
   "execution_count": 94,
   "metadata": {
    "tags": []
   },
   "outputs": [
    {
     "output_type": "stream",
     "name": "stdout",
     "text": [
      "(0, 4)\nRange finding is working!\n"
     ]
    }
   ],
   "source": [
    "\n",
    "def random_range_of_length_n(length_seq, range_length):\n",
    "    start = int(np.random.choice(np.arange(0, length_seq-range_length), 1)[0])\n",
    "    end = start + range_length\n",
    "    return start, end\n",
    "\n",
    "def find_available_random_range(occupied_coords, range_length):\n",
    "    if longest_unoccupied_gap(occupied_coords) >= range_length:\n",
    "        while True:\n",
    "            start, end = random_range_of_length_n(\n",
    "                len(occupied_coords), range_length\n",
    "                )\n",
    "            if range_is_occupied(occupied_coords, start, end):\n",
    "                continue\n",
    "            else:\n",
    "                return start, end\n",
    "    else:\n",
    "        # no possible ranges\n",
    "        return False\n",
    "\n",
    "test_start, test_end = random_range_of_length_n(200, 10)\n",
    "\n",
    "assert test_end - test_start == 10\n",
    "assert test_start >= 0 and test_end < 200\n",
    "assert test_start + 10 == test_end\n",
    "\n",
    "test_aval_range = find_available_random_range(test_range, 4)\n",
    "assert test_aval_range == (0, 4)  # only possible range of length 4\n",
    "print(test_aval_range)\n",
    "print('Range finding is working!')\n",
    "\n",
    "\n",
    "# def random_non_overlapping_ranges(seq_length, cluster_length, number_clusters):\n",
    "#     ranges = []\n",
    "#     occupied_coords = np.zeros(seq_length)  # set to 1 if range intersects\n",
    "#     print(occupied_coords, '0')\n",
    "#     for i in range(number_clusters):\n",
    "#         print(longest_unoccupied_gap(occupied_coords), 'longest occupied')\n",
    "#         if longest_unoccupied_gap(occupied_coords) >= cluster_length:\n",
    "#             while True:\n",
    "#                 unoccupied_locs = np.where(np.any(occupied_coords==0, axis=1))\n",
    "#                 start = np.random.choice(unoccupied_locs, 1)\n",
    "#                 end = start + cluster_length\n",
    "#                 if check_if_range_occupied(occupied_coords, start, end) == False:\n",
    "#                     occupied_coords[start:end] = 1\n",
    "#                     ranges.append((start, end))\n",
    "#                     break\n",
    "#         else:\n",
    "#             break\n",
    "    \n",
    "#     return ranges\n",
    "\n",
    "\n",
    "# def random_gc_cluster_plasmid(g_count, c_count, length, g_cluster_size=1):\n",
    "#     num_G_clusters = int(g_count / g_cluster_size)\n",
    "#     G_cluster_coords = [start_coord in np.random.choice(np.arange(0, length), num_G_clusters, replace=F)]\n",
    "\n",
    "# random_non_overlapping_ranges(200, 4, 10)"
   ]
  },
  {
   "source": [
    "Test out random non overlapping ranges\n"
   ],
   "cell_type": "markdown",
   "metadata": {}
  },
  {
   "cell_type": "code",
   "execution_count": 67,
   "metadata": {},
   "outputs": [
    {
     "output_type": "execute_result",
     "data": {
      "text/plain": [
       "[0.0, 0.0, 0.0, 0.0, 0.0, 0.0, 0.0, 0.0, 0.0, 0.0]"
      ]
     },
     "metadata": {},
     "execution_count": 67
    }
   ],
   "source": [
    "list(np.zeros(10))"
   ]
  }
 ]
}