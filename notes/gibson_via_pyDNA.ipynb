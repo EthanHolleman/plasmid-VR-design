{
 "cells": [
  {
   "cell_type": "markdown",
   "metadata": {},
   "source": [
    "# Gibson assembly implementation\n",
    "\n",
    "Currently from conversations with Fred, it seems like Gibson assembly is the prudent route for building plasmids. Accordingly, I want to implement automated protocol design into the pipeline. While I think that when actually designing variable regions an extra complemtary region will be added to avoid having to create primers for each\n",
    "region the concepts will be the same.\n",
    "\n",
    "Here I am following along with the [pyDNA gibson assembly tutorial](https://github.com/BjornFJohansson/pydna-examples/blob/master/notebooks/gibson/gibson.ipynb) using pMAL-hRNASEH1."
   ]
  },
  {
   "cell_type": "markdown",
   "metadata": {},
   "source": [
    "![](files/pmal.png)"
   ]
  },
  {
   "cell_type": "markdown",
   "metadata": {},
   "source": [
    "## Gibson assembly background and in context\n",
    "\n",
    "[AddGene gibson assembly](https://www.addgene.org/protocols/gibson-assembly/)"
   ]
  },
  {
   "cell_type": "markdown",
   "metadata": {},
   "source": [
    "![](https://media.addgene.org/data/easy-thumbnails/filer_public/cms/filer_public/15/c4/15c45cf9-3d03-4f61-93e9-c39159f6916e/gibson_assembly_overview_1.jpg__700x351_q85_crop_subsampling-2_upscale.png)"
   ]
  },
  {
   "cell_type": "markdown",
   "metadata": {},
   "source": [
    "Here linearized receipient plasmid would be some backbone we want to use to clone variable regions into. The `PCR Product / DNA fragment` would be the variable region. Under this workflow we would want to deseign in the A and B complementary regions into each fragment I think. This would avoid having to use primers for each VR. \n",
    "\n",
    "This region would then be dependent on the plasmid backbone that is selected and the location the insert is made. Additionally this method seems best for single fragment insert. In reality we would want to insert both initiatitor and terminator sequences at the same time ideally with promotors."
   ]
  },
  {
   "cell_type": "markdown",
   "metadata": {},
   "source": [
    "```\n",
    "----| Promotor -> |--| Initiator |--| Extension region | -- | Terminator | ------ | Extension region | -- | <- Promotor | \n",
    "```"
   ]
  },
  {
   "cell_type": "markdown",
   "metadata": {},
   "source": [
    "[OpenWetWare](https://openwetware.org/wiki/Janet_B._Matsen:Guide_to_Gibson_Assembly)"
   ]
  },
  {
   "cell_type": "markdown",
   "metadata": {},
   "source": [
    "![](https://s3-us-west-2.amazonaws.com/oww-files-thumb/7/7b/Gibson_overview_cartoon_JM.png/900px-Gibson_overview_cartoon_JM.png)"
   ]
  },
  {
   "cell_type": "markdown",
   "metadata": {},
   "source": [
    "## Make sure pyDNA is available"
   ]
  },
  {
   "cell_type": "code",
   "execution_count": 4,
   "metadata": {},
   "outputs": [],
   "source": [
    "import os\n",
    "from pydna.readers import read"
   ]
  },
  {
   "cell_type": "markdown",
   "metadata": {},
   "source": [
    "## Read backbone plasmid"
   ]
  },
  {
   "cell_type": "code",
   "execution_count": 8,
   "metadata": {},
   "outputs": [
    {
     "data": {
      "text/html": [
       "<a href='files/pMAL_RH1.gb' target='_blank'>files/pMAL_RH1.gb</a><br>"
      ],
      "text/plain": [
       "File(.)(o7475)"
      ]
     },
     "execution_count": 8,
     "metadata": {},
     "output_type": "execute_result"
    }
   ],
   "source": [
    "backbone = 'files/pMAL_RH1.gb'\n",
    "assert os.path.isfile(backbone)\n",
    "pMal = read(backbone)\n",
    "pMal"
   ]
  },
  {
   "cell_type": "markdown",
   "metadata": {},
   "source": [
    "Get plasmid features (workflow should require plasmid backbone in gb format)"
   ]
  },
  {
   "cell_type": "code",
   "execution_count": 9,
   "metadata": {},
   "outputs": [
    {
     "data": {
      "text/markdown": [
       "| Ft# | Label or Note    | Dir | Sta  | End  |  Len | type         | orf? |\n",
       "|-----|------------------|-----|------|------|------|--------------|------|\n",
       "|   0 | nd               | --> | 0    | 7475 | 7475 | source       |  no  |\n",
       "|   1 | L:lacI           | --> | 80   | 1163 | 1083 | CDS          |  no  |\n",
       "|   2 | L:tac promoter t | --> | 1405 | 1433 |   28 | promoter     |  no  |\n",
       "|   3 | L:MBP            | --> | 1527 | 2689 | 1162 | CDS          |  no  |\n",
       "|   4 | L:Factor Xa site | --> | 2676 | 2688 |   12 | misc_signal  |  no  |\n",
       "|   5 | L:RNaseH1 (-MLS) | --> | 2700 | 3516 |  816 | misc_feature | yes  |\n",
       "|   6 | L:HA tag HA\\tag  | --> | 2706 | 2733 |   27 | misc_feature |  no  |\n",
       "|   7 | L:lacZ alpha lac | --> | 3563 | 3745 |  182 | CDS          |  no  |\n",
       "|   8 | L:AmpR           | --> | 4246 | 5107 |  861 | CDS          | yes  |\n",
       "|   9 | L:- M13 ori + -\\ | <-- | 5148 | 5662 |  514 | rep_origin   |  no  |\n",
       "|  10 | L:ori            | --> | 5772 | 6361 |  589 | rep_origin   |  no  |\n",
       "|  11 | L:rop            | <-- | 6790 | 6982 |  192 | misc_feature |  no  |"
      ],
      "text/plain": [
       "+-----+------------------+-----+------+------+------+--------------+------+\n",
       "| Ft# | Label or Note    | Dir | Sta  | End  |  Len | type         | orf? |\n",
       "+-----+------------------+-----+------+------+------+--------------+------+\n",
       "|   0 | nd               | --> | 0    | 7475 | 7475 | source       |  no  |\n",
       "|   1 | L:lacI           | --> | 80   | 1163 | 1083 | CDS          |  no  |\n",
       "|   2 | L:tac promoter t | --> | 1405 | 1433 |   28 | promoter     |  no  |\n",
       "|   3 | L:MBP            | --> | 1527 | 2689 | 1162 | CDS          |  no  |\n",
       "|   4 | L:Factor Xa site | --> | 2676 | 2688 |   12 | misc_signal  |  no  |\n",
       "|   5 | L:RNaseH1 (-MLS) | --> | 2700 | 3516 |  816 | misc_feature | yes  |\n",
       "|   6 | L:HA tag HA\\tag  | --> | 2706 | 2733 |   27 | misc_feature |  no  |\n",
       "|   7 | L:lacZ alpha lac | --> | 3563 | 3745 |  182 | CDS          |  no  |\n",
       "|   8 | L:AmpR           | --> | 4246 | 5107 |  861 | CDS          | yes  |\n",
       "|   9 | L:- M13 ori + -\\ | <-- | 5148 | 5662 |  514 | rep_origin   |  no  |\n",
       "|  10 | L:ori            | --> | 5772 | 6361 |  589 | rep_origin   |  no  |\n",
       "|  11 | L:rop            | <-- | 6790 | 6982 |  192 | misc_feature |  no  |\n",
       "+-----+------------------+-----+------+------+------+--------------+------+"
      ]
     },
     "execution_count": 9,
     "metadata": {},
     "output_type": "execute_result"
    }
   ],
   "source": [
    "pMal.list_features()"
   ]
  },
  {
   "cell_type": "markdown",
   "metadata": {},
   "source": [
    "Lets say we want to place the variable region where `L:RNaseH1 (-MLS)` currently is."
   ]
  },
  {
   "cell_type": "code",
   "execution_count": 12,
   "metadata": {},
   "outputs": [
    {
     "data": {
      "text/plain": [
       "Dseqrecord(-816)"
      ]
     },
     "execution_count": 12,
     "metadata": {},
     "output_type": "execute_result"
    }
   ],
   "source": [
    "RNAseH = pMal.extract_feature(5)\n",
    "RNAseH"
   ]
  },
  {
   "cell_type": "markdown",
   "metadata": {},
   "source": [
    "## Read simulated variable region\n",
    "\n",
    "For the variable region we want to insert I am using the `cyc.gb` file provided in the gibson assembly example. This genbank file only contains one feature, an ORF. When implementing will need to convert variable region fasta files into this format.\n",
    "\n",
    "Contents of the file shown below."
   ]
  },
  {
   "cell_type": "markdown",
   "metadata": {},
   "source": [
    "```\n",
    "\n",
    "LOCUS       CYC1                     330 bp ds-DNA     linear       07-FEB-2017\n",
    "DEFINITION  .\n",
    "ACCESSION   \n",
    "VERSION     \n",
    "SOURCE      .\n",
    "  ORGANISM  .\n",
    "COMMENT     \n",
    "COMMENT     ApEinfo:methylated:1\n",
    "ORIGIN\n",
    "        1 ATGACTGAAT TCAAGGCCGG TTCTGCTAAG AAAGGTGCTA CACTTTTCAA GACTAGATGT\n",
    "       61 CTACAATGCC ACACCGTGGA AAAGGGTGGC CCACATAAGG TTGGTCCAAA CTTGCATGGT\n",
    "      121 ATCTTTGGCA GACACTCTGG TCAAGCTGAA GGGTATTCGT ACACAGATGC CAATATCAAG\n",
    "      181 AAAAACGTGT TGTGGGACGA AAATAACATG TCAGAGTACT TGACTAACCC AAAGAAATAT\n",
    "      241 ATTCCTGGTA CCAAGATGGC CTTTGGTGGG TTGAAGAAGG AAAAAGACAG AAACGACTTA\n",
    "      301 ATTACCTACT TGAAAAAAGC CTGTGAGTAA   \n",
    "//\n",
    "```"
   ]
  },
  {
   "cell_type": "code",
   "execution_count": 22,
   "metadata": {},
   "outputs": [],
   "source": [
    "cyc1_path = 'files/cyc1.gb'\n",
    "cyc1 = read(cyc1_path)"
   ]
  },
  {
   "cell_type": "markdown",
   "metadata": {},
   "source": [
    "## Linearize backbone"
   ]
  },
  {
   "cell_type": "code",
   "execution_count": 26,
   "metadata": {},
   "outputs": [
    {
     "data": {
      "text/plain": [
       "Dseqrecord(-7475)"
      ]
     },
     "execution_count": 26,
     "metadata": {},
     "output_type": "execute_result"
    }
   ],
   "source": [
    "from Bio.Restriction import SwaI\n",
    "\n",
    "linear_backbone = pMal.linearize(SwaI)\n",
    "linear_backbone"
   ]
  },
  {
   "cell_type": "markdown",
   "metadata": {},
   "source": [
    "## Design primers for Cyc1 (variable region)"
   ]
  },
  {
   "cell_type": "markdown",
   "metadata": {},
   "source": [
    "This would be needed if we wanted to amplify the variable region prior to cloning to increase concentration"
   ]
  },
  {
   "cell_type": "code",
   "execution_count": 29,
   "metadata": {},
   "outputs": [],
   "source": [
    "from pydna.design import primer_design"
   ]
  },
  {
   "cell_type": "code",
   "execution_count": 20,
   "metadata": {},
   "outputs": [
    {
     "data": {
      "text/plain": [
       "5ATGACTGAATTCAAGGCC...TGAAAAAAGCCTGTGAGTAA3\n",
       "                      ||||||||||||||||||||\n",
       "                     3ACTTTTTTCGGACACTCATT5\n",
       "5ATGACTGAATTCAAGGCC3\n",
       " ||||||||||||||||||\n",
       "3TACTGACTTAAGTTCCGG...ACTTTTTTCGGACACTCATT5"
      ]
     },
     "execution_count": 20,
     "metadata": {},
     "output_type": "execute_result"
    }
   ],
   "source": [
    "cyc1_amplicon = primer_design(cyc1)\n",
    "cyc1_amplicon.figure()"
   ]
  },
  {
   "cell_type": "code",
   "execution_count": 28,
   "metadata": {},
   "outputs": [],
   "source": [
    "fragment_list = assembly_fragments(\n",
    "    (linear_backbone, cyc1_amplicon, linear_backbone)\n",
    ")"
   ]
  },
  {
   "cell_type": "markdown",
   "metadata": {},
   "source": [
    "Linear backbone appears at front and end of the fragment list because want the final construct to be cicular."
   ]
  },
  {
   "cell_type": "code",
   "execution_count": 30,
   "metadata": {},
   "outputs": [
    {
     "data": {
      "text/plain": [
       "[Dseqrecord(-7475), Amplicon(400), Dseqrecord(-7475)]"
      ]
     },
     "execution_count": 30,
     "metadata": {},
     "output_type": "execute_result"
    }
   ],
   "source": [
    "fragment_list"
   ]
  },
  {
   "cell_type": "code",
   "execution_count": 31,
   "metadata": {},
   "outputs": [
    {
     "data": {
      "text/plain": [
       "                                   5ATGACTGAATTCAAGGCC...TGAAAAAAGCCTGTGAGTAA3\n",
       "                                                         ||||||||||||||||||||\n",
       "                                                        3ACTTTTTTCGGACACTCATTTTTAACATTTGCAATTATAAAACAATTTTAAGCGC5\n",
       "5CCCCAAAAACAGGAAGATTGTATAAGCAAATATTTATGACTGAATTCAAGGCC3\n",
       "                                    ||||||||||||||||||\n",
       "                                   3TACTGACTTAAGTTCCGG...ACTTTTTTCGGACACTCATT5"
      ]
     },
     "execution_count": 31,
     "metadata": {},
     "output_type": "execute_result"
    }
   ],
   "source": [
    "fragment_list[1].figure()"
   ]
  },
  {
   "cell_type": "code",
   "execution_count": 32,
   "metadata": {},
   "outputs": [],
   "source": [
    "from pydna.assembly import Assembly"
   ]
  },
  {
   "cell_type": "code",
   "execution_count": 33,
   "metadata": {},
   "outputs": [],
   "source": [
    "fragment_list = fragment_list[:-1]"
   ]
  },
  {
   "cell_type": "code",
   "execution_count": 34,
   "metadata": {},
   "outputs": [
    {
     "data": {
      "text/plain": [
       "[Dseqrecord(-7475), Amplicon(400)]"
      ]
     },
     "execution_count": 34,
     "metadata": {},
     "output_type": "execute_result"
    }
   ],
   "source": [
    "fragment_list"
   ]
  },
  {
   "cell_type": "code",
   "execution_count": 36,
   "metadata": {},
   "outputs": [
    {
     "data": {
      "text/plain": [
       "Assembly\n",
       "fragments..: 7475bp 400bp\n",
       "limit(bp)..: 25\n",
       "G.nodes....: 4\n",
       "algorithm..: common_sub_strings"
      ]
     },
     "execution_count": 36,
     "metadata": {},
     "output_type": "execute_result"
    }
   ],
   "source": [
    "asm = Assembly(fragment_list)\n",
    "asm"
   ]
  },
  {
   "cell_type": "code",
   "execution_count": 39,
   "metadata": {},
   "outputs": [
    {
     "data": {
      "text/html": [
       "<pre> -|Exported_lin|35\n",
       "|               \\/\n",
       "|               /\\\n",
       "|               35|400bp_PCR_prod|35\n",
       "|                                 \\/\n",
       "|                                 /\\\n",
       "|                                 35-\n",
       "|                                    |\n",
       " ------------------------------------</pre>"
      ],
      "text/plain": [
       "Contig(o7805)"
      ]
     },
     "execution_count": 39,
     "metadata": {},
     "output_type": "execute_result"
    }
   ],
   "source": [
    "canidate = asm.assemble_circular()[0]\n",
    "canidate"
   ]
  },
  {
   "cell_type": "markdown",
   "metadata": {},
   "source": [
    "Not exactly sure what we have just created here / where the variable region ended up in the final assembly."
   ]
  },
  {
   "cell_type": "code",
   "execution_count": 42,
   "metadata": {},
   "outputs": [
    {
     "data": {
      "text/html": [
       "<font face=monospace><a href='files/test_assembly.gb' target='_blank'>files/test_assembly.gb</a></font><br>"
      ]
     },
     "metadata": {},
     "output_type": "display_data"
    }
   ],
   "source": [
    "test_assembly = canidate\n",
    "canidate.write('files/test_assembly.gb')"
   ]
  },
  {
   "cell_type": "markdown",
   "metadata": {},
   "source": [
    "Visualize in snapgene"
   ]
  },
  {
   "cell_type": "markdown",
   "metadata": {},
   "source": [
    "![](files/test.1.png)"
   ]
  },
  {
   "cell_type": "markdown",
   "metadata": {},
   "source": [
    "The insert was 400 bp so it was def added between lacZ alpha and AmpR gene but is not labeled and has taken out the restriction site. Seems like linearizing the plasmid at that point clones in the variable region at that location. Not really want I want to try and do."
   ]
  },
  {
   "cell_type": "markdown",
   "metadata": {},
   "source": [
    "## Round 2: Chaning plasmid backbones and going back to design\n",
    "\n",
    "Switching to more realistic plasmid choice [pFC8](files/pFC8.gb). Not sure why I thought pMal was the way to go."
   ]
  },
  {
   "cell_type": "markdown",
   "metadata": {},
   "source": [
    "![](files/pFC8.png)"
   ]
  },
  {
   "cell_type": "markdown",
   "metadata": {},
   "source": [
    "Lets say just for simplicity we are going to leave in the R-loop forming region, could cut this out to reduce overall length, and use the T3 promotor. Then want to insert the construct (variable region) inbetween `SNRPN` and the `T3` promotor by linearizing at `KpnI` site.\n",
    "\n",
    "Should note that this will create sticky ends, that might matter since in this approach not using PCR to get homolgous regions between plasmid and variable region. Actually should not because ends would be chewed by the exonuclease."
   ]
  },
  {
   "cell_type": "markdown",
   "metadata": {},
   "source": [
    "Sequence at `KpnI` cut site.\n",
    "\n",
    "![](files/linearization.png)"
   ]
  },
  {
   "cell_type": "code",
   "execution_count": 55,
   "metadata": {},
   "outputs": [],
   "source": [
    "from Bio.Restriction import KpnI, Analysis, RestrictionBatch\n",
    "from Bio.Seq import Seq\n",
    "\n",
    "rb = RestrictionBatch([KpnI])"
   ]
  },
  {
   "cell_type": "markdown",
   "metadata": {},
   "source": [
    "Sequence overlapping most of region shown above (including `KpnI` site)"
   ]
  },
  {
   "cell_type": "code",
   "execution_count": 56,
   "metadata": {},
   "outputs": [],
   "source": [
    "s = Seq('tccaagacctcgagggggggcccggtacccagcttttgttccctttagtgagg')\n",
    "Analong = Analysis(rb, s)"
   ]
  },
  {
   "cell_type": "code",
   "execution_count": 61,
   "metadata": {},
   "outputs": [
    {
     "name": "stdout",
     "output_type": "stream",
     "text": [
      "                            29 KpnI\n",
      "                            |                               \n",
      "tccaagacctcgagggggggcccggtacccagcttttgttccctttagtgagg\n",
      "|||||||||||||||||||||||||||||||||||||||||||||||||||||\n",
      "aggttctggagctcccccccgggccatgggtcgaaaacaagggaaatcactcc\n",
      "1                                                  53\n",
      "\n",
      "\n"
     ]
    },
    {
     "data": {
      "text/plain": [
       "{KpnI: [29]}"
      ]
     },
     "execution_count": 61,
     "metadata": {},
     "output_type": "execute_result"
    }
   ],
   "source": [
    "Analong.print_as('map')\n",
    "Analong.print_that()"
   ]
  },
  {
   "cell_type": "markdown",
   "metadata": {},
   "source": [
    "So since we are trying to insert our variable region construct at this restriction site the first and last inserted sequence should have homology arms complementary to sequences flanking this site."
   ]
  },
  {
   "cell_type": "markdown",
   "metadata": {},
   "source": [
    "Below would be the most I guess extreme version of this, where you are cloning in both promotors, intiation, termination and extention regions. Regions of the same solid color indicate homology."
   ]
  },
  {
   "cell_type": "markdown",
   "metadata": {},
   "source": [
    "![](files/insert.png)"
   ]
  },
  {
   "cell_type": "markdown",
   "metadata": {},
   "source": [
    "But in each backbone, including `PFC8` there is already at least one usable promotor that could be taken advantage of. Additionally, it may not be best to clone in initiation and termiation regions at the same time since we are not 100% sure how long the R-loops that form will be. This is critical for termination region placement relative to the promotor because it needs to be far enough away where by the time R-loops arrive it would be reasonable for them to termininate but close enough so that R-loops are actually, at least on average, able to reach it.\n",
    "\n",
    "That might look something more like the images below."
   ]
  },
  {
   "cell_type": "markdown",
   "metadata": {},
   "source": [
    "### Initiation construct\n",
    "\n",
    "![](files/insert1.png)"
   ]
  },
  {
   "cell_type": "markdown",
   "metadata": {},
   "source": [
    "The average length of R-loops formed using the initiation region would then inform termination region design."
   ]
  }
 ],
 "metadata": {
  "kernelspec": {
   "display_name": "Python 3",
   "language": "python",
   "name": "python3"
  },
  "language_info": {
   "codemirror_mode": {
    "name": "ipython",
    "version": 3
   },
   "file_extension": ".py",
   "mimetype": "text/x-python",
   "name": "python",
   "nbconvert_exporter": "python",
   "pygments_lexer": "ipython3",
   "version": "3.9.5"
  }
 },
 "nbformat": 4,
 "nbformat_minor": 2
}
