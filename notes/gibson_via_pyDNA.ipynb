{
 "cells": [
  {
   "cell_type": "markdown",
   "metadata": {},
   "source": [
    "# Gibson assembly implementation\n",
    "\n",
    "Currently from conversations with Fred, it seems like Gibson assembly is the prudent route for building plasmids. Accordingly, I want to implement automated protocol design into the pipeline. While I think that when actually designing variable regions an extra complemtary region will be added to avoid having to create primers for each\n",
    "region the concepts will be the same.\n",
    "\n",
    "Here I am following along with the [pyDNA gibson assembly tutorial](https://github.com/BjornFJohansson/pydna-examples/blob/master/notebooks/gibson/gibson.ipynb) using pMAL-hRNASEH1."
   ]
  },
  {
   "cell_type": "markdown",
   "metadata": {},
   "source": [
    "![](files/pmal.png)"
   ]
  },
  {
   "cell_type": "markdown",
   "metadata": {},
   "source": [
    "## Gibson assembly background and in context\n",
    "\n",
    "[AddGene gibson assembly](https://www.addgene.org/protocols/gibson-assembly/)"
   ]
  },
  {
   "cell_type": "markdown",
   "metadata": {},
   "source": [
    "![](https://media.addgene.org/data/easy-thumbnails/filer_public/cms/filer_public/15/c4/15c45cf9-3d03-4f61-93e9-c39159f6916e/gibson_assembly_overview_1.jpg__700x351_q85_crop_subsampling-2_upscale.png)"
   ]
  },
  {
   "cell_type": "markdown",
   "metadata": {},
   "source": [
    "Here linearized receipient plasmid would be some backbone we want to use to clone variable regions into. The `PCR Product / DNA fragment` would be the variable region. Under this workflow we would want to deseign in the A and B complementary regions into each fragment I think. This would avoid having to use primers for each VR. \n",
    "\n",
    "This region would then be dependent on the plasmid backbone that is selected and the location the insert is made. Additionally this method seems best for single fragment insert. In reality we would want to insert both initiatitor and terminator sequences at the same time ideally with promotors."
   ]
  },
  {
   "cell_type": "markdown",
   "metadata": {},
   "source": [
    "```\n",
    "----| Promotor -> |--| Initiator |--| Extension region | -- | Terminator | ------ | Extension region | -- | <- Promotor | \n",
    "```"
   ]
  },
  {
   "cell_type": "markdown",
   "metadata": {},
   "source": [
    "[OpenWetWare](https://openwetware.org/wiki/Janet_B._Matsen:Guide_to_Gibson_Assembly)"
   ]
  },
  {
   "cell_type": "markdown",
   "metadata": {},
   "source": [
    "![](https://s3-us-west-2.amazonaws.com/oww-files-thumb/7/7b/Gibson_overview_cartoon_JM.png/900px-Gibson_overview_cartoon_JM.png)"
   ]
  },
  {
   "cell_type": "markdown",
   "metadata": {},
   "source": [
    "## Make sure pyDNA is available"
   ]
  },
  {
   "cell_type": "code",
   "execution_count": 1,
   "metadata": {},
   "outputs": [],
   "source": [
    "import os\n",
    "from pydna.readers import read"
   ]
  },
  {
   "cell_type": "markdown",
   "metadata": {},
   "source": [
    "## Read backbone plasmid"
   ]
  },
  {
   "cell_type": "code",
   "execution_count": 2,
   "metadata": {},
   "outputs": [
    {
     "data": {
      "text/html": [
       "<a href='files/pMAL_RH1.gb' target='_blank'>files/pMAL_RH1.gb</a><br>"
      ],
      "text/plain": [
       "File(.)(o7475)"
      ]
     },
     "execution_count": 2,
     "metadata": {},
     "output_type": "execute_result"
    }
   ],
   "source": [
    "backbone = 'files/pMAL_RH1.gb'\n",
    "assert os.path.isfile(backbone)\n",
    "pMal = read(backbone)\n",
    "pMal"
   ]
  },
  {
   "cell_type": "markdown",
   "metadata": {},
   "source": [
    "Get plasmid features (workflow should require plasmid backbone in gb format)"
   ]
  },
  {
   "cell_type": "code",
   "execution_count": 3,
   "metadata": {},
   "outputs": [
    {
     "data": {
      "text/markdown": [
       "| Ft# | Label or Note    | Dir | Sta  | End  |  Len | type         | orf? |\n",
       "|-----|------------------|-----|------|------|------|--------------|------|\n",
       "|   0 | nd               | --> | 0    | 7475 | 7475 | source       |  no  |\n",
       "|   1 | L:lacI           | --> | 80   | 1163 | 1083 | CDS          |  no  |\n",
       "|   2 | L:tac promoter t | --> | 1405 | 1433 |   28 | promoter     |  no  |\n",
       "|   3 | L:MBP            | --> | 1527 | 2689 | 1162 | CDS          |  no  |\n",
       "|   4 | L:Factor Xa site | --> | 2676 | 2688 |   12 | misc_signal  |  no  |\n",
       "|   5 | L:RNaseH1 (-MLS) | --> | 2700 | 3516 |  816 | misc_feature | yes  |\n",
       "|   6 | L:HA tag HA\\tag  | --> | 2706 | 2733 |   27 | misc_feature |  no  |\n",
       "|   7 | L:lacZ alpha lac | --> | 3563 | 3745 |  182 | CDS          |  no  |\n",
       "|   8 | L:AmpR           | --> | 4246 | 5107 |  861 | CDS          | yes  |\n",
       "|   9 | L:- M13 ori + -\\ | <-- | 5148 | 5662 |  514 | rep_origin   |  no  |\n",
       "|  10 | L:ori            | --> | 5772 | 6361 |  589 | rep_origin   |  no  |\n",
       "|  11 | L:rop            | <-- | 6790 | 6982 |  192 | misc_feature |  no  |"
      ],
      "text/plain": [
       "+-----+------------------+-----+------+------+------+--------------+------+\n",
       "| Ft# | Label or Note    | Dir | Sta  | End  |  Len | type         | orf? |\n",
       "+-----+------------------+-----+------+------+------+--------------+------+\n",
       "|   0 | nd               | --> | 0    | 7475 | 7475 | source       |  no  |\n",
       "|   1 | L:lacI           | --> | 80   | 1163 | 1083 | CDS          |  no  |\n",
       "|   2 | L:tac promoter t | --> | 1405 | 1433 |   28 | promoter     |  no  |\n",
       "|   3 | L:MBP            | --> | 1527 | 2689 | 1162 | CDS          |  no  |\n",
       "|   4 | L:Factor Xa site | --> | 2676 | 2688 |   12 | misc_signal  |  no  |\n",
       "|   5 | L:RNaseH1 (-MLS) | --> | 2700 | 3516 |  816 | misc_feature | yes  |\n",
       "|   6 | L:HA tag HA\\tag  | --> | 2706 | 2733 |   27 | misc_feature |  no  |\n",
       "|   7 | L:lacZ alpha lac | --> | 3563 | 3745 |  182 | CDS          |  no  |\n",
       "|   8 | L:AmpR           | --> | 4246 | 5107 |  861 | CDS          | yes  |\n",
       "|   9 | L:- M13 ori + -\\ | <-- | 5148 | 5662 |  514 | rep_origin   |  no  |\n",
       "|  10 | L:ori            | --> | 5772 | 6361 |  589 | rep_origin   |  no  |\n",
       "|  11 | L:rop            | <-- | 6790 | 6982 |  192 | misc_feature |  no  |\n",
       "+-----+------------------+-----+------+------+------+--------------+------+"
      ]
     },
     "execution_count": 3,
     "metadata": {},
     "output_type": "execute_result"
    }
   ],
   "source": [
    "pMal.list_features()"
   ]
  },
  {
   "cell_type": "markdown",
   "metadata": {},
   "source": [
    "Lets say we want to place the variable region where `L:RNaseH1 (-MLS)` currently is."
   ]
  },
  {
   "cell_type": "code",
   "execution_count": 4,
   "metadata": {},
   "outputs": [
    {
     "data": {
      "text/plain": [
       "Dseqrecord(-816)"
      ]
     },
     "execution_count": 4,
     "metadata": {},
     "output_type": "execute_result"
    }
   ],
   "source": [
    "RNAseH = pMal.extract_feature(5)\n",
    "RNAseH"
   ]
  },
  {
   "cell_type": "markdown",
   "metadata": {},
   "source": [
    "## Read simulated variable region\n",
    "\n",
    "For the variable region we want to insert I am using the `cyc.gb` file provided in the gibson assembly example. This genbank file only contains one feature, an ORF. When implementing will need to convert variable region fasta files into this format.\n",
    "\n",
    "Contents of the file shown below."
   ]
  },
  {
   "cell_type": "markdown",
   "metadata": {},
   "source": [
    "```\n",
    "\n",
    "LOCUS       CYC1                     330 bp ds-DNA     linear       07-FEB-2017\n",
    "DEFINITION  .\n",
    "ACCESSION   \n",
    "VERSION     \n",
    "SOURCE      .\n",
    "  ORGANISM  .\n",
    "COMMENT     \n",
    "COMMENT     ApEinfo:methylated:1\n",
    "ORIGIN\n",
    "        1 ATGACTGAAT TCAAGGCCGG TTCTGCTAAG AAAGGTGCTA CACTTTTCAA GACTAGATGT\n",
    "       61 CTACAATGCC ACACCGTGGA AAAGGGTGGC CCACATAAGG TTGGTCCAAA CTTGCATGGT\n",
    "      121 ATCTTTGGCA GACACTCTGG TCAAGCTGAA GGGTATTCGT ACACAGATGC CAATATCAAG\n",
    "      181 AAAAACGTGT TGTGGGACGA AAATAACATG TCAGAGTACT TGACTAACCC AAAGAAATAT\n",
    "      241 ATTCCTGGTA CCAAGATGGC CTTTGGTGGG TTGAAGAAGG AAAAAGACAG AAACGACTTA\n",
    "      301 ATTACCTACT TGAAAAAAGC CTGTGAGTAA   \n",
    "//\n",
    "```"
   ]
  },
  {
   "cell_type": "code",
   "execution_count": 5,
   "metadata": {},
   "outputs": [],
   "source": [
    "cyc1_path = 'files/cyc1.gb'\n",
    "cyc1 = read(cyc1_path)"
   ]
  },
  {
   "cell_type": "markdown",
   "metadata": {},
   "source": [
    "## Linearize backbone"
   ]
  },
  {
   "cell_type": "code",
   "execution_count": 6,
   "metadata": {},
   "outputs": [
    {
     "data": {
      "text/plain": [
       "Dseqrecord(-7475)"
      ]
     },
     "execution_count": 6,
     "metadata": {},
     "output_type": "execute_result"
    }
   ],
   "source": [
    "from Bio.Restriction import SwaI\n",
    "\n",
    "linear_backbone = pMal.linearize(SwaI)\n",
    "linear_backbone"
   ]
  },
  {
   "cell_type": "markdown",
   "metadata": {},
   "source": [
    "## Design primers for Cyc1 (variable region)"
   ]
  },
  {
   "cell_type": "markdown",
   "metadata": {},
   "source": [
    "This would be needed if we wanted to amplify the variable region prior to cloning to increase concentration"
   ]
  },
  {
   "cell_type": "code",
   "execution_count": 7,
   "metadata": {},
   "outputs": [],
   "source": [
    "from pydna.design import primer_design\n",
    "from pydna.design import assembly_fragments"
   ]
  },
  {
   "cell_type": "code",
   "execution_count": 8,
   "metadata": {},
   "outputs": [
    {
     "data": {
      "text/plain": [
       "5ATGACTGAATTCAAGGCC...TGAAAAAAGCCTGTGAGTAA3\n",
       "                      ||||||||||||||||||||\n",
       "                     3ACTTTTTTCGGACACTCATT5\n",
       "5ATGACTGAATTCAAGGCC3\n",
       " ||||||||||||||||||\n",
       "3TACTGACTTAAGTTCCGG...ACTTTTTTCGGACACTCATT5"
      ]
     },
     "execution_count": 8,
     "metadata": {},
     "output_type": "execute_result"
    }
   ],
   "source": [
    "cyc1_amplicon = primer_design(cyc1)\n",
    "cyc1_amplicon.figure()"
   ]
  },
  {
   "cell_type": "code",
   "execution_count": 9,
   "metadata": {},
   "outputs": [],
   "source": [
    "fragment_list = assembly_fragments(\n",
    "    (linear_backbone, cyc1_amplicon, linear_backbone)\n",
    ")"
   ]
  },
  {
   "cell_type": "markdown",
   "metadata": {},
   "source": [
    "Linear backbone appears at front and end of the fragment list because want the final construct to be cicular."
   ]
  },
  {
   "cell_type": "code",
   "execution_count": 10,
   "metadata": {},
   "outputs": [
    {
     "data": {
      "text/plain": [
       "[Dseqrecord(-7475), Amplicon(400), Dseqrecord(-7475)]"
      ]
     },
     "execution_count": 10,
     "metadata": {},
     "output_type": "execute_result"
    }
   ],
   "source": [
    "fragment_list"
   ]
  },
  {
   "cell_type": "code",
   "execution_count": 11,
   "metadata": {},
   "outputs": [
    {
     "data": {
      "text/plain": [
       "                                   5ATGACTGAATTCAAGGCC...TGAAAAAAGCCTGTGAGTAA3\n",
       "                                                         ||||||||||||||||||||\n",
       "                                                        3ACTTTTTTCGGACACTCATTTTTAACATTTGCAATTATAAAACAATTTTAAGCGC5\n",
       "5CCCCAAAAACAGGAAGATTGTATAAGCAAATATTTATGACTGAATTCAAGGCC3\n",
       "                                    ||||||||||||||||||\n",
       "                                   3TACTGACTTAAGTTCCGG...ACTTTTTTCGGACACTCATT5"
      ]
     },
     "execution_count": 11,
     "metadata": {},
     "output_type": "execute_result"
    }
   ],
   "source": [
    "fragment_list[1].figure()"
   ]
  },
  {
   "cell_type": "code",
   "execution_count": 12,
   "metadata": {},
   "outputs": [],
   "source": [
    "from pydna.assembly import Assembly"
   ]
  },
  {
   "cell_type": "code",
   "execution_count": 13,
   "metadata": {},
   "outputs": [],
   "source": [
    "fragment_list = fragment_list[:-1]"
   ]
  },
  {
   "cell_type": "code",
   "execution_count": 14,
   "metadata": {},
   "outputs": [
    {
     "data": {
      "text/plain": [
       "[Dseqrecord(-7475), Amplicon(400)]"
      ]
     },
     "execution_count": 14,
     "metadata": {},
     "output_type": "execute_result"
    }
   ],
   "source": [
    "fragment_list"
   ]
  },
  {
   "cell_type": "code",
   "execution_count": 15,
   "metadata": {},
   "outputs": [
    {
     "data": {
      "text/plain": [
       "Assembly\n",
       "fragments..: 7475bp 400bp\n",
       "limit(bp)..: 25\n",
       "G.nodes....: 4\n",
       "algorithm..: common_sub_strings"
      ]
     },
     "execution_count": 15,
     "metadata": {},
     "output_type": "execute_result"
    }
   ],
   "source": [
    "asm = Assembly(fragment_list)\n",
    "asm"
   ]
  },
  {
   "cell_type": "code",
   "execution_count": 16,
   "metadata": {},
   "outputs": [
    {
     "data": {
      "text/html": [
       "<pre> -|Exported_lin|35\n",
       "|               \\/\n",
       "|               /\\\n",
       "|               35|400bp_PCR_prod|35\n",
       "|                                 \\/\n",
       "|                                 /\\\n",
       "|                                 35-\n",
       "|                                    |\n",
       " ------------------------------------</pre>"
      ],
      "text/plain": [
       "Contig(o7805)"
      ]
     },
     "execution_count": 16,
     "metadata": {},
     "output_type": "execute_result"
    }
   ],
   "source": [
    "canidate = asm.assemble_circular()[0]\n",
    "canidate"
   ]
  },
  {
   "cell_type": "markdown",
   "metadata": {},
   "source": [
    "Not exactly sure what we have just created here / where the variable region ended up in the final assembly."
   ]
  },
  {
   "cell_type": "code",
   "execution_count": 17,
   "metadata": {},
   "outputs": [
    {
     "data": {
      "text/html": [
       "<font face=monospace><a href='files/test_assembly.gb' target='_blank'>files/test_assembly.gb</a></font><br>"
      ]
     },
     "metadata": {},
     "output_type": "display_data"
    }
   ],
   "source": [
    "test_assembly = canidate\n",
    "canidate.write('files/test_assembly.gb')"
   ]
  },
  {
   "cell_type": "markdown",
   "metadata": {},
   "source": [
    "Visualize in snapgene"
   ]
  },
  {
   "cell_type": "markdown",
   "metadata": {},
   "source": [
    "![](files/test.1.png)"
   ]
  },
  {
   "cell_type": "markdown",
   "metadata": {},
   "source": [
    "The insert was 400 bp so it was def added between lacZ alpha and AmpR gene but is not labeled and has taken out the restriction site. Seems like linearizing the plasmid at that point clones in the variable region at that location. Not really want I want to try and do."
   ]
  },
  {
   "cell_type": "markdown",
   "metadata": {},
   "source": [
    "## Round 2: Chaning plasmid backbones and going back to design\n",
    "\n",
    "Switching to more realistic plasmid choice [pFC8](files/pFC8.gb). Not sure why I thought pMal was the way to go."
   ]
  },
  {
   "cell_type": "markdown",
   "metadata": {},
   "source": [
    "![](files/pFC8.png)"
   ]
  },
  {
   "cell_type": "markdown",
   "metadata": {},
   "source": [
    "Lets say just for simplicity we are going to leave in the R-loop forming region, could cut this out to reduce overall length, and use the T3 promotor. Then want to insert the construct (variable region) inbetween `SNRPN` and the `T3` promotor by linearizing at `KpnI` site.\n",
    "\n",
    "Should note that this will create sticky ends, that might matter since in this approach not using PCR to get homolgous regions between plasmid and variable region. Actually should not because ends would be chewed by the exonuclease."
   ]
  },
  {
   "cell_type": "markdown",
   "metadata": {},
   "source": [
    "Sequence at `KpnI` cut site.\n",
    "\n",
    "![](files/linearization.png)"
   ]
  },
  {
   "cell_type": "code",
   "execution_count": 18,
   "metadata": {},
   "outputs": [],
   "source": [
    "from Bio.Restriction import KpnI, Analysis, RestrictionBatch\n",
    "from Bio.Seq import Seq\n",
    "\n",
    "rb = RestrictionBatch([KpnI])"
   ]
  },
  {
   "cell_type": "markdown",
   "metadata": {},
   "source": [
    "Sequence overlapping most of region shown above (including `KpnI` site)"
   ]
  },
  {
   "cell_type": "code",
   "execution_count": 19,
   "metadata": {},
   "outputs": [],
   "source": [
    "s = Seq('tccaagacctcgagggggggcccggtacccagcttttgttccctttagtgagg')\n",
    "Analong = Analysis(rb, s)"
   ]
  },
  {
   "cell_type": "code",
   "execution_count": 20,
   "metadata": {},
   "outputs": [
    {
     "name": "stdout",
     "output_type": "stream",
     "text": [
      "                            29 KpnI\n",
      "                            |                               \n",
      "tccaagacctcgagggggggcccggtacccagcttttgttccctttagtgagg\n",
      "|||||||||||||||||||||||||||||||||||||||||||||||||||||\n",
      "aggttctggagctcccccccgggccatgggtcgaaaacaagggaaatcactcc\n",
      "1                                                  53\n",
      "\n",
      "\n"
     ]
    }
   ],
   "source": [
    "Analong.print_as('map')\n",
    "Analong.print_that()"
   ]
  },
  {
   "cell_type": "markdown",
   "metadata": {},
   "source": [
    "So since we are trying to insert our variable region construct at this restriction site the first and last inserted sequence should have homology arms complementary to sequences flanking this site."
   ]
  },
  {
   "cell_type": "markdown",
   "metadata": {},
   "source": [
    "Below would be the most I guess extreme version of this, where you are cloning in both promotors, intiation, termination and extention regions. Regions of the same solid color indicate homology."
   ]
  },
  {
   "cell_type": "markdown",
   "metadata": {},
   "source": [
    "![](files/insert.png)"
   ]
  },
  {
   "cell_type": "markdown",
   "metadata": {},
   "source": [
    "But in each backbone, including `PFC8` there is already at least one usable promotor that could be taken advantage of. Additionally, it may not be best to clone in initiation and termiation regions at the same time since we are not 100% sure how long the R-loops that form will be. This is critical for termination region placement relative to the promotor because it needs to be far enough away where by the time R-loops arrive it would be reasonable for them to termininate but close enough so that R-loops are actually, at least on average, able to reach it.\n",
    "\n",
    "That might look something more like the images below."
   ]
  },
  {
   "cell_type": "markdown",
   "metadata": {},
   "source": [
    "### Initiation construct\n",
    "\n",
    "![](files/insert1.png)"
   ]
  },
  {
   "cell_type": "markdown",
   "metadata": {},
   "source": [
    "The average length of R-loops formed using the initiation region would then inform termination region design."
   ]
  },
  {
   "cell_type": "markdown",
   "metadata": {},
   "source": [
    "### Termination construct"
   ]
  },
  {
   "cell_type": "markdown",
   "metadata": {},
   "source": [
    "![](files/insert2.png)"
   ]
  },
  {
   "cell_type": "markdown",
   "metadata": {},
   "source": [
    "## Basic initiation construct"
   ]
  },
  {
   "cell_type": "markdown",
   "metadata": {},
   "source": [
    "Back to design via pyDNA for basic initiation region contruct"
   ]
  },
  {
   "cell_type": "markdown",
   "metadata": {},
   "source": [
    "Read in pFC8 and linearize but cutting at `KpnI` site."
   ]
  },
  {
   "cell_type": "code",
   "execution_count": 21,
   "metadata": {},
   "outputs": [],
   "source": [
    "pFC8 = read('files/pFC8.gb')\n",
    "pFC8_linear = pFC8.linearize(KpnI)"
   ]
  },
  {
   "cell_type": "code",
   "execution_count": 22,
   "metadata": {},
   "outputs": [
    {
     "data": {
      "text/markdown": [
       "| Ft# | Label or Note | Dir | Sta  | End  | Len | type         | orf? |\n",
       "|-----|---------------|-----|------|------|-----|--------------|------|\n",
       "|   0 | L:T7\\promoter | --> | 11   | 33   |  22 | promoter     |  no  |\n",
       "|   1 | L:T7\\+1\\Site  | --> | 28   | 29   |   1 | misc_feature |  no  |\n",
       "|   2 | L:SNRPN       | <-- | 51   | 1032 | 981 | CDS          |  no  |\n",
       "|   3 | L:T3\\promoter | <-- | 1046 | 1063 |  17 | promoter     |  no  |"
      ],
      "text/plain": [
       "+-----+---------------+-----+------+------+-----+--------------+------+\n",
       "| Ft# | Label or Note | Dir | Sta  | End  | Len | type         | orf? |\n",
       "+-----+---------------+-----+------+------+-----+--------------+------+\n",
       "|   0 | L:T7\\promoter | --> | 11   | 33   |  22 | promoter     |  no  |\n",
       "|   1 | L:T7\\+1\\Site  | --> | 28   | 29   |   1 | misc_feature |  no  |\n",
       "|   2 | L:SNRPN       | <-- | 51   | 1032 | 981 | CDS          |  no  |\n",
       "|   3 | L:T3\\promoter | <-- | 1046 | 1063 |  17 | promoter     |  no  |\n",
       "+-----+---------------+-----+------+------+-----+--------------+------+"
      ]
     },
     "execution_count": 22,
     "metadata": {},
     "output_type": "execute_result"
    }
   ],
   "source": [
    "pFC8.list_features()"
   ]
  },
  {
   "cell_type": "code",
   "execution_count": 23,
   "metadata": {},
   "outputs": [
    {
     "data": {
      "text/plain": [
       "{KpnI: [1033]}"
      ]
     },
     "execution_count": 23,
     "metadata": {},
     "output_type": "execute_result"
    }
   ],
   "source": [
    "pFC8_cut = Analysis(rb, pFC8.seq)\n",
    "cuts = pFC8_cut.full()\n",
    "cuts"
   ]
  },
  {
   "cell_type": "markdown",
   "metadata": {},
   "source": [
    "Homology arms to the left and right of the cut site"
   ]
  },
  {
   "cell_type": "markdown",
   "metadata": {},
   "source": [
    "**Note**\n",
    "\n",
    "```\n",
    "The position returned by the method search is the first base of the downstream segment produced by a restriction (i.e. the first base after the position where the enzyme will cut). The Restriction package follows biological convention (the first base of a sequence is base 1). \n",
    "```"
   ]
  },
  {
   "cell_type": "markdown",
   "metadata": {},
   "source": [
    "Lets pretend cut is at 3 (output from method)\n",
    "```\n",
    "1 2 | 3 4 5 6 7 \n",
    "```"
   ]
  },
  {
   "cell_type": "code",
   "execution_count": 24,
   "metadata": {},
   "outputs": [
    {
     "name": "stdout",
     "output_type": "stream",
     "text": [
      "left: [1, 2]\n",
      "right: [3, 4, 5, 6, 7]\n"
     ]
    }
   ],
   "source": [
    "cut_test = 3\n",
    "seq_test = [1, 2, 3, 4, 5, 6, 7]\n",
    "left, right = seq_test[:cut_test-1], seq_test[cut_test-1:]\n",
    "print(\"left:\", left)\n",
    "print(\"right:\", right)\n"
   ]
  },
  {
   "cell_type": "code",
   "execution_count": 25,
   "metadata": {},
   "outputs": [],
   "source": [
    "homology_length = 20\n",
    "cut_site = cuts[KpnI][0]"
   ]
  },
  {
   "cell_type": "code",
   "execution_count": 26,
   "metadata": {},
   "outputs": [
    {
     "name": "stdout",
     "output_type": "stream",
     "text": [
      "left: CTCGAGGGGGGGCCCGGTAC\n",
      "right: CCAGCTTTTGTTCCCTTTAG\n",
      "span: CTCGAGGGGGGGCCCGGTACCCAGCTTTTGTTCCCTTTAG\n"
     ]
    }
   ],
   "source": [
    "h_left, h_right = pFC8.seq[cut_site-1-20:cut_site-1], pFC8.seq[cut_site-1:cut_site-1+20]\n",
    "span = pFC8.seq[cut_site-1-20:cut_site-1+20]\n",
    "\n",
    "assert len(h_left) == len(h_right)\n",
    "assert h_left + h_right == span\n",
    "\n",
    "print('left:', h_left)\n",
    "print('right:', h_right)\n",
    "print('span:', pFC8.seq[cut_site-1-20:cut_site-1+20])"
   ]
  },
  {
   "cell_type": "markdown",
   "metadata": {},
   "source": [
    "Here, if pFC8 was cut with `KpnI` then the head and tail of the construct would need to have homology to the sequences above."
   ]
  },
  {
   "cell_type": "markdown",
   "metadata": {},
   "source": [
    "Genbank format version of example initiation and extension regions.\n",
    "\n",
    "### Initiation region\n",
    "\n",
    "Right arm added to start of sequence"
   ]
  },
  {
   "cell_type": "markdown",
   "metadata": {},
   "source": [
    "```\n",
    "LOCUS       INIT1                     330 bp ds-DNA     linear       07-FEB-2017\n",
    "DEFINITION  .\n",
    "ACCESSION   \n",
    "VERSION     \n",
    "SOURCE      .\n",
    "  ORGANISM  .\n",
    "COMMENT     \n",
    "COMMENT     ApEinfo:methylated:1\n",
    "ORIGIN\n",
    "        1 CTCGAGGGGG GGCCCGGTAC TTCTGCTAAG AAAGGTGCTA CACTTTTCAA GACTAGATGT\n",
    "       61 CTACAATGCC ACACCGTGGA AAAGGGTGGC CCACATAAGG TTGGTCCAAA CTTGCATGGT\n",
    "      121 ATCTTTGGCA GACACTCTGG TCAAGCTGAA GGGTATTCGT ACACAGATGC CAATATCAAG\n",
    "      181 AAAAACGTGT TGTGGGACGA AAATAACATG TCAGAGTACT TGACTAACCC AAAGAAATAT\n",
    "      241 ATTCCTGGTA CCAAGATGGC CTTTGGTGGG TTGAAGAAGG AAAAAGACAG AAACGACTTA\n",
    "      301 ATTACCTACT TGAAAAAAGC CTGTGAGTAA   \n",
    "//\n",
    "```"
   ]
  },
  {
   "cell_type": "markdown",
   "metadata": {},
   "source": [
    "### Extention region\n",
    "\n",
    "Really the same as the initiation region start copied last 20 bp of the initiation region and added the right homology arm to the end."
   ]
  },
  {
   "cell_type": "markdown",
   "metadata": {},
   "source": [
    "```\n",
    "LOCUS       EXTEN1                     330 bp ds-DNA     linear       07-FEB-2017\n",
    "DEFINITION  .\n",
    "ACCESSION   \n",
    "VERSION     \n",
    "SOURCE      .\n",
    "  ORGANISM  .\n",
    "COMMENT     \n",
    "COMMENT     ApEinfo:methylated:1\n",
    "ORIGIN\n",
    "        1 TGAAAAAAGC CTGTGAGTAA TTCTGCTAAG AAAGGTGCTA CACTTTTCAA GACTAGATGT\n",
    "       61 CTACAATGCC ACACCGTGGA AAAGGGTGGC CCACATAAGG TTGGTCCAAA CTTGCATGGT\n",
    "      121 ATCTTTGGCA GACACTCTGG TCAAGCTGAA GGGTATTCGT ACACAGATGC CAATATCAAG\n",
    "      181 AAAAACGTGT TGTGGGACGA AAATAACATG TCAGAGTACT TGACTAACCC AAAGAAATAT\n",
    "      241 ATTCCTGGTA CCAAGATGGC CTTTGGTGGG TTGAAGAAGG AAAAAGACAG AAACGACTTA\n",
    "      301 ATTACCTACT CCAGCTTTTG TTCCCTTTAG   \n",
    "//\n",
    "```"
   ]
  },
  {
   "cell_type": "markdown",
   "metadata": {},
   "source": [
    "**Note**\n",
    "\n",
    "For the region that was inserted to be labeled and rendered as a colored block when viewed with SnapGene or similar program the genbank file should include a feature that described the inserted region.\n",
    "\n",
    "Example feature added after running code is shown below.\n",
    "\n",
    "```\n",
    "FEATURES             Location/Qualifiers\n",
    "     CDS             1..330\n",
    "                     /label=\"- M13 ori +\"\n",
    "                     /label=\"-\\M13\\ori\\+\"\n",
    "```"
   ]
  },
  {
   "cell_type": "markdown",
   "metadata": {},
   "source": [
    "Adding features via pyRNA. Likely will need to do this in the pipeline."
   ]
  },
  {
   "cell_type": "markdown",
   "metadata": {},
   "source": [
    "Read in the new regions"
   ]
  },
  {
   "cell_type": "code",
   "execution_count": 68,
   "metadata": {},
   "outputs": [],
   "source": [
    "init_path = 'files/test_init.gb'\n",
    "exten_path = 'files/test_exten.gb'\n",
    "\n",
    "init = read(init_path)\n",
    "exten = read(exten_path)\n",
    "\n",
    "init_amplicon = primer_design(init)\n",
    "exten_amplicon = primer_design(exten)\n"
   ]
  },
  {
   "cell_type": "code",
   "execution_count": 28,
   "metadata": {},
   "outputs": [
    {
     "data": {
      "text/plain": [
       "[]"
      ]
     },
     "execution_count": 28,
     "metadata": {},
     "output_type": "execute_result"
    }
   ],
   "source": [
    "exten.features"
   ]
  },
  {
   "cell_type": "code",
   "execution_count": 29,
   "metadata": {},
   "outputs": [
    {
     "name": "stdout",
     "output_type": "stream",
     "text": [
      "[SeqFeature(FeatureLocation(ExactPosition(0), ExactPosition(330), strand=1), type='CDS')]\n",
      "[SeqFeature(FeatureLocation(ExactPosition(0), ExactPosition(330), strand=1), type='CDS')]\n"
     ]
    }
   ],
   "source": [
    "init.add_feature(x=0, y=len(init), type='CDS', label='INIT-1')\n",
    "exten.add_feature(x=0, y=len(exten), type='CDS', label='EXTEN-1')\n",
    "print(init.features)\n",
    "print(exten.features)"
   ]
  },
  {
   "cell_type": "markdown",
   "metadata": {},
   "source": [
    "Adding features in this way does not seem to effect final render"
   ]
  },
  {
   "cell_type": "code",
   "execution_count": 30,
   "metadata": {},
   "outputs": [
    {
     "data": {
      "text/html": [
       "<font face=monospace><a href='INIT1.gb' target='_blank'>INIT1.gb</a></font><br>"
      ]
     },
     "metadata": {},
     "output_type": "display_data"
    }
   ],
   "source": [
    "init.write()"
   ]
  },
  {
   "cell_type": "markdown",
   "metadata": {},
   "source": [
    "Actually maybe it does, output from write is below."
   ]
  },
  {
   "cell_type": "markdown",
   "metadata": {},
   "source": [
    "```\n",
    "LOCUS       INIT1                    330 bp    DNA     linear   UNK 07-FEB-2017\n",
    "DEFINITION  .\n",
    "ACCESSION   INIT1\n",
    "VERSION     INIT1\n",
    "KEYWORDS    .\n",
    "SOURCE      \n",
    "  ORGANISM  .\n",
    "            .\n",
    "COMMENT     \n",
    "            ApEinfo:methylated:1\n",
    "FEATURES             Location/Qualifiers\n",
    "     CDS             1..330\n",
    "                     /label=\"hello\"\n",
    "ORIGIN\n",
    "        1 ctcgaggggg ggcccggtac ttctgctaag aaaggtgcta cacttttcaa gactagatgt\n",
    "       61 ctacaatgcc acaccgtgga aaagggtggc ccacataagg ttggtccaaa cttgcatggt\n",
    "      121 atctttggca gacactctgg tcaagctgaa gggtattcgt acacagatgc caatatcaag\n",
    "      181 aaaaacgtgt tgtgggacga aaataacatg tcagagtact tgactaaccc aaagaaatat\n",
    "      241 attcctggta ccaagatggc ctttggtggg ttgaagaagg aaaaagacag aaacgactta\n",
    "      301 attacctact tgaaaaaagc ctgtgagtaa\n",
    "//\n",
    "```"
   ]
  },
  {
   "cell_type": "markdown",
   "metadata": {},
   "source": [
    "Yes looks like this will be a valid method for use in the workflow, rendered by snapgene\n",
    "\n",
    "![](files/hello_snap.png)"
   ]
  },
  {
   "cell_type": "markdown",
   "metadata": {},
   "source": [
    "## pFC8 fragment construction"
   ]
  },
  {
   "cell_type": "markdown",
   "metadata": {},
   "source": [
    "I think this labels the amplicons?"
   ]
  },
  {
   "cell_type": "code",
   "execution_count": 31,
   "metadata": {},
   "outputs": [],
   "source": [
    "pFC8_linear.locus = \"pFC8\"\n",
    "init_amplicon.locus = \"INIT_REGION_1\"\n",
    "exten_amplicon.locus = \"EXTEN_REGION_1\""
   ]
  },
  {
   "cell_type": "markdown",
   "metadata": {},
   "source": [
    "Make the fragment list, must be of type amplicon. Using design primers assumes the input is the template. This is not really want we want to do since we are building at least the variable regions from nothing can can have whatever we want in there. This may or may not be true for the extension regions. In the later case then normal PCR based assembly would be required. But either way need to check what `primer_design` actually produces."
   ]
  },
  {
   "cell_type": "code",
   "execution_count": 32,
   "metadata": {},
   "outputs": [
    {
     "data": {
      "text/plain": [
       "'CTCGAGGGGGGGCCCGGTACTTCTGCTAAGAAAGGTGCTACACTTTTCAAGACTAGATGTCTACAATGCCACACCGTGGAAAAGGGTGGCCCACATAAGGTTGGTCCAAACTTGCATGGTATCTTTGGCAGACACTCTGGTCAAGCTGAAGGGTATTCGTACACAGATGCCAATATCAAGAAAAACGTGTTGTGGGACGAAAATAACATGTCAGAGTACTTGACTAACCCAAAGAAATATATTCCTGGTACCAAGATGGCCTTTGGTGGGTTGAAGAAGGAAAAAGACAGAAACGACTTAATTACCTACTTGAAAAAAGCCTGTGAGTAA'"
      ]
     },
     "execution_count": 32,
     "metadata": {},
     "output_type": "execute_result"
    }
   ],
   "source": [
    "init_amplicon.figure()\n",
    "str(init_amplicon.seq)"
   ]
  },
  {
   "cell_type": "code",
   "execution_count": 33,
   "metadata": {},
   "outputs": [
    {
     "data": {
      "text/plain": [
       "dict_keys(['_seq', 'id', 'name', 'description', 'dbxrefs', 'annotations', '_per_letter_annotations', 'features', 'map_target', 'n', 'template', 'forward_primer', 'reverse_primer'])"
      ]
     },
     "execution_count": 33,
     "metadata": {},
     "output_type": "execute_result"
    }
   ],
   "source": [
    "init_amplicon.__dict__.keys()"
   ]
  },
  {
   "cell_type": "markdown",
   "metadata": {},
   "source": [
    "Sequence is same as input"
   ]
  },
  {
   "cell_type": "code",
   "execution_count": 34,
   "metadata": {},
   "outputs": [],
   "source": [
    "pFC8_frags = assembly_fragments(\n",
    "    (pFC8_linear, init_amplicon, exten_amplicon, pFC8_linear)\n",
    ")"
   ]
  },
  {
   "cell_type": "code",
   "execution_count": 35,
   "metadata": {},
   "outputs": [
    {
     "data": {
      "text/plain": [
       "                                   5CTCGAGGGGGGGC...AATTACCTACTTGAAAAAAGCCTGTGAGTAA3\n",
       "                                                    |||||||||||||||||||||||||||||||\n",
       "                                                   3TTAATGGATGAACTTTTTTCGGACACTCATTACTTTTTTCGGACACTCA5\n",
       "5TCAGTACTCCAAGACCTCGAGGGGGGGCCCGGTACCTCGAGGGGGGGC3\n",
       "                                    |||||||||||||\n",
       "                                   3GAGCTCCCCCCCG...TTAATGGATGAACTTTTTTCGGACACTCATT5"
      ]
     },
     "execution_count": 35,
     "metadata": {},
     "output_type": "execute_result"
    }
   ],
   "source": [
    "pFC8_frags[1].figure()"
   ]
  },
  {
   "cell_type": "markdown",
   "metadata": {},
   "source": [
    "ok..."
   ]
  },
  {
   "cell_type": "code",
   "execution_count": 36,
   "metadata": {},
   "outputs": [
    {
     "data": {
      "text/plain": [
       "[Dseqrecord(-3593), Amplicon(383), Amplicon(383)]"
      ]
     },
     "execution_count": 36,
     "metadata": {},
     "output_type": "execute_result"
    }
   ],
   "source": [
    "pFC8_frags = pFC8_frags[:-1]\n",
    "pFC8_frags"
   ]
  },
  {
   "cell_type": "code",
   "execution_count": 37,
   "metadata": {},
   "outputs": [
    {
     "data": {
      "text/plain": [
       "Assembly\n",
       "fragments..: 3593bp 383bp 383bp\n",
       "limit(bp)..: 25\n",
       "G.nodes....: 8\n",
       "algorithm..: common_sub_strings"
      ]
     },
     "execution_count": 37,
     "metadata": {},
     "output_type": "execute_result"
    }
   ],
   "source": [
    "asm_pFC8 = Assembly(pFC8_frags)\n",
    "asm_pFC8"
   ]
  },
  {
   "cell_type": "code",
   "execution_count": 38,
   "metadata": {},
   "outputs": [
    {
     "data": {
      "text/html": [
       "<pre> -|pFC8|35\n",
       "|       \\/\n",
       "|       /\\\n",
       "|       35|383bp_PCR_prod|36\n",
       "|                         \\/\n",
       "|                         /\\\n",
       "|                         36|383bp_PCR_prod|35\n",
       "|                                           \\/\n",
       "|                                           /\\\n",
       "|                                           35-\n",
       "|                                              |\n",
       " ----------------------------------------------</pre>"
      ],
      "text/plain": [
       "Contig(o4253)"
      ]
     },
     "execution_count": 38,
     "metadata": {},
     "output_type": "execute_result"
    }
   ],
   "source": [
    "canidate_pFC8 = asm_pFC8.assemble_circular()[0]\n",
    "canidate_pFC8"
   ]
  },
  {
   "cell_type": "markdown",
   "metadata": {},
   "source": [
    "Where are the 35 bp of homology coming from? Lets take a look at the result. "
   ]
  },
  {
   "cell_type": "code",
   "execution_count": 39,
   "metadata": {},
   "outputs": [
    {
     "data": {
      "text/html": [
       "<font face=monospace><a href='files/pFC8_assembly_test.gb' target='_blank'>files/pFC8_assembly_test.gb</a></font><br>"
      ]
     },
     "metadata": {},
     "output_type": "display_data"
    }
   ],
   "source": [
    "canidate_pFC8.write(\"files/pFC8_assembly_test.gb\")"
   ]
  },
  {
   "cell_type": "markdown",
   "metadata": {},
   "source": [
    "See what the primers look like"
   ]
  },
  {
   "cell_type": "code",
   "execution_count": 40,
   "metadata": {},
   "outputs": [],
   "source": [
    "from pydna.amplicon import Amplicon\n",
    "amplicons1 = [x for x in pFC8_frags if isinstance(x, Amplicon)]\n",
    "\n",
    "# Get forward and reverse primer for each Amplicon\n",
    "primers1 = [(y.forward_primer, y.reverse_primer) for y in amplicons1]"
   ]
  },
  {
   "cell_type": "code",
   "execution_count": 41,
   "metadata": {},
   "outputs": [
    {
     "name": "stdout",
     "output_type": "stream",
     "text": [
      ">f330 INIT1\n",
      "TCAGTACTCCAAGACCTCGAGGGGGGGCCCGGTACCTCGAGGGGGGGC\n",
      "\n",
      ">r330 INIT1\n",
      "ACTCACAGGCTTTTTTCATTACTCACAGGCTTTTTTCAAGTAGGTAATT\n",
      "\n",
      "\n",
      ">f330 EXTEN1\n",
      "AAAAAAGCCTGTGAGTAATGAAAAAAGCCTGTGAGT\n",
      "\n",
      ">r330 EXTEN1\n",
      "ATTAACCCTCACTAAAGGGAACAAAAGCTGGGTACCTAAAGGGAACAAAAGCT\n",
      "\n",
      "\n"
     ]
    }
   ],
   "source": [
    "# print primer pairs:\n",
    "for pair in primers1:\n",
    "    print(pair[0].format(\"fasta\"))\n",
    "    print(pair[1].format(\"fasta\"))\n",
    "    print()"
   ]
  },
  {
   "cell_type": "markdown",
   "metadata": {},
   "source": [
    "So it looks like the regions we wanted to clone in definitely made it in there. The highlighted region below is the complete 330 bp of the `INIT1` region. However it is in the wrong location in reference to the promotor so would have to swap relative location of things."
   ]
  },
  {
   "cell_type": "markdown",
   "metadata": {},
   "source": [
    "![](files/pFC8_test_assemble.png)"
   ]
  },
  {
   "cell_type": "markdown",
   "metadata": {},
   "source": [
    "And if we look at the sequence and search for what was the right homology arm `CTCGAGGGGGGGCCCGGTAC` that would have been included in the sequence we can see that it was not recognized as the homologous region and is now duplicated."
   ]
  },
  {
   "cell_type": "markdown",
   "metadata": {},
   "source": [
    "![](files/pFC8_test_assemble_dup.png)"
   ]
  },
  {
   "cell_type": "markdown",
   "metadata": {},
   "source": [
    "So when used without any modification this approach will assume that you want primers for your sequences and not assume any kind of homology between sequences. \n",
    "\n",
    "So I guess one approach could be let the program think that primers need to be made for all sequeunces, and for those that are to be completely synthezied do not append any additional homology arms.\n",
    "Then only create primers for regions that will actually require them and append homology arms on to the design sequences. This is because the purpose of the PCR step is to create the homologous region but in the case of the designed regions, namely the variable regions this will not be needed if we know the backbone and the location where each VR is to be cloned in before hand."
   ]
  },
  {
   "cell_type": "markdown",
   "metadata": {},
   "source": [
    "## Correcting orrientation"
   ]
  },
  {
   "cell_type": "code",
   "execution_count": 44,
   "metadata": {},
   "outputs": [],
   "source": [
    "pFC8_frags_orr = assembly_fragments(\n",
    "    (pFC8_linear, exten_amplicon, init_amplicon, pFC8_linear)\n",
    ")"
   ]
  },
  {
   "cell_type": "code",
   "execution_count": 45,
   "metadata": {},
   "outputs": [
    {
     "data": {
      "text/plain": [
       "[Dseqrecord(-3593), Amplicon(383), Amplicon(383)]"
      ]
     },
     "execution_count": 45,
     "metadata": {},
     "output_type": "execute_result"
    }
   ],
   "source": [
    "pFC8_frags_orr = pFC8_frags_orr [:-1]\n",
    "pFC8_frags_orr"
   ]
  },
  {
   "cell_type": "code",
   "execution_count": 63,
   "metadata": {},
   "outputs": [
    {
     "data": {
      "text/plain": [
       "Assembly\n",
       "fragments..: 3593bp 383bp 383bp 3593bp\n",
       "limit(bp)..: 25\n",
       "G.nodes....: 8\n",
       "algorithm..: common_sub_strings"
      ]
     },
     "execution_count": 63,
     "metadata": {},
     "output_type": "execute_result"
    }
   ],
   "source": [
    "asm_pFC8_orr = Assembly(pFC8_frags_orr)\n",
    "asm_pFC8_orr"
   ]
  },
  {
   "cell_type": "code",
   "execution_count": 64,
   "metadata": {},
   "outputs": [
    {
     "data": {
      "text/html": [
       "<pre> -|pFC8|35\n",
       "|       \\/\n",
       "|       /\\\n",
       "|       35|EXTEN1|36\n",
       "|                 \\/\n",
       "|                 /\\\n",
       "|                 36|INIT1|35\n",
       "|                          \\/\n",
       "|                          /\\\n",
       "|                          35-\n",
       "|                             |\n",
       " -----------------------------</pre>"
      ],
      "text/plain": [
       "Contig(o4253)"
      ]
     },
     "execution_count": 64,
     "metadata": {},
     "output_type": "execute_result"
    }
   ],
   "source": [
    "canidate_pFC8_orr = asm_pFC8_orr.assemble_circular()[0]\n",
    "canidate_pFC8_orr"
   ]
  },
  {
   "cell_type": "code",
   "execution_count": 67,
   "metadata": {},
   "outputs": [
    {
     "data": {
      "text/html": [
       "<font face=monospace><a href='files/pFC8_test.orr.gb' target='_blank'>files/pFC8_test.orr.gb</a></font><br>"
      ]
     },
     "metadata": {},
     "output_type": "display_data"
    }
   ],
   "source": [
    "canidate_pFC8_orr.write('files/pFC8_test.orr.gb')"
   ]
  },
  {
   "cell_type": "markdown",
   "metadata": {},
   "source": [
    "Things are now in the correct order but the wrong orrientation relative to the T3 promotor. Still have some work to do and need to dig into exactly how orrientations are determined and positioned when cutting circular plasmid."
   ]
  },
  {
   "cell_type": "markdown",
   "metadata": {},
   "source": [
    "![](files/init-1-orr.png)"
   ]
  },
  {
   "cell_type": "markdown",
   "metadata": {},
   "source": [
    "It might actually work if just label the features of each inserted region with the same orrientation as the promotor they will be transcribed by, in this case the T3"
   ]
  },
  {
   "cell_type": "code",
   "execution_count": 70,
   "metadata": {},
   "outputs": [
    {
     "name": "stdout",
     "output_type": "stream",
     "text": [
      "Help on method add_feature in module pydna.seqrecord:\n",
      "\n",
      "add_feature(x=None, y=None, seq=None, type='misc', strand=1, *args, **kwargs) method of pydna.genbankfile.GenbankFile instance\n",
      "    Add a feature of type misc to the feature list of the sequence.\n",
      "    \n",
      "    Parameters\n",
      "    ----------\n",
      "    x  : int\n",
      "        Indicates start of the feature\n",
      "    y  : int\n",
      "        Indicates end of the feature\n",
      "    \n",
      "    Examples\n",
      "    --------\n",
      "    >>> from pydna.seqrecord import SeqRecord\n",
      "    >>> a=SeqRecord(\"atgtaa\")\n",
      "    >>> a.features\n",
      "    []\n",
      "    >>> a.add_feature(2,4)\n",
      "    >>> a.features\n",
      "    [SeqFeature(FeatureLocation(ExactPosition(2), ExactPosition(4),\n",
      "                                strand=1), type='misc')]\n",
      "\n"
     ]
    }
   ],
   "source": [
    "help(init.add_feature)"
   ]
  },
  {
   "cell_type": "markdown",
   "metadata": {},
   "source": [
    "Default strand is 1 set to 0?"
   ]
  },
  {
   "cell_type": "code",
   "execution_count": 77,
   "metadata": {},
   "outputs": [],
   "source": [
    "init_path = 'files/test_init.gb'\n",
    "exten_path = 'files/test_exten.gb'\n",
    "\n",
    "init = read(init_path)\n",
    "exten = read(exten_path)\n",
    "\n",
    "init.add_feature(x=0, y=len(init), type='CDS', label='INIT-1', strand=-1)\n",
    "exten.add_feature(x=0, y=len(exten), type='CDS', label='EXTEN-1', strand=-1)\n",
    "\n",
    "init_amplicon = primer_design(init)\n",
    "exten_amplicon = primer_design(exten)"
   ]
  },
  {
   "cell_type": "markdown",
   "metadata": {},
   "source": [
    "Really should put in function by now"
   ]
  },
  {
   "cell_type": "code",
   "execution_count": 78,
   "metadata": {},
   "outputs": [
    {
     "data": {
      "text/html": [
       "<pre> -|pFC8|35\n",
       "|       \\/\n",
       "|       /\\\n",
       "|       35|EXTEN1|36\n",
       "|                 \\/\n",
       "|                 /\\\n",
       "|                 36|INIT1|35\n",
       "|                          \\/\n",
       "|                          /\\\n",
       "|                          35-\n",
       "|                             |\n",
       " -----------------------------</pre>"
      ],
      "text/plain": [
       "Contig(o4253)"
      ]
     },
     "execution_count": 78,
     "metadata": {},
     "output_type": "execute_result"
    }
   ],
   "source": [
    "pFC8_frags_rev = assembly_fragments(\n",
    "    (pFC8_linear, exten_amplicon, init_amplicon, pFC8_linear)\n",
    ")\n",
    "asm_pFC8_rev = Assembly(pFC8_frags_rev)\n",
    "canidate_pFC8_rev = asm_pFC8_orr.assemble_circular()[0]\n",
    "canidate_pFC8_rev"
   ]
  },
  {
   "cell_type": "code",
   "execution_count": 79,
   "metadata": {},
   "outputs": [
    {
     "data": {
      "text/html": [
       "<font face=monospace><a href='files/canidate_pFC8_rev.gb' target='_blank'>files/canidate_pFC8_rev.gb</a></font><br>"
      ]
     },
     "metadata": {},
     "output_type": "display_data"
    }
   ],
   "source": [
    "canidate_pFC8_rev.write('files/canidate_pFC8_rev.gb')"
   ]
  },
  {
   "cell_type": "code",
   "execution_count": 80,
   "metadata": {},
   "outputs": [
    {
     "name": "stdout",
     "output_type": "stream",
     "text": [
      "LOCUS       name                    4253 bp    DNA     circular UNK 01-JAN-1980\n",
      "DEFINITION  description.\n",
      "ACCESSION   id\n",
      "VERSION     id\n",
      "KEYWORDS    .\n",
      "SOURCE      .\n",
      "  ORGANISM  .\n",
      "            .\n",
      "FEATURES             Location/Qualifiers\n",
      "     promoter        complement(15..31)\n",
      "                     /vntifkey=\"30\"\n",
      "                     /label=\"T3\\promoter\"\n",
      "     promoter        2569..2590\n",
      "                     /vntifkey=\"30\"\n",
      "                     /label=\"T7\\promoter\"\n",
      "     misc_feature    2586\n",
      "                     /vntifkey=\"21\"\n",
      "                     /label=\"T7\\+1\\Site\"\n",
      "     CDS             complement(2609..3589)\n",
      "                     /vntifkey=\"4\"\n",
      "                     /label=\"SNRPN\"\n",
      "     CDS             3594..3923\n",
      "                     /label=\"EXTEN-1\"\n",
      "     primer_bind     3594..3611\n",
      "                     /label=\"f330\"\n",
      "                     /ApEinfo_fwdcolor=\"#baffa3\"\n",
      "                     /ApEinfo_revcolor=\"#ffbaba\"\n",
      "     primer_bind     complement(3851..3868)\n",
      "                     /label=\"r330\"\n",
      "                     /ApEinfo_fwdcolor=\"#baffa3\"\n",
      "                     /ApEinfo_revcolor=\"#ffbaba\"\n",
      "     primer_bind     3594..3611\n",
      "                     /label=\"f330\"\n",
      "                     /ApEinfo_fwdcolor=\"#baffa3\"\n",
      "                     /ApEinfo_revcolor=\"#ffbaba\"\n",
      "     primer_bind     complement(3851..3868)\n",
      "                     /label=\"r330\"\n",
      "                     /ApEinfo_fwdcolor=\"#baffa3\"\n",
      "                     /ApEinfo_revcolor=\"#ffbaba\"\n",
      "     CDS             3924..4253\n",
      "                     /label=\"INIT-1\"\n",
      "     primer_bind     3924..3936\n",
      "                     /label=\"f330\"\n",
      "                     /ApEinfo_fwdcolor=\"#baffa3\"\n",
      "                     /ApEinfo_revcolor=\"#ffbaba\"\n",
      "     primer_bind     complement(4185..4215)\n",
      "                     /label=\"r330\"\n",
      "                     /ApEinfo_fwdcolor=\"#baffa3\"\n",
      "                     /ApEinfo_revcolor=\"#ffbaba\"\n",
      "     primer_bind     3924..3936\n",
      "                     /label=\"f330\"\n",
      "                     /ApEinfo_fwdcolor=\"#baffa3\"\n",
      "                     /ApEinfo_revcolor=\"#ffbaba\"\n",
      "     primer_bind     complement(4185..4215)\n",
      "                     /label=\"r330\"\n",
      "                     /ApEinfo_fwdcolor=\"#baffa3\"\n",
      "                     /ApEinfo_revcolor=\"#ffbaba\"\n",
      "ORIGIN\n",
      "        1 gtacccagct tttgttccct ttagtgaggg ttaattctag agcatgcctg cattaatgaa\n",
      "       61 tcggccaacg cgcggggaga ggcggtttgc gtattgggcg ctcttccgct tcctcgctca\n",
      "      121 ctgactcgct gcgctcggtc gttcggctgc ggcgagcggt atcagctcac tcaaaggcgg\n",
      "      181 taatacggtt atccacagaa tcaggggata acgcaggaaa gaacatgtga gcaaaaggcc\n",
      "      241 agcaaaaggc caggaaccgt aaaaaggccg cgttgctggc gtttttccat aggctcggcc\n",
      "      301 cccctgacga gcatcacaaa aatcgacgct caagtcagag gtggcgaaac ccgacaggac\n",
      "      361 tataaagata ccaggcgttc ccccctggaa gctccctcgt gcgctctcct gttccgaccc\n",
      "      421 tgccgcttac cggatacctg tccgcctttc tcccttcggg aagcgtggcg ctttctcaat\n",
      "      481 gctcacgctg taggtatctc agttcggtgt aggtcgttcg ctccaagctg ggctgtgtgc\n",
      "      541 acgaaccccc cgttcagccc gaccgctgcg ccttatccgg taactatcgt cttgagtcca\n",
      "      601 acccggtaag acacgactta tcgccactgg cagcagccac tggtaacagg attagcagag\n",
      "      661 cgaggtatgt aggcggtgct acagagttct tgaagtggtg gcctaactac ggctacacta\n",
      "      721 gaaggacagt atttggtatc tgcgctctgc tgaagccagt taccttcgga aaaagagttg\n",
      "      781 gtagctcttg atccggcaaa caaaccaccg ctggtagcgg tggttttttt gtttgcaagc\n",
      "      841 agcagattac gcgcagaaaa aaaggatctc aagaagatcc tttgatcttt tctacggggt\n",
      "      901 ctgacgctca gtggaacgaa aactcacgtt aagggatttt ggtcatgaga ttatcaaaaa\n",
      "      961 ggatcttcac ctagatcctt ttaaattaaa aatgaagttt taaatcaatc taaagtatat\n",
      "     1021 atgagtaaac ttggtctgac agttaccaat gcttaatcag tgaggcacct atctcagcga\n",
      "     1081 tctgtctatt tcgttcatcc atagttgcct gactgcccgt cgtgtagata actacgatac\n",
      "     1141 gggagggctt accatctggc cccagtgctg caatgatacc gcgagaccca cgctcaccgg\n",
      "     1201 ctccagattt atcagcaata aaccagccag ccggaagggc cgagcgcaga agtggtcctg\n",
      "     1261 caactttatc cgcctccatc cagtctatta attgttgccg ggaagctaga gtaagtagtt\n",
      "     1321 cgccagttaa tagtttgcgc aacgttgttg ccattgctac aggcatcgtg gtgtcacgct\n",
      "     1381 cgtcgtttgg tatggcttca ttcagctccg gttcccaacg atcaaggcga gttacatgat\n",
      "     1441 cccccatgtt gtgaaaaaaa gcggttagct ccttcggtcc tccgatcgtt gtcagaagta\n",
      "     1501 agttggccgc agtgttatca ctcatgctta tggcagcact gcataattct cttactgtca\n",
      "     1561 tgccatccgt aagatgcttt tctgtgactg gtgagtactc aaccaagtca ttctgagaat\n",
      "     1621 agtgtatgcg gcgaccgagt tgctcttgcc cggcgtcaat acgggataat accgcgccac\n",
      "     1681 atagcagaac tttaaaagtg ctcatcattg gaaaacgttc ttcggggcga aaactctcaa\n",
      "     1741 ggatcttacc gctgttgaga tccagttcga tgtaacccac tcgtgcaccc aactgatctt\n",
      "     1801 cagcatcttt tactttcacc agcgtttctg ggtgagcaaa aacaggaagg caaaatgccg\n",
      "     1861 caaaaaaggg aataagggcg acacggaaat gttgaatact catactcttc ctttttcaat\n",
      "     1921 attattgaag catttatcag ggttattgtc tcatgagcgg atacatattt gaatgtattt\n",
      "     1981 agaaaaataa acaaataggg gttccgcgca catttccccg aaaagtgcca cctgaaattg\n",
      "     2041 taaacgttaa tattttgtta aaattcgcgt taaatttttg ttaaatcagc tcatttttta\n",
      "     2101 accaataggc cgaaatcggc aaaatccctt ataaatcaaa agaatagacc gagatagggt\n",
      "     2161 tgagtgttgt tccagtttgg aacaagagtc cactattaaa gaacgtggac tccaacgtca\n",
      "     2221 aagggcgaaa aaccgtctat cagggcgatg gcccactacg tgaaccatca ccctaatcaa\n",
      "     2281 gttttttggg gtcgaggtgc cgtaaagcac taaatcggaa ccctaaaggg agcccccgat\n",
      "     2341 ttagagcttg acggggaaag ccggcgaacg tggcgagaaa ggaagggaag aaagcgaaag\n",
      "     2401 gagcgggcgc tagggcgctg gcaagtgtag cggtcacgct gcgcgtaacc accacacccg\n",
      "     2461 ccgcgcttaa tgcgccgcta cagggcgcgt cccattcgcc attcaggcta cgcaactgtt\n",
      "     2521 gggaagggcg atcggtgcgg gcctcttcgc tattacgcca gggatcctgc agtaatacga\n",
      "     2581 ctcactatag ggcgaattgg agctccacat caagcttatc gataccgtcg gattccacgc\n",
      "     2641 atttctgcag cccctgcggc agtgtaggca ttgcgcagtt ttaataaaaa agcaccacca\n",
      "     2701 ccacagtagg caaaccagat gaccatcgca ggtcacagga aaattaaagg ctgcggactg\n",
      "     2761 tgctactgcc ccttctgatg ccccctcctc tacacagcaa tcattcagcg tcccttagtc\n",
      "     2821 actccggaca gcgacaggcc ccgcggccgc catgcccacc gcctccatgc catgcccacc\n",
      "     2881 gccgccatgc ctaccgccgc caaagtccac caccgccatg cctacccgct gccaatgccc\n",
      "     2941 accgccgcca atacccactg tcgccgcctt ccccctacct cccagccact tcctacggac\n",
      "     3001 tctccccgcg ccgcgaccac caacacaacc cccaccactg tcacaccgac tcatccccct\n",
      "     3061 ggtccactgc catagcctcc tcgcctcggt cactgcgacg aattcccccc ccagtcgccc\n",
      "     3121 cacgtaccct gctccaccac gcagtggtca ctattataca cctacctgcg ctcaacaccc\n",
      "     3181 cctaaatacc gatcacttca cgtaccttcg ccccgccaca atcactccaa tatacctacc\n",
      "     3241 tccgcctaaa atccctatgc actggtcccc ccacgtaccc tcgccacacg gaactgcaat\n",
      "     3301 caccctgatg tacccacctc cacccatgtc ccttgcccac tgcggttacc ccgcatgctc\n",
      "     3361 ccagtcacca ccgcccttcc caccgcagac acccgcaata ggacctgtcg cgacaccaca\n",
      "     3421 gttgggggcg gatgggggac gcgccccaat gcgagcggac aggataccat cggggcagaa\n",
      "     3481 cggcacaaca gcaagcctct gaacattccg gatctggttc tccagaacaa aggactttag\n",
      "     3541 ggcccaaatt ccgtttattc agtactccaa gacctcgagg gggggcccgg tactgaaaaa\n",
      "     3601 agcctgtgag taattctgct aagaaaggtg ctacactttt caagactaga tgtctacaat\n",
      "     3661 gccacaccgt ggaaaagggt ggcccacata aggttggtcc aaacttgcat ggtatctttg\n",
      "     3721 gcagacactc tggtcaagct gaagggtatt cgtacacaga tgccaatatc aagaaaaacg\n",
      "     3781 tgttgtggga cgaaaataac atgtcagagt acttgactaa cccaaagaaa tatattcctg\n",
      "     3841 gtaccaagat ggcctttggt gggttgaaga aggaaaaaga cagaaacgac ttaattacct\n",
      "     3901 actccagctt ttgttccctt tagctcgagg gggggcccgg tacttctgct aagaaaggtg\n",
      "     3961 ctacactttt caagactaga tgtctacaat gccacaccgt ggaaaagggt ggcccacata\n",
      "     4021 aggttggtcc aaacttgcat ggtatctttg gcagacactc tggtcaagct gaagggtatt\n",
      "     4081 cgtacacaga tgccaatatc aagaaaaacg tgttgtggga cgaaaataac atgtcagagt\n",
      "     4141 acttgactaa cccaaagaaa tatattcctg gtaccaagat ggcctttggt gggttgaaga\n",
      "     4201 aggaaaaaga cagaaacgac ttaattacct acttgaaaaa agcctgtgag taa\n",
      "//\n"
     ]
    }
   ],
   "source": [
    "with open('files/canidate_pFC8_rev.gb') as handle:\n",
    "    print(handle.read())"
   ]
  },
  {
   "cell_type": "markdown",
   "metadata": {},
   "source": [
    "No dice"
   ]
  }
 ],
 "metadata": {
  "kernelspec": {
   "display_name": "Python 3",
   "language": "python",
   "name": "python3"
  },
  "language_info": {
   "codemirror_mode": {
    "name": "ipython",
    "version": 3
   },
   "file_extension": ".py",
   "mimetype": "text/x-python",
   "name": "python",
   "nbconvert_exporter": "python",
   "pygments_lexer": "ipython3",
   "version": "3.9.5"
  }
 },
 "nbformat": 4,
 "nbformat_minor": 2
}
