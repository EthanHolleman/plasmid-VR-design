{
 "metadata": {
  "language_info": {
   "codemirror_mode": {
    "name": "ipython",
    "version": 3
   },
   "file_extension": ".py",
   "mimetype": "text/x-python",
   "name": "python",
   "nbconvert_exporter": "python",
   "pygments_lexer": "ipython3",
   "version": "3.9.5"
  },
  "orig_nbformat": 4,
  "kernelspec": {
   "name": "python3",
   "display_name": "Python 3.9.5 64-bit ('pydna_build_environment': conda)"
  },
  "interpreter": {
   "hash": "0becc668fa7d5dcaa80caa2804d6de7e872f9c6dca930bb73e9bc3e3f7a08bc6"
  }
 },
 "nbformat": 4,
 "nbformat_minor": 2,
 "cells": [
  {
   "source": [
    "# Reverse complementing final sequences\n",
    "\n",
    "Variable region definition file has option of creating the reverse complement of a sequence. We only want to do this after the best selected sequence is selected and any adapters have been 'ligated' on. Here I am just playing with Biopython to find best way to implement taking reverse complement of a selected sequence's fasta and tsv files."
   ],
   "cell_type": "markdown",
   "metadata": {}
  },
  {
   "cell_type": "code",
   "execution_count": 1,
   "metadata": {},
   "outputs": [],
   "source": [
    "from Bio.Seq import Seq\n",
    "from Bio import SeqIO\n",
    "# paths to selected sequences\n",
    "f = '../output/initiation_regions/files/init-1/rankedSeqs/init-1.top_seq.fasta'\n",
    "t = '../output/initiation_regions/files/init-1/rankedSeqs/init-1.top_seq.tsv'"
   ]
  },
  {
   "source": [
    "Read the fasta record using Biopython"
   ],
   "cell_type": "markdown",
   "metadata": {}
  },
  {
   "cell_type": "code",
   "execution_count": 2,
   "metadata": {},
   "outputs": [
    {
     "output_type": "execute_result",
     "data": {
      "text/plain": [
       "'VR_init-1-33_initiation_region_1_GCskew:0.1_GCcontent:0.4_ATskew:0_ATcontent:0.6_Clustered:False'"
      ]
     },
     "metadata": {},
     "execution_count": 2
    }
   ],
   "source": [
    "record = SeqIO.read(f, 'fasta')\n",
    "record.description"
   ]
  },
  {
   "source": [
    "Update description to mark as the reverse complement."
   ],
   "cell_type": "markdown",
   "metadata": {}
  },
  {
   "cell_type": "code",
   "execution_count": 3,
   "metadata": {},
   "outputs": [
    {
     "output_type": "execute_result",
     "data": {
      "text/plain": [
       "'VR_RC-init-1-33_initiation_region_1_GCskew:0.1_GCcontent:0.4_ATskew:0_ATcontent:0.6_Clustered:False'"
      ]
     },
     "metadata": {},
     "execution_count": 3
    }
   ],
   "source": [
    "def get_RC_description(record):\n",
    "    split = record.description.split('_')\n",
    "    split[1] = f'RC-{split[1]}'\n",
    "    description = '_'.join(split)\n",
    "    return description\n",
    "\n",
    "get_RC_description(record)\n"
   ]
  },
  {
   "cell_type": "code",
   "execution_count": 9,
   "metadata": {},
   "outputs": [
    {
     "output_type": "execute_result",
     "data": {
      "text/plain": [
       "SeqRecord(seq=Seq('AGACCTGTCACTTGACCTATTTTCGTAGTATTAGAGTCATGTGTCGCATAGCTT...ACT'), id='<unknown id>', name='<unknown name>', description='VR_RC-init-1-33_initiation_region_1_GCskew:0.1_GCcontent:0.4_ATskew:0_ATcontent:0.6_Clustered:False', dbxrefs=[])"
      ]
     },
     "metadata": {},
     "execution_count": 9
    }
   ],
   "source": [
    "def RC_record(record):\n",
    "    rc_record = record.reverse_complement()\n",
    "    rc_record.description = get_RC_description(record)\n",
    "    return rc_record\n",
    "\n",
    "rc = RC_record(record)\n",
    "assert rc.seq != record.seq\n",
    "rc"
   ]
  },
  {
   "cell_type": "code",
   "execution_count": 18,
   "metadata": {},
   "outputs": [
    {
     "output_type": "execute_result",
     "data": {
      "text/plain": [
       "Bio.SeqRecord.SeqRecord"
      ]
     },
     "metadata": {},
     "execution_count": 18
    }
   ],
   "source": []
  },
  {
   "source": [
    "Read tsv file using pandas"
   ],
   "cell_type": "markdown",
   "metadata": {}
  },
  {
   "cell_type": "code",
   "execution_count": 5,
   "metadata": {},
   "outputs": [
    {
     "output_type": "execute_result",
     "data": {
      "text/plain": [
       "     name  id_num                                        description  \\\n",
       "0  init-1      33  VR_init-1-33_initiation_region_1_GCskew:0.1_GC...   \n",
       "\n",
       "   GC_content  GC_skew  AT_content  AT_skew  Cluster_length  \\\n",
       "0         0.4      0.1         0.6      0.0             NaN   \n",
       "\n",
       "   Clustered_nucleotide            Clustering method  \\\n",
       "0                   NaN  find_available_random_range   \n",
       "\n",
       "                                            Sequence  \n",
       "0  AGTGGCTAAACTTCTATTTTTATACTGTATCATCATATGTTACGAT...  "
      ],
      "text/html": "<div>\n<style scoped>\n    .dataframe tbody tr th:only-of-type {\n        vertical-align: middle;\n    }\n\n    .dataframe tbody tr th {\n        vertical-align: top;\n    }\n\n    .dataframe thead th {\n        text-align: right;\n    }\n</style>\n<table border=\"1\" class=\"dataframe\">\n  <thead>\n    <tr style=\"text-align: right;\">\n      <th></th>\n      <th>name</th>\n      <th>id_num</th>\n      <th>description</th>\n      <th>GC_content</th>\n      <th>GC_skew</th>\n      <th>AT_content</th>\n      <th>AT_skew</th>\n      <th>Cluster_length</th>\n      <th>Clustered_nucleotide</th>\n      <th>Clustering method</th>\n      <th>Sequence</th>\n    </tr>\n  </thead>\n  <tbody>\n    <tr>\n      <th>0</th>\n      <td>init-1</td>\n      <td>33</td>\n      <td>VR_init-1-33_initiation_region_1_GCskew:0.1_GC...</td>\n      <td>0.4</td>\n      <td>0.1</td>\n      <td>0.6</td>\n      <td>0.0</td>\n      <td>NaN</td>\n      <td>NaN</td>\n      <td>find_available_random_range</td>\n      <td>AGTGGCTAAACTTCTATTTTTATACTGTATCATCATATGTTACGAT...</td>\n    </tr>\n  </tbody>\n</table>\n</div>"
     },
     "metadata": {},
     "execution_count": 5
    }
   ],
   "source": [
    "import pandas as pd\n",
    "table = pd.read_table(t, sep='\\t')\n",
    "table"
   ]
  },
  {
   "cell_type": "code",
   "execution_count": 16,
   "metadata": {},
   "outputs": [
    {
     "output_type": "execute_result",
     "data": {
      "text/plain": [
       "        name  id_num                                        description  \\\n",
       "0  RC-init-1      33  VR_RC-init-1-33_initiation_region_1_GCskew:0.1...   \n",
       "\n",
       "   GC_content  GC_skew  AT_content  AT_skew  Cluster_length  \\\n",
       "0         0.4     -0.1         0.6     -0.0             NaN   \n",
       "\n",
       "   Clustered_nucleotide            Clustering method  \\\n",
       "0                   NaN  find_available_random_range   \n",
       "\n",
       "                                            Sequence  \n",
       "0  AGACCTGTCACTTGACCTATTTTCGTAGTATTAGAGTCATGTGTCG...  "
      ],
      "text/html": "<div>\n<style scoped>\n    .dataframe tbody tr th:only-of-type {\n        vertical-align: middle;\n    }\n\n    .dataframe tbody tr th {\n        vertical-align: top;\n    }\n\n    .dataframe thead th {\n        text-align: right;\n    }\n</style>\n<table border=\"1\" class=\"dataframe\">\n  <thead>\n    <tr style=\"text-align: right;\">\n      <th></th>\n      <th>name</th>\n      <th>id_num</th>\n      <th>description</th>\n      <th>GC_content</th>\n      <th>GC_skew</th>\n      <th>AT_content</th>\n      <th>AT_skew</th>\n      <th>Cluster_length</th>\n      <th>Clustered_nucleotide</th>\n      <th>Clustering method</th>\n      <th>Sequence</th>\n    </tr>\n  </thead>\n  <tbody>\n    <tr>\n      <th>0</th>\n      <td>RC-init-1</td>\n      <td>33</td>\n      <td>VR_RC-init-1-33_initiation_region_1_GCskew:0.1...</td>\n      <td>0.4</td>\n      <td>-0.1</td>\n      <td>0.6</td>\n      <td>-0.0</td>\n      <td>NaN</td>\n      <td>NaN</td>\n      <td>find_available_random_range</td>\n      <td>AGACCTGTCACTTGACCTATTTTCGTAGTATTAGAGTCATGTGTCG...</td>\n    </tr>\n  </tbody>\n</table>\n</div>"
     },
     "metadata": {},
     "execution_count": 16
    }
   ],
   "source": [
    "def update_tsv_record(table, RC_record):\n",
    "    # should only be one record\n",
    "    table.at[0, 'description'] = RC_record.description\n",
    "    table.at[0, 'GC_skew'] = table.at[0, 'GC_skew'] * -1\n",
    "    table.at[0, 'AT_skew'] = table.at[0, 'AT_skew'] * -1\n",
    "    table.at[0, 'Sequence'] = str(RC_record.seq)\n",
    "    table.at[0, 'name'] = f'RC-{table.at[0, \"name\"]}'\n",
    "    return table\n",
    "\n",
    "table = pd.read_table(t, sep='\\t')  # reread the table to prevent double updates\n",
    "update_tsv_record(table, rc)\n",
    "\n",
    "\n"
   ]
  }
 ]
}